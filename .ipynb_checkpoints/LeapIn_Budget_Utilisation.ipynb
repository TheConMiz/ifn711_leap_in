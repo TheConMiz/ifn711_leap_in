{
 "cells": [
  {
   "cell_type": "code",
   "execution_count": 1,
   "id": "d0c8f9b8",
   "metadata": {},
   "outputs": [
    {
     "output_type": "stream",
     "name": "stdout",
     "text": [
      "<pymysql.connections.Connection object at 0x0000015DCDEFD550>\n"
     ]
    }
   ],
   "source": [
    "# Imported Libraries\n",
    "import pandas as pd\n",
    "import pymysql\n",
    "\n",
    "# Data visualisation tools for later.\n",
    "import numpy as np\n",
    "import matplotlib.pyplot as plt\n",
    "import seaborn as sns\n",
    "from apyori import apriori\n",
    "\n",
    "# Variables\n",
    "dumpDirectory = \"./TableDump/\"\n",
    "\n",
    "#######Connection to Client Database\n",
    "host=\"qut-ds.c2m09j1oykve.ap-southeast-2.rds.amazonaws.com\"\n",
    "port=4005\n",
    "dbname=\"qut_ds1\"\n",
    "user=\"qut_ds1\"\n",
    "password=\"GaAVSqC#9JR8\"\n",
    "conn = pymysql.connect(host=host, user=user,port=port,password=password, db=dbname)\n",
    "\n",
    "\n",
    "print(conn)"
   ]
  },
  {
   "cell_type": "code",
   "execution_count": 3,
   "id": "6f2b1ff8",
   "metadata": {},
   "outputs": [
    {
     "output_type": "stream",
     "name": "stdout",
     "text": [
      "<class 'pandas.core.frame.DataFrame'>\nRangeIndex: 6241 entries, 0 to 6240\nData columns (total 7 columns):\n #   Column           Non-Null Count  Dtype  \n---  ------           --------------  -----  \n 0   u_disabilities   6241 non-null   object \n 1   u_gender         6241 non-null   object \n 2   u_date_of_birth  6239 non-null   object \n 3   SA1              6021 non-null   float64\n 4   SA2              6021 non-null   float64\n 5   SA3              6021 non-null   float64\n 6   SA4              6021 non-null   float64\ndtypes: float64(4), object(3)\nmemory usage: 341.4+ KB\nNone\n            u_disabilities u_gender u_date_of_birth        SA1      SA2  \\\n0                                        1922-11-30  3100614.0  31006.0   \n1                                        2007-04-06  1144614.0  11446.0   \n2                            Female      1954-03-26        0.0      0.0   \n3                            Female      1978-12-24  3138504.0  31385.0   \n4                                        1995-08-18  2142119.0  21421.0   \n...                    ...      ...             ...        ...      ...   \n6236                         Female      1951-09-13        0.0      0.0   \n6237                         Female      1953-09-24        0.0      0.0   \n6238                         Female      1989-01-29  3131715.0  31317.0   \n6239                         Female      1938-10-29        0.0      0.0   \n6240  Permanent blindness,               2000-12-10        NaN      NaN   \n\n          SA3    SA4  \n0     30101.0  301.0  \n1     12303.0  123.0  \n2         0.0    0.0  \n3     31401.0  314.0  \n4     21701.0  217.0  \n...       ...    ...  \n6236      0.0    0.0  \n6237      0.0    0.0  \n6238  31103.0  311.0  \n6239      0.0    0.0  \n6240      NaN    NaN  \n\n[6241 rows x 7 columns]\n"
     ]
    }
   ],
   "source": [
    "####Checking queries\n",
    "\n",
    "###Customer Personal details\n",
    "##  add the desired rows in the query from the three tables\n",
    "df_customer_details = pd.read_sql(\"select s.u_disabilities, s.u_gender, s.u_date_of_birth, r.SA1, r.SA2, r.SA3,r.SA4  from SNOW_csm_consumer_user s left join  HH_member h  on s.u_ndis_number = h.membership_number left join libe_leapinprod_memberregion r on r.MemberId =  s.u_leapin_id where s.u_stage = 'li_managed' and s.u_ndis_number is not null;\", con=conn) \n",
    "print(df_customer_details.info())\n",
    "print(df_customer_details)"
   ]
  },
  {
   "cell_type": "code",
   "execution_count": 7,
   "id": "8c82cd9e",
   "metadata": {},
   "outputs": [
    {
     "output_type": "stream",
     "name": "stdout",
     "text": [
      "<class 'pandas.core.frame.DataFrame'>\n",
      "RangeIndex: 968874 entries, 0 to 968873\n",
      "Data columns (total 40 columns):\n",
      " #   Column               Non-Null Count   Dtype         \n",
      "---  ------               --------------   -----         \n",
      " 0   invoice_id           968874 non-null  int64         \n",
      " 1   state                968874 non-null  object        \n",
      " 2   risk_score           968874 non-null  float64       \n",
      " 3   risk_level           968874 non-null  object        \n",
      " 4   risk_warnings        41285 non-null   object        \n",
      " 5   unit_price           968874 non-null  float64       \n",
      " 6   start_date           968874 non-null  object        \n",
      " 7   end_date             968874 non-null  object        \n",
      " 8   invoiced_units       966054 non-null  float64       \n",
      " 9   invoiced_unit_price  968874 non-null  float64       \n",
      " 10  claimed_units        965796 non-null  float64       \n",
      " 11  claimed_unit_price   968442 non-null  float64       \n",
      " 12  claimed_date         968328 non-null  object        \n",
      " 13  funded_amount        959417 non-null  float64       \n",
      " 14  funded_date          958743 non-null  object        \n",
      " 15  submitted_date       968803 non-null  datetime64[ns]\n",
      " 16  approved_date        99003 non-null   object        \n",
      " 17  received_date        846942 non-null  object        \n",
      " 18  processed_status     556253 non-null  object        \n",
      " 19  reconcile_status     544462 non-null  object        \n",
      " 20  ndis_cancelled_date  0 non-null       object        \n",
      " 21  cancel_offset_z4_no  0 non-null       object        \n",
      " 22  state                968874 non-null  object        \n",
      " 23  is_pre_approved      968874 non-null  int64         \n",
      " 24  is_resolved          968874 non-null  int64         \n",
      " 25  is_risk_identified   968874 non-null  int64         \n",
      " 26  risk_score           968874 non-null  float64       \n",
      " 27  invoice_total        968874 non-null  float64       \n",
      " 28  funded_total         566458 non-null  float64       \n",
      " 29  funded_date          556790 non-null  object        \n",
      " 30  claimed_date         958734 non-null  object        \n",
      " 31  reviewed_date        899 non-null     object        \n",
      " 32  invoice_date         968874 non-null  object        \n",
      " 33  approved_date        956379 non-null  datetime64[ns]\n",
      " 34  submitted_date       968874 non-null  datetime64[ns]\n",
      " 35  received_date        846777 non-null  object        \n",
      " 36  membership_number    968874 non-null  object        \n",
      " 37  status               968874 non-null  object        \n",
      " 38  risk_factor          968874 non-null  float64       \n",
      " 39  price_zone_code      968874 non-null  object        \n",
      "dtypes: datetime64[ns](3), float64(11), int64(4), object(22)\n",
      "memory usage: 295.7+ MB\n",
      "None\n",
      "        invoice_id                state  risk_score risk_level risk_warnings  \\\n",
      "0                1                 PAID         0.0         NO          None   \n",
      "1                2                 PAID         0.0         NO          None   \n",
      "2                3                 PAID         0.0         NO          None   \n",
      "3                4                 PAID         0.0         NO          None   \n",
      "4                5                 PAID         0.0         NO          None   \n",
      "...            ...                  ...         ...        ...           ...   \n",
      "968869      539315  OPERATOR_AUTHORIZED         0.0         NO          None   \n",
      "968870      539315  OPERATOR_AUTHORIZED         0.0         NO          None   \n",
      "968871      539315  OPERATOR_AUTHORIZED         0.0         NO          None   \n",
      "968872      539316  OPERATOR_AUTHORIZED         0.0         NO          None   \n",
      "968873      539316  OPERATOR_AUTHORIZED         0.0         NO          None   \n",
      "\n",
      "        unit_price  start_date    end_date  invoiced_units  \\\n",
      "0           160.00  2020-04-30  2020-04-30             1.0   \n",
      "1           160.00  2020-05-01  2020-05-01             1.0   \n",
      "2            80.00  2020-04-23  2020-04-23             1.0   \n",
      "3            80.00  2020-04-30  2020-04-30             1.0   \n",
      "4            80.00  2020-05-07  2020-05-07             1.0   \n",
      "...            ...         ...         ...             ...   \n",
      "968869       55.47  2021-04-08  2021-04-08             6.0   \n",
      "968870       77.81  2021-04-10  2021-04-10             6.0   \n",
      "968871      100.16  2021-04-11  2021-04-11             6.0   \n",
      "968872       55.47  2021-04-15  2021-04-15             6.0   \n",
      "968873        0.85  2021-04-15  2021-04-15            75.0   \n",
      "\n",
      "        invoiced_unit_price  ...  claimed_date  reviewed_date invoice_date  \\\n",
      "0                    160.00  ...    2020-04-30           None   2020-04-30   \n",
      "1                    160.00  ...    2020-05-04           None   2020-05-01   \n",
      "2                     80.00  ...    2020-05-07           None   2020-04-23   \n",
      "3                     80.00  ...    2020-05-07           None   2020-04-30   \n",
      "4                     80.00  ...    2020-05-08           None   2020-05-07   \n",
      "...                     ...  ...           ...            ...          ...   \n",
      "968869                55.47  ...          None           None   2021-04-15   \n",
      "968870                77.81  ...          None           None   2021-04-15   \n",
      "968871               100.16  ...          None           None   2021-04-15   \n",
      "968872                55.47  ...          None           None   2021-04-15   \n",
      "968873                 0.85  ...          None           None   2021-04-15   \n",
      "\n",
      "             approved_date      submitted_date        received_date  \\\n",
      "0      2020-04-30 02:56:15 2020-04-30 02:56:15  2020-04-30 00:00:00   \n",
      "1      2020-05-04 01:04:42 2020-05-04 01:04:42  2020-05-01 00:00:00   \n",
      "2      2020-05-07 04:36:02 2020-05-07 02:47:50  2020-05-06 00:00:00   \n",
      "3      2020-05-07 04:36:13 2020-05-07 02:48:45  2020-05-06 00:00:00   \n",
      "4      2020-05-08 01:23:24 2020-05-08 00:49:39  2020-05-07 00:00:00   \n",
      "...                    ...                 ...                  ...   \n",
      "968869 2021-04-19 09:25:29 2021-04-19 09:25:29  2021-04-15 00:00:00   \n",
      "968870 2021-04-19 09:25:29 2021-04-19 09:25:29  2021-04-15 00:00:00   \n",
      "968871 2021-04-19 09:25:29 2021-04-19 09:25:29  2021-04-15 00:00:00   \n",
      "968872 2021-04-19 09:26:45 2021-04-19 09:26:45  2021-04-15 00:00:00   \n",
      "968873 2021-04-19 09:26:45 2021-04-19 09:26:45  2021-04-15 00:00:00   \n",
      "\n",
      "       membership_number   status risk_factor  price_zone_code  \n",
      "0              277486509  managed         0.0  ACT_NSW_QLD_VIC  \n",
      "1              277486509  managed         0.0  ACT_NSW_QLD_VIC  \n",
      "2              815939440  managed         0.0  ACT_NSW_QLD_VIC  \n",
      "3              815939440  managed         0.0  ACT_NSW_QLD_VIC  \n",
      "4              815939440  managed         0.0  ACT_NSW_QLD_VIC  \n",
      "...                  ...      ...         ...              ...  \n",
      "968869         265655619  managed         0.0  ACT_NSW_QLD_VIC  \n",
      "968870         265655619  managed         0.0  ACT_NSW_QLD_VIC  \n",
      "968871         265655619  managed         0.0  ACT_NSW_QLD_VIC  \n",
      "968872         615053396  managed         0.0  ACT_NSW_QLD_VIC  \n",
      "968873         615053396  managed         0.0  ACT_NSW_QLD_VIC  \n",
      "\n",
      "[968874 rows x 40 columns]\n"
     ]
    }
   ],
   "source": [
    "###Invoice claim details\n",
    "##  add the desired rows in the query from the three tables\n",
    "df_invoice_claim_details = pd.read_sql(\"SELECT c.invoice_id, c.state, c.risk_score, c.risk_level, c.risk_warnings, c.unit_price, c.start_date, c.end_date, c.invoiced_units, c.invoiced_unit_price, c.claimed_units, c.claimed_unit_price, c.claimed_date, c.funded_amount, c.funded_date, c.submitted_date, c.approved_date, c.received_date, c.processed_status, c.reconcile_status, c.ndis_cancelled_date, c.cancel_offset_z4_no, i.state, i.is_pre_approved, i.is_resolved, i.is_risk_identified, i.risk_score, i.invoice_total, i.funded_total, i.funded_date, i.claimed_date, i.reviewed_date, i.invoice_date, i.approved_date, i.submitted_date, i.received_date, m.membership_number, m.status, m.risk_factor, m.price_zone_code FROM HH_claim c left join HH_invoice i on c.invoice_id = i.id left join HH_member m on i.member_id = m.id ;\", con=conn)\n",
    "print(df_invoice_claim_details.info())\n",
    "print(df_invoice_claim_details)"
   ]
  },
  {
   "cell_type": "code",
   "execution_count": 2,
   "id": "f885eb74",
   "metadata": {},
   "outputs": [
    {
     "output_type": "stream",
     "name": "stdout",
     "text": [
      "<class 'pandas.core.frame.DataFrame'>\nIndex: 6472 entries, 00a989b9dba754105229e126 to fdc2213d1bea5c50908033fccc4bcb47\nData columns (total 3 columns):\n #   Column             Non-Null Count  Dtype \n---  ------             --------------  ----- \n 0   sys_id             6469 non-null   object\n 1   u_categories_list  4164 non-null   object\n 2   u_service_types    6040 non-null   object\ndtypes: object(3)\nmemory usage: 202.2+ KB\nNone\n"
     ]
    },
    {
     "output_type": "execute_result",
     "data": {
      "text/plain": [
       "8c7f49619ad,,Early Childhood Early Intervention\\r\\n35c9c0bbdb0b18508df5d8c7f496196c,,Early Childhood Early Intervention\\r\\nc0eb85c5db1f5c508df5d8c7f49619e2,,Early Childhood Early Intervention\\r\\n2406dc13db9fd01067de48370596191c,,Early Childhood Early Intervention\\r\\n1af0515fdb93141067de483705961909,,Early Childhood Early Intervention\\r\\n980f2d79db6b54105229e12605961979,,Early Childhood Early Intervention\\r\\n8e232306db63d4105229e1260596193a,,Early Childhood Early Intervention\\r\\n474bc0b3dba75c10d4d3a58405961993,,Early Childhood Early Intervention\\r\\n6fbd52d4dbf7dc105229e12605961912,,Early Childhood Early Intervention\\r\\na49a2358db7fdc105229e126059619da,,Early Childhood Early Intervention\\r\\nd04cebb0db0ca410d4d3a584059619d6,,Early Childhood Early Intervention\\r\\n5fd04468db582450d4d3a58405961956,,Early Childhood Early Intervention\\r\\n291daacadb74e4105229e12605961999,,Early Childhood Early Intervention\\r\\ne028e00cdb45ec10d4d3a584059619f8,,Early Childhood Early Intervention\\r\\n801d3228db4d6050d4d3a58405961975,,Early Childhood Early Intervention\\r\\nc1fdc768db8d6050d4d3a58405961989,,Early Childhood Early Intervention\\r\\n9a3bd328dbcd6050d4d3a5840596193d,,Early Childhood Early Intervention\\r\\n1366d4b4dbc1a050d4d3a584059619cf,,Early Childhood Early Intervention\\r\\ne9d6dc0ddb41e050d4d3a58405961902,,Early Childhood Early Intervention\\r\\nf242fc49dbc1e050d4d3a58405961926,,Early Childhood Early Intervention\\r\\n3eecfc45db05e050d4d3a5840596193e,,Early Childhood Early Intervention\\r\\n5aeedb80db0a24105229e126059619a8,,Early Childhood Early Intervention\\r\\nb46c2502db926010ce70ad3cd39619a4,,Early Childhood Early Intervention\\r\\nd4f15556db1e601067de4837059619b5,,Early Childhood Early Intervention\\r\\n8977999adb1e601067de48370596191d,,Early Childhood Early Intervention\\r\\n3fccaeb8dbaae01067de48370596193e,,Early Childhood Early Intervention\\r\\n0f474e35db22e41067de483705961980,,Early Childhood Early Intervention\\r\\n73605a47dba2e81067de4837059619da,,Early Childhood Early Intervention\\r\\n0a38f7d4db972c1067de483705961976,,Early Childhood Early Intervention\\r\\n0a38f7d4db972c1067de483705961976,,Early Childhood Early Intervention\\r\\nc1fdc768db8d6050d4d3a58405961989,,\\r\\n1d3657f5db7a101067de48370596193e,,Play Therapy\\r\\nfa9023dddb43dc108df5d8c7f49619f7,,Play Therapy\\r\\nab15e3d1db83dc108df5d8c7f4961949,,Play Therapy\\r\\n795dab5ddb83dc108df5d8c7f49619a7,,Play Therapy\\r\\nc0f47b55dbc3dc108df5d8c7f49619ae,,Play Therapy\\r\\n3a96dc2ddb47dc108df5d8c7f49619f2,,Play Therapy\\r\\n672b57d4db3fdc105229e126059619eb,,Play Therapy\\r\\n90c9104cdb4ca0105229e12605961938,,Play Therapy\\r\\n1366d4b4dbc1a050d4d3a584059619cf,,Play Therapy\\r\\n3eecfc45db05e050d4d3a5840596193e,,Play Therapy\\r\\nfb423324db6568905229e12605961966,,Play Therapy\\r\\n45dee9dfdb6d60d05229e1260596196a,,Play Therapy\\r\\nb45af3c1dbb5ecd0d4d3a58405961909,,Play Therapy\\r\\n8f6a8b2c1b3a1890908033fccc4bcbb4,,School Holiday programs\\r\\n3721af641bba1890908033fccc4bcb6a,,School Holiday programs\\r\\n02f42fe81bba1890908033fccc4bcbac,,School Holiday programs\\r\\n36a0bb301bba5890908033fccc4bcbe5,,School Holiday programs\\r\\n41d7accd1b7e5890908033fccc4bcb60,,School Holiday programs\\r\\n7f5f90d7db7e541067de483705961952,,School Holiday programs\\r\\n9e4da539db6b54105229e1260596193e,,School Holiday programs\\r\\n31d6847bdb675c10d4d3a58405961928,,School Holiday programs\\r\\n2dfefb2ddb3b5450d4d3a58405961941,,School Holiday programs\\r\\nf2416887db49a850d4d3a58405961957,,School Holiday programs\\r\\n25ac2443db89a850d4d3a584059619db,,School Holiday programs\\r\\na4b335dadba9ac905229e126059619d6,,School Holiday programs\\r\\n0accf123dbe568d0d4d3a58405961959,,School Holiday programs\\r\\nff0d453bdb03a81067de48370596195e,,\\r\\n532f3bcadbd25050f43750e4f3961944,,Specialist Support Coordination\\r\\n6ba68141db1f5c508df5d8c7f49619ba,,Specialist Support Coordination\\r\\nc8683f39db9b50908df5d8c7f49619b3,,Specialist Support Coordination\\r\\n6b00eb3adb13d0108df5d8c7f49619d5,,Specialist Support Coordination\\r\\n6c070e75dbeb54105229e126059619cd,,Specialist Support Coordination\\r\\ndb6e1671db6f54105229e12605961904,,Specialist Support Coordination\\r\\ndb9b6231dbaf54105229e1260596196b,,Specialist Support Coordination\\r\\n2a5a1b0adb23d4105229e1260596190c,,Specialist Support Coordination\\r\\nfb8c5133db6f5c10d4d3a584059619a3,,Specialist Support Coordination\\r\\n57d1dfd8dbfbdc105229e126059619a9,,Specialist Support Coordination\\r\\na8c483addbf35450d4d3a584059619eb,,Specialist Support Coordination\\r\\n0f441620db8464105229e126059619a0,,Specialist Support Coordination\\r\\n552563b8dbc8a4105229e126059619ac,,Specialist Support Coordination\\r\\n4483d4dedb88e810d4d3a5840596192d,,Specialist Support Coordination\\r\\nede4d8c4dbe424505229e1260596191c,,Specialist Support Coordination\\r\\n1b3dc73ddb6ce8505229e12605961919,,Specialist Support Coordination\\r\\n8107f4ffdbf82c105229e12605961939,,Specialist Support Coordination\\r\\n01cb7500db0dec10d4d3a584059619db,,Specialist Support Coordination\\r\\na653810ddb05e050d4d3a584059619cf,,Specialist Support Coordination\\r\\n6dea1d13db0de850d4d3a58405961990,,Specialist Support Coordination\\r\\n07379156db12a010ce70ad3cd3961997,,Specialist Support Coordination\\r\\n9ab32066db890c103cfa366d7c9619a3,,\\r\\na0ccdd7bdb21d810de73bd16f496194a,,\\r\\nd44031e4db3d9c10f43750e4f3961936,,\\r\\n7e98f301dbf55050f43750e4f39619e7,,\\r\\n97319b17dbb59850f43750e4f396191b,,\\r\\naf19c4231bb9d810908033fccc4bcb11,,\\r\\nf20dc5341b4a1050908033fccc4bcb24,,\\r\\neb279d011b4a5050908033fccc4bcb7b,,\\r\\nb00bcb48db8b58108df5d8c7f4961935,,\\r\\na28b47c5db6f90105229e12605961928,,\\r\\nfb0eb374dbd228105229e12605961959,,\\r\\nb4fdd60cdb7d7f00317852e3449619d1,Support coordination,Information Service\\r\\ndcb56daadb42b300317852e344961921,Support coordination,Information Service\\r\\n116708b7db123f0030f67c57f496199b,Support coordination,Information Service\\r\\n2fba9fe5db011c10de73bd16f4961913,Support coordination,Information Service\\r\\nfe7da292db8590503cfa366d7c961969,Support coordination,Information Service\\r\\n38179e35db51d410f43750e4f396199b,Support coordination,Information Service\\r\\n909b9798db2d5490de73bd16f4961971,Support coordination,Information Service\\r\\nfe4f7f79dbedd010de73bd16f49619bf,Support coordination,Information Service\\r\\n1819f592db2d5410f43750e4f39619ae,Support coordination,Information Service\\r\\nc4f37622db2d9410de73bd16f496199f,Support coordination,Information Service\\r\\n23c532aadb21d410f43750e4f396196c,Support coordination,Information Service\\r\\n3e8ccffadb611810f43750e4f39619fe,Support coordination,Information Service\\r\\neca62bc0db791c10de73bd16f4961982,Support coordination,Information Service\\r\\nb39556c61bb59410908033fccc4bcb36,Support coordination,Information Service\\r\\n282b47421bb99410908033fccc4bcba0,Support coordination,Information Service\\r\\n57b5686adbf59450f43750e4f396190c,Support coordination,Information Service\\r\\n406e874b1bf59810908033fccc4bcba3,Support coordination,Information Service\\r\\n98293be41b821050908033fccc4bcba8,Support coordination,Information Service\\r\\n79d5094d1bc65050908033fccc4bcbb1,Support coordination,Information Service\\r\\nf6bf88791b061450908033fccc4bcb19,Support coordination,Information Service\\r\\n05b8fee2db0e9010f43750e4f396196d,Support coordination,Information Service\\r\\na9d0acc71b4ed010908033fccc4bcbdb,Support coordination,Information Service\\r\\nc77a3893db865410f43750e4f396199a,Support coordination,Information Service\\r\\nbbef8113db0a5410f43750e4f396193c,Support coordination,Information Service\\r\\nbdd259d3db0a5410f43750e4f396191b,Support coordination,Information Service\\r\\n6119955fdb0a5410f43750e4f39619f3,Support coordination,Information Service\\r\\ndb41e9d7db4a5410f43750e4f3961943,Support coordination,Information Service\\r\\n4952ce6fdbca9410f43750e4f39619a9,Support coordination,Information Service\\r\\n1ac9cff8db9ed810f43750e4f3961912,Support coordination,Information Service\\r\\ne624d41ddbd25c10f43750e4f39619bb,Support coordination,Information Service\\r\\n7d89f4eddb569c10f43750e4f3961936,Support coordination,Information Service\\r\\n83145521db1a9c10f43750e4f39619d3,Support coordination,Information Service\\r\\na26d8e79dbdadc10f43750e4f3961982,Support coordination,Information Service\\r\\n299d90afdb169450f43750e4f39619dc,Support coordination,Information Service\\r\\n9783e467db569450f43750e4f39619c0,Support coordination,Information Service\\r\\na1735b14dba29850f43750e4f39619f8,Support coordination,Information Service\\r\\n037a2f51dbe29c50f43750e4f39619fd,Support coordination,Information Service\\r\\nfe444c61db669c50f43750e4f39619eb,Support coordination,Information Service\\r\\n1e6dfc79db2adc50f43750e4f396195e,Support coordination,Information Service\\r\\nd5920d86db2a1090f43750e4f39619e0,Support coordination,Information Service\\r\\nd137da52dbee5090f43750e4f39619ae,Support coordination,Information Service\\r\\ne6b45b701b3a5890908033fccc4bcb6a,Support coordination,Information Service\\r\\nbc1023bc1b3a5890908033fccc4bcb24,Support coordination,Information Service\\r\\n81e8b3f81bba5890908033fccc4bcb19,Support coordination,Information Service\\r\\nba9444091bfa5890908033fccc4bcb55,Support coordination,Information Service\\r\\n24b700c91bfa5890908033fccc4bcb0d,Support coordination,Information Service\\r\\n5b560952db32901067de48370596193e,Support coordination,Information Service\\r\\nbc29c9d2db32901067de483705961902,Support coordination,Information Service\\r\\nefdac1d6db32901067de483705961971,Support coordination,Information Service\\r\\n64761d6adb32d01067de4837059619be,Support coordination,Information Service\\r\\n772dd962db72d01067de4837059619c0,Support coordination,Information Service\\r\\n7feed9e2db72d01067de48370596199a,Support coordination,Information Service\\r\\n782169a6db72d01067de483705961929,Support coordination,Information Service\\r\\nd523656adb72d01067de48370596195a,Support coordination,Information Service\\r\\nbd026ae2dbb6d01067de483705961971,Support coordination,Information Service\\r\\n49d4cf85dbcf5c108df5d8c7f4961975,Support coordination,Information Service\\r\\naa3dd8a5db87dc108df5d8c7f4961928,Support coordination,Information Service\\r\\n1d36aceddb87dc108df5d8c7f49619c9,Support coordination,Information Service\\r\\n74c8d8e6db07d0508df5d8c7f49619ad,Support coordination,Information Service\\r\\ncafb6367db8718508df5d8c7f496199b,Support coordination,Information Service\\r\\n3bc50c37db0b18508df5d8c7f496199a,Support coordination,Information Service\\r\\na34e44ffdb0b18508df5d8c7f49619c0,Support coordination,Information Service\\r\\n04335077db4b18508df5d8c7f49619f7,Support coordination,Information Service\\r\\n4e969c7bdb4b18508df5d8c7f49619db,Support coordination,Information Service\\r\\n5fda58bfdb4b18508df5d8c7f49619e7,Support coordination,Information Service\\r\\nf9f028b7db8b18508df5d8c7f49619e3,Support coordination,Information Service\\r\\n01cef7e0db971c508df5d8c7f496191e,Support coordination,Information Service\\r\\n49d090b8dbd71c508df5d8c7f496197b,Support coordination,Information Service\\r\\n953208c5db975c508df5d8c7f4961942,Support coordination,Information Service\\r\\nc4791589db5f5c508df5d8c7f4961973,Support coordination,Information Service\\r\\n63af9f25db1b10908df5d8c7f49619e7,Support coordination,Information Service\\r\\n5d38401bdb1fd01067de483705961933,Support coordination,Information Service\\r\\n1af0515fdb93141067de483705961909,Support coordination,Information Service\\r\\nfe6538d8dbab18108df5d8c7f49619d6,Support coordination,Information Service\\r\\n26588bc1db6f90105229e126059619dd,Support coordination,Information Service\\r\\n8b5b97c9dbaf90105229e126059619f7,Support coordination,Information Service\\r\\n17b048bbdb275c10d4d3a5840596193b,Support coordination,Information Service\\r\\neaeb14f1dbfb5450d4d3a58405961905,Support coordination,Information Service\\r\\nc741ec06dbfb54505229e12605961920,Support coordination,Information Service\\r\\nf0aa6442db3f54505229e126059619fa,Support coordination,Information Service\\r\\nb962f48adb3f54505229e1260596195e,Support coordination,Information Service\\r\\na0fd70c6db7f54505229e1260596196c,Support coordination,Information Service\\r\\nef82c50edb7f54505229e126059619b3,Support coordination,Information Service\\r\\nf115cd8edb7f54505229e126059619c2,Support coordination,Information Service\\r\\n65e42142db3394505229e1260596197b,Support coordination,Information Service\\r\\n11aada9edb371850d4d3a58405961981,Support coordination,Information Service\\r\\na36e5847db3f58505229e12605961993,Support coordination,Information Service\\r\\n1c3c8669dba8a8505229e126059619a9,Support coordination,Information Service\\r\\na80c6946dbf02810d4d3a584059619a4,Support coordination,Information Service\\r\\n291daacadb74e4105229e12605961999,Support coordination,Information Service\\r\\nb7c0814cdbc5ec10d4d3a5840596191a,Support coordination,Information Service\\r\\n01cb7500db0dec10d4d3a584059619db,Support coordination,Information Service\\r\\n837868cddb81e050d4d3a584059619e2,Support coordination,Information Service\\r\\n7e6d41a2dbf52cd05229e126059619f7,Support coordination,Information Service\\r\\n01a59067dbf1a0105229e12605961993,Support coordination,Information Service\\r\\n730e24e0dbc2a410d4d3a5840596191b,Support coordination,Information Service\\r\\n60aa8ededbca2c10d4d3a5840596198e,Support coordination,Information Service\\r\\nff0d453bdb03a81067de48370596195e,Support coordination,Information Service\\r\\na55c9eccdb93e81067de4837059619c8,Support coordination,Information Service\\r\\n3ae6c43ddbd59410f43750e4f396198c,,\\r\\n237db3c61b7d9410908033fccc4bcb08,,\\r\\n83235cb0dbc1a050d4d3a584059619ee,,\\r\\n5d852a2fdbb74050317852e344961973,,e-health\\r\\n8dbf3c3cdbb45c10de73bd16f496195f,,e-health\\r\\n54d3593cdb709c103cfa366d7c9619e3,,e-health\\r\\n9330e48fdb3c5010de73bd16f49619e8,,e-health\\r\\nf7341617db34d010de73bd16f4961921,,e-health\\r\\n779d8f17db38d010de73bd16f4961990,,e-health\\r\\nd18c6b33db7c18103cfa366d7c961928,,e-health\\r\\nad0d26e8dbcdd410de73bd16f4961916,,e-health\\r\\n70fd28dfdbc954503cfa366d7c961929,,e-health\\r\\nb25f3d27db41d4503cfa366d7c961904,,e-health\\r\\nc88ea8c8db211490de73bd16f49619e0,,e-health\\r\\n5bbe4540dbe11490de73bd16f49619fe,,e-health\\r\\n8864d9c4dbe11490de73bd16f49619eb,,e-health\\r\\n742db954db655490de73bd16f4961988,,e-health\\r\\n4e442105dba91010f43750e4f3961968,,e-health\\r\\na0ccdd7bdb21d810de73bd16f496194a,,e-health\\r\\nc113ff1adbf19450f43750e4f3961938,,e-health\\r\\n9e10eee3db8e9410f43750e4f3961967,,e-health\\r\\ne624d41ddbd25c10f43750e4f39619bb,,e-health\\r\\nca705aafdb1e9450f43750e4f396199f,,e-health\\r\\n6d4237d9dbe29c50f43750e4f3961963,,e-health\\r\\nf3f9d6c2dbee1090f43750e4f396193d,,e-health\\r\\n0a242616db229090f43750e4f3961904,,e-health\\r\\n3a777634db4fd81067de483705961915,,e-health\\r\\n86f70b5fdbc3d4508df5d8c7f49619b2,,e-health\\r\\n079db9d9db13dc508df5d8c7f49619c2,,e-health\\r\\ncdb946b9dbeb54105229e126059619d8,,e-health\\r\\n51f53c6adba718105229e12605961977,,e-health\\r\\n631fcdbfdb235c105229e126059619cb,,e-health\\r\\n190ce604db7b9c105229e12605961975,,e-health\\r\\nd4f3bfe8db7f10505229e12605961965,,e-health\\r\\n1f384079db7b5450d4d3a584059619be,,e-health\\r\\n828029d4db8024105229e1260596194d,,e-health\\r\\na328f7cedb08e810d4d3a5840596191c,,e-health\\r\\nf4a868fadbd8ec105229e12605961971,,e-health\\r\\n59e8f925db68a8505229e12605961932,,e-health\\r\\ne028e00cdb45ec10d4d3a584059619f8,,e-health\\r\\nc1fdc768db8d6050d4d3a58405961989,,e-health\\r\\n9a3bd328dbcd6050d4d3a5840596193d,,e-health\\r\\n5d7caf68db01a050d4d3a5840596198a,,e-health\\r\\n684873a4db41a050d4d3a584059619fa,,e-health\\r\\ne6de487cdb81a050d4d3a584059619e9,,e-health\\r\\ne9d6dc0ddb41e050d4d3a58405961902,,e-health\\r\\na653810ddb05e050d4d3a584059619cf,,e-health\\r\\n99b2154ddb45e050d4d3a584059619d1,,e-health\\r\\ndf1e1949db85e050d4d3a5840596198e,,e-health\\r\\n0c3a6185dbc5e050d4d3a584059619d5,,e-health\\r\\n7ef2b40bdb89a850d4d3a584059619e6,,e-health\\r\\ndfac5993db0de850d4d3a584059619e0,,e-health\\r\\n8e12a91bdb0de850d4d3a58405961950,,e-health\\r\\nee10b23cdbd56090d4d3a58405961925,,e-health\\r\\nbf1871ebdba568d0d4d3a584059619b2,,e-health\\r\\n5cf4f880dbb1e8d0d4d3a5840596195a,,e-health\\r\\nd1d17914db752cd0d4d3a584059619e6,,e-health\\r\\n3c040824db02a410d4d3a584059619ca,,e-health\\r\\n89047ca8dbc2a410d4d3a58405961942,,e-health\\r\\nb46c2502db926010ce70ad3cd39619a4,,e-health\\r\\n8977999adb1e601067de48370596191d,,e-health\\r\\nfe48571fdb666c10ce70ad3cd39619dd,,e-health\\r\\nff0d453bdb03a81067de48370596195e,,e-health\\r\\na9e8f7bddbfa101067de48370596196a,,\\r\\n7ef2b40bdb89a850d4d3a584059619e6,,\\r\\n0b189af2db36141067de483705961942,,Music Therapy\\r\\n01cc567adb36141067de4837059619e1,,Music Therapy\\r\\n230fd23edb36141067de483705961949,,Music Therapy\\r\\n87b12a32db76141067de48370596195f,,Music Therapy\\r\\n97b4a636db76141067de4837059619f9,,Music Therapy\\r\\n7e677e3edbb6141067de483705961925,,Music Therapy\\r\\na9e9b6fedbb6141067de48370596198a,,Music Therapy\\r\\n68ddfef2dbf6141067de4837059619d8,,Music Therapy\\r\\n19ff8b3adb3a141067de4837059619aa,,Music Therapy\\r\\nbb04db7edb3a141067de4837059619fd,,Music Therapy\\r\\nd5227703dbba541067de483705961985,,Music Therapy\\r\\n1b5c54d3db7e541067de4837059619e4,,Music Therapy\\r\\nbbfddc17db7e541067de483705961936,,Music Therapy\\r\\n7f5f90d7db7e541067de483705961952,,Music Therapy\\r\\n8e81645bdb7e541067de48370596191b,,Music Therapy\\r\\n404368dbdb7e541067de48370596198a,,Music Therapy\\r\\n4505a49fdb7e541067de483705961991,,Music Therapy\\r\\n2998e0d3dbbe541067de4837059619e5,,Music Therapy\\r\\n233b2c97dbbe541067de483705961957,,Music Therapy\\r\\n9f2a5acddbcb5c108df5d8c7f4961946,,Music Therapy\\r\\n40fb28b7dbcb18508df5d8c7f496194d,,Music Therapy\\r\\n64b3399ddbdf9c508df5d8c7f49619a8,,Music Therapy\\r\\ne7d58615db53dc508df5d8c7f49619ac,,Music Therapy\\r\\n3fadc15bdb93141067de483705961950,,Music Therapy\\r\\nf224a4a6db6718105229e126059619ce,,Music Therapy\\r\\nd1edd8bcdb3350505229e12605961988,,Music Therapy\\r\\n4257e04edbfb54505229e1260596199c,,Music Therapy\\r\\n33ab27f2db3b58505229e126059619a6,,Music Therapy\\r\\n38cf238adbacac10d4d3a5840596190c,,Music Therapy\\r\\n431f73dfdb71a0105229e12605961971,,Music Therapy\\r\\n5464c4d6db8d0c10de73bd16f49619c9,,\\r\\nf4321293db34d010de73bd16f49619dc,,\\r\\nc35f73b7db5dd090de73bd16f496197a,,\\r\\nc9825d201bf91010908033fccc4bcb0f,,\\r\\na6f9690bdb4aec10d4d3a5840596198a,,\\r\\n3e64ff0edb836410ce70ad3cd3961986,,\\r\\ncf6e4b061bb99410908033fccc4bcb89,Improved living arrangements,Specialist Disability Accommodation\\r\\n2c7e6208dbee1850f43750e4f3961999,Improved living arrangements,Specialist Disability Accommodation\\r\\n2746f25adb629090f43750e4f39619ff,Improved living arrangements,Specialist Disability Accommodation\\r\\n74aa4881dbd75c508df5d8c7f496199b,Improved living arrangements,Specialist Disability Accommodation\\r\\nc4791589db5f5c508df5d8c7f4961973,Improved living arrangements,Specialist Disability Accommodation\\r\\nd73e2e65db1710908df5d8c7f496196a,Improved living arrangements,Specialist Disability Accommodation\\r\\n03bde3e9db5b10908df5d8c7f49619f2,Improved living arrangements,Specialist Disability Accommodation\\r\\ndfef2065db6714105229e12605961990,Improved living arrangements,Specialist Disability Accommodation\\r\\n2a5a1b0adb23d4105229e1260596190c,Improved living arrangements,Specialist Disability Accommodation\\r\\n17b048bbdb275c10d4d3a5840596193b,Improved living arrangements,Specialist Disability Accommodation\\r\\n123c9cf7dbe75c10d4d3a584059619ad,Improved living arrangements,Specialist Disability Accommodation\\r\\n3fe66314db7fdc105229e1260596191d,Improved living arrangements,Specialist Disability Accommodation\\r\\n438ee7b4db0ca4105229e126059619d1,Improved living arrangements,Specialist Disability Accommodation\\r\\n1b3dc73ddb6ce8505229e12605961919,Improved living arrangements,Specialist Disability Accommodation\\r\\nf3a6fa42dbb4e4105229e12605961963,Improved living arrangements,Specialist Disability Accommodation\\r\\nb52ef310db02a410d4d3a58405961925,Improved living arrangements,Specialist Disability Accommodation\\r\\n74b63dabdb1ea410ce70ad3cd396192c,Improved living arrangements,Specialist Disability Accommodation\\r\\nc08e9a30dbaee010ce70ad3cd39619aa,Improved living arrangements,Specialist Disability Accommodation\\r\\n6b0069391bea5c50908033fccc4bcbda,,Specialised Driving Lessons\\r\\n8a2975a7db1f54108df5d8c7f49619be,,Specialised Driving Lessons\\r\\ndf74a6f5db6f54105229e126059619be,,Specialised Driving Lessons\\r\\n0b9fef29dbf75450d4d3a5840596193c,,Specialised Driving Lessons\\r\\n88c9137cdb88a4105229e126059619b2,,Specialised Driving Lessons\\r\\n'"
      ]
     },
     "metadata": {},
     "execution_count": 2
    }
   ],
   "source": [
    "\n",
    "\n",
    "# 1/ a table where all information of service providers, their services\n",
    "\n",
    "# Method - SNOW_customer_account merged with u_service_type.csv\n",
    "\n",
    "# Service Types - Multi-valued field \n",
    "df_dump = pd.read_csv(dumpDirectory + \"u_service_type.csv\", keep_default_na = False, na_values = [\"\", \"nan\"])\n",
    "# print(df_dump.info())\n",
    "\n",
    "directoryQuery = \"select sys_id, u_can_provide_the_following_service_types from SNOW_customer_account where u_can_provide_the_following_service_types != ''\"\n",
    "\n",
    "# Directory Provider\n",
    "df_directory_providers = pd.read_sql(directoryQuery, con=conn)\n",
    "# print(df_directory_providers.info())\n",
    "\n",
    "# Split multi-value column into single-valued rows\n",
    "df_temp = pd.DataFrame(df_directory_providers[\"u_can_provide_the_following_service_types\"].str.split(\",\").tolist(), index=df_directory_providers.sys_id).stack()\n",
    "df_temp = df_temp.reset_index([0, \"sys_id\"])\n",
    "df_temp.columns = [\"sys_id\", \"u_can_provide_the_following_service_types\"]\n",
    "# df_temp.head(10)\n",
    "\n",
    "# Join with dump table. CHECK IF CORRECT\n",
    "df_final = df_temp.set_index(\"u_can_provide_the_following_service_types\").join(df_dump.set_index(\"sys_id\"), how=\"outer\")\n",
    "\n",
    "print(df_final.info())\n",
    "\n",
    "# Problem: u_categories_list returns nan upon detecting hex values\n",
    "# df_final.head(50)\n",
    "\n",
    "df_final.to_csv(\"service_providers_info.csv\", index=False)\n",
    "\n",
    "\n",
    "\n",
    "\n",
    "\n"
   ]
  },
  {
   "cell_type": "code",
   "execution_count": null,
   "id": "c0813e8a",
   "metadata": {},
   "outputs": [],
   "source": []
  },
  {
   "cell_type": "code",
   "execution_count": null,
   "metadata": {},
   "outputs": [],
   "source": []
  }
 ],
 "metadata": {
  "kernelspec": {
   "name": "python394jvsc74a57bd004599353301972a4177495fb87ba9328f666fdd8bb33e7641e5bb86b309132ff",
   "display_name": "Python 3.9.4 64-bit"
  },
  "language_info": {
   "codemirror_mode": {
    "name": "ipython",
    "version": 3
   },
   "file_extension": ".py",
   "mimetype": "text/x-python",
   "name": "python",
   "nbconvert_exporter": "python",
   "pygments_lexer": "ipython3",
   "version": "3.9.4"
  },
  "metadata": {
   "interpreter": {
    "hash": "04599353301972a4177495fb87ba9328f666fdd8bb33e7641e5bb86b309132ff"
   }
  }
 },
 "nbformat": 4,
 "nbformat_minor": 5
}