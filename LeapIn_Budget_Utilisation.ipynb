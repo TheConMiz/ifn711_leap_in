{
 "cells": [
  {
   "cell_type": "code",
   "execution_count": 6,
   "id": "d0c8f9b8",
   "metadata": {},
   "outputs": [
    {
     "output_type": "stream",
     "name": "stdout",
     "text": [
      "<pymysql.connections.Connection object at 0x000002870A7BFDF0>\n"
     ]
    }
   ],
   "source": [
    "# Imported Libraries\n",
    "import pandas as pd\n",
    "import pymysql\n",
    "\n",
    "# Data visualisation tools for later.\n",
    "import numpy as np\n",
    "import matplotlib.pyplot as plt\n",
    "import seaborn as sns\n",
    "from apyori import apriori\n",
    "\n",
    "#######Connection to Client Database\n",
    "host=\"qut-ds.c2m09j1oykve.ap-southeast-2.rds.amazonaws.com\"\n",
    "port=4005\n",
    "dbname=\"qut_ds1\"\n",
    "user=\"qut_ds1\"\n",
    "password=\"GaAVSqC#9JR8\"\n",
    "conn = pymysql.connect(host=host, user=user,port=port,password=password, db=dbname)\n",
    "\n",
    "\n",
    "print(conn)"
   ]
  },
  {
   "cell_type": "code",
   "execution_count": 3,
   "id": "6f2b1ff8",
   "metadata": {},
   "outputs": [
    {
     "output_type": "stream",
     "name": "stdout",
     "text": [
      "<class 'pandas.core.frame.DataFrame'>\nRangeIndex: 6241 entries, 0 to 6240\nData columns (total 7 columns):\n #   Column           Non-Null Count  Dtype  \n---  ------           --------------  -----  \n 0   u_disabilities   6241 non-null   object \n 1   u_gender         6241 non-null   object \n 2   u_date_of_birth  6239 non-null   object \n 3   SA1              6021 non-null   float64\n 4   SA2              6021 non-null   float64\n 5   SA3              6021 non-null   float64\n 6   SA4              6021 non-null   float64\ndtypes: float64(4), object(3)\nmemory usage: 341.4+ KB\nNone\n            u_disabilities u_gender u_date_of_birth        SA1      SA2  \\\n0                                        1922-11-30  3100614.0  31006.0   \n1                                        2007-04-06  1144614.0  11446.0   \n2                            Female      1954-03-26        0.0      0.0   \n3                            Female      1978-12-24  3138504.0  31385.0   \n4                                        1995-08-18  2142119.0  21421.0   \n...                    ...      ...             ...        ...      ...   \n6236                         Female      1951-09-13        0.0      0.0   \n6237                         Female      1953-09-24        0.0      0.0   \n6238                         Female      1989-01-29  3131715.0  31317.0   \n6239                         Female      1938-10-29        0.0      0.0   \n6240  Permanent blindness,               2000-12-10        NaN      NaN   \n\n          SA3    SA4  \n0     30101.0  301.0  \n1     12303.0  123.0  \n2         0.0    0.0  \n3     31401.0  314.0  \n4     21701.0  217.0  \n...       ...    ...  \n6236      0.0    0.0  \n6237      0.0    0.0  \n6238  31103.0  311.0  \n6239      0.0    0.0  \n6240      NaN    NaN  \n\n[6241 rows x 7 columns]\n"
     ]
    }
   ],
   "source": [
    "####Checking queries\n",
    "\n",
    "###Customer Personal details\n",
    "##  add the desired rows in the query from the three tables\n",
    "df_customer_details = pd.read_sql(\"select s.u_disabilities, s.u_gender, s.u_date_of_birth, r.SA1, r.SA2, r.SA3,r.SA4  from SNOW_csm_consumer_user s left join  HH_member h  on s.u_ndis_number = h.membership_number left join libe_leapinprod_memberregion r on r.MemberId =  s.u_leapin_id where s.u_stage = 'li_managed' and s.u_ndis_number is not null;\", con=conn) \n",
    "print(df_customer_details.info())\n",
    "print(df_customer_details)"
   ]
  },
  {
   "cell_type": "code",
   "execution_count": 7,
   "id": "8c82cd9e",
   "metadata": {},
   "outputs": [
    {
     "output_type": "stream",
     "name": "stdout",
     "text": [
      "<class 'pandas.core.frame.DataFrame'>\n",
      "RangeIndex: 968874 entries, 0 to 968873\n",
      "Data columns (total 40 columns):\n",
      " #   Column               Non-Null Count   Dtype         \n",
      "---  ------               --------------   -----         \n",
      " 0   invoice_id           968874 non-null  int64         \n",
      " 1   state                968874 non-null  object        \n",
      " 2   risk_score           968874 non-null  float64       \n",
      " 3   risk_level           968874 non-null  object        \n",
      " 4   risk_warnings        41285 non-null   object        \n",
      " 5   unit_price           968874 non-null  float64       \n",
      " 6   start_date           968874 non-null  object        \n",
      " 7   end_date             968874 non-null  object        \n",
      " 8   invoiced_units       966054 non-null  float64       \n",
      " 9   invoiced_unit_price  968874 non-null  float64       \n",
      " 10  claimed_units        965796 non-null  float64       \n",
      " 11  claimed_unit_price   968442 non-null  float64       \n",
      " 12  claimed_date         968328 non-null  object        \n",
      " 13  funded_amount        959417 non-null  float64       \n",
      " 14  funded_date          958743 non-null  object        \n",
      " 15  submitted_date       968803 non-null  datetime64[ns]\n",
      " 16  approved_date        99003 non-null   object        \n",
      " 17  received_date        846942 non-null  object        \n",
      " 18  processed_status     556253 non-null  object        \n",
      " 19  reconcile_status     544462 non-null  object        \n",
      " 20  ndis_cancelled_date  0 non-null       object        \n",
      " 21  cancel_offset_z4_no  0 non-null       object        \n",
      " 22  state                968874 non-null  object        \n",
      " 23  is_pre_approved      968874 non-null  int64         \n",
      " 24  is_resolved          968874 non-null  int64         \n",
      " 25  is_risk_identified   968874 non-null  int64         \n",
      " 26  risk_score           968874 non-null  float64       \n",
      " 27  invoice_total        968874 non-null  float64       \n",
      " 28  funded_total         566458 non-null  float64       \n",
      " 29  funded_date          556790 non-null  object        \n",
      " 30  claimed_date         958734 non-null  object        \n",
      " 31  reviewed_date        899 non-null     object        \n",
      " 32  invoice_date         968874 non-null  object        \n",
      " 33  approved_date        956379 non-null  datetime64[ns]\n",
      " 34  submitted_date       968874 non-null  datetime64[ns]\n",
      " 35  received_date        846777 non-null  object        \n",
      " 36  membership_number    968874 non-null  object        \n",
      " 37  status               968874 non-null  object        \n",
      " 38  risk_factor          968874 non-null  float64       \n",
      " 39  price_zone_code      968874 non-null  object        \n",
      "dtypes: datetime64[ns](3), float64(11), int64(4), object(22)\n",
      "memory usage: 295.7+ MB\n",
      "None\n",
      "        invoice_id                state  risk_score risk_level risk_warnings  \\\n",
      "0                1                 PAID         0.0         NO          None   \n",
      "1                2                 PAID         0.0         NO          None   \n",
      "2                3                 PAID         0.0         NO          None   \n",
      "3                4                 PAID         0.0         NO          None   \n",
      "4                5                 PAID         0.0         NO          None   \n",
      "...            ...                  ...         ...        ...           ...   \n",
      "968869      539315  OPERATOR_AUTHORIZED         0.0         NO          None   \n",
      "968870      539315  OPERATOR_AUTHORIZED         0.0         NO          None   \n",
      "968871      539315  OPERATOR_AUTHORIZED         0.0         NO          None   \n",
      "968872      539316  OPERATOR_AUTHORIZED         0.0         NO          None   \n",
      "968873      539316  OPERATOR_AUTHORIZED         0.0         NO          None   \n",
      "\n",
      "        unit_price  start_date    end_date  invoiced_units  \\\n",
      "0           160.00  2020-04-30  2020-04-30             1.0   \n",
      "1           160.00  2020-05-01  2020-05-01             1.0   \n",
      "2            80.00  2020-04-23  2020-04-23             1.0   \n",
      "3            80.00  2020-04-30  2020-04-30             1.0   \n",
      "4            80.00  2020-05-07  2020-05-07             1.0   \n",
      "...            ...         ...         ...             ...   \n",
      "968869       55.47  2021-04-08  2021-04-08             6.0   \n",
      "968870       77.81  2021-04-10  2021-04-10             6.0   \n",
      "968871      100.16  2021-04-11  2021-04-11             6.0   \n",
      "968872       55.47  2021-04-15  2021-04-15             6.0   \n",
      "968873        0.85  2021-04-15  2021-04-15            75.0   \n",
      "\n",
      "        invoiced_unit_price  ...  claimed_date  reviewed_date invoice_date  \\\n",
      "0                    160.00  ...    2020-04-30           None   2020-04-30   \n",
      "1                    160.00  ...    2020-05-04           None   2020-05-01   \n",
      "2                     80.00  ...    2020-05-07           None   2020-04-23   \n",
      "3                     80.00  ...    2020-05-07           None   2020-04-30   \n",
      "4                     80.00  ...    2020-05-08           None   2020-05-07   \n",
      "...                     ...  ...           ...            ...          ...   \n",
      "968869                55.47  ...          None           None   2021-04-15   \n",
      "968870                77.81  ...          None           None   2021-04-15   \n",
      "968871               100.16  ...          None           None   2021-04-15   \n",
      "968872                55.47  ...          None           None   2021-04-15   \n",
      "968873                 0.85  ...          None           None   2021-04-15   \n",
      "\n",
      "             approved_date      submitted_date        received_date  \\\n",
      "0      2020-04-30 02:56:15 2020-04-30 02:56:15  2020-04-30 00:00:00   \n",
      "1      2020-05-04 01:04:42 2020-05-04 01:04:42  2020-05-01 00:00:00   \n",
      "2      2020-05-07 04:36:02 2020-05-07 02:47:50  2020-05-06 00:00:00   \n",
      "3      2020-05-07 04:36:13 2020-05-07 02:48:45  2020-05-06 00:00:00   \n",
      "4      2020-05-08 01:23:24 2020-05-08 00:49:39  2020-05-07 00:00:00   \n",
      "...                    ...                 ...                  ...   \n",
      "968869 2021-04-19 09:25:29 2021-04-19 09:25:29  2021-04-15 00:00:00   \n",
      "968870 2021-04-19 09:25:29 2021-04-19 09:25:29  2021-04-15 00:00:00   \n",
      "968871 2021-04-19 09:25:29 2021-04-19 09:25:29  2021-04-15 00:00:00   \n",
      "968872 2021-04-19 09:26:45 2021-04-19 09:26:45  2021-04-15 00:00:00   \n",
      "968873 2021-04-19 09:26:45 2021-04-19 09:26:45  2021-04-15 00:00:00   \n",
      "\n",
      "       membership_number   status risk_factor  price_zone_code  \n",
      "0              277486509  managed         0.0  ACT_NSW_QLD_VIC  \n",
      "1              277486509  managed         0.0  ACT_NSW_QLD_VIC  \n",
      "2              815939440  managed         0.0  ACT_NSW_QLD_VIC  \n",
      "3              815939440  managed         0.0  ACT_NSW_QLD_VIC  \n",
      "4              815939440  managed         0.0  ACT_NSW_QLD_VIC  \n",
      "...                  ...      ...         ...              ...  \n",
      "968869         265655619  managed         0.0  ACT_NSW_QLD_VIC  \n",
      "968870         265655619  managed         0.0  ACT_NSW_QLD_VIC  \n",
      "968871         265655619  managed         0.0  ACT_NSW_QLD_VIC  \n",
      "968872         615053396  managed         0.0  ACT_NSW_QLD_VIC  \n",
      "968873         615053396  managed         0.0  ACT_NSW_QLD_VIC  \n",
      "\n",
      "[968874 rows x 40 columns]\n"
     ]
    }
   ],
   "source": [
    "###Invoice claim details\n",
    "##  add the desired rows in the query from the three tables\n",
    "df_invoice_claim_details = pd.read_sql(\"SELECT c.invoice_id, c.state, c.risk_score, c.risk_level, c.risk_warnings, c.unit_price, c.start_date, c.end_date, c.invoiced_units, c.invoiced_unit_price, c.claimed_units, c.claimed_unit_price, c.claimed_date, c.funded_amount, c.funded_date, c.submitted_date, c.approved_date, c.received_date, c.processed_status, c.reconcile_status, c.ndis_cancelled_date, c.cancel_offset_z4_no, i.state, i.is_pre_approved, i.is_resolved, i.is_risk_identified, i.risk_score, i.invoice_total, i.funded_total, i.funded_date, i.claimed_date, i.reviewed_date, i.invoice_date, i.approved_date, i.submitted_date, i.received_date, m.membership_number, m.status, m.risk_factor, m.price_zone_code FROM HH_claim c left join HH_invoice i on c.invoice_id = i.id left join HH_member m on i.member_id = m.id ;\", con=conn)\n",
    "print(df_invoice_claim_details.info())\n",
    "print(df_invoice_claim_details)"
   ]
  },
  {
   "cell_type": "code",
   "execution_count": null,
   "id": "f885eb74",
   "metadata": {},
   "outputs": [],
   "source": []
  },
  {
   "cell_type": "code",
   "execution_count": null,
   "id": "c0813e8a",
   "metadata": {},
   "outputs": [],
   "source": []
  }
 ],
 "metadata": {
  "kernelspec": {
   "name": "python394jvsc74a57bd004599353301972a4177495fb87ba9328f666fdd8bb33e7641e5bb86b309132ff",
   "display_name": "Python 3.9.4 64-bit"
  },
  "language_info": {
   "codemirror_mode": {
    "name": "ipython",
    "version": 3
   },
   "file_extension": ".py",
   "mimetype": "text/x-python",
   "name": "python",
   "nbconvert_exporter": "python",
   "pygments_lexer": "ipython3",
   "version": "3.9.4"
  },
  "metadata": {
   "interpreter": {
    "hash": "04599353301972a4177495fb87ba9328f666fdd8bb33e7641e5bb86b309132ff"
   }
  }
 },
 "nbformat": 4,
 "nbformat_minor": 5
}