{
 "cells": [
  {
   "cell_type": "code",
   "execution_count": 11,
   "metadata": {},
   "outputs": [
    {
     "output_type": "stream",
     "name": "stdout",
     "text": [
      "Requirement already satisfied: pymysql in c:\\users\\ihand\\appdata\\local\\programs\\python\\python39\\lib\\site-packages (1.0.2)\n",
      "Requirement already satisfied: apyori in c:\\users\\ihand\\appdata\\local\\programs\\python\\python39\\lib\\site-packages (1.1.2)\n",
      "Requirement already satisfied: pandas in c:\\users\\ihand\\appdata\\local\\programs\\python\\python39\\lib\\site-packages (1.2.4)\n",
      "Requirement already satisfied: numpy>=1.16.5 in c:\\users\\ihand\\appdata\\local\\programs\\python\\python39\\lib\\site-packages (from pandas) (1.20.2)\n",
      "Requirement already satisfied: python-dateutil>=2.7.3 in c:\\users\\ihand\\appdata\\local\\programs\\python\\python39\\lib\\site-packages (from pandas) (2.8.1)\n",
      "Requirement already satisfied: pytz>=2017.3 in c:\\users\\ihand\\appdata\\local\\programs\\python\\python39\\lib\\site-packages (from pandas) (2021.1)\n",
      "Requirement already satisfied: six>=1.5 in c:\\users\\ihand\\appdata\\local\\programs\\python\\python39\\lib\\site-packages (from python-dateutil>=2.7.3->pandas) (1.15.0)\n",
      "Requirement already satisfied: matplotlib in c:\\users\\ihand\\appdata\\local\\programs\\python\\python39\\lib\\site-packages (3.4.1)\n",
      "Requirement already satisfied: cycler>=0.10 in c:\\users\\ihand\\appdata\\local\\programs\\python\\python39\\lib\\site-packages (from matplotlib) (0.10.0)\n",
      "Requirement already satisfied: kiwisolver>=1.0.1 in c:\\users\\ihand\\appdata\\local\\programs\\python\\python39\\lib\\site-packages (from matplotlib) (1.3.1)\n",
      "Requirement already satisfied: python-dateutil>=2.7 in c:\\users\\ihand\\appdata\\local\\programs\\python\\python39\\lib\\site-packages (from matplotlib) (2.8.1)\n",
      "Requirement already satisfied: pyparsing>=2.2.1 in c:\\users\\ihand\\appdata\\local\\programs\\python\\python39\\lib\\site-packages (from matplotlib) (2.4.7)\n",
      "Requirement already satisfied: pillow>=6.2.0 in c:\\users\\ihand\\appdata\\local\\programs\\python\\python39\\lib\\site-packages (from matplotlib) (8.2.0)\n",
      "Requirement already satisfied: numpy>=1.16 in c:\\users\\ihand\\appdata\\local\\programs\\python\\python39\\lib\\site-packages (from matplotlib) (1.20.2)\n",
      "Requirement already satisfied: six in c:\\users\\ihand\\appdata\\local\\programs\\python\\python39\\lib\\site-packages (from cycler>=0.10->matplotlib) (1.15.0)\n",
      "Requirement already satisfied: seaborn in c:\\users\\ihand\\appdata\\local\\programs\\python\\python39\\lib\\site-packages (0.11.1)\n",
      "Requirement already satisfied: scipy>=1.0 in c:\\users\\ihand\\appdata\\local\\programs\\python\\python39\\lib\\site-packages (from seaborn) (1.6.3)\n",
      "Requirement already satisfied: numpy>=1.15 in c:\\users\\ihand\\appdata\\local\\programs\\python\\python39\\lib\\site-packages (from seaborn) (1.20.2)\n",
      "Requirement already satisfied: pandas>=0.23 in c:\\users\\ihand\\appdata\\local\\programs\\python\\python39\\lib\\site-packages (from seaborn) (1.2.4)\n",
      "Requirement already satisfied: matplotlib>=2.2 in c:\\users\\ihand\\appdata\\local\\programs\\python\\python39\\lib\\site-packages (from seaborn) (3.4.1)\n",
      "Requirement already satisfied: pyparsing>=2.2.1 in c:\\users\\ihand\\appdata\\local\\programs\\python\\python39\\lib\\site-packages (from matplotlib>=2.2->seaborn) (2.4.7)\n",
      "Requirement already satisfied: python-dateutil>=2.7 in c:\\users\\ihand\\appdata\\local\\programs\\python\\python39\\lib\\site-packages (from matplotlib>=2.2->seaborn) (2.8.1)\n",
      "Requirement already satisfied: pillow>=6.2.0 in c:\\users\\ihand\\appdata\\local\\programs\\python\\python39\\lib\\site-packages (from matplotlib>=2.2->seaborn) (8.2.0)\n",
      "Requirement already satisfied: cycler>=0.10 in c:\\users\\ihand\\appdata\\local\\programs\\python\\python39\\lib\\site-packages (from matplotlib>=2.2->seaborn) (0.10.0)\n",
      "Requirement already satisfied: kiwisolver>=1.0.1 in c:\\users\\ihand\\appdata\\local\\programs\\python\\python39\\lib\\site-packages (from matplotlib>=2.2->seaborn) (1.3.1)\n",
      "Requirement already satisfied: six in c:\\users\\ihand\\appdata\\local\\programs\\python\\python39\\lib\\site-packages (from cycler>=0.10->matplotlib>=2.2->seaborn) (1.15.0)\n",
      "Requirement already satisfied: pytz>=2017.3 in c:\\users\\ihand\\appdata\\local\\programs\\python\\python39\\lib\\site-packages (from pandas>=0.23->seaborn) (2021.1)\n",
      "Requirement already satisfied: python-dotenv in c:\\users\\ihand\\appdata\\local\\programs\\python\\python39\\lib\\site-packages (0.17.1)\n"
     ]
    }
   ],
   "source": [
    "!pip install pymysql\n",
    "!pip install apyori\n",
    "!pip install pandas\n",
    "!pip install matplotlib\n",
    "!pip install seaborn \n",
    "!pip install python-dotenv"
   ]
  },
  {
   "cell_type": "code",
   "execution_count": 69,
   "id": "d0c8f9b8",
   "metadata": {},
   "outputs": [
    {
     "output_type": "stream",
     "name": "stdout",
     "text": [
      "<pymysql.connections.Connection object at 0x000002CA8052FE80>\n"
     ]
    }
   ],
   "source": [
    "# Imported Libraries\n",
    "import pandas as pd\n",
    "import pymysql\n",
    "\n",
    "import os\n",
    "\n",
    "# Data visualisation tools for later.\n",
    "import numpy as np\n",
    "import matplotlib.pyplot as plt\n",
    "import seaborn as sns\n",
    "from apyori import apriori\n",
    "\n",
    "\n",
    "# Load the .env file for database credentials\n",
    "from dotenv import load_dotenv\n",
    "\n",
    "# load_dotenv()\n",
    "\n",
    "####### Connection to Client Database #######\n",
    "# conn = pymysql.connect(host=os.getenv(\"host\"), user=os.getenv(\"user\"), port=int(os.getenv(\"port\")), password=os.getenv(\"password\"), db=os.getenv(\"dbname\"))\n",
    "\n",
    "#### TEMPORARY SOLUTION ####\n",
    "host=\"qut-ds.c2m09j1oykve.ap-southeast-2.rds.amazonaws.com\"\n",
    "port=4005\n",
    "dbname=\"qut_ds1\"\n",
    "user=\"qut_ds1\"\n",
    "password=\"GaAVSqC#9JR8\"\n",
    "conn = pymysql.connect(host=host, user=user,port=port,password=password, db=dbname)\n",
    "\n",
    "print(conn)"
   ]
  },
  {
   "cell_type": "markdown",
   "id": "ea4f7e9b",
   "metadata": {},
   "source": [
    "### Getting Customer-users detail - make dataframe"
   ]
  },
  {
   "cell_type": "code",
   "execution_count": 13,
   "id": "6f2b1ff8",
   "metadata": {},
   "outputs": [
    {
     "output_type": "stream",
     "name": "stdout",
     "text": [
      "<class 'pandas.core.frame.DataFrame'>\nRangeIndex: 6241 entries, 0 to 6240\nData columns (total 12 columns):\n #   Column             Non-Null Count  Dtype  \n---  ------             --------------  -----  \n 0   member_id          6115 non-null   float64\n 1   membership_number  6115 non-null   object \n 2   status             6115 non-null   object \n 3   price_zone_code    6115 non-null   object \n 4   u_ndis_number      6241 non-null   object \n 5   u_disabilities     6241 non-null   object \n 6   u_gender           6241 non-null   object \n 7   u_date_of_birth    6239 non-null   object \n 8   SA1                6021 non-null   float64\n 9   SA2                6021 non-null   float64\n 10  SA3                6021 non-null   float64\n 11  SA4                6021 non-null   float64\ndtypes: float64(5), object(7)\nmemory usage: 585.2+ KB\n"
     ]
    },
    {
     "output_type": "execute_result",
     "data": {
      "text/plain": [
       "    member_id membership_number   status  price_zone_code u_ndis_number  \\\n",
       "0      1613.0         916644409  managed  ACT_NSW_QLD_VIC     916644409   \n",
       "1      3132.0         262354568  managed  ACT_NSW_QLD_VIC     262354568   \n",
       "2      1786.0         233367363  managed  ACT_NSW_QLD_VIC     233367363   \n",
       "3      2562.0         981297214  managed  ACT_NSW_QLD_VIC     981297214   \n",
       "4      1614.0         631304335  managed  ACT_NSW_QLD_VIC     631304335   \n",
       "5      1700.0          67836654  managed     NT_SA_TAS_WA      67836654   \n",
       "6      3803.0         746607176  managed  ACT_NSW_QLD_VIC     746607176   \n",
       "7      1738.0         391263441  managed  ACT_NSW_QLD_VIC     391263441   \n",
       "8      5162.0         526764245  managed  ACT_NSW_QLD_VIC     526764245   \n",
       "9      1818.0         692294955  managed  ACT_NSW_QLD_VIC     692294955   \n",
       "10     1846.0         929294204  managed  ACT_NSW_QLD_VIC     929294204   \n",
       "11     4129.0         996368118  managed  ACT_NSW_QLD_VIC     996368118   \n",
       "12     3762.0         577302380  managed  ACT_NSW_QLD_VIC     577302380   \n",
       "13       20.0         411349503  managed  ACT_NSW_QLD_VIC     411349503   \n",
       "14     3142.0         513580381  managed  ACT_NSW_QLD_VIC     513580381   \n",
       "15     4155.0         921237397  managed  ACT_NSW_QLD_VIC     921237397   \n",
       "16     3836.0         984450760  managed     NT_SA_TAS_WA     984450760   \n",
       "17     1796.0         188998989  managed  ACT_NSW_QLD_VIC     188998989   \n",
       "18      470.0         227507869  managed  ACT_NSW_QLD_VIC     227507869   \n",
       "19     3784.0         390220737  managed  ACT_NSW_QLD_VIC     390220737   \n",
       "20     4186.0         776016548  managed  ACT_NSW_QLD_VIC     776016548   \n",
       "21     1616.0          26509924  managed  ACT_NSW_QLD_VIC      26509924   \n",
       "22     4229.0         781118175  managed  ACT_NSW_QLD_VIC     781118175   \n",
       "23     3502.0         445885932  managed  ACT_NSW_QLD_VIC     445885932   \n",
       "24     4103.0         145276585  managed  ACT_NSW_QLD_VIC     145276585   \n",
       "25     2655.0         425042002  managed  ACT_NSW_QLD_VIC     425042002   \n",
       "26     4203.0         246973395  managed  ACT_NSW_QLD_VIC     246973395   \n",
       "27     3622.0         140881962  managed  ACT_NSW_QLD_VIC     140881962   \n",
       "28     1754.0         583894312  managed  ACT_NSW_QLD_VIC     583894312   \n",
       "29     1718.0         208464515  managed  ACT_NSW_QLD_VIC     208464515   \n",
       "30     1686.0         619163178  managed  ACT_NSW_QLD_VIC     619163178   \n",
       "31     3109.0         197477964  managed  ACT_NSW_QLD_VIC     197477964   \n",
       "32     1699.0         207732077  managed  ACT_NSW_QLD_VIC     207732077   \n",
       "33     3525.0         102261181  managed  ACT_NSW_QLD_VIC     102261181   \n",
       "34     3808.0         167870223  managed  ACT_NSW_QLD_VIC     167870223   \n",
       "35     5128.0         707365858  managed  ACT_NSW_QLD_VIC     707365858   \n",
       "36     3782.0         216211052  managed  ACT_NSW_QLD_VIC     216211052   \n",
       "37     3781.0         845908311  managed  ACT_NSW_QLD_VIC     845908311   \n",
       "38     4142.0         303681294  managed  ACT_NSW_QLD_VIC     303681294   \n",
       "39     1731.0         421293349  managed  ACT_NSW_QLD_VIC     421293349   \n",
       "40     3850.0         855429986  managed  ACT_NSW_QLD_VIC     855429986   \n",
       "41     1878.0         141390601  managed  ACT_NSW_QLD_VIC     141390601   \n",
       "42     1766.0         819428686  managed  ACT_NSW_QLD_VIC     819428686   \n",
       "43     1886.0         413546812  managed  ACT_NSW_QLD_VIC     413546812   \n",
       "44     3818.0          16367712  managed  ACT_NSW_QLD_VIC      16367712   \n",
       "45     1770.0          73273980  managed  ACT_NSW_QLD_VIC      73273980   \n",
       "46     1713.0         630459999  managed  ACT_NSW_QLD_VIC     630459999   \n",
       "47     1706.0         130826214  managed  ACT_NSW_QLD_VIC     130826214   \n",
       "48     1626.0         259226452  managed  ACT_NSW_QLD_VIC     259226452   \n",
       "49     2557.0         516510129  managed  ACT_NSW_QLD_VIC     516510129   \n",
       "\n",
       "                                       u_disabilities u_gender  \\\n",
       "0                                                                \n",
       "1                                                                \n",
       "2                                                       Female   \n",
       "3                                                       Female   \n",
       "4                                                                \n",
       "5                                                       Female   \n",
       "6            I am recovering from a stroke I had in 2     Male   \n",
       "7                                            Sciatica   Female   \n",
       "8                                                         Male   \n",
       "9                                                       Female   \n",
       "10                                                        Male   \n",
       "11                                     Usher syndrome            \n",
       "12                                    Vision Impaired   Female   \n",
       "13                                                        Male   \n",
       "14                                                        Male   \n",
       "15                                                               \n",
       "16                                                               \n",
       "17                                                      Female   \n",
       "18                                                        Male   \n",
       "19                                                               \n",
       "20                                                      Female   \n",
       "21                                                        Male   \n",
       "22                                                               \n",
       "23                                                               \n",
       "24                                                      Female   \n",
       "25                                                      Female   \n",
       "26                                                        Male   \n",
       "27                                                               \n",
       "28                                                        Male   \n",
       "29  Multiple Sclerosis, Arrested hydrocephalus, Na...            \n",
       "30                     Anxiety and stress , Full Deaf            \n",
       "31                                                        Male   \n",
       "32                                                        Male   \n",
       "33                                Parkinson's disease            \n",
       "34                                Stroke (cerebellar)   Female   \n",
       "35                                                               \n",
       "36                                                               \n",
       "37                            Intellectual disability            \n",
       "38                            Intellectual disability     Male   \n",
       "39                                                               \n",
       "40                                                               \n",
       "41                                                        Male   \n",
       "42                            Intellectual disability            \n",
       "43                                 Hearing Impairment   Female   \n",
       "44                                                        Male   \n",
       "45                                                               \n",
       "46                                                        Male   \n",
       "47  Asperger syndrome, chronic inflammatory demyel...            \n",
       "48                                                        Male   \n",
       "49                                                      Female   \n",
       "\n",
       "   u_date_of_birth        SA1      SA2      SA3    SA4  \n",
       "0       1922-11-30  3100614.0  31006.0  30101.0  301.0  \n",
       "1       2007-04-06  1144614.0  11446.0  12303.0  123.0  \n",
       "2       1954-03-26        0.0      0.0      0.0    0.0  \n",
       "3       1978-12-24  3138504.0  31385.0  31401.0  314.0  \n",
       "4       1995-08-18  2142119.0  21421.0  21701.0  217.0  \n",
       "5       1937-01-25  4106012.0  41060.0  40302.0  403.0  \n",
       "6       1980-09-28  3131211.0  31312.0  31103.0  311.0  \n",
       "7       1945-05-23        0.0      0.0      0.0    0.0  \n",
       "8       1933-07-11  2120223.0  21202.0  20901.0  209.0  \n",
       "9       1925-09-09  3123701.0  31237.0  30903.0  309.0  \n",
       "10      1948-12-04  3136522.0  31365.0  31302.0  313.0  \n",
       "11      1955-12-29        0.0      0.0      0.0    0.0  \n",
       "12      1939-07-30  3102737.0  31027.0  30202.0  302.0  \n",
       "13      1922-05-30  1111516.0  11115.0  10602.0  106.0  \n",
       "14      1982-07-06        0.0      0.0      0.0    0.0  \n",
       "15      1973-12-02  3147515.0  31475.0  31802.0  318.0  \n",
       "16      1955-12-25  3112701.0  31127.0  30503.0  305.0  \n",
       "17      1924-03-09  3124626.0  31246.0  30906.0  309.0  \n",
       "18      1928-03-23  2118702.0  21187.0  20803.0  208.0  \n",
       "19      1994-05-23  3133607.0  31336.0  31106.0  311.0  \n",
       "20      1934-10-10        0.0      0.0      0.0    0.0  \n",
       "21      1933-01-10  3103214.0  31032.0  30202.0  302.0  \n",
       "22      1934-10-12  3133015.0  31330.0  31106.0  311.0  \n",
       "23      1975-06-12        0.0      0.0      0.0    0.0  \n",
       "24      1995-02-22  3105917.0  31059.0  30302.0  303.0  \n",
       "25      1923-06-04  3128721.0  31287.0  31003.0  310.0  \n",
       "26      2005-03-31  3113724.0  31137.0  30504.0  305.0  \n",
       "27      1969-02-21        0.0      0.0      0.0    0.0  \n",
       "28      1990-08-01        0.0      0.0      0.0    0.0  \n",
       "29      2002-03-17        0.0      0.0      0.0    0.0  \n",
       "30      1968-08-13  3144816.0  31448.0  31701.0  317.0  \n",
       "31      1950-03-13  3105621.0  31056.0  30302.0  303.0  \n",
       "32      1976-03-16  1143710.0  11437.0  12302.0  123.0  \n",
       "33      1941-02-07  3141408.0  31414.0  31601.0  316.0  \n",
       "34      1972-03-02  3124427.0  31244.0  30905.0  309.0  \n",
       "35      1977-09-15  2146512.0  21465.0  21305.0  213.0  \n",
       "36      1953-03-20  3116004.0  31160.0  30603.0  306.0  \n",
       "37      1991-11-04  2116403.0  21164.0  20703.0  207.0  \n",
       "38      1985-04-21  1156709.0  11567.0  11802.0  118.0  \n",
       "39      1923-06-03        0.0      0.0      0.0    0.0  \n",
       "40      1991-11-08  3152114.0  31521.0  31904.0  319.0  \n",
       "41      1994-02-21  3137229.0  31372.0  31304.0  313.0  \n",
       "42      1938-10-26  3130907.0  31309.0  31102.0  311.0  \n",
       "43      1922-05-31        0.0      0.0      0.0    0.0  \n",
       "44      1982-01-06  3111220.0  31112.0  30501.0  305.0  \n",
       "45      2012-01-27  3136540.0  31365.0  31302.0  313.0  \n",
       "46      1995-08-18  1139855.0  11398.0  12101.0  121.0  \n",
       "47      2019-02-17        0.0      0.0      0.0    0.0  \n",
       "48      1981-04-05  1142104.0  11421.0  12202.0  122.0  \n",
       "49      1932-07-07        0.0      0.0      0.0    0.0  "
      ],
      "text/html": "<div>\n<style scoped>\n    .dataframe tbody tr th:only-of-type {\n        vertical-align: middle;\n    }\n\n    .dataframe tbody tr th {\n        vertical-align: top;\n    }\n\n    .dataframe thead th {\n        text-align: right;\n    }\n</style>\n<table border=\"1\" class=\"dataframe\">\n  <thead>\n    <tr style=\"text-align: right;\">\n      <th></th>\n      <th>member_id</th>\n      <th>membership_number</th>\n      <th>status</th>\n      <th>price_zone_code</th>\n      <th>u_ndis_number</th>\n      <th>u_disabilities</th>\n      <th>u_gender</th>\n      <th>u_date_of_birth</th>\n      <th>SA1</th>\n      <th>SA2</th>\n      <th>SA3</th>\n      <th>SA4</th>\n    </tr>\n  </thead>\n  <tbody>\n    <tr>\n      <th>0</th>\n      <td>1613.0</td>\n      <td>916644409</td>\n      <td>managed</td>\n      <td>ACT_NSW_QLD_VIC</td>\n      <td>916644409</td>\n      <td></td>\n      <td></td>\n      <td>1922-11-30</td>\n      <td>3100614.0</td>\n      <td>31006.0</td>\n      <td>30101.0</td>\n      <td>301.0</td>\n    </tr>\n    <tr>\n      <th>1</th>\n      <td>3132.0</td>\n      <td>262354568</td>\n      <td>managed</td>\n      <td>ACT_NSW_QLD_VIC</td>\n      <td>262354568</td>\n      <td></td>\n      <td></td>\n      <td>2007-04-06</td>\n      <td>1144614.0</td>\n      <td>11446.0</td>\n      <td>12303.0</td>\n      <td>123.0</td>\n    </tr>\n    <tr>\n      <th>2</th>\n      <td>1786.0</td>\n      <td>233367363</td>\n      <td>managed</td>\n      <td>ACT_NSW_QLD_VIC</td>\n      <td>233367363</td>\n      <td></td>\n      <td>Female</td>\n      <td>1954-03-26</td>\n      <td>0.0</td>\n      <td>0.0</td>\n      <td>0.0</td>\n      <td>0.0</td>\n    </tr>\n    <tr>\n      <th>3</th>\n      <td>2562.0</td>\n      <td>981297214</td>\n      <td>managed</td>\n      <td>ACT_NSW_QLD_VIC</td>\n      <td>981297214</td>\n      <td></td>\n      <td>Female</td>\n      <td>1978-12-24</td>\n      <td>3138504.0</td>\n      <td>31385.0</td>\n      <td>31401.0</td>\n      <td>314.0</td>\n    </tr>\n    <tr>\n      <th>4</th>\n      <td>1614.0</td>\n      <td>631304335</td>\n      <td>managed</td>\n      <td>ACT_NSW_QLD_VIC</td>\n      <td>631304335</td>\n      <td></td>\n      <td></td>\n      <td>1995-08-18</td>\n      <td>2142119.0</td>\n      <td>21421.0</td>\n      <td>21701.0</td>\n      <td>217.0</td>\n    </tr>\n    <tr>\n      <th>5</th>\n      <td>1700.0</td>\n      <td>67836654</td>\n      <td>managed</td>\n      <td>NT_SA_TAS_WA</td>\n      <td>67836654</td>\n      <td></td>\n      <td>Female</td>\n      <td>1937-01-25</td>\n      <td>4106012.0</td>\n      <td>41060.0</td>\n      <td>40302.0</td>\n      <td>403.0</td>\n    </tr>\n    <tr>\n      <th>6</th>\n      <td>3803.0</td>\n      <td>746607176</td>\n      <td>managed</td>\n      <td>ACT_NSW_QLD_VIC</td>\n      <td>746607176</td>\n      <td>I am recovering from a stroke I had in 2</td>\n      <td>Male</td>\n      <td>1980-09-28</td>\n      <td>3131211.0</td>\n      <td>31312.0</td>\n      <td>31103.0</td>\n      <td>311.0</td>\n    </tr>\n    <tr>\n      <th>7</th>\n      <td>1738.0</td>\n      <td>391263441</td>\n      <td>managed</td>\n      <td>ACT_NSW_QLD_VIC</td>\n      <td>391263441</td>\n      <td>Sciatica</td>\n      <td>Female</td>\n      <td>1945-05-23</td>\n      <td>0.0</td>\n      <td>0.0</td>\n      <td>0.0</td>\n      <td>0.0</td>\n    </tr>\n    <tr>\n      <th>8</th>\n      <td>5162.0</td>\n      <td>526764245</td>\n      <td>managed</td>\n      <td>ACT_NSW_QLD_VIC</td>\n      <td>526764245</td>\n      <td></td>\n      <td>Male</td>\n      <td>1933-07-11</td>\n      <td>2120223.0</td>\n      <td>21202.0</td>\n      <td>20901.0</td>\n      <td>209.0</td>\n    </tr>\n    <tr>\n      <th>9</th>\n      <td>1818.0</td>\n      <td>692294955</td>\n      <td>managed</td>\n      <td>ACT_NSW_QLD_VIC</td>\n      <td>692294955</td>\n      <td></td>\n      <td>Female</td>\n      <td>1925-09-09</td>\n      <td>3123701.0</td>\n      <td>31237.0</td>\n      <td>30903.0</td>\n      <td>309.0</td>\n    </tr>\n    <tr>\n      <th>10</th>\n      <td>1846.0</td>\n      <td>929294204</td>\n      <td>managed</td>\n      <td>ACT_NSW_QLD_VIC</td>\n      <td>929294204</td>\n      <td></td>\n      <td>Male</td>\n      <td>1948-12-04</td>\n      <td>3136522.0</td>\n      <td>31365.0</td>\n      <td>31302.0</td>\n      <td>313.0</td>\n    </tr>\n    <tr>\n      <th>11</th>\n      <td>4129.0</td>\n      <td>996368118</td>\n      <td>managed</td>\n      <td>ACT_NSW_QLD_VIC</td>\n      <td>996368118</td>\n      <td>Usher syndrome</td>\n      <td></td>\n      <td>1955-12-29</td>\n      <td>0.0</td>\n      <td>0.0</td>\n      <td>0.0</td>\n      <td>0.0</td>\n    </tr>\n    <tr>\n      <th>12</th>\n      <td>3762.0</td>\n      <td>577302380</td>\n      <td>managed</td>\n      <td>ACT_NSW_QLD_VIC</td>\n      <td>577302380</td>\n      <td>Vision Impaired</td>\n      <td>Female</td>\n      <td>1939-07-30</td>\n      <td>3102737.0</td>\n      <td>31027.0</td>\n      <td>30202.0</td>\n      <td>302.0</td>\n    </tr>\n    <tr>\n      <th>13</th>\n      <td>20.0</td>\n      <td>411349503</td>\n      <td>managed</td>\n      <td>ACT_NSW_QLD_VIC</td>\n      <td>411349503</td>\n      <td></td>\n      <td>Male</td>\n      <td>1922-05-30</td>\n      <td>1111516.0</td>\n      <td>11115.0</td>\n      <td>10602.0</td>\n      <td>106.0</td>\n    </tr>\n    <tr>\n      <th>14</th>\n      <td>3142.0</td>\n      <td>513580381</td>\n      <td>managed</td>\n      <td>ACT_NSW_QLD_VIC</td>\n      <td>513580381</td>\n      <td></td>\n      <td>Male</td>\n      <td>1982-07-06</td>\n      <td>0.0</td>\n      <td>0.0</td>\n      <td>0.0</td>\n      <td>0.0</td>\n    </tr>\n    <tr>\n      <th>15</th>\n      <td>4155.0</td>\n      <td>921237397</td>\n      <td>managed</td>\n      <td>ACT_NSW_QLD_VIC</td>\n      <td>921237397</td>\n      <td></td>\n      <td></td>\n      <td>1973-12-02</td>\n      <td>3147515.0</td>\n      <td>31475.0</td>\n      <td>31802.0</td>\n      <td>318.0</td>\n    </tr>\n    <tr>\n      <th>16</th>\n      <td>3836.0</td>\n      <td>984450760</td>\n      <td>managed</td>\n      <td>NT_SA_TAS_WA</td>\n      <td>984450760</td>\n      <td></td>\n      <td></td>\n      <td>1955-12-25</td>\n      <td>3112701.0</td>\n      <td>31127.0</td>\n      <td>30503.0</td>\n      <td>305.0</td>\n    </tr>\n    <tr>\n      <th>17</th>\n      <td>1796.0</td>\n      <td>188998989</td>\n      <td>managed</td>\n      <td>ACT_NSW_QLD_VIC</td>\n      <td>188998989</td>\n      <td></td>\n      <td>Female</td>\n      <td>1924-03-09</td>\n      <td>3124626.0</td>\n      <td>31246.0</td>\n      <td>30906.0</td>\n      <td>309.0</td>\n    </tr>\n    <tr>\n      <th>18</th>\n      <td>470.0</td>\n      <td>227507869</td>\n      <td>managed</td>\n      <td>ACT_NSW_QLD_VIC</td>\n      <td>227507869</td>\n      <td></td>\n      <td>Male</td>\n      <td>1928-03-23</td>\n      <td>2118702.0</td>\n      <td>21187.0</td>\n      <td>20803.0</td>\n      <td>208.0</td>\n    </tr>\n    <tr>\n      <th>19</th>\n      <td>3784.0</td>\n      <td>390220737</td>\n      <td>managed</td>\n      <td>ACT_NSW_QLD_VIC</td>\n      <td>390220737</td>\n      <td></td>\n      <td></td>\n      <td>1994-05-23</td>\n      <td>3133607.0</td>\n      <td>31336.0</td>\n      <td>31106.0</td>\n      <td>311.0</td>\n    </tr>\n    <tr>\n      <th>20</th>\n      <td>4186.0</td>\n      <td>776016548</td>\n      <td>managed</td>\n      <td>ACT_NSW_QLD_VIC</td>\n      <td>776016548</td>\n      <td></td>\n      <td>Female</td>\n      <td>1934-10-10</td>\n      <td>0.0</td>\n      <td>0.0</td>\n      <td>0.0</td>\n      <td>0.0</td>\n    </tr>\n    <tr>\n      <th>21</th>\n      <td>1616.0</td>\n      <td>26509924</td>\n      <td>managed</td>\n      <td>ACT_NSW_QLD_VIC</td>\n      <td>26509924</td>\n      <td></td>\n      <td>Male</td>\n      <td>1933-01-10</td>\n      <td>3103214.0</td>\n      <td>31032.0</td>\n      <td>30202.0</td>\n      <td>302.0</td>\n    </tr>\n    <tr>\n      <th>22</th>\n      <td>4229.0</td>\n      <td>781118175</td>\n      <td>managed</td>\n      <td>ACT_NSW_QLD_VIC</td>\n      <td>781118175</td>\n      <td></td>\n      <td></td>\n      <td>1934-10-12</td>\n      <td>3133015.0</td>\n      <td>31330.0</td>\n      <td>31106.0</td>\n      <td>311.0</td>\n    </tr>\n    <tr>\n      <th>23</th>\n      <td>3502.0</td>\n      <td>445885932</td>\n      <td>managed</td>\n      <td>ACT_NSW_QLD_VIC</td>\n      <td>445885932</td>\n      <td></td>\n      <td></td>\n      <td>1975-06-12</td>\n      <td>0.0</td>\n      <td>0.0</td>\n      <td>0.0</td>\n      <td>0.0</td>\n    </tr>\n    <tr>\n      <th>24</th>\n      <td>4103.0</td>\n      <td>145276585</td>\n      <td>managed</td>\n      <td>ACT_NSW_QLD_VIC</td>\n      <td>145276585</td>\n      <td></td>\n      <td>Female</td>\n      <td>1995-02-22</td>\n      <td>3105917.0</td>\n      <td>31059.0</td>\n      <td>30302.0</td>\n      <td>303.0</td>\n    </tr>\n    <tr>\n      <th>25</th>\n      <td>2655.0</td>\n      <td>425042002</td>\n      <td>managed</td>\n      <td>ACT_NSW_QLD_VIC</td>\n      <td>425042002</td>\n      <td></td>\n      <td>Female</td>\n      <td>1923-06-04</td>\n      <td>3128721.0</td>\n      <td>31287.0</td>\n      <td>31003.0</td>\n      <td>310.0</td>\n    </tr>\n    <tr>\n      <th>26</th>\n      <td>4203.0</td>\n      <td>246973395</td>\n      <td>managed</td>\n      <td>ACT_NSW_QLD_VIC</td>\n      <td>246973395</td>\n      <td></td>\n      <td>Male</td>\n      <td>2005-03-31</td>\n      <td>3113724.0</td>\n      <td>31137.0</td>\n      <td>30504.0</td>\n      <td>305.0</td>\n    </tr>\n    <tr>\n      <th>27</th>\n      <td>3622.0</td>\n      <td>140881962</td>\n      <td>managed</td>\n      <td>ACT_NSW_QLD_VIC</td>\n      <td>140881962</td>\n      <td></td>\n      <td></td>\n      <td>1969-02-21</td>\n      <td>0.0</td>\n      <td>0.0</td>\n      <td>0.0</td>\n      <td>0.0</td>\n    </tr>\n    <tr>\n      <th>28</th>\n      <td>1754.0</td>\n      <td>583894312</td>\n      <td>managed</td>\n      <td>ACT_NSW_QLD_VIC</td>\n      <td>583894312</td>\n      <td></td>\n      <td>Male</td>\n      <td>1990-08-01</td>\n      <td>0.0</td>\n      <td>0.0</td>\n      <td>0.0</td>\n      <td>0.0</td>\n    </tr>\n    <tr>\n      <th>29</th>\n      <td>1718.0</td>\n      <td>208464515</td>\n      <td>managed</td>\n      <td>ACT_NSW_QLD_VIC</td>\n      <td>208464515</td>\n      <td>Multiple Sclerosis, Arrested hydrocephalus, Na...</td>\n      <td></td>\n      <td>2002-03-17</td>\n      <td>0.0</td>\n      <td>0.0</td>\n      <td>0.0</td>\n      <td>0.0</td>\n    </tr>\n    <tr>\n      <th>30</th>\n      <td>1686.0</td>\n      <td>619163178</td>\n      <td>managed</td>\n      <td>ACT_NSW_QLD_VIC</td>\n      <td>619163178</td>\n      <td>Anxiety and stress , Full Deaf</td>\n      <td></td>\n      <td>1968-08-13</td>\n      <td>3144816.0</td>\n      <td>31448.0</td>\n      <td>31701.0</td>\n      <td>317.0</td>\n    </tr>\n    <tr>\n      <th>31</th>\n      <td>3109.0</td>\n      <td>197477964</td>\n      <td>managed</td>\n      <td>ACT_NSW_QLD_VIC</td>\n      <td>197477964</td>\n      <td></td>\n      <td>Male</td>\n      <td>1950-03-13</td>\n      <td>3105621.0</td>\n      <td>31056.0</td>\n      <td>30302.0</td>\n      <td>303.0</td>\n    </tr>\n    <tr>\n      <th>32</th>\n      <td>1699.0</td>\n      <td>207732077</td>\n      <td>managed</td>\n      <td>ACT_NSW_QLD_VIC</td>\n      <td>207732077</td>\n      <td></td>\n      <td>Male</td>\n      <td>1976-03-16</td>\n      <td>1143710.0</td>\n      <td>11437.0</td>\n      <td>12302.0</td>\n      <td>123.0</td>\n    </tr>\n    <tr>\n      <th>33</th>\n      <td>3525.0</td>\n      <td>102261181</td>\n      <td>managed</td>\n      <td>ACT_NSW_QLD_VIC</td>\n      <td>102261181</td>\n      <td>Parkinson's disease</td>\n      <td></td>\n      <td>1941-02-07</td>\n      <td>3141408.0</td>\n      <td>31414.0</td>\n      <td>31601.0</td>\n      <td>316.0</td>\n    </tr>\n    <tr>\n      <th>34</th>\n      <td>3808.0</td>\n      <td>167870223</td>\n      <td>managed</td>\n      <td>ACT_NSW_QLD_VIC</td>\n      <td>167870223</td>\n      <td>Stroke (cerebellar)</td>\n      <td>Female</td>\n      <td>1972-03-02</td>\n      <td>3124427.0</td>\n      <td>31244.0</td>\n      <td>30905.0</td>\n      <td>309.0</td>\n    </tr>\n    <tr>\n      <th>35</th>\n      <td>5128.0</td>\n      <td>707365858</td>\n      <td>managed</td>\n      <td>ACT_NSW_QLD_VIC</td>\n      <td>707365858</td>\n      <td></td>\n      <td></td>\n      <td>1977-09-15</td>\n      <td>2146512.0</td>\n      <td>21465.0</td>\n      <td>21305.0</td>\n      <td>213.0</td>\n    </tr>\n    <tr>\n      <th>36</th>\n      <td>3782.0</td>\n      <td>216211052</td>\n      <td>managed</td>\n      <td>ACT_NSW_QLD_VIC</td>\n      <td>216211052</td>\n      <td></td>\n      <td></td>\n      <td>1953-03-20</td>\n      <td>3116004.0</td>\n      <td>31160.0</td>\n      <td>30603.0</td>\n      <td>306.0</td>\n    </tr>\n    <tr>\n      <th>37</th>\n      <td>3781.0</td>\n      <td>845908311</td>\n      <td>managed</td>\n      <td>ACT_NSW_QLD_VIC</td>\n      <td>845908311</td>\n      <td>Intellectual disability</td>\n      <td></td>\n      <td>1991-11-04</td>\n      <td>2116403.0</td>\n      <td>21164.0</td>\n      <td>20703.0</td>\n      <td>207.0</td>\n    </tr>\n    <tr>\n      <th>38</th>\n      <td>4142.0</td>\n      <td>303681294</td>\n      <td>managed</td>\n      <td>ACT_NSW_QLD_VIC</td>\n      <td>303681294</td>\n      <td>Intellectual disability</td>\n      <td>Male</td>\n      <td>1985-04-21</td>\n      <td>1156709.0</td>\n      <td>11567.0</td>\n      <td>11802.0</td>\n      <td>118.0</td>\n    </tr>\n    <tr>\n      <th>39</th>\n      <td>1731.0</td>\n      <td>421293349</td>\n      <td>managed</td>\n      <td>ACT_NSW_QLD_VIC</td>\n      <td>421293349</td>\n      <td></td>\n      <td></td>\n      <td>1923-06-03</td>\n      <td>0.0</td>\n      <td>0.0</td>\n      <td>0.0</td>\n      <td>0.0</td>\n    </tr>\n    <tr>\n      <th>40</th>\n      <td>3850.0</td>\n      <td>855429986</td>\n      <td>managed</td>\n      <td>ACT_NSW_QLD_VIC</td>\n      <td>855429986</td>\n      <td></td>\n      <td></td>\n      <td>1991-11-08</td>\n      <td>3152114.0</td>\n      <td>31521.0</td>\n      <td>31904.0</td>\n      <td>319.0</td>\n    </tr>\n    <tr>\n      <th>41</th>\n      <td>1878.0</td>\n      <td>141390601</td>\n      <td>managed</td>\n      <td>ACT_NSW_QLD_VIC</td>\n      <td>141390601</td>\n      <td></td>\n      <td>Male</td>\n      <td>1994-02-21</td>\n      <td>3137229.0</td>\n      <td>31372.0</td>\n      <td>31304.0</td>\n      <td>313.0</td>\n    </tr>\n    <tr>\n      <th>42</th>\n      <td>1766.0</td>\n      <td>819428686</td>\n      <td>managed</td>\n      <td>ACT_NSW_QLD_VIC</td>\n      <td>819428686</td>\n      <td>Intellectual disability</td>\n      <td></td>\n      <td>1938-10-26</td>\n      <td>3130907.0</td>\n      <td>31309.0</td>\n      <td>31102.0</td>\n      <td>311.0</td>\n    </tr>\n    <tr>\n      <th>43</th>\n      <td>1886.0</td>\n      <td>413546812</td>\n      <td>managed</td>\n      <td>ACT_NSW_QLD_VIC</td>\n      <td>413546812</td>\n      <td>Hearing Impairment</td>\n      <td>Female</td>\n      <td>1922-05-31</td>\n      <td>0.0</td>\n      <td>0.0</td>\n      <td>0.0</td>\n      <td>0.0</td>\n    </tr>\n    <tr>\n      <th>44</th>\n      <td>3818.0</td>\n      <td>16367712</td>\n      <td>managed</td>\n      <td>ACT_NSW_QLD_VIC</td>\n      <td>16367712</td>\n      <td></td>\n      <td>Male</td>\n      <td>1982-01-06</td>\n      <td>3111220.0</td>\n      <td>31112.0</td>\n      <td>30501.0</td>\n      <td>305.0</td>\n    </tr>\n    <tr>\n      <th>45</th>\n      <td>1770.0</td>\n      <td>73273980</td>\n      <td>managed</td>\n      <td>ACT_NSW_QLD_VIC</td>\n      <td>73273980</td>\n      <td></td>\n      <td></td>\n      <td>2012-01-27</td>\n      <td>3136540.0</td>\n      <td>31365.0</td>\n      <td>31302.0</td>\n      <td>313.0</td>\n    </tr>\n    <tr>\n      <th>46</th>\n      <td>1713.0</td>\n      <td>630459999</td>\n      <td>managed</td>\n      <td>ACT_NSW_QLD_VIC</td>\n      <td>630459999</td>\n      <td></td>\n      <td>Male</td>\n      <td>1995-08-18</td>\n      <td>1139855.0</td>\n      <td>11398.0</td>\n      <td>12101.0</td>\n      <td>121.0</td>\n    </tr>\n    <tr>\n      <th>47</th>\n      <td>1706.0</td>\n      <td>130826214</td>\n      <td>managed</td>\n      <td>ACT_NSW_QLD_VIC</td>\n      <td>130826214</td>\n      <td>Asperger syndrome, chronic inflammatory demyel...</td>\n      <td></td>\n      <td>2019-02-17</td>\n      <td>0.0</td>\n      <td>0.0</td>\n      <td>0.0</td>\n      <td>0.0</td>\n    </tr>\n    <tr>\n      <th>48</th>\n      <td>1626.0</td>\n      <td>259226452</td>\n      <td>managed</td>\n      <td>ACT_NSW_QLD_VIC</td>\n      <td>259226452</td>\n      <td></td>\n      <td>Male</td>\n      <td>1981-04-05</td>\n      <td>1142104.0</td>\n      <td>11421.0</td>\n      <td>12202.0</td>\n      <td>122.0</td>\n    </tr>\n    <tr>\n      <th>49</th>\n      <td>2557.0</td>\n      <td>516510129</td>\n      <td>managed</td>\n      <td>ACT_NSW_QLD_VIC</td>\n      <td>516510129</td>\n      <td></td>\n      <td>Female</td>\n      <td>1932-07-07</td>\n      <td>0.0</td>\n      <td>0.0</td>\n      <td>0.0</td>\n      <td>0.0</td>\n    </tr>\n  </tbody>\n</table>\n</div>"
     },
     "metadata": {},
     "execution_count": 13
    }
   ],
   "source": [
    "###Customer Personal details\n",
    "\n",
    "df_user= pd.read_sql(\"select m.id as member_id, m.membership_number, m.status, m.price_zone_code, s.u_ndis_number, s.u_disabilities, s.u_gender, s.u_date_of_birth, r.SA1, r.SA2, r.SA3,r.SA4  from SNOW_csm_consumer_user s left join  HH_member m  on s.u_ndis_number = m.membership_number left join libe_leapinprod_memberregion r on r.MemberId = s.u_leapin_id where s.u_stage = 'li_managed' and s.u_ndis_number is not null;\", con=conn)\n",
    "                                  \n",
    "df_user.info()\n",
    "df_user.head(50)\n"
   ]
  },
  {
   "cell_type": "code",
   "execution_count": 14,
   "id": "6b08e9ff",
   "metadata": {},
   "outputs": [
    {
     "output_type": "execute_result",
     "data": {
      "text/plain": [
       "                                                                                                                                                       4922\n",
       "Intellectual disability                                                                                                                                  98\n",
       "ADHD                                                                                                                                                     61\n",
       "Cerebral palsy                                                                                                                                           42\n",
       "Down syndrome                                                                                                                                            41\n",
       "                                                                                                                                                       ... \n",
       "Intellectual disability, Deaf                                                                                                                             1\n",
       "Developmental delay - language & communi, Developmental delay - Personal-Social-Em, Developmental delay - gross motor, Autism (awaiting assessment)       1\n",
       "Fibromyalgia , Depression , Anxiety, Functional Neurological disorder                                                                                     1\n",
       "Hearing Impairment, Crouzon syndrome                                                                                                                      1\n",
       "Anxiety, Eating Disorder, Depression                                                                                                                      1\n",
       "Name: u_disabilities, Length: 602, dtype: int64"
      ]
     },
     "metadata": {},
     "execution_count": 14
    }
   ],
   "source": [
    "df_user['u_disabilities'].value_counts()"
   ]
  },
  {
   "cell_type": "markdown",
   "id": "a8648376",
   "metadata": {},
   "source": [
    "### Getting Services Providers detail - make dataframe"
   ]
  },
  {
   "cell_type": "code",
   "execution_count": 15,
   "id": "8c82cd9e",
   "metadata": {},
   "outputs": [],
   "source": [
    "### Service Providers Details:\n",
    "\n",
    "#df_providers_details = pd.read_sql(\"select p.id, pa.provider_account_key, p.is_inactive, p.abn, ca.city, ca.country from HH_provider_account pa join HH_provider p on p.id = pa.provider_id join SNOW_customer_account ca on ca.u_abn = p.abn;\", con=conn)\n",
    "\n",
    "#print(df_providers_details.info())\n",
    "\n",
    "#df_providers_details.head(50)"
   ]
  },
  {
   "cell_type": "markdown",
   "id": "9847099b",
   "metadata": {},
   "source": [
    "### Getting Claims and Invoice details - make dataframe"
   ]
  },
  {
   "cell_type": "code",
   "execution_count": 16,
   "id": "4402d660",
   "metadata": {},
   "outputs": [
    {
     "output_type": "stream",
     "name": "stdout",
     "text": [
      "<class 'pandas.core.frame.DataFrame'>\nRangeIndex: 968874 entries, 0 to 968873\nData columns (total 5 columns):\n #   Column      Non-Null Count   Dtype \n---  ------      --------------   ----- \n 0   claim_id    968874 non-null  int64 \n 1   invoice_id  968874 non-null  int64 \n 2   state       968874 non-null  object\n 3   risk_level  968874 non-null  object\n 4   start_date  968874 non-null  object\ndtypes: int64(2), object(3)\nmemory usage: 37.0+ MB\n"
     ]
    },
    {
     "output_type": "execute_result",
     "data": {
      "text/plain": [
       "   claim_id  invoice_id state risk_level  start_date\n",
       "0         1           1  PAID         NO  2020-04-30\n",
       "1         2           2  PAID         NO  2020-05-01\n",
       "2         3           3  PAID         NO  2020-04-23\n",
       "3         4           4  PAID         NO  2020-04-30\n",
       "4         5           5  PAID         NO  2020-05-07\n",
       "5         6           6  PAID         NO  2020-05-07\n",
       "6         7           7  PAID         NO  2020-05-12\n",
       "7         8           8  PAID         NO  2020-05-14\n",
       "8         9           9  PAID         NO  2020-05-14\n",
       "9        10          10  PAID         NO  2020-05-16"
      ],
      "text/html": "<div>\n<style scoped>\n    .dataframe tbody tr th:only-of-type {\n        vertical-align: middle;\n    }\n\n    .dataframe tbody tr th {\n        vertical-align: top;\n    }\n\n    .dataframe thead th {\n        text-align: right;\n    }\n</style>\n<table border=\"1\" class=\"dataframe\">\n  <thead>\n    <tr style=\"text-align: right;\">\n      <th></th>\n      <th>claim_id</th>\n      <th>invoice_id</th>\n      <th>state</th>\n      <th>risk_level</th>\n      <th>start_date</th>\n    </tr>\n  </thead>\n  <tbody>\n    <tr>\n      <th>0</th>\n      <td>1</td>\n      <td>1</td>\n      <td>PAID</td>\n      <td>NO</td>\n      <td>2020-04-30</td>\n    </tr>\n    <tr>\n      <th>1</th>\n      <td>2</td>\n      <td>2</td>\n      <td>PAID</td>\n      <td>NO</td>\n      <td>2020-05-01</td>\n    </tr>\n    <tr>\n      <th>2</th>\n      <td>3</td>\n      <td>3</td>\n      <td>PAID</td>\n      <td>NO</td>\n      <td>2020-04-23</td>\n    </tr>\n    <tr>\n      <th>3</th>\n      <td>4</td>\n      <td>4</td>\n      <td>PAID</td>\n      <td>NO</td>\n      <td>2020-04-30</td>\n    </tr>\n    <tr>\n      <th>4</th>\n      <td>5</td>\n      <td>5</td>\n      <td>PAID</td>\n      <td>NO</td>\n      <td>2020-05-07</td>\n    </tr>\n    <tr>\n      <th>5</th>\n      <td>6</td>\n      <td>6</td>\n      <td>PAID</td>\n      <td>NO</td>\n      <td>2020-05-07</td>\n    </tr>\n    <tr>\n      <th>6</th>\n      <td>7</td>\n      <td>7</td>\n      <td>PAID</td>\n      <td>NO</td>\n      <td>2020-05-12</td>\n    </tr>\n    <tr>\n      <th>7</th>\n      <td>8</td>\n      <td>8</td>\n      <td>PAID</td>\n      <td>NO</td>\n      <td>2020-05-14</td>\n    </tr>\n    <tr>\n      <th>8</th>\n      <td>9</td>\n      <td>9</td>\n      <td>PAID</td>\n      <td>NO</td>\n      <td>2020-05-14</td>\n    </tr>\n    <tr>\n      <th>9</th>\n      <td>10</td>\n      <td>10</td>\n      <td>PAID</td>\n      <td>NO</td>\n      <td>2020-05-16</td>\n    </tr>\n  </tbody>\n</table>\n</div>"
     },
     "metadata": {},
     "execution_count": 16
    }
   ],
   "source": [
    "### Getting Claims details: \n",
    "\n",
    "df_claims= pd.read_sql(\"SELECT c.id as claim_id, c.invoice_id, c.state, c.risk_level, c.start_date FROM HH_claim c;\", con=conn)\n",
    "df_claims.info()\n",
    "df_claims.head(10)\n"
   ]
  },
  {
   "cell_type": "code",
   "execution_count": 17,
   "id": "3abaa76c",
   "metadata": {},
   "outputs": [
    {
     "output_type": "stream",
     "name": "stdout",
     "text": [
      "<class 'pandas.core.frame.DataFrame'>\nRangeIndex: 518376 entries, 0 to 518375\nData columns (total 5 columns):\n #   Column         Non-Null Count   Dtype  \n---  ------         --------------   -----  \n 0   invoice_id     518376 non-null  int64  \n 1   member_id      518376 non-null  int64  \n 2   invoice_total  518376 non-null  float64\n 3   funded_total   281714 non-null  float64\n 4   funded_date    276521 non-null  object \ndtypes: float64(2), int64(2), object(1)\nmemory usage: 19.8+ MB\n"
     ]
    },
    {
     "output_type": "execute_result",
     "data": {
      "text/plain": [
       "   invoice_id  member_id  invoice_total  funded_total funded_date\n",
       "0           1          2         160.00        160.00  2020-04-30\n",
       "1           2          2         160.00        160.00  2020-05-05\n",
       "2           3          3          80.00         80.00  2020-05-08\n",
       "3           4          3          80.00         80.00  2020-05-08\n",
       "4           5          3          80.00         80.00  2020-05-08\n",
       "5           6          4         214.41        214.41  2020-05-12\n",
       "6           7          2         130.00        130.00  2020-05-13\n",
       "7           8          2         130.00        130.00  2020-05-15\n",
       "8           9          4         428.82        428.82  2020-05-18\n",
       "9          10          4         214.41        214.41  2020-05-18"
      ],
      "text/html": "<div>\n<style scoped>\n    .dataframe tbody tr th:only-of-type {\n        vertical-align: middle;\n    }\n\n    .dataframe tbody tr th {\n        vertical-align: top;\n    }\n\n    .dataframe thead th {\n        text-align: right;\n    }\n</style>\n<table border=\"1\" class=\"dataframe\">\n  <thead>\n    <tr style=\"text-align: right;\">\n      <th></th>\n      <th>invoice_id</th>\n      <th>member_id</th>\n      <th>invoice_total</th>\n      <th>funded_total</th>\n      <th>funded_date</th>\n    </tr>\n  </thead>\n  <tbody>\n    <tr>\n      <th>0</th>\n      <td>1</td>\n      <td>2</td>\n      <td>160.00</td>\n      <td>160.00</td>\n      <td>2020-04-30</td>\n    </tr>\n    <tr>\n      <th>1</th>\n      <td>2</td>\n      <td>2</td>\n      <td>160.00</td>\n      <td>160.00</td>\n      <td>2020-05-05</td>\n    </tr>\n    <tr>\n      <th>2</th>\n      <td>3</td>\n      <td>3</td>\n      <td>80.00</td>\n      <td>80.00</td>\n      <td>2020-05-08</td>\n    </tr>\n    <tr>\n      <th>3</th>\n      <td>4</td>\n      <td>3</td>\n      <td>80.00</td>\n      <td>80.00</td>\n      <td>2020-05-08</td>\n    </tr>\n    <tr>\n      <th>4</th>\n      <td>5</td>\n      <td>3</td>\n      <td>80.00</td>\n      <td>80.00</td>\n      <td>2020-05-08</td>\n    </tr>\n    <tr>\n      <th>5</th>\n      <td>6</td>\n      <td>4</td>\n      <td>214.41</td>\n      <td>214.41</td>\n      <td>2020-05-12</td>\n    </tr>\n    <tr>\n      <th>6</th>\n      <td>7</td>\n      <td>2</td>\n      <td>130.00</td>\n      <td>130.00</td>\n      <td>2020-05-13</td>\n    </tr>\n    <tr>\n      <th>7</th>\n      <td>8</td>\n      <td>2</td>\n      <td>130.00</td>\n      <td>130.00</td>\n      <td>2020-05-15</td>\n    </tr>\n    <tr>\n      <th>8</th>\n      <td>9</td>\n      <td>4</td>\n      <td>428.82</td>\n      <td>428.82</td>\n      <td>2020-05-18</td>\n    </tr>\n    <tr>\n      <th>9</th>\n      <td>10</td>\n      <td>4</td>\n      <td>214.41</td>\n      <td>214.41</td>\n      <td>2020-05-18</td>\n    </tr>\n  </tbody>\n</table>\n</div>"
     },
     "metadata": {},
     "execution_count": 17
    }
   ],
   "source": [
    "###Getting Invoice Details\n",
    "\n",
    "df_invoices= pd.read_sql(\"SELECT i.id as invoice_id, i.member_id, i.invoice_total, i.funded_total, i.funded_date FROM HH_invoice i;\", con=conn)\n",
    "df_invoices.info()\n",
    "df_invoices.head(10)"
   ]
  },
  {
   "cell_type": "code",
   "execution_count": 18,
   "id": "74afc06a",
   "metadata": {},
   "outputs": [
    {
     "output_type": "stream",
     "name": "stdout",
     "text": [
      "<class 'pandas.core.frame.DataFrame'>\nInt64Index: 968874 entries, 0 to 968873\nData columns (total 9 columns):\n #   Column         Non-Null Count   Dtype  \n---  ------         --------------   -----  \n 0   claim_id       968874 non-null  int64  \n 1   invoice_id     968874 non-null  int64  \n 2   state          968874 non-null  object \n 3   risk_level     968874 non-null  object \n 4   start_date     968874 non-null  object \n 5   member_id      968874 non-null  int64  \n 6   invoice_total  968874 non-null  float64\n 7   funded_total   566458 non-null  float64\n 8   funded_date    556790 non-null  object \ndtypes: float64(2), int64(3), object(4)\nmemory usage: 73.9+ MB\n"
     ]
    },
    {
     "output_type": "execute_result",
     "data": {
      "text/plain": [
       "   claim_id  invoice_id state risk_level  start_date  member_id  \\\n",
       "0         1           1  PAID         NO  2020-04-30          2   \n",
       "1         2           2  PAID         NO  2020-05-01          2   \n",
       "2         3           3  PAID         NO  2020-04-23          3   \n",
       "3         4           4  PAID         NO  2020-04-30          3   \n",
       "4         5           5  PAID         NO  2020-05-07          3   \n",
       "\n",
       "   invoice_total  funded_total funded_date  \n",
       "0          160.0         160.0  2020-04-30  \n",
       "1          160.0         160.0  2020-05-05  \n",
       "2           80.0          80.0  2020-05-08  \n",
       "3           80.0          80.0  2020-05-08  \n",
       "4           80.0          80.0  2020-05-08  "
      ],
      "text/html": "<div>\n<style scoped>\n    .dataframe tbody tr th:only-of-type {\n        vertical-align: middle;\n    }\n\n    .dataframe tbody tr th {\n        vertical-align: top;\n    }\n\n    .dataframe thead th {\n        text-align: right;\n    }\n</style>\n<table border=\"1\" class=\"dataframe\">\n  <thead>\n    <tr style=\"text-align: right;\">\n      <th></th>\n      <th>claim_id</th>\n      <th>invoice_id</th>\n      <th>state</th>\n      <th>risk_level</th>\n      <th>start_date</th>\n      <th>member_id</th>\n      <th>invoice_total</th>\n      <th>funded_total</th>\n      <th>funded_date</th>\n    </tr>\n  </thead>\n  <tbody>\n    <tr>\n      <th>0</th>\n      <td>1</td>\n      <td>1</td>\n      <td>PAID</td>\n      <td>NO</td>\n      <td>2020-04-30</td>\n      <td>2</td>\n      <td>160.0</td>\n      <td>160.0</td>\n      <td>2020-04-30</td>\n    </tr>\n    <tr>\n      <th>1</th>\n      <td>2</td>\n      <td>2</td>\n      <td>PAID</td>\n      <td>NO</td>\n      <td>2020-05-01</td>\n      <td>2</td>\n      <td>160.0</td>\n      <td>160.0</td>\n      <td>2020-05-05</td>\n    </tr>\n    <tr>\n      <th>2</th>\n      <td>3</td>\n      <td>3</td>\n      <td>PAID</td>\n      <td>NO</td>\n      <td>2020-04-23</td>\n      <td>3</td>\n      <td>80.0</td>\n      <td>80.0</td>\n      <td>2020-05-08</td>\n    </tr>\n    <tr>\n      <th>3</th>\n      <td>4</td>\n      <td>4</td>\n      <td>PAID</td>\n      <td>NO</td>\n      <td>2020-04-30</td>\n      <td>3</td>\n      <td>80.0</td>\n      <td>80.0</td>\n      <td>2020-05-08</td>\n    </tr>\n    <tr>\n      <th>4</th>\n      <td>5</td>\n      <td>5</td>\n      <td>PAID</td>\n      <td>NO</td>\n      <td>2020-05-07</td>\n      <td>3</td>\n      <td>80.0</td>\n      <td>80.0</td>\n      <td>2020-05-08</td>\n    </tr>\n  </tbody>\n</table>\n</div>"
     },
     "metadata": {},
     "execution_count": 18
    }
   ],
   "source": [
    "### Merging\n",
    "\n",
    "df_invoice_claim = pd.merge(df_claims, df_invoices, on=\"invoice_id\", how=\"left\")\n",
    "\n",
    "df_invoice_claim.info()\n",
    "df_invoice_claim.head()"
   ]
  },
  {
   "cell_type": "code",
   "execution_count": 19,
   "id": "d86028a1",
   "metadata": {},
   "outputs": [
    {
     "output_type": "execute_result",
     "data": {
      "text/plain": [
       "        claim_id  invoice_id                state risk_level  start_date  \\\n",
       "0              1           1                 PAID         NO  2020-04-30   \n",
       "1              2           2                 PAID         NO  2020-05-01   \n",
       "2              3           3                 PAID         NO  2020-04-23   \n",
       "3              4           4                 PAID         NO  2020-04-30   \n",
       "4              5           5                 PAID         NO  2020-05-07   \n",
       "...          ...         ...                  ...        ...         ...   \n",
       "968869   1006095      539315  OPERATOR_AUTHORIZED         NO  2021-04-08   \n",
       "968870   1006096      539315  OPERATOR_AUTHORIZED         NO  2021-04-10   \n",
       "968871   1006097      539315  OPERATOR_AUTHORIZED         NO  2021-04-11   \n",
       "968872   1006098      539316  OPERATOR_AUTHORIZED         NO  2021-04-15   \n",
       "968873   1006099      539316  OPERATOR_AUTHORIZED         NO  2021-04-15   \n",
       "\n",
       "        member_id  invoice_total  funded_total funded_date membership_number  \\\n",
       "0               2         160.00         160.0  2020-04-30         277486509   \n",
       "1               2         160.00         160.0  2020-05-05         277486509   \n",
       "2               3          80.00          80.0  2020-05-08         815939440   \n",
       "3               3          80.00          80.0  2020-05-08         815939440   \n",
       "4               3          80.00          80.0  2020-05-08         815939440   \n",
       "...           ...            ...           ...         ...               ...   \n",
       "968869       3000        2135.70           NaN        None         265655619   \n",
       "968870       3000        2135.70           NaN        None         265655619   \n",
       "968871       3000        2135.70           NaN        None         265655619   \n",
       "968872       3607         396.57           NaN        None         615053396   \n",
       "968873       3607         396.57           NaN        None         615053396   \n",
       "\n",
       "         status  price_zone_code u_ndis_number       u_disabilities u_gender  \\\n",
       "0       managed  ACT_NSW_QLD_VIC     277486509                          Male   \n",
       "1       managed  ACT_NSW_QLD_VIC     277486509                          Male   \n",
       "2       managed  ACT_NSW_QLD_VIC     815939440                        Female   \n",
       "3       managed  ACT_NSW_QLD_VIC     815939440                        Female   \n",
       "4       managed  ACT_NSW_QLD_VIC     815939440                        Female   \n",
       "...         ...              ...           ...                  ...      ...   \n",
       "968869  managed  ACT_NSW_QLD_VIC     265655619                         Other   \n",
       "968870  managed  ACT_NSW_QLD_VIC     265655619                         Other   \n",
       "968871  managed  ACT_NSW_QLD_VIC     265655619                         Other   \n",
       "968872  managed  ACT_NSW_QLD_VIC     615053396  Parkinson's disease     Male   \n",
       "968873  managed  ACT_NSW_QLD_VIC     615053396  Parkinson's disease     Male   \n",
       "\n",
       "       u_date_of_birth        SA1      SA2      SA3    SA4  \n",
       "0           1958-04-12  3110117.0  31101.0  30404.0  304.0  \n",
       "1           1958-04-12  3110117.0  31101.0  30404.0  304.0  \n",
       "2           1937-10-25  3130913.0  31309.0  31102.0  311.0  \n",
       "3           1937-10-25  3130913.0  31309.0  31102.0  311.0  \n",
       "4           1937-10-25  3130913.0  31309.0  31102.0  311.0  \n",
       "...                ...        ...      ...      ...    ...  \n",
       "968869      1981-04-07        0.0      0.0      0.0    0.0  \n",
       "968870      1981-04-07        0.0      0.0      0.0    0.0  \n",
       "968871      1981-04-07        0.0      0.0      0.0    0.0  \n",
       "968872      1943-08-12  3136525.0  31365.0  31302.0  313.0  \n",
       "968873      1943-08-12  3136525.0  31365.0  31302.0  313.0  \n",
       "\n",
       "[968874 rows x 20 columns]"
      ],
      "text/html": "<div>\n<style scoped>\n    .dataframe tbody tr th:only-of-type {\n        vertical-align: middle;\n    }\n\n    .dataframe tbody tr th {\n        vertical-align: top;\n    }\n\n    .dataframe thead th {\n        text-align: right;\n    }\n</style>\n<table border=\"1\" class=\"dataframe\">\n  <thead>\n    <tr style=\"text-align: right;\">\n      <th></th>\n      <th>claim_id</th>\n      <th>invoice_id</th>\n      <th>state</th>\n      <th>risk_level</th>\n      <th>start_date</th>\n      <th>member_id</th>\n      <th>invoice_total</th>\n      <th>funded_total</th>\n      <th>funded_date</th>\n      <th>membership_number</th>\n      <th>status</th>\n      <th>price_zone_code</th>\n      <th>u_ndis_number</th>\n      <th>u_disabilities</th>\n      <th>u_gender</th>\n      <th>u_date_of_birth</th>\n      <th>SA1</th>\n      <th>SA2</th>\n      <th>SA3</th>\n      <th>SA4</th>\n    </tr>\n  </thead>\n  <tbody>\n    <tr>\n      <th>0</th>\n      <td>1</td>\n      <td>1</td>\n      <td>PAID</td>\n      <td>NO</td>\n      <td>2020-04-30</td>\n      <td>2</td>\n      <td>160.00</td>\n      <td>160.0</td>\n      <td>2020-04-30</td>\n      <td>277486509</td>\n      <td>managed</td>\n      <td>ACT_NSW_QLD_VIC</td>\n      <td>277486509</td>\n      <td></td>\n      <td>Male</td>\n      <td>1958-04-12</td>\n      <td>3110117.0</td>\n      <td>31101.0</td>\n      <td>30404.0</td>\n      <td>304.0</td>\n    </tr>\n    <tr>\n      <th>1</th>\n      <td>2</td>\n      <td>2</td>\n      <td>PAID</td>\n      <td>NO</td>\n      <td>2020-05-01</td>\n      <td>2</td>\n      <td>160.00</td>\n      <td>160.0</td>\n      <td>2020-05-05</td>\n      <td>277486509</td>\n      <td>managed</td>\n      <td>ACT_NSW_QLD_VIC</td>\n      <td>277486509</td>\n      <td></td>\n      <td>Male</td>\n      <td>1958-04-12</td>\n      <td>3110117.0</td>\n      <td>31101.0</td>\n      <td>30404.0</td>\n      <td>304.0</td>\n    </tr>\n    <tr>\n      <th>2</th>\n      <td>3</td>\n      <td>3</td>\n      <td>PAID</td>\n      <td>NO</td>\n      <td>2020-04-23</td>\n      <td>3</td>\n      <td>80.00</td>\n      <td>80.0</td>\n      <td>2020-05-08</td>\n      <td>815939440</td>\n      <td>managed</td>\n      <td>ACT_NSW_QLD_VIC</td>\n      <td>815939440</td>\n      <td></td>\n      <td>Female</td>\n      <td>1937-10-25</td>\n      <td>3130913.0</td>\n      <td>31309.0</td>\n      <td>31102.0</td>\n      <td>311.0</td>\n    </tr>\n    <tr>\n      <th>3</th>\n      <td>4</td>\n      <td>4</td>\n      <td>PAID</td>\n      <td>NO</td>\n      <td>2020-04-30</td>\n      <td>3</td>\n      <td>80.00</td>\n      <td>80.0</td>\n      <td>2020-05-08</td>\n      <td>815939440</td>\n      <td>managed</td>\n      <td>ACT_NSW_QLD_VIC</td>\n      <td>815939440</td>\n      <td></td>\n      <td>Female</td>\n      <td>1937-10-25</td>\n      <td>3130913.0</td>\n      <td>31309.0</td>\n      <td>31102.0</td>\n      <td>311.0</td>\n    </tr>\n    <tr>\n      <th>4</th>\n      <td>5</td>\n      <td>5</td>\n      <td>PAID</td>\n      <td>NO</td>\n      <td>2020-05-07</td>\n      <td>3</td>\n      <td>80.00</td>\n      <td>80.0</td>\n      <td>2020-05-08</td>\n      <td>815939440</td>\n      <td>managed</td>\n      <td>ACT_NSW_QLD_VIC</td>\n      <td>815939440</td>\n      <td></td>\n      <td>Female</td>\n      <td>1937-10-25</td>\n      <td>3130913.0</td>\n      <td>31309.0</td>\n      <td>31102.0</td>\n      <td>311.0</td>\n    </tr>\n    <tr>\n      <th>...</th>\n      <td>...</td>\n      <td>...</td>\n      <td>...</td>\n      <td>...</td>\n      <td>...</td>\n      <td>...</td>\n      <td>...</td>\n      <td>...</td>\n      <td>...</td>\n      <td>...</td>\n      <td>...</td>\n      <td>...</td>\n      <td>...</td>\n      <td>...</td>\n      <td>...</td>\n      <td>...</td>\n      <td>...</td>\n      <td>...</td>\n      <td>...</td>\n      <td>...</td>\n    </tr>\n    <tr>\n      <th>968869</th>\n      <td>1006095</td>\n      <td>539315</td>\n      <td>OPERATOR_AUTHORIZED</td>\n      <td>NO</td>\n      <td>2021-04-08</td>\n      <td>3000</td>\n      <td>2135.70</td>\n      <td>NaN</td>\n      <td>None</td>\n      <td>265655619</td>\n      <td>managed</td>\n      <td>ACT_NSW_QLD_VIC</td>\n      <td>265655619</td>\n      <td></td>\n      <td>Other</td>\n      <td>1981-04-07</td>\n      <td>0.0</td>\n      <td>0.0</td>\n      <td>0.0</td>\n      <td>0.0</td>\n    </tr>\n    <tr>\n      <th>968870</th>\n      <td>1006096</td>\n      <td>539315</td>\n      <td>OPERATOR_AUTHORIZED</td>\n      <td>NO</td>\n      <td>2021-04-10</td>\n      <td>3000</td>\n      <td>2135.70</td>\n      <td>NaN</td>\n      <td>None</td>\n      <td>265655619</td>\n      <td>managed</td>\n      <td>ACT_NSW_QLD_VIC</td>\n      <td>265655619</td>\n      <td></td>\n      <td>Other</td>\n      <td>1981-04-07</td>\n      <td>0.0</td>\n      <td>0.0</td>\n      <td>0.0</td>\n      <td>0.0</td>\n    </tr>\n    <tr>\n      <th>968871</th>\n      <td>1006097</td>\n      <td>539315</td>\n      <td>OPERATOR_AUTHORIZED</td>\n      <td>NO</td>\n      <td>2021-04-11</td>\n      <td>3000</td>\n      <td>2135.70</td>\n      <td>NaN</td>\n      <td>None</td>\n      <td>265655619</td>\n      <td>managed</td>\n      <td>ACT_NSW_QLD_VIC</td>\n      <td>265655619</td>\n      <td></td>\n      <td>Other</td>\n      <td>1981-04-07</td>\n      <td>0.0</td>\n      <td>0.0</td>\n      <td>0.0</td>\n      <td>0.0</td>\n    </tr>\n    <tr>\n      <th>968872</th>\n      <td>1006098</td>\n      <td>539316</td>\n      <td>OPERATOR_AUTHORIZED</td>\n      <td>NO</td>\n      <td>2021-04-15</td>\n      <td>3607</td>\n      <td>396.57</td>\n      <td>NaN</td>\n      <td>None</td>\n      <td>615053396</td>\n      <td>managed</td>\n      <td>ACT_NSW_QLD_VIC</td>\n      <td>615053396</td>\n      <td>Parkinson's disease</td>\n      <td>Male</td>\n      <td>1943-08-12</td>\n      <td>3136525.0</td>\n      <td>31365.0</td>\n      <td>31302.0</td>\n      <td>313.0</td>\n    </tr>\n    <tr>\n      <th>968873</th>\n      <td>1006099</td>\n      <td>539316</td>\n      <td>OPERATOR_AUTHORIZED</td>\n      <td>NO</td>\n      <td>2021-04-15</td>\n      <td>3607</td>\n      <td>396.57</td>\n      <td>NaN</td>\n      <td>None</td>\n      <td>615053396</td>\n      <td>managed</td>\n      <td>ACT_NSW_QLD_VIC</td>\n      <td>615053396</td>\n      <td>Parkinson's disease</td>\n      <td>Male</td>\n      <td>1943-08-12</td>\n      <td>3136525.0</td>\n      <td>31365.0</td>\n      <td>31302.0</td>\n      <td>313.0</td>\n    </tr>\n  </tbody>\n</table>\n<p>968874 rows × 20 columns</p>\n</div>"
     },
     "metadata": {},
     "execution_count": 19
    }
   ],
   "source": [
    "# Mapping users' disability type:\n",
    "df = pd.merge(df_invoice_claim, df_user, on=\"member_id\", how=\"left\")\n",
    "df"
   ]
  },
  {
   "cell_type": "code",
   "execution_count": 20,
   "id": "f56bc806",
   "metadata": {},
   "outputs": [
    {
     "output_type": "execute_result",
     "data": {
      "text/plain": [
       "     membership_number  invoice_total  funded_total\n",
       "0            100211377        3131.25       3131.25\n",
       "1            100348708      105389.55      48738.66\n",
       "2            100633545       99779.60      95339.64\n",
       "3            100969245      430467.16     386833.71\n",
       "4             10121655        1260.94       1260.94\n",
       "...                ...            ...           ...\n",
       "5723         999135104       13635.22      11058.42\n",
       "5724         999445370        4736.14       4635.56\n",
       "5725         999496234        5210.52       4431.51\n",
       "5726         999694603       17519.26       9040.34\n",
       "5727         999781070      351476.09     328188.72\n",
       "\n",
       "[5728 rows x 3 columns]"
      ],
      "text/html": "<div>\n<style scoped>\n    .dataframe tbody tr th:only-of-type {\n        vertical-align: middle;\n    }\n\n    .dataframe tbody tr th {\n        vertical-align: top;\n    }\n\n    .dataframe thead th {\n        text-align: right;\n    }\n</style>\n<table border=\"1\" class=\"dataframe\">\n  <thead>\n    <tr style=\"text-align: right;\">\n      <th></th>\n      <th>membership_number</th>\n      <th>invoice_total</th>\n      <th>funded_total</th>\n    </tr>\n  </thead>\n  <tbody>\n    <tr>\n      <th>0</th>\n      <td>100211377</td>\n      <td>3131.25</td>\n      <td>3131.25</td>\n    </tr>\n    <tr>\n      <th>1</th>\n      <td>100348708</td>\n      <td>105389.55</td>\n      <td>48738.66</td>\n    </tr>\n    <tr>\n      <th>2</th>\n      <td>100633545</td>\n      <td>99779.60</td>\n      <td>95339.64</td>\n    </tr>\n    <tr>\n      <th>3</th>\n      <td>100969245</td>\n      <td>430467.16</td>\n      <td>386833.71</td>\n    </tr>\n    <tr>\n      <th>4</th>\n      <td>10121655</td>\n      <td>1260.94</td>\n      <td>1260.94</td>\n    </tr>\n    <tr>\n      <th>...</th>\n      <td>...</td>\n      <td>...</td>\n      <td>...</td>\n    </tr>\n    <tr>\n      <th>5723</th>\n      <td>999135104</td>\n      <td>13635.22</td>\n      <td>11058.42</td>\n    </tr>\n    <tr>\n      <th>5724</th>\n      <td>999445370</td>\n      <td>4736.14</td>\n      <td>4635.56</td>\n    </tr>\n    <tr>\n      <th>5725</th>\n      <td>999496234</td>\n      <td>5210.52</td>\n      <td>4431.51</td>\n    </tr>\n    <tr>\n      <th>5726</th>\n      <td>999694603</td>\n      <td>17519.26</td>\n      <td>9040.34</td>\n    </tr>\n    <tr>\n      <th>5727</th>\n      <td>999781070</td>\n      <td>351476.09</td>\n      <td>328188.72</td>\n    </tr>\n  </tbody>\n</table>\n<p>5728 rows × 3 columns</p>\n</div>"
     },
     "metadata": {},
     "execution_count": 20
    }
   ],
   "source": [
    "#Groupby member_id \n",
    "\n",
    "df1 = df.groupby([\"membership_number\"]).agg({'invoice_total': 'sum', 'funded_total': 'sum'}).reset_index()\n",
    "\n",
    "#df_invoice_claim['invoice_total'] = df_invoice_claim.groupby(['member_id'])['invoice_total'].transform('sum')\n",
    "\n",
    "df1\n"
   ]
  },
  {
   "cell_type": "code",
   "execution_count": 21,
   "id": "ba7d4282",
   "metadata": {},
   "outputs": [
    {
     "output_type": "execute_result",
     "data": {
      "text/plain": [
       "     membership_number  invoice_total  funded_total  subtraction\n",
       "0            100211377        3131.25       3131.25         0.00\n",
       "1            100348708      105389.55      48738.66     56650.89\n",
       "2            100633545       99779.60      95339.64      4439.96\n",
       "3            100969245      430467.16     386833.71     43633.45\n",
       "4             10121655        1260.94       1260.94         0.00\n",
       "...                ...            ...           ...          ...\n",
       "5723         999135104       13635.22      11058.42      2576.80\n",
       "5724         999445370        4736.14       4635.56       100.58\n",
       "5725         999496234        5210.52       4431.51       779.01\n",
       "5726         999694603       17519.26       9040.34      8478.92\n",
       "5727         999781070      351476.09     328188.72     23287.37\n",
       "\n",
       "[5728 rows x 4 columns]"
      ],
      "text/html": "<div>\n<style scoped>\n    .dataframe tbody tr th:only-of-type {\n        vertical-align: middle;\n    }\n\n    .dataframe tbody tr th {\n        vertical-align: top;\n    }\n\n    .dataframe thead th {\n        text-align: right;\n    }\n</style>\n<table border=\"1\" class=\"dataframe\">\n  <thead>\n    <tr style=\"text-align: right;\">\n      <th></th>\n      <th>membership_number</th>\n      <th>invoice_total</th>\n      <th>funded_total</th>\n      <th>subtraction</th>\n    </tr>\n  </thead>\n  <tbody>\n    <tr>\n      <th>0</th>\n      <td>100211377</td>\n      <td>3131.25</td>\n      <td>3131.25</td>\n      <td>0.00</td>\n    </tr>\n    <tr>\n      <th>1</th>\n      <td>100348708</td>\n      <td>105389.55</td>\n      <td>48738.66</td>\n      <td>56650.89</td>\n    </tr>\n    <tr>\n      <th>2</th>\n      <td>100633545</td>\n      <td>99779.60</td>\n      <td>95339.64</td>\n      <td>4439.96</td>\n    </tr>\n    <tr>\n      <th>3</th>\n      <td>100969245</td>\n      <td>430467.16</td>\n      <td>386833.71</td>\n      <td>43633.45</td>\n    </tr>\n    <tr>\n      <th>4</th>\n      <td>10121655</td>\n      <td>1260.94</td>\n      <td>1260.94</td>\n      <td>0.00</td>\n    </tr>\n    <tr>\n      <th>...</th>\n      <td>...</td>\n      <td>...</td>\n      <td>...</td>\n      <td>...</td>\n    </tr>\n    <tr>\n      <th>5723</th>\n      <td>999135104</td>\n      <td>13635.22</td>\n      <td>11058.42</td>\n      <td>2576.80</td>\n    </tr>\n    <tr>\n      <th>5724</th>\n      <td>999445370</td>\n      <td>4736.14</td>\n      <td>4635.56</td>\n      <td>100.58</td>\n    </tr>\n    <tr>\n      <th>5725</th>\n      <td>999496234</td>\n      <td>5210.52</td>\n      <td>4431.51</td>\n      <td>779.01</td>\n    </tr>\n    <tr>\n      <th>5726</th>\n      <td>999694603</td>\n      <td>17519.26</td>\n      <td>9040.34</td>\n      <td>8478.92</td>\n    </tr>\n    <tr>\n      <th>5727</th>\n      <td>999781070</td>\n      <td>351476.09</td>\n      <td>328188.72</td>\n      <td>23287.37</td>\n    </tr>\n  </tbody>\n</table>\n<p>5728 rows × 4 columns</p>\n</div>"
     },
     "metadata": {},
     "execution_count": 21
    }
   ],
   "source": [
    "#subtract the invoice_total to fudned_total to see how user get reimbursemente - creat subtraction column\n",
    "\n",
    "df1['subtraction'] = df1['invoice_total'] - df1['funded_total']\n",
    "df1"
   ]
  },
  {
   "cell_type": "code",
   "execution_count": 22,
   "id": "14d7c1c6",
   "metadata": {},
   "outputs": [
    {
     "output_type": "stream",
     "name": "stdout",
     "text": [
      "<class 'pandas.core.frame.DataFrame'>\nInt64Index: 5730 entries, 0 to 5729\nData columns (total 15 columns):\n #   Column             Non-Null Count  Dtype  \n---  ------             --------------  -----  \n 0   membership_number  5730 non-null   object \n 1   invoice_total      5730 non-null   float64\n 2   funded_total       5730 non-null   float64\n 3   subtraction        5730 non-null   float64\n 4   member_id          5730 non-null   float64\n 5   status             5730 non-null   object \n 6   price_zone_code    5730 non-null   object \n 7   u_ndis_number      5730 non-null   object \n 8   u_disabilities     5730 non-null   object \n 9   u_gender           5730 non-null   object \n 10  u_date_of_birth    5729 non-null   object \n 11  SA1                5609 non-null   float64\n 12  SA2                5609 non-null   float64\n 13  SA3                5609 non-null   float64\n 14  SA4                5609 non-null   float64\ndtypes: float64(8), object(7)\nmemory usage: 716.2+ KB\n"
     ]
    }
   ],
   "source": [
    "### Merging again\n",
    "df2 = pd.merge(df1, df_user, on=\"membership_number\", how=\"left\")\n",
    "df2.info()\n"
   ]
  },
  {
   "cell_type": "code",
   "execution_count": 23,
   "id": "3b83c661",
   "metadata": {},
   "outputs": [
    {
     "output_type": "execute_result",
     "data": {
      "text/plain": [
       "   membership_number  invoice_total  funded_total  subtraction  member_id  \\\n",
       "0          100211377        3131.25       3131.25         0.00     5793.0   \n",
       "1          100348708      105389.55      48738.66     56650.89     2700.0   \n",
       "2          100633545       99779.60      95339.64      4439.96     5365.0   \n",
       "3          100969245      430467.16     386833.71     43633.45     3267.0   \n",
       "4           10121655        1260.94       1260.94         0.00     5642.0   \n",
       "5          101279515        4810.00       4180.00       630.00     1092.0   \n",
       "6          101391416      107771.99      94603.44     13168.55     1042.0   \n",
       "7          101477884       28537.95      28291.27       246.68     3712.0   \n",
       "8          101503314      103055.72     102695.78       359.94     5497.0   \n",
       "9          101528743    17048064.52    5614195.49  11433869.03     3611.0   \n",
       "10         101676253        1719.85       1719.85         0.00     5800.0   \n",
       "11         101701683       61064.03      43086.19     17977.84     3340.0   \n",
       "12          10172518       46993.99      31832.62     15161.37     1945.0   \n",
       "13         101950915      579249.26     116122.35    463126.91     3570.0   \n",
       "14         101986519         528.48        528.48         0.00     6265.0   \n",
       "15         102011953      215433.65     160957.65     54476.00     3353.0   \n",
       "16         102098420        9466.53       9466.53         0.00     5371.0   \n",
       "17         102261181       52019.55      17483.21     34536.34     3525.0   \n",
       "18         102322219        2723.13       2428.96       294.17     1288.0   \n",
       "19         102408690       21177.45      21177.46        -0.01     5805.0   \n",
       "\n",
       "     status  price_zone_code u_ndis_number           u_disabilities u_gender  \\\n",
       "0   managed  ACT_NSW_QLD_VIC     100211377                              Male   \n",
       "1   managed  ACT_NSW_QLD_VIC     100348708                            Female   \n",
       "2   managed  ACT_NSW_QLD_VIC     100633545                            Female   \n",
       "3   managed  ACT_NSW_QLD_VIC     100969245                            Female   \n",
       "4   managed  ACT_NSW_QLD_VIC      10121655                              Male   \n",
       "5   managed  ACT_NSW_QLD_VIC     101279515                            Female   \n",
       "6   managed  ACT_NSW_QLD_VIC     101391416  Intellectual disability   Female   \n",
       "7   managed     NT_SA_TAS_WA     101477884                 Anxiety      Male   \n",
       "8   managed     NT_SA_TAS_WA     101503314                            Female   \n",
       "9   managed  ACT_NSW_QLD_VIC     101528743                                     \n",
       "10  managed  ACT_NSW_QLD_VIC     101676253                      ASD     Male   \n",
       "11  managed     NT_SA_TAS_WA     101701683                            Female   \n",
       "12  managed  ACT_NSW_QLD_VIC      10172518                                     \n",
       "13  managed  ACT_NSW_QLD_VIC     101950915                                     \n",
       "14  managed  ACT_NSW_QLD_VIC     101986519                              Male   \n",
       "15  managed  ACT_NSW_QLD_VIC     102011953                            Female   \n",
       "16  managed  ACT_NSW_QLD_VIC     102098420                            Female   \n",
       "17  managed  ACT_NSW_QLD_VIC     102261181      Parkinson's disease            \n",
       "18  managed  ACT_NSW_QLD_VIC     102322219                              Male   \n",
       "19  managed  ACT_NSW_QLD_VIC     102408690                            Female   \n",
       "\n",
       "   u_date_of_birth        SA1      SA2      SA3    SA4  \n",
       "0       1966-02-06        NaN      NaN      NaN    NaN  \n",
       "1       1966-02-06        0.0      0.0      0.0    0.0  \n",
       "2       1991-02-06  3125124.0  31251.0  30907.0  309.0  \n",
       "3       1967-02-06  3136525.0  31365.0  31302.0  313.0  \n",
       "4       1981-01-04        0.0      0.0      0.0    0.0  \n",
       "5       1990-02-06        0.0      0.0      0.0    0.0  \n",
       "6       1967-02-06  3124942.0  31249.0  30906.0  309.0  \n",
       "7       1992-02-06        0.0      0.0      0.0    0.0  \n",
       "8       1941-02-06  5104305.0  51043.0  50302.0  503.0  \n",
       "9       1967-02-06        0.0      0.0      0.0    0.0  \n",
       "10      1992-02-07  3144716.0  31447.0  31701.0  317.0  \n",
       "11      2015-02-07  6103127.0  61031.0  60105.0  601.0  \n",
       "12      1981-01-04  2146621.0  21466.0  21305.0  213.0  \n",
       "13      1990-02-07  3117014.0  31170.0  30605.0  306.0  \n",
       "14      1941-02-07        0.0      0.0      0.0    0.0  \n",
       "15      1965-02-07  3101623.0  31016.0  30103.0  301.0  \n",
       "16      2015-02-07        0.0      0.0      0.0    0.0  \n",
       "17      1941-02-07  3141408.0  31414.0  31601.0  316.0  \n",
       "18      1990-02-07  3153415.0  31534.0  30805.0  308.0  \n",
       "19      1941-02-07  3139404.0  31394.0  31403.0  314.0  "
      ],
      "text/html": "<div>\n<style scoped>\n    .dataframe tbody tr th:only-of-type {\n        vertical-align: middle;\n    }\n\n    .dataframe tbody tr th {\n        vertical-align: top;\n    }\n\n    .dataframe thead th {\n        text-align: right;\n    }\n</style>\n<table border=\"1\" class=\"dataframe\">\n  <thead>\n    <tr style=\"text-align: right;\">\n      <th></th>\n      <th>membership_number</th>\n      <th>invoice_total</th>\n      <th>funded_total</th>\n      <th>subtraction</th>\n      <th>member_id</th>\n      <th>status</th>\n      <th>price_zone_code</th>\n      <th>u_ndis_number</th>\n      <th>u_disabilities</th>\n      <th>u_gender</th>\n      <th>u_date_of_birth</th>\n      <th>SA1</th>\n      <th>SA2</th>\n      <th>SA3</th>\n      <th>SA4</th>\n    </tr>\n  </thead>\n  <tbody>\n    <tr>\n      <th>0</th>\n      <td>100211377</td>\n      <td>3131.25</td>\n      <td>3131.25</td>\n      <td>0.00</td>\n      <td>5793.0</td>\n      <td>managed</td>\n      <td>ACT_NSW_QLD_VIC</td>\n      <td>100211377</td>\n      <td></td>\n      <td>Male</td>\n      <td>1966-02-06</td>\n      <td>NaN</td>\n      <td>NaN</td>\n      <td>NaN</td>\n      <td>NaN</td>\n    </tr>\n    <tr>\n      <th>1</th>\n      <td>100348708</td>\n      <td>105389.55</td>\n      <td>48738.66</td>\n      <td>56650.89</td>\n      <td>2700.0</td>\n      <td>managed</td>\n      <td>ACT_NSW_QLD_VIC</td>\n      <td>100348708</td>\n      <td></td>\n      <td>Female</td>\n      <td>1966-02-06</td>\n      <td>0.0</td>\n      <td>0.0</td>\n      <td>0.0</td>\n      <td>0.0</td>\n    </tr>\n    <tr>\n      <th>2</th>\n      <td>100633545</td>\n      <td>99779.60</td>\n      <td>95339.64</td>\n      <td>4439.96</td>\n      <td>5365.0</td>\n      <td>managed</td>\n      <td>ACT_NSW_QLD_VIC</td>\n      <td>100633545</td>\n      <td></td>\n      <td>Female</td>\n      <td>1991-02-06</td>\n      <td>3125124.0</td>\n      <td>31251.0</td>\n      <td>30907.0</td>\n      <td>309.0</td>\n    </tr>\n    <tr>\n      <th>3</th>\n      <td>100969245</td>\n      <td>430467.16</td>\n      <td>386833.71</td>\n      <td>43633.45</td>\n      <td>3267.0</td>\n      <td>managed</td>\n      <td>ACT_NSW_QLD_VIC</td>\n      <td>100969245</td>\n      <td></td>\n      <td>Female</td>\n      <td>1967-02-06</td>\n      <td>3136525.0</td>\n      <td>31365.0</td>\n      <td>31302.0</td>\n      <td>313.0</td>\n    </tr>\n    <tr>\n      <th>4</th>\n      <td>10121655</td>\n      <td>1260.94</td>\n      <td>1260.94</td>\n      <td>0.00</td>\n      <td>5642.0</td>\n      <td>managed</td>\n      <td>ACT_NSW_QLD_VIC</td>\n      <td>10121655</td>\n      <td></td>\n      <td>Male</td>\n      <td>1981-01-04</td>\n      <td>0.0</td>\n      <td>0.0</td>\n      <td>0.0</td>\n      <td>0.0</td>\n    </tr>\n    <tr>\n      <th>5</th>\n      <td>101279515</td>\n      <td>4810.00</td>\n      <td>4180.00</td>\n      <td>630.00</td>\n      <td>1092.0</td>\n      <td>managed</td>\n      <td>ACT_NSW_QLD_VIC</td>\n      <td>101279515</td>\n      <td></td>\n      <td>Female</td>\n      <td>1990-02-06</td>\n      <td>0.0</td>\n      <td>0.0</td>\n      <td>0.0</td>\n      <td>0.0</td>\n    </tr>\n    <tr>\n      <th>6</th>\n      <td>101391416</td>\n      <td>107771.99</td>\n      <td>94603.44</td>\n      <td>13168.55</td>\n      <td>1042.0</td>\n      <td>managed</td>\n      <td>ACT_NSW_QLD_VIC</td>\n      <td>101391416</td>\n      <td>Intellectual disability</td>\n      <td>Female</td>\n      <td>1967-02-06</td>\n      <td>3124942.0</td>\n      <td>31249.0</td>\n      <td>30906.0</td>\n      <td>309.0</td>\n    </tr>\n    <tr>\n      <th>7</th>\n      <td>101477884</td>\n      <td>28537.95</td>\n      <td>28291.27</td>\n      <td>246.68</td>\n      <td>3712.0</td>\n      <td>managed</td>\n      <td>NT_SA_TAS_WA</td>\n      <td>101477884</td>\n      <td>Anxiety</td>\n      <td>Male</td>\n      <td>1992-02-06</td>\n      <td>0.0</td>\n      <td>0.0</td>\n      <td>0.0</td>\n      <td>0.0</td>\n    </tr>\n    <tr>\n      <th>8</th>\n      <td>101503314</td>\n      <td>103055.72</td>\n      <td>102695.78</td>\n      <td>359.94</td>\n      <td>5497.0</td>\n      <td>managed</td>\n      <td>NT_SA_TAS_WA</td>\n      <td>101503314</td>\n      <td></td>\n      <td>Female</td>\n      <td>1941-02-06</td>\n      <td>5104305.0</td>\n      <td>51043.0</td>\n      <td>50302.0</td>\n      <td>503.0</td>\n    </tr>\n    <tr>\n      <th>9</th>\n      <td>101528743</td>\n      <td>17048064.52</td>\n      <td>5614195.49</td>\n      <td>11433869.03</td>\n      <td>3611.0</td>\n      <td>managed</td>\n      <td>ACT_NSW_QLD_VIC</td>\n      <td>101528743</td>\n      <td></td>\n      <td></td>\n      <td>1967-02-06</td>\n      <td>0.0</td>\n      <td>0.0</td>\n      <td>0.0</td>\n      <td>0.0</td>\n    </tr>\n    <tr>\n      <th>10</th>\n      <td>101676253</td>\n      <td>1719.85</td>\n      <td>1719.85</td>\n      <td>0.00</td>\n      <td>5800.0</td>\n      <td>managed</td>\n      <td>ACT_NSW_QLD_VIC</td>\n      <td>101676253</td>\n      <td>ASD</td>\n      <td>Male</td>\n      <td>1992-02-07</td>\n      <td>3144716.0</td>\n      <td>31447.0</td>\n      <td>31701.0</td>\n      <td>317.0</td>\n    </tr>\n    <tr>\n      <th>11</th>\n      <td>101701683</td>\n      <td>61064.03</td>\n      <td>43086.19</td>\n      <td>17977.84</td>\n      <td>3340.0</td>\n      <td>managed</td>\n      <td>NT_SA_TAS_WA</td>\n      <td>101701683</td>\n      <td></td>\n      <td>Female</td>\n      <td>2015-02-07</td>\n      <td>6103127.0</td>\n      <td>61031.0</td>\n      <td>60105.0</td>\n      <td>601.0</td>\n    </tr>\n    <tr>\n      <th>12</th>\n      <td>10172518</td>\n      <td>46993.99</td>\n      <td>31832.62</td>\n      <td>15161.37</td>\n      <td>1945.0</td>\n      <td>managed</td>\n      <td>ACT_NSW_QLD_VIC</td>\n      <td>10172518</td>\n      <td></td>\n      <td></td>\n      <td>1981-01-04</td>\n      <td>2146621.0</td>\n      <td>21466.0</td>\n      <td>21305.0</td>\n      <td>213.0</td>\n    </tr>\n    <tr>\n      <th>13</th>\n      <td>101950915</td>\n      <td>579249.26</td>\n      <td>116122.35</td>\n      <td>463126.91</td>\n      <td>3570.0</td>\n      <td>managed</td>\n      <td>ACT_NSW_QLD_VIC</td>\n      <td>101950915</td>\n      <td></td>\n      <td></td>\n      <td>1990-02-07</td>\n      <td>3117014.0</td>\n      <td>31170.0</td>\n      <td>30605.0</td>\n      <td>306.0</td>\n    </tr>\n    <tr>\n      <th>14</th>\n      <td>101986519</td>\n      <td>528.48</td>\n      <td>528.48</td>\n      <td>0.00</td>\n      <td>6265.0</td>\n      <td>managed</td>\n      <td>ACT_NSW_QLD_VIC</td>\n      <td>101986519</td>\n      <td></td>\n      <td>Male</td>\n      <td>1941-02-07</td>\n      <td>0.0</td>\n      <td>0.0</td>\n      <td>0.0</td>\n      <td>0.0</td>\n    </tr>\n    <tr>\n      <th>15</th>\n      <td>102011953</td>\n      <td>215433.65</td>\n      <td>160957.65</td>\n      <td>54476.00</td>\n      <td>3353.0</td>\n      <td>managed</td>\n      <td>ACT_NSW_QLD_VIC</td>\n      <td>102011953</td>\n      <td></td>\n      <td>Female</td>\n      <td>1965-02-07</td>\n      <td>3101623.0</td>\n      <td>31016.0</td>\n      <td>30103.0</td>\n      <td>301.0</td>\n    </tr>\n    <tr>\n      <th>16</th>\n      <td>102098420</td>\n      <td>9466.53</td>\n      <td>9466.53</td>\n      <td>0.00</td>\n      <td>5371.0</td>\n      <td>managed</td>\n      <td>ACT_NSW_QLD_VIC</td>\n      <td>102098420</td>\n      <td></td>\n      <td>Female</td>\n      <td>2015-02-07</td>\n      <td>0.0</td>\n      <td>0.0</td>\n      <td>0.0</td>\n      <td>0.0</td>\n    </tr>\n    <tr>\n      <th>17</th>\n      <td>102261181</td>\n      <td>52019.55</td>\n      <td>17483.21</td>\n      <td>34536.34</td>\n      <td>3525.0</td>\n      <td>managed</td>\n      <td>ACT_NSW_QLD_VIC</td>\n      <td>102261181</td>\n      <td>Parkinson's disease</td>\n      <td></td>\n      <td>1941-02-07</td>\n      <td>3141408.0</td>\n      <td>31414.0</td>\n      <td>31601.0</td>\n      <td>316.0</td>\n    </tr>\n    <tr>\n      <th>18</th>\n      <td>102322219</td>\n      <td>2723.13</td>\n      <td>2428.96</td>\n      <td>294.17</td>\n      <td>1288.0</td>\n      <td>managed</td>\n      <td>ACT_NSW_QLD_VIC</td>\n      <td>102322219</td>\n      <td></td>\n      <td>Male</td>\n      <td>1990-02-07</td>\n      <td>3153415.0</td>\n      <td>31534.0</td>\n      <td>30805.0</td>\n      <td>308.0</td>\n    </tr>\n    <tr>\n      <th>19</th>\n      <td>102408690</td>\n      <td>21177.45</td>\n      <td>21177.46</td>\n      <td>-0.01</td>\n      <td>5805.0</td>\n      <td>managed</td>\n      <td>ACT_NSW_QLD_VIC</td>\n      <td>102408690</td>\n      <td></td>\n      <td>Female</td>\n      <td>1941-02-07</td>\n      <td>3139404.0</td>\n      <td>31394.0</td>\n      <td>31403.0</td>\n      <td>314.0</td>\n    </tr>\n  </tbody>\n</table>\n</div>"
     },
     "metadata": {},
     "execution_count": 23
    }
   ],
   "source": [
    "df2.head(20)"
   ]
  },
  {
   "cell_type": "code",
   "execution_count": 24,
   "id": "95390c5f",
   "metadata": {},
   "outputs": [
    {
     "output_type": "stream",
     "name": "stdout",
     "text": [
      "<class 'pandas.core.frame.DataFrame'>\nInt64Index: 5730 entries, 0 to 5729\nData columns (total 8 columns):\n #   Column             Non-Null Count  Dtype  \n---  ------             --------------  -----  \n 0   subtraction        5730 non-null   float64\n 1   u_gender           5730 non-null   object \n 2   membership_number  5730 non-null   object \n 3   status             5730 non-null   object \n 4   price_zone_code    5730 non-null   object \n 5   u_disabilities     5730 non-null   object \n 6   funded_total       5730 non-null   float64\n 7   invoice_total      5730 non-null   float64\ndtypes: float64(3), object(5)\nmemory usage: 402.9+ KB\n"
     ]
    }
   ],
   "source": [
    "#Select interested columns\n",
    "cols_of_interest = {'membership_number', 'invoice_total', 'funded_total', 'subtraction', 'status', 'price_zone_code', \n",
    "                   'u_disabilities', 'u_gender'}\n",
    "df2 = df2[cols_of_interest]\n",
    "df2.info()"
   ]
  },
  {
   "cell_type": "code",
   "execution_count": 25,
   "id": "ec3bd83a",
   "metadata": {},
   "outputs": [
    {
     "output_type": "execute_result",
     "data": {
      "text/plain": [
       "   membership_number  invoice_total  funded_total  subtraction  \\\n",
       "0          100211377        3131.25       3131.25         0.00   \n",
       "1          100348708      105389.55      48738.66     56650.89   \n",
       "2          100633545       99779.60      95339.64      4439.96   \n",
       "3          100969245      430467.16     386833.71     43633.45   \n",
       "4           10121655        1260.94       1260.94         0.00   \n",
       "5          101279515        4810.00       4180.00       630.00   \n",
       "6          101391416      107771.99      94603.44     13168.55   \n",
       "7          101477884       28537.95      28291.27       246.68   \n",
       "8          101503314      103055.72     102695.78       359.94   \n",
       "9          101528743    17048064.52    5614195.49  11433869.03   \n",
       "10         101676253        1719.85       1719.85         0.00   \n",
       "11         101701683       61064.03      43086.19     17977.84   \n",
       "12          10172518       46993.99      31832.62     15161.37   \n",
       "13         101950915      579249.26     116122.35    463126.91   \n",
       "14         101986519         528.48        528.48         0.00   \n",
       "15         102011953      215433.65     160957.65     54476.00   \n",
       "16         102098420        9466.53       9466.53         0.00   \n",
       "17         102261181       52019.55      17483.21     34536.34   \n",
       "18         102322219        2723.13       2428.96       294.17   \n",
       "19         102408690       21177.45      21177.46        -0.01   \n",
       "\n",
       "             u_disabilities u_gender  price_zone_code   status  \n",
       "0                               Male  ACT_NSW_QLD_VIC  managed  \n",
       "1                             Female  ACT_NSW_QLD_VIC  managed  \n",
       "2                             Female  ACT_NSW_QLD_VIC  managed  \n",
       "3                             Female  ACT_NSW_QLD_VIC  managed  \n",
       "4                               Male  ACT_NSW_QLD_VIC  managed  \n",
       "5                             Female  ACT_NSW_QLD_VIC  managed  \n",
       "6   Intellectual disability   Female  ACT_NSW_QLD_VIC  managed  \n",
       "7                  Anxiety      Male     NT_SA_TAS_WA  managed  \n",
       "8                             Female     NT_SA_TAS_WA  managed  \n",
       "9                                     ACT_NSW_QLD_VIC  managed  \n",
       "10                      ASD     Male  ACT_NSW_QLD_VIC  managed  \n",
       "11                            Female     NT_SA_TAS_WA  managed  \n",
       "12                                    ACT_NSW_QLD_VIC  managed  \n",
       "13                                    ACT_NSW_QLD_VIC  managed  \n",
       "14                              Male  ACT_NSW_QLD_VIC  managed  \n",
       "15                            Female  ACT_NSW_QLD_VIC  managed  \n",
       "16                            Female  ACT_NSW_QLD_VIC  managed  \n",
       "17      Parkinson's disease           ACT_NSW_QLD_VIC  managed  \n",
       "18                              Male  ACT_NSW_QLD_VIC  managed  \n",
       "19                            Female  ACT_NSW_QLD_VIC  managed  "
      ],
      "text/html": "<div>\n<style scoped>\n    .dataframe tbody tr th:only-of-type {\n        vertical-align: middle;\n    }\n\n    .dataframe tbody tr th {\n        vertical-align: top;\n    }\n\n    .dataframe thead th {\n        text-align: right;\n    }\n</style>\n<table border=\"1\" class=\"dataframe\">\n  <thead>\n    <tr style=\"text-align: right;\">\n      <th></th>\n      <th>membership_number</th>\n      <th>invoice_total</th>\n      <th>funded_total</th>\n      <th>subtraction</th>\n      <th>u_disabilities</th>\n      <th>u_gender</th>\n      <th>price_zone_code</th>\n      <th>status</th>\n    </tr>\n  </thead>\n  <tbody>\n    <tr>\n      <th>0</th>\n      <td>100211377</td>\n      <td>3131.25</td>\n      <td>3131.25</td>\n      <td>0.00</td>\n      <td></td>\n      <td>Male</td>\n      <td>ACT_NSW_QLD_VIC</td>\n      <td>managed</td>\n    </tr>\n    <tr>\n      <th>1</th>\n      <td>100348708</td>\n      <td>105389.55</td>\n      <td>48738.66</td>\n      <td>56650.89</td>\n      <td></td>\n      <td>Female</td>\n      <td>ACT_NSW_QLD_VIC</td>\n      <td>managed</td>\n    </tr>\n    <tr>\n      <th>2</th>\n      <td>100633545</td>\n      <td>99779.60</td>\n      <td>95339.64</td>\n      <td>4439.96</td>\n      <td></td>\n      <td>Female</td>\n      <td>ACT_NSW_QLD_VIC</td>\n      <td>managed</td>\n    </tr>\n    <tr>\n      <th>3</th>\n      <td>100969245</td>\n      <td>430467.16</td>\n      <td>386833.71</td>\n      <td>43633.45</td>\n      <td></td>\n      <td>Female</td>\n      <td>ACT_NSW_QLD_VIC</td>\n      <td>managed</td>\n    </tr>\n    <tr>\n      <th>4</th>\n      <td>10121655</td>\n      <td>1260.94</td>\n      <td>1260.94</td>\n      <td>0.00</td>\n      <td></td>\n      <td>Male</td>\n      <td>ACT_NSW_QLD_VIC</td>\n      <td>managed</td>\n    </tr>\n    <tr>\n      <th>5</th>\n      <td>101279515</td>\n      <td>4810.00</td>\n      <td>4180.00</td>\n      <td>630.00</td>\n      <td></td>\n      <td>Female</td>\n      <td>ACT_NSW_QLD_VIC</td>\n      <td>managed</td>\n    </tr>\n    <tr>\n      <th>6</th>\n      <td>101391416</td>\n      <td>107771.99</td>\n      <td>94603.44</td>\n      <td>13168.55</td>\n      <td>Intellectual disability</td>\n      <td>Female</td>\n      <td>ACT_NSW_QLD_VIC</td>\n      <td>managed</td>\n    </tr>\n    <tr>\n      <th>7</th>\n      <td>101477884</td>\n      <td>28537.95</td>\n      <td>28291.27</td>\n      <td>246.68</td>\n      <td>Anxiety</td>\n      <td>Male</td>\n      <td>NT_SA_TAS_WA</td>\n      <td>managed</td>\n    </tr>\n    <tr>\n      <th>8</th>\n      <td>101503314</td>\n      <td>103055.72</td>\n      <td>102695.78</td>\n      <td>359.94</td>\n      <td></td>\n      <td>Female</td>\n      <td>NT_SA_TAS_WA</td>\n      <td>managed</td>\n    </tr>\n    <tr>\n      <th>9</th>\n      <td>101528743</td>\n      <td>17048064.52</td>\n      <td>5614195.49</td>\n      <td>11433869.03</td>\n      <td></td>\n      <td></td>\n      <td>ACT_NSW_QLD_VIC</td>\n      <td>managed</td>\n    </tr>\n    <tr>\n      <th>10</th>\n      <td>101676253</td>\n      <td>1719.85</td>\n      <td>1719.85</td>\n      <td>0.00</td>\n      <td>ASD</td>\n      <td>Male</td>\n      <td>ACT_NSW_QLD_VIC</td>\n      <td>managed</td>\n    </tr>\n    <tr>\n      <th>11</th>\n      <td>101701683</td>\n      <td>61064.03</td>\n      <td>43086.19</td>\n      <td>17977.84</td>\n      <td></td>\n      <td>Female</td>\n      <td>NT_SA_TAS_WA</td>\n      <td>managed</td>\n    </tr>\n    <tr>\n      <th>12</th>\n      <td>10172518</td>\n      <td>46993.99</td>\n      <td>31832.62</td>\n      <td>15161.37</td>\n      <td></td>\n      <td></td>\n      <td>ACT_NSW_QLD_VIC</td>\n      <td>managed</td>\n    </tr>\n    <tr>\n      <th>13</th>\n      <td>101950915</td>\n      <td>579249.26</td>\n      <td>116122.35</td>\n      <td>463126.91</td>\n      <td></td>\n      <td></td>\n      <td>ACT_NSW_QLD_VIC</td>\n      <td>managed</td>\n    </tr>\n    <tr>\n      <th>14</th>\n      <td>101986519</td>\n      <td>528.48</td>\n      <td>528.48</td>\n      <td>0.00</td>\n      <td></td>\n      <td>Male</td>\n      <td>ACT_NSW_QLD_VIC</td>\n      <td>managed</td>\n    </tr>\n    <tr>\n      <th>15</th>\n      <td>102011953</td>\n      <td>215433.65</td>\n      <td>160957.65</td>\n      <td>54476.00</td>\n      <td></td>\n      <td>Female</td>\n      <td>ACT_NSW_QLD_VIC</td>\n      <td>managed</td>\n    </tr>\n    <tr>\n      <th>16</th>\n      <td>102098420</td>\n      <td>9466.53</td>\n      <td>9466.53</td>\n      <td>0.00</td>\n      <td></td>\n      <td>Female</td>\n      <td>ACT_NSW_QLD_VIC</td>\n      <td>managed</td>\n    </tr>\n    <tr>\n      <th>17</th>\n      <td>102261181</td>\n      <td>52019.55</td>\n      <td>17483.21</td>\n      <td>34536.34</td>\n      <td>Parkinson's disease</td>\n      <td></td>\n      <td>ACT_NSW_QLD_VIC</td>\n      <td>managed</td>\n    </tr>\n    <tr>\n      <th>18</th>\n      <td>102322219</td>\n      <td>2723.13</td>\n      <td>2428.96</td>\n      <td>294.17</td>\n      <td></td>\n      <td>Male</td>\n      <td>ACT_NSW_QLD_VIC</td>\n      <td>managed</td>\n    </tr>\n    <tr>\n      <th>19</th>\n      <td>102408690</td>\n      <td>21177.45</td>\n      <td>21177.46</td>\n      <td>-0.01</td>\n      <td></td>\n      <td>Female</td>\n      <td>ACT_NSW_QLD_VIC</td>\n      <td>managed</td>\n    </tr>\n  </tbody>\n</table>\n</div>"
     },
     "metadata": {},
     "execution_count": 25
    }
   ],
   "source": [
    "#Re-arrange that mess\n",
    "\n",
    "df2 = df2[['membership_number', 'invoice_total', 'funded_total', 'subtraction',   \n",
    "                   'u_disabilities', 'u_gender','price_zone_code','status']]\n",
    "\n",
    "df2.head(20)"
   ]
  },
  {
   "cell_type": "code",
   "execution_count": 26,
   "id": "3b9f3511",
   "metadata": {},
   "outputs": [
    {
     "output_type": "execute_result",
     "data": {
      "text/plain": [
       "                                                                                      4493\n",
       "Intellectual disability                                                                 93\n",
       "ADHD                                                                                    59\n",
       "Down syndrome                                                                           40\n",
       "Cerebral palsy                                                                          39\n",
       "                                                                                      ... \n",
       "Mental health, Intellectual impairment                                                   1\n",
       "Asperger syndrome, chronic inflammatory demyelinating polyn                              1\n",
       "Attention deficit hyperactivity disorder, Anxiety , Oppositional defiance disorder       1\n",
       "Acquired Brain Injury, Stroke (cerebellar)                                               1\n",
       "Visual, hearing and cognitive impairment                                                 1\n",
       "Name: u_disabilities, Length: 569, dtype: int64"
      ]
     },
     "metadata": {},
     "execution_count": 26
    }
   ],
   "source": [
    "#Checking u_dis\n",
    "\n",
    "df2['u_disabilities'].value_counts()"
   ]
  },
  {
   "cell_type": "code",
   "execution_count": 27,
   "id": "b3c5da95",
   "metadata": {},
   "outputs": [
    {
     "output_type": "execute_result",
     "data": {
      "text/plain": [
       "others                                                                                4493\n",
       "Intellectual disability                                                                 93\n",
       "ADHD                                                                                    59\n",
       "Down syndrome                                                                           40\n",
       "Cerebral palsy                                                                          39\n",
       "                                                                                      ... \n",
       "Mental health, Intellectual impairment                                                   1\n",
       "Asperger syndrome, chronic inflammatory demyelinating polyn                              1\n",
       "Attention deficit hyperactivity disorder, Anxiety , Oppositional defiance disorder       1\n",
       "Acquired Brain Injury, Stroke (cerebellar)                                               1\n",
       "Visual, hearing and cognitive impairment                                                 1\n",
       "Name: u_disabilities, Length: 569, dtype: int64"
      ]
     },
     "metadata": {},
     "execution_count": 27
    }
   ],
   "source": [
    "#df2['u_disabilities'].mask(df2['u_disabilities'] == ' ', \"others\", inplace = False)\n",
    "df2['u_disabilities'] = df2['u_disabilities'].replace([''],'others')\n",
    "\n",
    "df2['u_disabilities'].value_counts()"
   ]
  },
  {
   "cell_type": "code",
   "execution_count": 28,
   "id": "3edddd5e",
   "metadata": {},
   "outputs": [
    {
     "output_type": "stream",
     "name": "stdout",
     "text": [
      "<class 'pandas.core.frame.DataFrame'>\nInt64Index: 5730 entries, 0 to 5729\nData columns (total 8 columns):\n #   Column             Non-Null Count  Dtype  \n---  ------             --------------  -----  \n 0   membership_number  5730 non-null   object \n 1   invoice_total      5730 non-null   float64\n 2   funded_total       5730 non-null   float64\n 3   subtraction        5730 non-null   float64\n 4   u_disabilities     5730 non-null   object \n 5   u_gender           5730 non-null   object \n 6   price_zone_code    5730 non-null   object \n 7   status             5730 non-null   object \ndtypes: float64(3), object(5)\nmemory usage: 402.9+ KB\n"
     ]
    }
   ],
   "source": [
    "df2.info()"
   ]
  },
  {
   "cell_type": "code",
   "execution_count": 29,
   "id": "5a3af1d7",
   "metadata": {
    "scrolled": true
   },
   "outputs": [
    {
     "output_type": "execute_result",
     "data": {
      "text/plain": [
       "     membership_number  invoice_total  funded_total  subtraction  \\\n",
       "1            100348708      105389.55      48738.66     56650.89   \n",
       "3            100969245      430467.16     386833.71     43633.45   \n",
       "6            101391416      107771.99      94603.44     13168.55   \n",
       "9            101528743    17048064.52    5614195.49  11433869.03   \n",
       "11           101701683       61064.03      43086.19     17977.84   \n",
       "...                ...            ...           ...          ...   \n",
       "5709          99728172      808981.78     471210.21    337771.57   \n",
       "5718         998565427       20985.75       8374.39     12611.36   \n",
       "5720         998763796       51599.64      32850.29     18749.35   \n",
       "5723         998987595       26453.97      13622.03     12831.94   \n",
       "5729         999781070      351476.09     328188.72     23287.37   \n",
       "\n",
       "               u_disabilities u_gender  price_zone_code   status  \n",
       "1                      others   Female  ACT_NSW_QLD_VIC  managed  \n",
       "3                      others   Female  ACT_NSW_QLD_VIC  managed  \n",
       "6     Intellectual disability   Female  ACT_NSW_QLD_VIC  managed  \n",
       "9                      others           ACT_NSW_QLD_VIC  managed  \n",
       "11                     others   Female     NT_SA_TAS_WA  managed  \n",
       "...                       ...      ...              ...      ...  \n",
       "5709                   others     Male  ACT_NSW_QLD_VIC  managed  \n",
       "5718                   others           ACT_NSW_QLD_VIC  managed  \n",
       "5720                   others           ACT_NSW_QLD_VIC  managed  \n",
       "5723                    ADHD,     Male     NT_SA_TAS_WA  managed  \n",
       "5729                   others   Female  ACT_NSW_QLD_VIC  managed  \n",
       "\n",
       "[2055 rows x 8 columns]"
      ],
      "text/html": "<div>\n<style scoped>\n    .dataframe tbody tr th:only-of-type {\n        vertical-align: middle;\n    }\n\n    .dataframe tbody tr th {\n        vertical-align: top;\n    }\n\n    .dataframe thead th {\n        text-align: right;\n    }\n</style>\n<table border=\"1\" class=\"dataframe\">\n  <thead>\n    <tr style=\"text-align: right;\">\n      <th></th>\n      <th>membership_number</th>\n      <th>invoice_total</th>\n      <th>funded_total</th>\n      <th>subtraction</th>\n      <th>u_disabilities</th>\n      <th>u_gender</th>\n      <th>price_zone_code</th>\n      <th>status</th>\n    </tr>\n  </thead>\n  <tbody>\n    <tr>\n      <th>1</th>\n      <td>100348708</td>\n      <td>105389.55</td>\n      <td>48738.66</td>\n      <td>56650.89</td>\n      <td>others</td>\n      <td>Female</td>\n      <td>ACT_NSW_QLD_VIC</td>\n      <td>managed</td>\n    </tr>\n    <tr>\n      <th>3</th>\n      <td>100969245</td>\n      <td>430467.16</td>\n      <td>386833.71</td>\n      <td>43633.45</td>\n      <td>others</td>\n      <td>Female</td>\n      <td>ACT_NSW_QLD_VIC</td>\n      <td>managed</td>\n    </tr>\n    <tr>\n      <th>6</th>\n      <td>101391416</td>\n      <td>107771.99</td>\n      <td>94603.44</td>\n      <td>13168.55</td>\n      <td>Intellectual disability</td>\n      <td>Female</td>\n      <td>ACT_NSW_QLD_VIC</td>\n      <td>managed</td>\n    </tr>\n    <tr>\n      <th>9</th>\n      <td>101528743</td>\n      <td>17048064.52</td>\n      <td>5614195.49</td>\n      <td>11433869.03</td>\n      <td>others</td>\n      <td></td>\n      <td>ACT_NSW_QLD_VIC</td>\n      <td>managed</td>\n    </tr>\n    <tr>\n      <th>11</th>\n      <td>101701683</td>\n      <td>61064.03</td>\n      <td>43086.19</td>\n      <td>17977.84</td>\n      <td>others</td>\n      <td>Female</td>\n      <td>NT_SA_TAS_WA</td>\n      <td>managed</td>\n    </tr>\n    <tr>\n      <th>...</th>\n      <td>...</td>\n      <td>...</td>\n      <td>...</td>\n      <td>...</td>\n      <td>...</td>\n      <td>...</td>\n      <td>...</td>\n      <td>...</td>\n    </tr>\n    <tr>\n      <th>5709</th>\n      <td>99728172</td>\n      <td>808981.78</td>\n      <td>471210.21</td>\n      <td>337771.57</td>\n      <td>others</td>\n      <td>Male</td>\n      <td>ACT_NSW_QLD_VIC</td>\n      <td>managed</td>\n    </tr>\n    <tr>\n      <th>5718</th>\n      <td>998565427</td>\n      <td>20985.75</td>\n      <td>8374.39</td>\n      <td>12611.36</td>\n      <td>others</td>\n      <td></td>\n      <td>ACT_NSW_QLD_VIC</td>\n      <td>managed</td>\n    </tr>\n    <tr>\n      <th>5720</th>\n      <td>998763796</td>\n      <td>51599.64</td>\n      <td>32850.29</td>\n      <td>18749.35</td>\n      <td>others</td>\n      <td></td>\n      <td>ACT_NSW_QLD_VIC</td>\n      <td>managed</td>\n    </tr>\n    <tr>\n      <th>5723</th>\n      <td>998987595</td>\n      <td>26453.97</td>\n      <td>13622.03</td>\n      <td>12831.94</td>\n      <td>ADHD,</td>\n      <td>Male</td>\n      <td>NT_SA_TAS_WA</td>\n      <td>managed</td>\n    </tr>\n    <tr>\n      <th>5729</th>\n      <td>999781070</td>\n      <td>351476.09</td>\n      <td>328188.72</td>\n      <td>23287.37</td>\n      <td>others</td>\n      <td>Female</td>\n      <td>ACT_NSW_QLD_VIC</td>\n      <td>managed</td>\n    </tr>\n  </tbody>\n</table>\n<p>2055 rows × 8 columns</p>\n</div>"
     },
     "metadata": {},
     "execution_count": 29
    }
   ],
   "source": [
    "sub_0 = df2[df2['subtraction']> 1000]\n",
    "#sub_0\n",
    "\n",
    "sub_1 = df2[df2['subtraction']> 10000]\n",
    "sub_1\n",
    "\n",
    "#Set value for rows matching condition\n",
    "\n",
    "#df2[['subtraction'] > 1000] == 'High'\n",
    "#df2\n"
   ]
  },
  {
   "cell_type": "code",
   "execution_count": 67,
   "metadata": {},
   "outputs": [
    {
     "output_type": "stream",
     "name": "stdout",
     "text": [
      "<class 'pandas.core.frame.DataFrame'>\nInt64Index: 5730 entries, 0 to 5729\nData columns (total 12 columns):\n #   Column             Non-Null Count  Dtype  \n---  ------             --------------  -----  \n 0   membership_number  5730 non-null   object \n 1   invoice_total      5730 non-null   float64\n 2   funded_total       5730 non-null   float64\n 3   subtraction        5730 non-null   float64\n 4   u_disabilities     5730 non-null   object \n 5   u_gender           5730 non-null   object \n 6   price_zone_code    5730 non-null   object \n 7   status             5730 non-null   object \n 8   SA4                3521 non-null   float64\n 9   SA4_NAME           3521 non-null   object \n 10  GCCSA_NAME         3521 non-null   object \n 11  STATE_NAME         3521 non-null   object \ndtypes: float64(4), object(8)\nmemory usage: 582.0+ KB\n"
     ]
    },
    {
     "output_type": "execute_result",
     "data": {
      "text/plain": [
       "311.0    429\n",
       "313.0    322\n",
       "309.0    273\n",
       "310.0    215\n",
       "314.0    209\n",
       "        ... \n",
       "501.0      1\n",
       "502.0      1\n",
       "201.0      1\n",
       "315.0      1\n",
       "406.0      1\n",
       "Name: SA4, Length: 88, dtype: int64"
      ]
     },
     "metadata": {},
     "execution_count": 67
    }
   ],
   "source": [
    "# Modifications to D2\n",
    "# To-Do\n",
    "# ANTON\t\t: ask about invoice total values, because some are just ridiculous\n",
    "cleaned_df2 = df2\n",
    "\n",
    "# gender\t\t: Add \"other\" for blank or null values --> Male/Female/Other\n",
    "cleaned_df2[\"u_gender\"] = df2[\"u_gender\"].replace([\"\"],\"others\")\n",
    "cleaned_df2[\"u_gender\"] = df2[\"u_gender\"].replace([\"Other\"], \"others\")\n",
    "cleaned_df2[\"u_gender\"].value_counts()\n",
    "\n",
    "# status\t\t: drop\n",
    "cleaned_df2 = cleaned_df2.drop(columns=[\"status\"])\n",
    "\n",
    "# price_code\t: drop, replace with SA4 and its information\n",
    "cleaned_df2 = cleaned_df2.drop(columns=[\"price_zone_code\"])\n",
    "df_user_min = df_user[[\"membership_number\", \"SA4\"]]\n",
    "# Remove rows with blank SA1 - SA4 values\n",
    "blankIndices = df_user_min[df_user_min[\"SA4\"] == 0.0].index\n",
    "df_user_min = df_user_min.drop(axis=0, labels=blankIndices)\n",
    "# Drop rows with null SA1-4 values \n",
    "df_user_min = df_user_min.dropna()\n",
    "# Drop rows with duplicate membership_number values \n",
    "df_user_min = df_user_min.drop_duplicates()\n",
    "# Obtain geographical locations using SA4\n",
    "df_sa4 = pd.read_csv(\"./TableDump/SA4_2016.csv\")\n",
    "# Extract relevant columns\n",
    "df_sa4 = df_sa4[[\"SA4_CODE_2016\", \"SA4_NAME_2016\", \"GCCSA_NAME_2016\", \"STATE_NAME_2016\"]]\n",
    "# Rename columns to match df2\n",
    "name_mapping = {\n",
    "    \"SA4_CODE_2016\": \"SA4\",\n",
    "    \"SA4_NAME_2016\": \"SA4_NAME\",\n",
    "    \"GCCSA_NAME_2016\": \"GCCSA_NAME\",\n",
    "    \"STATE_NAME_2016\": \"STATE_NAME\"\n",
    "}\n",
    "df_sa4 = df_sa4.rename(columns=name_mapping)\n",
    "# Merge SA4 information with the user DF\n",
    "df_user_min = pd.merge(df_user_min, df_sa4, on=\"SA4\", how=\"left\")\n",
    "# Merge the final user info with DF2\n",
    "cleaned_df2 = pd.merge(df2, df_user_min, on=\"membership_number\", how=\"left\")\n",
    "# Display Summary information for df2_merged\n",
    "# TODO: HANDLE NAN VALUES, AS SOME MEMBERSHIP NUMBERS HAVE NO CORRESPONDING GEOGRAPHICAL INFORMATION. OTHERWISE, DATAFRAME cleaned_df2 is clean\n",
    "cleaned_df2.info()\n",
    "# cleaned_df2.head(100)\n",
    "# cleaned_df2[\"SA4\"].value_counts()\n",
    "\n",
    "# days_funded\t: funded_date - start_date from , to get the duration of reimbursement\n",
    "\n",
    "\n",
    "# disability\t: simplify into \"Intellectual disabilities\" and \"others\"\n",
    "\n",
    "# 1/ Reload data in 1 year duration\n",
    "\n",
    "# 2/ Remap categories for subtraction, duration of reimbursement\n",
    "\n",
    "# 3/ Remap the invoice total to underspending, over and approriate\n",
    "\n"
   ]
  },
  {
   "cell_type": "markdown",
   "id": "a7d7fefb",
   "metadata": {},
   "source": [
    "### Checking Claims_id and Providers link - making dataframe"
   ]
  },
  {
   "cell_type": "code",
   "execution_count": 32,
   "id": "2b687a27",
   "metadata": {},
   "outputs": [
    {
     "output_type": "execute_result",
     "data": {
      "text/plain": [
       "'\\n### All Claim details (took 2 minutes to execute)\\n\\ndf_all_claims = pd.read_sql(\"select c.id as claim_id, invoice_id as invoiceId, c.item_category_level3_id from HH_claim c\", con=conn)\\n\\n#print(df_all_claims.info())\\n#print(df_all_claims)\\n### All item_categories details. Took few seconds for execution.\\n\\n##  \\ndf_all_ndis_service_cat = pd.read_sql(\"select item_category_level3_id, ndis.registration_group from hedgehog_ndis_service_item_ref ndis\", con=conn)\\n#print(df_all_ndis_service_cat.info())\\n#print(df_all_ndis_service_cat)\\n\\n##Combine df_all_claims and df_all_ndis_service_cat\\ndf_claimsWithProvider_details = pd.merge(df_all_claims, df_all_ndis_service_cat, on=\"item_category_level3_id\", how= \\'inner\\')\\ndf_claimsWithProvider_details= df_claimsWithProvider_details.drop(columns=[\\'item_category_level3_id\\'])\\n#df_claimsWithProvider_details = pd.read_sql(\"select c.id, c.invoice_id as invoiceId, n.registration_group from HH_claim c left join hedgehog_ndis_service_item_ref n on c.item_category_level3_id = n.item_category_level3_id;\", con=conn)\\n#print(df_claimsWithProvider_details.info())\\n#print(df_claimsWithProvider_details)\\n\\n### Provider Services details (Provider account linked to invoice and HH_provider) took 1 minute to execute\\n##  \\ndf_providersWithInvoice_details = pd.read_sql(\"select i.id as invoiceId, i.provider_account_id, (select p.abn from HH_provider p where pa.provider_id= p.id) as provider_abn from HH_invoice i left join HH_provider_account pa on i.provider_account_id = pa.id;\", con=conn)\\n#print(df_providersWithInvoice_details.info())\\n#print(df_providersWithInvoice_details)\\n\\n##Combine df_claim_providers_details and df_providersWithInvoice_details\\ndf_claims_provider_details= pd.merge(df_claimsWithProvider_details, df_providersWithInvoice_details, on=\"invoiceId\", how=\"left\")\\n\\n##################################################\\n\\n#Final claim and Provider df\\nprint(df_claims_provider_details.info())\\nprint(df_claims_provider_details)\\n\\n'"
      ]
     },
     "metadata": {},
     "execution_count": 32
    }
   ],
   "source": [
    "'''\n",
    "### All Claim details (took 2 minutes to execute)\n",
    "\n",
    "df_all_claims = pd.read_sql(\"select c.id as claim_id, invoice_id as invoiceId, c.item_category_level3_id from HH_claim c\", con=conn)\n",
    "\n",
    "#print(df_all_claims.info())\n",
    "#print(df_all_claims)\n",
    "### All item_categories details. Took few seconds for execution.\n",
    "\n",
    "##  \n",
    "df_all_ndis_service_cat = pd.read_sql(\"select item_category_level3_id, ndis.registration_group from hedgehog_ndis_service_item_ref ndis\", con=conn)\n",
    "#print(df_all_ndis_service_cat.info())\n",
    "#print(df_all_ndis_service_cat)\n",
    "\n",
    "##Combine df_all_claims and df_all_ndis_service_cat\n",
    "df_claimsWithProvider_details = pd.merge(df_all_claims, df_all_ndis_service_cat, on=\"item_category_level3_id\", how= 'inner')\n",
    "df_claimsWithProvider_details= df_claimsWithProvider_details.drop(columns=['item_category_level3_id'])\n",
    "#df_claimsWithProvider_details = pd.read_sql(\"select c.id, c.invoice_id as invoiceId, n.registration_group from HH_claim c left join hedgehog_ndis_service_item_ref n on c.item_category_level3_id = n.item_category_level3_id;\", con=conn)\n",
    "#print(df_claimsWithProvider_details.info())\n",
    "#print(df_claimsWithProvider_details)\n",
    "\n",
    "### Provider Services details (Provider account linked to invoice and HH_provider) took 1 minute to execute\n",
    "##  \n",
    "df_providersWithInvoice_details = pd.read_sql(\"select i.id as invoiceId, i.provider_account_id, (select p.abn from HH_provider p where pa.provider_id= p.id) as provider_abn from HH_invoice i left join HH_provider_account pa on i.provider_account_id = pa.id;\", con=conn)\n",
    "#print(df_providersWithInvoice_details.info())\n",
    "#print(df_providersWithInvoice_details)\n",
    "\n",
    "##Combine df_claim_providers_details and df_providersWithInvoice_details\n",
    "df_claims_provider_details= pd.merge(df_claimsWithProvider_details, df_providersWithInvoice_details, on=\"invoiceId\", how=\"left\")\n",
    "\n",
    "##################################################\n",
    "\n",
    "#Final claim and Provider df\n",
    "print(df_claims_provider_details.info())\n",
    "print(df_claims_provider_details)\n",
    "\n",
    "'''"
   ]
  }
 ],
 "metadata": {
  "kernelspec": {
   "name": "python394jvsc74a57bd004599353301972a4177495fb87ba9328f666fdd8bb33e7641e5bb86b309132ff",
   "display_name": "Python 3.9.4 64-bit"
  },
  "language_info": {
   "codemirror_mode": {
    "name": "ipython",
    "version": 3
   },
   "file_extension": ".py",
   "mimetype": "text/x-python",
   "name": "python",
   "nbconvert_exporter": "python",
   "pygments_lexer": "ipython3",
   "version": "3.9.4"
  },
  "metadata": {
   "interpreter": {
    "hash": "04599353301972a4177495fb87ba9328f666fdd8bb33e7641e5bb86b309132ff"
   }
  }
 },
 "nbformat": 4,
 "nbformat_minor": 5
}