{
 "cells": [
  {
   "cell_type": "code",
   "execution_count": 99,
   "metadata": {},
   "outputs": [
    {
     "output_type": "stream",
     "name": "stdout",
     "text": [
      "Requirement already satisfied: pymysql in c:\\users\\ihand\\appdata\\local\\programs\\python\\python39\\lib\\site-packages (1.0.2)\n",
      "Requirement already satisfied: apyori in c:\\users\\ihand\\appdata\\local\\programs\\python\\python39\\lib\\site-packages (1.1.2)\n",
      "Requirement already satisfied: pandas in c:\\users\\ihand\\appdata\\local\\programs\\python\\python39\\lib\\site-packages (1.2.4)\n",
      "Requirement already satisfied: numpy>=1.16.5 in c:\\users\\ihand\\appdata\\local\\programs\\python\\python39\\lib\\site-packages (from pandas) (1.20.2)\n",
      "Requirement already satisfied: python-dateutil>=2.7.3 in c:\\users\\ihand\\appdata\\local\\programs\\python\\python39\\lib\\site-packages (from pandas) (2.8.1)\n",
      "Requirement already satisfied: pytz>=2017.3 in c:\\users\\ihand\\appdata\\local\\programs\\python\\python39\\lib\\site-packages (from pandas) (2021.1)\n",
      "Requirement already satisfied: six>=1.5 in c:\\users\\ihand\\appdata\\local\\programs\\python\\python39\\lib\\site-packages (from python-dateutil>=2.7.3->pandas) (1.15.0)\n",
      "Requirement already satisfied: matplotlib in c:\\users\\ihand\\appdata\\local\\programs\\python\\python39\\lib\\site-packages (3.4.1)\n",
      "Requirement already satisfied: cycler>=0.10 in c:\\users\\ihand\\appdata\\local\\programs\\python\\python39\\lib\\site-packages (from matplotlib) (0.10.0)\n",
      "Requirement already satisfied: numpy>=1.16 in c:\\users\\ihand\\appdata\\local\\programs\\python\\python39\\lib\\site-packages (from matplotlib) (1.20.2)\n",
      "Requirement already satisfied: pyparsing>=2.2.1 in c:\\users\\ihand\\appdata\\local\\programs\\python\\python39\\lib\\site-packages (from matplotlib) (2.4.7)\n",
      "Requirement already satisfied: kiwisolver>=1.0.1 in c:\\users\\ihand\\appdata\\local\\programs\\python\\python39\\lib\\site-packages (from matplotlib) (1.3.1)\n",
      "Requirement already satisfied: python-dateutil>=2.7 in c:\\users\\ihand\\appdata\\local\\programs\\python\\python39\\lib\\site-packages (from matplotlib) (2.8.1)\n",
      "Requirement already satisfied: pillow>=6.2.0 in c:\\users\\ihand\\appdata\\local\\programs\\python\\python39\\lib\\site-packages (from matplotlib) (8.2.0)\n",
      "Requirement already satisfied: six in c:\\users\\ihand\\appdata\\local\\programs\\python\\python39\\lib\\site-packages (from cycler>=0.10->matplotlib) (1.15.0)\n",
      "Requirement already satisfied: seaborn in c:\\users\\ihand\\appdata\\local\\programs\\python\\python39\\lib\\site-packages (0.11.1)\n",
      "Requirement already satisfied: scipy>=1.0 in c:\\users\\ihand\\appdata\\local\\programs\\python\\python39\\lib\\site-packages (from seaborn) (1.6.3)\n",
      "Requirement already satisfied: numpy>=1.15 in c:\\users\\ihand\\appdata\\local\\programs\\python\\python39\\lib\\site-packages (from seaborn) (1.20.2)\n",
      "Requirement already satisfied: pandas>=0.23 in c:\\users\\ihand\\appdata\\local\\programs\\python\\python39\\lib\\site-packages (from seaborn) (1.2.4)\n",
      "Requirement already satisfied: matplotlib>=2.2 in c:\\users\\ihand\\appdata\\local\\programs\\python\\python39\\lib\\site-packages (from seaborn) (3.4.1)\n",
      "Requirement already satisfied: pillow>=6.2.0 in c:\\users\\ihand\\appdata\\local\\programs\\python\\python39\\lib\\site-packages (from matplotlib>=2.2->seaborn) (8.2.0)\n",
      "Requirement already satisfied: kiwisolver>=1.0.1 in c:\\users\\ihand\\appdata\\local\\programs\\python\\python39\\lib\\site-packages (from matplotlib>=2.2->seaborn) (1.3.1)\n",
      "Requirement already satisfied: python-dateutil>=2.7 in c:\\users\\ihand\\appdata\\local\\programs\\python\\python39\\lib\\site-packages (from matplotlib>=2.2->seaborn) (2.8.1)\n",
      "Requirement already satisfied: cycler>=0.10 in c:\\users\\ihand\\appdata\\local\\programs\\python\\python39\\lib\\site-packages (from matplotlib>=2.2->seaborn) (0.10.0)\n",
      "Requirement already satisfied: pyparsing>=2.2.1 in c:\\users\\ihand\\appdata\\local\\programs\\python\\python39\\lib\\site-packages (from matplotlib>=2.2->seaborn) (2.4.7)\n",
      "Requirement already satisfied: six in c:\\users\\ihand\\appdata\\local\\programs\\python\\python39\\lib\\site-packages (from cycler>=0.10->matplotlib>=2.2->seaborn) (1.15.0)\n",
      "Requirement already satisfied: pytz>=2017.3 in c:\\users\\ihand\\appdata\\local\\programs\\python\\python39\\lib\\site-packages (from pandas>=0.23->seaborn) (2021.1)\n",
      "Requirement already satisfied: scikit-learn in c:\\users\\ihand\\appdata\\local\\programs\\python\\python39\\lib\\site-packages (0.24.2)\n",
      "Requirement already satisfied: numpy>=1.13.3 in c:\\users\\ihand\\appdata\\local\\programs\\python\\python39\\lib\\site-packages (from scikit-learn) (1.20.2)\n",
      "Requirement already satisfied: threadpoolctl>=2.0.0 in c:\\users\\ihand\\appdata\\local\\programs\\python\\python39\\lib\\site-packages (from scikit-learn) (2.1.0)\n",
      "Requirement already satisfied: scipy>=0.19.1 in c:\\users\\ihand\\appdata\\local\\programs\\python\\python39\\lib\\site-packages (from scikit-learn) (1.6.3)\n",
      "Requirement already satisfied: joblib>=0.11 in c:\\users\\ihand\\appdata\\local\\programs\\python\\python39\\lib\\site-packages (from scikit-learn) (1.0.1)\n",
      "Requirement already satisfied: python-dotenv in c:\\users\\ihand\\appdata\\local\\programs\\python\\python39\\lib\\site-packages (0.17.1)\n",
      "Requirement already satisfied: pydot in c:\\users\\ihand\\appdata\\local\\programs\\python\\python39\\lib\\site-packages (1.4.2)\n",
      "Requirement already satisfied: pyparsing>=2.1.4 in c:\\users\\ihand\\appdata\\local\\programs\\python\\python39\\lib\\site-packages (from pydot) (2.4.7)\n"
     ]
    }
   ],
   "source": [
    "!pip install pymysql\n",
    "!pip install apyori\n",
    "!pip install pandas\n",
    "!pip install matplotlib\n",
    "!pip install seaborn\n",
    "!pip install scikit-learn\n",
    "!pip install python-dotenv\n",
    "!pip install pydot\n"
   ]
  },
  {
   "cell_type": "code",
   "execution_count": 100,
   "id": "d0c8f9b8",
   "metadata": {},
   "outputs": [
    {
     "output_type": "stream",
     "name": "stdout",
     "text": [
      "<pymysql.connections.Connection object at 0x000002775EDF3E80>\n"
     ]
    }
   ],
   "source": [
    "# Imported Libraries\n",
    "import pandas as pd\n",
    "import pymysql\n",
    "import os\n",
    "import numpy as np\n",
    "import matplotlib.pyplot as plt\n",
    "import seaborn as sns\n",
    "from apyori import apriori\n",
    "# Imports for the neural network\n",
    "from sklearn.model_selection import train_test_split\n",
    "from sklearn.metrics import classification_report, accuracy_score, roc_auc_score, roc_curve\n",
    "from sklearn.model_selection import GridSearchCV\n",
    "from sklearn.preprocessing import StandardScaler\n",
    "from sklearn.neural_network import MLPClassifier\n",
    "from sklearn.feature_selection import RFECV, SelectFromModel\n",
    "from sklearn.linear_model import LogisticRegression\n",
    "import pickle\n",
    "# Load the .env file for database credentials\n",
    "from dotenv import load_dotenv\n",
    "# Load the .env file to access database credentials\n",
    "load_dotenv()\n",
    "####### Connection to Client Database #######\n",
    "conn = pymysql.connect(host=os.getenv(\"host\"), user=os.getenv(\"user\"), port=int(os.getenv(\"port\")), password=os.getenv(\"password\"), db=os.getenv(\"dbname\"))\n",
    "# Print connection confirmation\n",
    "print(conn)"
   ]
  },
  {
   "cell_type": "markdown",
   "id": "ea4f7e9b",
   "metadata": {},
   "source": [
    "### Getting Customer-users detail - make dataframe"
   ]
  },
  {
   "cell_type": "code",
   "execution_count": 101,
   "id": "6f2b1ff8",
   "metadata": {},
   "outputs": [
    {
     "output_type": "stream",
     "name": "stdout",
     "text": [
      "<class 'pandas.core.frame.DataFrame'>\nRangeIndex: 6241 entries, 0 to 6240\nData columns (total 13 columns):\n #   Column             Non-Null Count  Dtype  \n---  ------             --------------  -----  \n 0   member_id          6115 non-null   float64\n 1   membership_number  6115 non-null   object \n 2   status             6115 non-null   object \n 3   price_zone_code    6115 non-null   object \n 4   member_key         6115 non-null   object \n 5   u_ndis_number      6241 non-null   object \n 6   u_disabilities     6241 non-null   object \n 7   u_gender           6241 non-null   object \n 8   u_date_of_birth    6239 non-null   object \n 9   SA1                6021 non-null   float64\n 10  SA2                6021 non-null   float64\n 11  SA3                6021 non-null   float64\n 12  SA4                6021 non-null   float64\ndtypes: float64(5), object(8)\nmemory usage: 634.0+ KB\n"
     ]
    },
    {
     "output_type": "execute_result",
     "data": {
      "text/plain": [
       "    member_id membership_number   status  price_zone_code  \\\n",
       "0      1613.0         916644409  managed  ACT_NSW_QLD_VIC   \n",
       "1      3132.0         262354568  managed  ACT_NSW_QLD_VIC   \n",
       "2      1786.0         233367363  managed  ACT_NSW_QLD_VIC   \n",
       "3      2562.0         981297214  managed  ACT_NSW_QLD_VIC   \n",
       "4      1614.0         631304335  managed  ACT_NSW_QLD_VIC   \n",
       "5      1700.0          67836654  managed     NT_SA_TAS_WA   \n",
       "6      3803.0         746607176  managed  ACT_NSW_QLD_VIC   \n",
       "7      1738.0         391263441  managed  ACT_NSW_QLD_VIC   \n",
       "8      5162.0         526764245  managed  ACT_NSW_QLD_VIC   \n",
       "9      1818.0         692294955  managed  ACT_NSW_QLD_VIC   \n",
       "10     1846.0         929294204  managed  ACT_NSW_QLD_VIC   \n",
       "11     4129.0         996368118  managed  ACT_NSW_QLD_VIC   \n",
       "12     3762.0         577302380  managed  ACT_NSW_QLD_VIC   \n",
       "13       20.0         411349503  managed  ACT_NSW_QLD_VIC   \n",
       "14     3142.0         513580381  managed  ACT_NSW_QLD_VIC   \n",
       "15     4155.0         921237397  managed  ACT_NSW_QLD_VIC   \n",
       "16     3836.0         984450760  managed     NT_SA_TAS_WA   \n",
       "17     1796.0         188998989  managed  ACT_NSW_QLD_VIC   \n",
       "18      470.0         227507869  managed  ACT_NSW_QLD_VIC   \n",
       "19     3784.0         390220737  managed  ACT_NSW_QLD_VIC   \n",
       "20     4186.0         776016548  managed  ACT_NSW_QLD_VIC   \n",
       "21     1616.0          26509924  managed  ACT_NSW_QLD_VIC   \n",
       "22     4229.0         781118175  managed  ACT_NSW_QLD_VIC   \n",
       "23     3502.0         445885932  managed  ACT_NSW_QLD_VIC   \n",
       "24     4103.0         145276585  managed  ACT_NSW_QLD_VIC   \n",
       "25     2655.0         425042002  managed  ACT_NSW_QLD_VIC   \n",
       "26     4203.0         246973395  managed  ACT_NSW_QLD_VIC   \n",
       "27     3622.0         140881962  managed  ACT_NSW_QLD_VIC   \n",
       "28     1754.0         583894312  managed  ACT_NSW_QLD_VIC   \n",
       "29     1718.0         208464515  managed  ACT_NSW_QLD_VIC   \n",
       "30     1686.0         619163178  managed  ACT_NSW_QLD_VIC   \n",
       "31     3109.0         197477964  managed  ACT_NSW_QLD_VIC   \n",
       "32     1699.0         207732077  managed  ACT_NSW_QLD_VIC   \n",
       "33     3525.0         102261181  managed  ACT_NSW_QLD_VIC   \n",
       "34     3808.0         167870223  managed  ACT_NSW_QLD_VIC   \n",
       "35     5128.0         707365858  managed  ACT_NSW_QLD_VIC   \n",
       "36     3782.0         216211052  managed  ACT_NSW_QLD_VIC   \n",
       "37     3781.0         845908311  managed  ACT_NSW_QLD_VIC   \n",
       "38     4142.0         303681294  managed  ACT_NSW_QLD_VIC   \n",
       "39     1731.0         421293349  managed  ACT_NSW_QLD_VIC   \n",
       "40     3850.0         855429986  managed  ACT_NSW_QLD_VIC   \n",
       "41     1878.0         141390601  managed  ACT_NSW_QLD_VIC   \n",
       "42     1766.0         819428686  managed  ACT_NSW_QLD_VIC   \n",
       "43     1886.0         413546812  managed  ACT_NSW_QLD_VIC   \n",
       "44     3818.0          16367712  managed  ACT_NSW_QLD_VIC   \n",
       "45     1770.0          73273980  managed  ACT_NSW_QLD_VIC   \n",
       "46     1713.0         630459999  managed  ACT_NSW_QLD_VIC   \n",
       "47     1706.0         130826214  managed  ACT_NSW_QLD_VIC   \n",
       "48     1626.0         259226452  managed  ACT_NSW_QLD_VIC   \n",
       "49     2557.0         516510129  managed  ACT_NSW_QLD_VIC   \n",
       "\n",
       "                              member_key u_ndis_number  \\\n",
       "0   d74bcd00-d205-11ea-b0d9-53acaecd0b82     916644409   \n",
       "1   5d057910-dce6-11ea-812e-09cdf4382371     262354568   \n",
       "2   222759f0-d212-11ea-8b42-db603b1b9020     233367363   \n",
       "3   b0a9ca70-d50d-11ea-8224-836b70d82925     981297214   \n",
       "4   d75087f0-d205-11ea-b0d9-53acaecd0b82     631304335   \n",
       "5   631efd70-d20b-11ea-ae84-0545f282cdcb      67836654   \n",
       "6   f1217e80-e52b-11ea-aa27-0bababe260e0     746607176   \n",
       "7   63d81440-d20b-11ea-ae84-0545f282cdcb     391263441   \n",
       "8   e0693f40-1e21-11eb-931b-3f565ba74e99     526764245   \n",
       "9   af1f77d0-d216-11ea-bb54-b308798eda15     692294955   \n",
       "10  afa87df0-d216-11ea-bb54-b308798eda15     929294204   \n",
       "11  75ae3510-e781-11ea-81ad-09a1d4aac9cd     996368118   \n",
       "12  f0443de0-e52b-11ea-aa27-0bababe260e0     577302380   \n",
       "13  f9a16370-b5d0-11ea-87de-ef325f0003ab     411349503   \n",
       "14  5d362600-dce6-11ea-812e-09cdf4382371     513580381   \n",
       "15  7637b060-e781-11ea-81ad-09a1d4aac9cd     921237397   \n",
       "16  f1d27f00-e52b-11ea-aa27-0bababe260e0     984450760   \n",
       "17  aeb5e090-d216-11ea-bb54-b308798eda15     188998989   \n",
       "18  c1b41470-c22e-11ea-b8c1-bdd334cddb16     227507869   \n",
       "19  f0b80e50-e52b-11ea-aa27-0bababe260e0     390220737   \n",
       "20  9c674930-e786-11ea-973c-bf41324305ed     776016548   \n",
       "21  d759d6c0-d205-11ea-b0d9-53acaecd0b82      26509924   \n",
       "22  61370290-e80f-11ea-983f-69a06f97de2b     781118175   \n",
       "23  dd683850-ddb7-11ea-a31a-7d25e47a5c0a     445885932   \n",
       "24  53f94dc0-e762-11ea-87b5-2d26e519b5b2     145276585   \n",
       "25  b26a1810-d50d-11ea-8224-836b70d82925     425042002   \n",
       "26  9cc39a00-e786-11ea-973c-bf41324305ed     246973395   \n",
       "27  dfdd2ff0-ddb7-11ea-a31a-7d25e47a5c0a     140881962   \n",
       "28  2173e870-d212-11ea-8b42-db603b1b9020     583894312   \n",
       "29  6375a8f0-d20b-11ea-ae84-0545f282cdcb     208464515   \n",
       "30  e8fabfe0-d208-11ea-a272-f7bc49fb354a     619163178   \n",
       "31  5c93a470-dce6-11ea-812e-09cdf4382371     197477964   \n",
       "32  631a6990-d20b-11ea-ae84-0545f282cdcb     207732077   \n",
       "33  dde0c3b0-ddb7-11ea-a31a-7d25e47a5c0a     102261181   \n",
       "34  f13bbd40-e52b-11ea-aa27-0bababe260e0     167870223   \n",
       "35  dfbcd2a0-1e21-11eb-931b-3f565ba74e99     707365858   \n",
       "36  f0ad8700-e52b-11ea-aa27-0bababe260e0     216211052   \n",
       "37  f0a856e0-e52b-11ea-aa27-0bababe260e0     845908311   \n",
       "38  75f417b0-e781-11ea-81ad-09a1d4aac9cd     303681294   \n",
       "39  63b63460-d20b-11ea-ae84-0545f282cdcb     421293349   \n",
       "40  f21b47d0-e52b-11ea-aa27-0bababe260e0     855429986   \n",
       "41  b044bdf0-d216-11ea-bb54-b308798eda15     141390601   \n",
       "42  21b5ac60-d212-11ea-8b42-db603b1b9020     819428686   \n",
       "43  b06a9570-d216-11ea-bb54-b308798eda15     413546812   \n",
       "44  f1703ac0-e52b-11ea-aa27-0bababe260e0      16367712   \n",
       "45  21cdc840-d212-11ea-8b42-db603b1b9020      73273980   \n",
       "46  635e0240-d20b-11ea-ae84-0545f282cdcb     630459999   \n",
       "47  633b8620-d20b-11ea-ae84-0545f282cdcb     130826214   \n",
       "48  d78a83b0-d205-11ea-b0d9-53acaecd0b82     259226452   \n",
       "49  b091ae90-d50d-11ea-8224-836b70d82925     516510129   \n",
       "\n",
       "                                       u_disabilities u_gender  \\\n",
       "0                                                                \n",
       "1                                                                \n",
       "2                                                       Female   \n",
       "3                                                       Female   \n",
       "4                                                                \n",
       "5                                                       Female   \n",
       "6            I am recovering from a stroke I had in 2     Male   \n",
       "7                                            Sciatica   Female   \n",
       "8                                                         Male   \n",
       "9                                                       Female   \n",
       "10                                                        Male   \n",
       "11                                     Usher syndrome            \n",
       "12                                    Vision Impaired   Female   \n",
       "13                                                        Male   \n",
       "14                                                        Male   \n",
       "15                                                               \n",
       "16                                                               \n",
       "17                                                      Female   \n",
       "18                                                        Male   \n",
       "19                                                               \n",
       "20                                                      Female   \n",
       "21                                                        Male   \n",
       "22                                                               \n",
       "23                                                               \n",
       "24                                                      Female   \n",
       "25                                                      Female   \n",
       "26                                                        Male   \n",
       "27                                                               \n",
       "28                                                        Male   \n",
       "29  Multiple Sclerosis, Arrested hydrocephalus, Na...            \n",
       "30                     Anxiety and stress , Full Deaf            \n",
       "31                                                        Male   \n",
       "32                                                        Male   \n",
       "33                                Parkinson's disease            \n",
       "34                                Stroke (cerebellar)   Female   \n",
       "35                                                               \n",
       "36                                                               \n",
       "37                            Intellectual disability            \n",
       "38                            Intellectual disability     Male   \n",
       "39                                                               \n",
       "40                                                               \n",
       "41                                                        Male   \n",
       "42                            Intellectual disability            \n",
       "43                                 Hearing Impairment   Female   \n",
       "44                                                        Male   \n",
       "45                                                               \n",
       "46                                                        Male   \n",
       "47  Asperger syndrome, chronic inflammatory demyel...            \n",
       "48                                                        Male   \n",
       "49                                                      Female   \n",
       "\n",
       "   u_date_of_birth        SA1      SA2      SA3    SA4  \n",
       "0       1922-11-30  3100614.0  31006.0  30101.0  301.0  \n",
       "1       2007-04-06  1144614.0  11446.0  12303.0  123.0  \n",
       "2       1954-03-26        0.0      0.0      0.0    0.0  \n",
       "3       1978-12-24  3138504.0  31385.0  31401.0  314.0  \n",
       "4       1995-08-18  2142119.0  21421.0  21701.0  217.0  \n",
       "5       1937-01-25  4106012.0  41060.0  40302.0  403.0  \n",
       "6       1980-09-28  3131211.0  31312.0  31103.0  311.0  \n",
       "7       1945-05-23        0.0      0.0      0.0    0.0  \n",
       "8       1933-07-11  2120223.0  21202.0  20901.0  209.0  \n",
       "9       1925-09-09  3123701.0  31237.0  30903.0  309.0  \n",
       "10      1948-12-04  3136522.0  31365.0  31302.0  313.0  \n",
       "11      1955-12-29        0.0      0.0      0.0    0.0  \n",
       "12      1939-07-30  3102737.0  31027.0  30202.0  302.0  \n",
       "13      1922-05-30  1111516.0  11115.0  10602.0  106.0  \n",
       "14      1982-07-06        0.0      0.0      0.0    0.0  \n",
       "15      1973-12-02  3147515.0  31475.0  31802.0  318.0  \n",
       "16      1955-12-25  3112701.0  31127.0  30503.0  305.0  \n",
       "17      1924-03-09  3124626.0  31246.0  30906.0  309.0  \n",
       "18      1928-03-23  2118702.0  21187.0  20803.0  208.0  \n",
       "19      1994-05-23  3133607.0  31336.0  31106.0  311.0  \n",
       "20      1934-10-10        0.0      0.0      0.0    0.0  \n",
       "21      1933-01-10  3103214.0  31032.0  30202.0  302.0  \n",
       "22      1934-10-12  3133015.0  31330.0  31106.0  311.0  \n",
       "23      1975-06-12        0.0      0.0      0.0    0.0  \n",
       "24      1995-02-22  3105917.0  31059.0  30302.0  303.0  \n",
       "25      1923-06-04  3128721.0  31287.0  31003.0  310.0  \n",
       "26      2005-03-31  3113724.0  31137.0  30504.0  305.0  \n",
       "27      1969-02-21        0.0      0.0      0.0    0.0  \n",
       "28      1990-08-01        0.0      0.0      0.0    0.0  \n",
       "29      2002-03-17        0.0      0.0      0.0    0.0  \n",
       "30      1968-08-13  3144816.0  31448.0  31701.0  317.0  \n",
       "31      1950-03-13  3105621.0  31056.0  30302.0  303.0  \n",
       "32      1976-03-16  1143710.0  11437.0  12302.0  123.0  \n",
       "33      1941-02-07  3141408.0  31414.0  31601.0  316.0  \n",
       "34      1972-03-02  3124427.0  31244.0  30905.0  309.0  \n",
       "35      1977-09-15  2146512.0  21465.0  21305.0  213.0  \n",
       "36      1953-03-20  3116004.0  31160.0  30603.0  306.0  \n",
       "37      1991-11-04  2116403.0  21164.0  20703.0  207.0  \n",
       "38      1985-04-21  1156709.0  11567.0  11802.0  118.0  \n",
       "39      1923-06-03        0.0      0.0      0.0    0.0  \n",
       "40      1991-11-08  3152114.0  31521.0  31904.0  319.0  \n",
       "41      1994-02-21  3137229.0  31372.0  31304.0  313.0  \n",
       "42      1938-10-26  3130907.0  31309.0  31102.0  311.0  \n",
       "43      1922-05-31        0.0      0.0      0.0    0.0  \n",
       "44      1982-01-06  3111220.0  31112.0  30501.0  305.0  \n",
       "45      2012-01-27  3136540.0  31365.0  31302.0  313.0  \n",
       "46      1995-08-18  1139855.0  11398.0  12101.0  121.0  \n",
       "47      2019-02-17        0.0      0.0      0.0    0.0  \n",
       "48      1981-04-05  1142104.0  11421.0  12202.0  122.0  \n",
       "49      1932-07-07        0.0      0.0      0.0    0.0  "
      ],
      "text/html": "<div>\n<style scoped>\n    .dataframe tbody tr th:only-of-type {\n        vertical-align: middle;\n    }\n\n    .dataframe tbody tr th {\n        vertical-align: top;\n    }\n\n    .dataframe thead th {\n        text-align: right;\n    }\n</style>\n<table border=\"1\" class=\"dataframe\">\n  <thead>\n    <tr style=\"text-align: right;\">\n      <th></th>\n      <th>member_id</th>\n      <th>membership_number</th>\n      <th>status</th>\n      <th>price_zone_code</th>\n      <th>member_key</th>\n      <th>u_ndis_number</th>\n      <th>u_disabilities</th>\n      <th>u_gender</th>\n      <th>u_date_of_birth</th>\n      <th>SA1</th>\n      <th>SA2</th>\n      <th>SA3</th>\n      <th>SA4</th>\n    </tr>\n  </thead>\n  <tbody>\n    <tr>\n      <th>0</th>\n      <td>1613.0</td>\n      <td>916644409</td>\n      <td>managed</td>\n      <td>ACT_NSW_QLD_VIC</td>\n      <td>d74bcd00-d205-11ea-b0d9-53acaecd0b82</td>\n      <td>916644409</td>\n      <td></td>\n      <td></td>\n      <td>1922-11-30</td>\n      <td>3100614.0</td>\n      <td>31006.0</td>\n      <td>30101.0</td>\n      <td>301.0</td>\n    </tr>\n    <tr>\n      <th>1</th>\n      <td>3132.0</td>\n      <td>262354568</td>\n      <td>managed</td>\n      <td>ACT_NSW_QLD_VIC</td>\n      <td>5d057910-dce6-11ea-812e-09cdf4382371</td>\n      <td>262354568</td>\n      <td></td>\n      <td></td>\n      <td>2007-04-06</td>\n      <td>1144614.0</td>\n      <td>11446.0</td>\n      <td>12303.0</td>\n      <td>123.0</td>\n    </tr>\n    <tr>\n      <th>2</th>\n      <td>1786.0</td>\n      <td>233367363</td>\n      <td>managed</td>\n      <td>ACT_NSW_QLD_VIC</td>\n      <td>222759f0-d212-11ea-8b42-db603b1b9020</td>\n      <td>233367363</td>\n      <td></td>\n      <td>Female</td>\n      <td>1954-03-26</td>\n      <td>0.0</td>\n      <td>0.0</td>\n      <td>0.0</td>\n      <td>0.0</td>\n    </tr>\n    <tr>\n      <th>3</th>\n      <td>2562.0</td>\n      <td>981297214</td>\n      <td>managed</td>\n      <td>ACT_NSW_QLD_VIC</td>\n      <td>b0a9ca70-d50d-11ea-8224-836b70d82925</td>\n      <td>981297214</td>\n      <td></td>\n      <td>Female</td>\n      <td>1978-12-24</td>\n      <td>3138504.0</td>\n      <td>31385.0</td>\n      <td>31401.0</td>\n      <td>314.0</td>\n    </tr>\n    <tr>\n      <th>4</th>\n      <td>1614.0</td>\n      <td>631304335</td>\n      <td>managed</td>\n      <td>ACT_NSW_QLD_VIC</td>\n      <td>d75087f0-d205-11ea-b0d9-53acaecd0b82</td>\n      <td>631304335</td>\n      <td></td>\n      <td></td>\n      <td>1995-08-18</td>\n      <td>2142119.0</td>\n      <td>21421.0</td>\n      <td>21701.0</td>\n      <td>217.0</td>\n    </tr>\n    <tr>\n      <th>5</th>\n      <td>1700.0</td>\n      <td>67836654</td>\n      <td>managed</td>\n      <td>NT_SA_TAS_WA</td>\n      <td>631efd70-d20b-11ea-ae84-0545f282cdcb</td>\n      <td>67836654</td>\n      <td></td>\n      <td>Female</td>\n      <td>1937-01-25</td>\n      <td>4106012.0</td>\n      <td>41060.0</td>\n      <td>40302.0</td>\n      <td>403.0</td>\n    </tr>\n    <tr>\n      <th>6</th>\n      <td>3803.0</td>\n      <td>746607176</td>\n      <td>managed</td>\n      <td>ACT_NSW_QLD_VIC</td>\n      <td>f1217e80-e52b-11ea-aa27-0bababe260e0</td>\n      <td>746607176</td>\n      <td>I am recovering from a stroke I had in 2</td>\n      <td>Male</td>\n      <td>1980-09-28</td>\n      <td>3131211.0</td>\n      <td>31312.0</td>\n      <td>31103.0</td>\n      <td>311.0</td>\n    </tr>\n    <tr>\n      <th>7</th>\n      <td>1738.0</td>\n      <td>391263441</td>\n      <td>managed</td>\n      <td>ACT_NSW_QLD_VIC</td>\n      <td>63d81440-d20b-11ea-ae84-0545f282cdcb</td>\n      <td>391263441</td>\n      <td>Sciatica</td>\n      <td>Female</td>\n      <td>1945-05-23</td>\n      <td>0.0</td>\n      <td>0.0</td>\n      <td>0.0</td>\n      <td>0.0</td>\n    </tr>\n    <tr>\n      <th>8</th>\n      <td>5162.0</td>\n      <td>526764245</td>\n      <td>managed</td>\n      <td>ACT_NSW_QLD_VIC</td>\n      <td>e0693f40-1e21-11eb-931b-3f565ba74e99</td>\n      <td>526764245</td>\n      <td></td>\n      <td>Male</td>\n      <td>1933-07-11</td>\n      <td>2120223.0</td>\n      <td>21202.0</td>\n      <td>20901.0</td>\n      <td>209.0</td>\n    </tr>\n    <tr>\n      <th>9</th>\n      <td>1818.0</td>\n      <td>692294955</td>\n      <td>managed</td>\n      <td>ACT_NSW_QLD_VIC</td>\n      <td>af1f77d0-d216-11ea-bb54-b308798eda15</td>\n      <td>692294955</td>\n      <td></td>\n      <td>Female</td>\n      <td>1925-09-09</td>\n      <td>3123701.0</td>\n      <td>31237.0</td>\n      <td>30903.0</td>\n      <td>309.0</td>\n    </tr>\n    <tr>\n      <th>10</th>\n      <td>1846.0</td>\n      <td>929294204</td>\n      <td>managed</td>\n      <td>ACT_NSW_QLD_VIC</td>\n      <td>afa87df0-d216-11ea-bb54-b308798eda15</td>\n      <td>929294204</td>\n      <td></td>\n      <td>Male</td>\n      <td>1948-12-04</td>\n      <td>3136522.0</td>\n      <td>31365.0</td>\n      <td>31302.0</td>\n      <td>313.0</td>\n    </tr>\n    <tr>\n      <th>11</th>\n      <td>4129.0</td>\n      <td>996368118</td>\n      <td>managed</td>\n      <td>ACT_NSW_QLD_VIC</td>\n      <td>75ae3510-e781-11ea-81ad-09a1d4aac9cd</td>\n      <td>996368118</td>\n      <td>Usher syndrome</td>\n      <td></td>\n      <td>1955-12-29</td>\n      <td>0.0</td>\n      <td>0.0</td>\n      <td>0.0</td>\n      <td>0.0</td>\n    </tr>\n    <tr>\n      <th>12</th>\n      <td>3762.0</td>\n      <td>577302380</td>\n      <td>managed</td>\n      <td>ACT_NSW_QLD_VIC</td>\n      <td>f0443de0-e52b-11ea-aa27-0bababe260e0</td>\n      <td>577302380</td>\n      <td>Vision Impaired</td>\n      <td>Female</td>\n      <td>1939-07-30</td>\n      <td>3102737.0</td>\n      <td>31027.0</td>\n      <td>30202.0</td>\n      <td>302.0</td>\n    </tr>\n    <tr>\n      <th>13</th>\n      <td>20.0</td>\n      <td>411349503</td>\n      <td>managed</td>\n      <td>ACT_NSW_QLD_VIC</td>\n      <td>f9a16370-b5d0-11ea-87de-ef325f0003ab</td>\n      <td>411349503</td>\n      <td></td>\n      <td>Male</td>\n      <td>1922-05-30</td>\n      <td>1111516.0</td>\n      <td>11115.0</td>\n      <td>10602.0</td>\n      <td>106.0</td>\n    </tr>\n    <tr>\n      <th>14</th>\n      <td>3142.0</td>\n      <td>513580381</td>\n      <td>managed</td>\n      <td>ACT_NSW_QLD_VIC</td>\n      <td>5d362600-dce6-11ea-812e-09cdf4382371</td>\n      <td>513580381</td>\n      <td></td>\n      <td>Male</td>\n      <td>1982-07-06</td>\n      <td>0.0</td>\n      <td>0.0</td>\n      <td>0.0</td>\n      <td>0.0</td>\n    </tr>\n    <tr>\n      <th>15</th>\n      <td>4155.0</td>\n      <td>921237397</td>\n      <td>managed</td>\n      <td>ACT_NSW_QLD_VIC</td>\n      <td>7637b060-e781-11ea-81ad-09a1d4aac9cd</td>\n      <td>921237397</td>\n      <td></td>\n      <td></td>\n      <td>1973-12-02</td>\n      <td>3147515.0</td>\n      <td>31475.0</td>\n      <td>31802.0</td>\n      <td>318.0</td>\n    </tr>\n    <tr>\n      <th>16</th>\n      <td>3836.0</td>\n      <td>984450760</td>\n      <td>managed</td>\n      <td>NT_SA_TAS_WA</td>\n      <td>f1d27f00-e52b-11ea-aa27-0bababe260e0</td>\n      <td>984450760</td>\n      <td></td>\n      <td></td>\n      <td>1955-12-25</td>\n      <td>3112701.0</td>\n      <td>31127.0</td>\n      <td>30503.0</td>\n      <td>305.0</td>\n    </tr>\n    <tr>\n      <th>17</th>\n      <td>1796.0</td>\n      <td>188998989</td>\n      <td>managed</td>\n      <td>ACT_NSW_QLD_VIC</td>\n      <td>aeb5e090-d216-11ea-bb54-b308798eda15</td>\n      <td>188998989</td>\n      <td></td>\n      <td>Female</td>\n      <td>1924-03-09</td>\n      <td>3124626.0</td>\n      <td>31246.0</td>\n      <td>30906.0</td>\n      <td>309.0</td>\n    </tr>\n    <tr>\n      <th>18</th>\n      <td>470.0</td>\n      <td>227507869</td>\n      <td>managed</td>\n      <td>ACT_NSW_QLD_VIC</td>\n      <td>c1b41470-c22e-11ea-b8c1-bdd334cddb16</td>\n      <td>227507869</td>\n      <td></td>\n      <td>Male</td>\n      <td>1928-03-23</td>\n      <td>2118702.0</td>\n      <td>21187.0</td>\n      <td>20803.0</td>\n      <td>208.0</td>\n    </tr>\n    <tr>\n      <th>19</th>\n      <td>3784.0</td>\n      <td>390220737</td>\n      <td>managed</td>\n      <td>ACT_NSW_QLD_VIC</td>\n      <td>f0b80e50-e52b-11ea-aa27-0bababe260e0</td>\n      <td>390220737</td>\n      <td></td>\n      <td></td>\n      <td>1994-05-23</td>\n      <td>3133607.0</td>\n      <td>31336.0</td>\n      <td>31106.0</td>\n      <td>311.0</td>\n    </tr>\n    <tr>\n      <th>20</th>\n      <td>4186.0</td>\n      <td>776016548</td>\n      <td>managed</td>\n      <td>ACT_NSW_QLD_VIC</td>\n      <td>9c674930-e786-11ea-973c-bf41324305ed</td>\n      <td>776016548</td>\n      <td></td>\n      <td>Female</td>\n      <td>1934-10-10</td>\n      <td>0.0</td>\n      <td>0.0</td>\n      <td>0.0</td>\n      <td>0.0</td>\n    </tr>\n    <tr>\n      <th>21</th>\n      <td>1616.0</td>\n      <td>26509924</td>\n      <td>managed</td>\n      <td>ACT_NSW_QLD_VIC</td>\n      <td>d759d6c0-d205-11ea-b0d9-53acaecd0b82</td>\n      <td>26509924</td>\n      <td></td>\n      <td>Male</td>\n      <td>1933-01-10</td>\n      <td>3103214.0</td>\n      <td>31032.0</td>\n      <td>30202.0</td>\n      <td>302.0</td>\n    </tr>\n    <tr>\n      <th>22</th>\n      <td>4229.0</td>\n      <td>781118175</td>\n      <td>managed</td>\n      <td>ACT_NSW_QLD_VIC</td>\n      <td>61370290-e80f-11ea-983f-69a06f97de2b</td>\n      <td>781118175</td>\n      <td></td>\n      <td></td>\n      <td>1934-10-12</td>\n      <td>3133015.0</td>\n      <td>31330.0</td>\n      <td>31106.0</td>\n      <td>311.0</td>\n    </tr>\n    <tr>\n      <th>23</th>\n      <td>3502.0</td>\n      <td>445885932</td>\n      <td>managed</td>\n      <td>ACT_NSW_QLD_VIC</td>\n      <td>dd683850-ddb7-11ea-a31a-7d25e47a5c0a</td>\n      <td>445885932</td>\n      <td></td>\n      <td></td>\n      <td>1975-06-12</td>\n      <td>0.0</td>\n      <td>0.0</td>\n      <td>0.0</td>\n      <td>0.0</td>\n    </tr>\n    <tr>\n      <th>24</th>\n      <td>4103.0</td>\n      <td>145276585</td>\n      <td>managed</td>\n      <td>ACT_NSW_QLD_VIC</td>\n      <td>53f94dc0-e762-11ea-87b5-2d26e519b5b2</td>\n      <td>145276585</td>\n      <td></td>\n      <td>Female</td>\n      <td>1995-02-22</td>\n      <td>3105917.0</td>\n      <td>31059.0</td>\n      <td>30302.0</td>\n      <td>303.0</td>\n    </tr>\n    <tr>\n      <th>25</th>\n      <td>2655.0</td>\n      <td>425042002</td>\n      <td>managed</td>\n      <td>ACT_NSW_QLD_VIC</td>\n      <td>b26a1810-d50d-11ea-8224-836b70d82925</td>\n      <td>425042002</td>\n      <td></td>\n      <td>Female</td>\n      <td>1923-06-04</td>\n      <td>3128721.0</td>\n      <td>31287.0</td>\n      <td>31003.0</td>\n      <td>310.0</td>\n    </tr>\n    <tr>\n      <th>26</th>\n      <td>4203.0</td>\n      <td>246973395</td>\n      <td>managed</td>\n      <td>ACT_NSW_QLD_VIC</td>\n      <td>9cc39a00-e786-11ea-973c-bf41324305ed</td>\n      <td>246973395</td>\n      <td></td>\n      <td>Male</td>\n      <td>2005-03-31</td>\n      <td>3113724.0</td>\n      <td>31137.0</td>\n      <td>30504.0</td>\n      <td>305.0</td>\n    </tr>\n    <tr>\n      <th>27</th>\n      <td>3622.0</td>\n      <td>140881962</td>\n      <td>managed</td>\n      <td>ACT_NSW_QLD_VIC</td>\n      <td>dfdd2ff0-ddb7-11ea-a31a-7d25e47a5c0a</td>\n      <td>140881962</td>\n      <td></td>\n      <td></td>\n      <td>1969-02-21</td>\n      <td>0.0</td>\n      <td>0.0</td>\n      <td>0.0</td>\n      <td>0.0</td>\n    </tr>\n    <tr>\n      <th>28</th>\n      <td>1754.0</td>\n      <td>583894312</td>\n      <td>managed</td>\n      <td>ACT_NSW_QLD_VIC</td>\n      <td>2173e870-d212-11ea-8b42-db603b1b9020</td>\n      <td>583894312</td>\n      <td></td>\n      <td>Male</td>\n      <td>1990-08-01</td>\n      <td>0.0</td>\n      <td>0.0</td>\n      <td>0.0</td>\n      <td>0.0</td>\n    </tr>\n    <tr>\n      <th>29</th>\n      <td>1718.0</td>\n      <td>208464515</td>\n      <td>managed</td>\n      <td>ACT_NSW_QLD_VIC</td>\n      <td>6375a8f0-d20b-11ea-ae84-0545f282cdcb</td>\n      <td>208464515</td>\n      <td>Multiple Sclerosis, Arrested hydrocephalus, Na...</td>\n      <td></td>\n      <td>2002-03-17</td>\n      <td>0.0</td>\n      <td>0.0</td>\n      <td>0.0</td>\n      <td>0.0</td>\n    </tr>\n    <tr>\n      <th>30</th>\n      <td>1686.0</td>\n      <td>619163178</td>\n      <td>managed</td>\n      <td>ACT_NSW_QLD_VIC</td>\n      <td>e8fabfe0-d208-11ea-a272-f7bc49fb354a</td>\n      <td>619163178</td>\n      <td>Anxiety and stress , Full Deaf</td>\n      <td></td>\n      <td>1968-08-13</td>\n      <td>3144816.0</td>\n      <td>31448.0</td>\n      <td>31701.0</td>\n      <td>317.0</td>\n    </tr>\n    <tr>\n      <th>31</th>\n      <td>3109.0</td>\n      <td>197477964</td>\n      <td>managed</td>\n      <td>ACT_NSW_QLD_VIC</td>\n      <td>5c93a470-dce6-11ea-812e-09cdf4382371</td>\n      <td>197477964</td>\n      <td></td>\n      <td>Male</td>\n      <td>1950-03-13</td>\n      <td>3105621.0</td>\n      <td>31056.0</td>\n      <td>30302.0</td>\n      <td>303.0</td>\n    </tr>\n    <tr>\n      <th>32</th>\n      <td>1699.0</td>\n      <td>207732077</td>\n      <td>managed</td>\n      <td>ACT_NSW_QLD_VIC</td>\n      <td>631a6990-d20b-11ea-ae84-0545f282cdcb</td>\n      <td>207732077</td>\n      <td></td>\n      <td>Male</td>\n      <td>1976-03-16</td>\n      <td>1143710.0</td>\n      <td>11437.0</td>\n      <td>12302.0</td>\n      <td>123.0</td>\n    </tr>\n    <tr>\n      <th>33</th>\n      <td>3525.0</td>\n      <td>102261181</td>\n      <td>managed</td>\n      <td>ACT_NSW_QLD_VIC</td>\n      <td>dde0c3b0-ddb7-11ea-a31a-7d25e47a5c0a</td>\n      <td>102261181</td>\n      <td>Parkinson's disease</td>\n      <td></td>\n      <td>1941-02-07</td>\n      <td>3141408.0</td>\n      <td>31414.0</td>\n      <td>31601.0</td>\n      <td>316.0</td>\n    </tr>\n    <tr>\n      <th>34</th>\n      <td>3808.0</td>\n      <td>167870223</td>\n      <td>managed</td>\n      <td>ACT_NSW_QLD_VIC</td>\n      <td>f13bbd40-e52b-11ea-aa27-0bababe260e0</td>\n      <td>167870223</td>\n      <td>Stroke (cerebellar)</td>\n      <td>Female</td>\n      <td>1972-03-02</td>\n      <td>3124427.0</td>\n      <td>31244.0</td>\n      <td>30905.0</td>\n      <td>309.0</td>\n    </tr>\n    <tr>\n      <th>35</th>\n      <td>5128.0</td>\n      <td>707365858</td>\n      <td>managed</td>\n      <td>ACT_NSW_QLD_VIC</td>\n      <td>dfbcd2a0-1e21-11eb-931b-3f565ba74e99</td>\n      <td>707365858</td>\n      <td></td>\n      <td></td>\n      <td>1977-09-15</td>\n      <td>2146512.0</td>\n      <td>21465.0</td>\n      <td>21305.0</td>\n      <td>213.0</td>\n    </tr>\n    <tr>\n      <th>36</th>\n      <td>3782.0</td>\n      <td>216211052</td>\n      <td>managed</td>\n      <td>ACT_NSW_QLD_VIC</td>\n      <td>f0ad8700-e52b-11ea-aa27-0bababe260e0</td>\n      <td>216211052</td>\n      <td></td>\n      <td></td>\n      <td>1953-03-20</td>\n      <td>3116004.0</td>\n      <td>31160.0</td>\n      <td>30603.0</td>\n      <td>306.0</td>\n    </tr>\n    <tr>\n      <th>37</th>\n      <td>3781.0</td>\n      <td>845908311</td>\n      <td>managed</td>\n      <td>ACT_NSW_QLD_VIC</td>\n      <td>f0a856e0-e52b-11ea-aa27-0bababe260e0</td>\n      <td>845908311</td>\n      <td>Intellectual disability</td>\n      <td></td>\n      <td>1991-11-04</td>\n      <td>2116403.0</td>\n      <td>21164.0</td>\n      <td>20703.0</td>\n      <td>207.0</td>\n    </tr>\n    <tr>\n      <th>38</th>\n      <td>4142.0</td>\n      <td>303681294</td>\n      <td>managed</td>\n      <td>ACT_NSW_QLD_VIC</td>\n      <td>75f417b0-e781-11ea-81ad-09a1d4aac9cd</td>\n      <td>303681294</td>\n      <td>Intellectual disability</td>\n      <td>Male</td>\n      <td>1985-04-21</td>\n      <td>1156709.0</td>\n      <td>11567.0</td>\n      <td>11802.0</td>\n      <td>118.0</td>\n    </tr>\n    <tr>\n      <th>39</th>\n      <td>1731.0</td>\n      <td>421293349</td>\n      <td>managed</td>\n      <td>ACT_NSW_QLD_VIC</td>\n      <td>63b63460-d20b-11ea-ae84-0545f282cdcb</td>\n      <td>421293349</td>\n      <td></td>\n      <td></td>\n      <td>1923-06-03</td>\n      <td>0.0</td>\n      <td>0.0</td>\n      <td>0.0</td>\n      <td>0.0</td>\n    </tr>\n    <tr>\n      <th>40</th>\n      <td>3850.0</td>\n      <td>855429986</td>\n      <td>managed</td>\n      <td>ACT_NSW_QLD_VIC</td>\n      <td>f21b47d0-e52b-11ea-aa27-0bababe260e0</td>\n      <td>855429986</td>\n      <td></td>\n      <td></td>\n      <td>1991-11-08</td>\n      <td>3152114.0</td>\n      <td>31521.0</td>\n      <td>31904.0</td>\n      <td>319.0</td>\n    </tr>\n    <tr>\n      <th>41</th>\n      <td>1878.0</td>\n      <td>141390601</td>\n      <td>managed</td>\n      <td>ACT_NSW_QLD_VIC</td>\n      <td>b044bdf0-d216-11ea-bb54-b308798eda15</td>\n      <td>141390601</td>\n      <td></td>\n      <td>Male</td>\n      <td>1994-02-21</td>\n      <td>3137229.0</td>\n      <td>31372.0</td>\n      <td>31304.0</td>\n      <td>313.0</td>\n    </tr>\n    <tr>\n      <th>42</th>\n      <td>1766.0</td>\n      <td>819428686</td>\n      <td>managed</td>\n      <td>ACT_NSW_QLD_VIC</td>\n      <td>21b5ac60-d212-11ea-8b42-db603b1b9020</td>\n      <td>819428686</td>\n      <td>Intellectual disability</td>\n      <td></td>\n      <td>1938-10-26</td>\n      <td>3130907.0</td>\n      <td>31309.0</td>\n      <td>31102.0</td>\n      <td>311.0</td>\n    </tr>\n    <tr>\n      <th>43</th>\n      <td>1886.0</td>\n      <td>413546812</td>\n      <td>managed</td>\n      <td>ACT_NSW_QLD_VIC</td>\n      <td>b06a9570-d216-11ea-bb54-b308798eda15</td>\n      <td>413546812</td>\n      <td>Hearing Impairment</td>\n      <td>Female</td>\n      <td>1922-05-31</td>\n      <td>0.0</td>\n      <td>0.0</td>\n      <td>0.0</td>\n      <td>0.0</td>\n    </tr>\n    <tr>\n      <th>44</th>\n      <td>3818.0</td>\n      <td>16367712</td>\n      <td>managed</td>\n      <td>ACT_NSW_QLD_VIC</td>\n      <td>f1703ac0-e52b-11ea-aa27-0bababe260e0</td>\n      <td>16367712</td>\n      <td></td>\n      <td>Male</td>\n      <td>1982-01-06</td>\n      <td>3111220.0</td>\n      <td>31112.0</td>\n      <td>30501.0</td>\n      <td>305.0</td>\n    </tr>\n    <tr>\n      <th>45</th>\n      <td>1770.0</td>\n      <td>73273980</td>\n      <td>managed</td>\n      <td>ACT_NSW_QLD_VIC</td>\n      <td>21cdc840-d212-11ea-8b42-db603b1b9020</td>\n      <td>73273980</td>\n      <td></td>\n      <td></td>\n      <td>2012-01-27</td>\n      <td>3136540.0</td>\n      <td>31365.0</td>\n      <td>31302.0</td>\n      <td>313.0</td>\n    </tr>\n    <tr>\n      <th>46</th>\n      <td>1713.0</td>\n      <td>630459999</td>\n      <td>managed</td>\n      <td>ACT_NSW_QLD_VIC</td>\n      <td>635e0240-d20b-11ea-ae84-0545f282cdcb</td>\n      <td>630459999</td>\n      <td></td>\n      <td>Male</td>\n      <td>1995-08-18</td>\n      <td>1139855.0</td>\n      <td>11398.0</td>\n      <td>12101.0</td>\n      <td>121.0</td>\n    </tr>\n    <tr>\n      <th>47</th>\n      <td>1706.0</td>\n      <td>130826214</td>\n      <td>managed</td>\n      <td>ACT_NSW_QLD_VIC</td>\n      <td>633b8620-d20b-11ea-ae84-0545f282cdcb</td>\n      <td>130826214</td>\n      <td>Asperger syndrome, chronic inflammatory demyel...</td>\n      <td></td>\n      <td>2019-02-17</td>\n      <td>0.0</td>\n      <td>0.0</td>\n      <td>0.0</td>\n      <td>0.0</td>\n    </tr>\n    <tr>\n      <th>48</th>\n      <td>1626.0</td>\n      <td>259226452</td>\n      <td>managed</td>\n      <td>ACT_NSW_QLD_VIC</td>\n      <td>d78a83b0-d205-11ea-b0d9-53acaecd0b82</td>\n      <td>259226452</td>\n      <td></td>\n      <td>Male</td>\n      <td>1981-04-05</td>\n      <td>1142104.0</td>\n      <td>11421.0</td>\n      <td>12202.0</td>\n      <td>122.0</td>\n    </tr>\n    <tr>\n      <th>49</th>\n      <td>2557.0</td>\n      <td>516510129</td>\n      <td>managed</td>\n      <td>ACT_NSW_QLD_VIC</td>\n      <td>b091ae90-d50d-11ea-8224-836b70d82925</td>\n      <td>516510129</td>\n      <td></td>\n      <td>Female</td>\n      <td>1932-07-07</td>\n      <td>0.0</td>\n      <td>0.0</td>\n      <td>0.0</td>\n      <td>0.0</td>\n    </tr>\n  </tbody>\n</table>\n</div>"
     },
     "metadata": {},
     "execution_count": 101
    }
   ],
   "source": [
    "###Customer Personal details\n",
    "# ! Added Member key\n",
    "df_user= pd.read_sql(\"select m.id as member_id, m.membership_number, m.status, m.price_zone_code, m.member_key, s.u_ndis_number, s.u_disabilities, s.u_gender, s.u_date_of_birth, r.SA1, r.SA2, r.SA3,r.SA4  from SNOW_csm_consumer_user s left join  HH_member m  on s.u_ndis_number = m.membership_number left join libe_leapinprod_memberregion r on r.MemberId = s.u_leapin_id where s.u_stage = 'li_managed' and s.u_ndis_number is not null;\", con=conn)\n",
    "                       \n",
    "df_user.info()\n",
    "df_user.head(50)\n"
   ]
  },
  {
   "cell_type": "code",
   "execution_count": 102,
   "id": "6b08e9ff",
   "metadata": {},
   "outputs": [
    {
     "output_type": "execute_result",
     "data": {
      "text/plain": [
       "                                                                               4922\n",
       "Intellectual disability                                                          98\n",
       "ADHD                                                                             61\n",
       "Cerebral palsy                                                                   42\n",
       "Down syndrome                                                                    41\n",
       "                                                                               ... \n",
       "Sensory processing disorder, ADHD, Anxiety, Encopresis, Auditory processing       1\n",
       "Epilepsy,                                                                         1\n",
       "Stroke (brain stem), Vision Impaired                                              1\n",
       "Bipolar disorder, PTSD, Alcohol dependence disorder                               1\n",
       "ASD level 2  Anxiety  ADHD Sensory Proce                                          1\n",
       "Name: u_disabilities, Length: 602, dtype: int64"
      ]
     },
     "metadata": {},
     "execution_count": 102
    }
   ],
   "source": [
    "df_user['u_disabilities'].value_counts()"
   ]
  },
  {
   "cell_type": "markdown",
   "id": "a8648376",
   "metadata": {},
   "source": [
    "### Getting Services Providers detail - make dataframe"
   ]
  },
  {
   "cell_type": "code",
   "execution_count": 103,
   "id": "8c82cd9e",
   "metadata": {},
   "outputs": [],
   "source": [
    "### Service Providers Details:\n",
    "\n",
    "#df_providers_details = pd.read_sql(\"select p.id, pa.provider_account_key, p.is_inactive, p.abn, ca.city, ca.country from HH_provider_account pa join HH_provider p on p.id = pa.provider_id join SNOW_customer_account ca on ca.u_abn = p.abn;\", con=conn)\n",
    "\n",
    "#print(df_providers_details.info())\n",
    "\n",
    "#df_providers_details.head(50)"
   ]
  },
  {
   "cell_type": "markdown",
   "id": "9847099b",
   "metadata": {},
   "source": [
    "### Getting Claims and Invoice details - make dataframe"
   ]
  },
  {
   "cell_type": "code",
   "execution_count": 104,
   "id": "4402d660",
   "metadata": {},
   "outputs": [
    {
     "output_type": "stream",
     "name": "stdout",
     "text": [
      "<class 'pandas.core.frame.DataFrame'>\nRangeIndex: 968874 entries, 0 to 968873\nData columns (total 5 columns):\n #   Column      Non-Null Count   Dtype \n---  ------      --------------   ----- \n 0   claim_id    968874 non-null  int64 \n 1   invoice_id  968874 non-null  int64 \n 2   state       968874 non-null  object\n 3   risk_level  968874 non-null  object\n 4   start_date  968874 non-null  object\ndtypes: int64(2), object(3)\nmemory usage: 37.0+ MB\n"
     ]
    },
    {
     "output_type": "execute_result",
     "data": {
      "text/plain": [
       "   claim_id  invoice_id state risk_level  start_date\n",
       "0         1           1  PAID         NO  2020-04-30\n",
       "1         2           2  PAID         NO  2020-05-01\n",
       "2         3           3  PAID         NO  2020-04-23\n",
       "3         4           4  PAID         NO  2020-04-30\n",
       "4         5           5  PAID         NO  2020-05-07\n",
       "5         6           6  PAID         NO  2020-05-07\n",
       "6         7           7  PAID         NO  2020-05-12\n",
       "7         8           8  PAID         NO  2020-05-14\n",
       "8         9           9  PAID         NO  2020-05-14\n",
       "9        10          10  PAID         NO  2020-05-16"
      ],
      "text/html": "<div>\n<style scoped>\n    .dataframe tbody tr th:only-of-type {\n        vertical-align: middle;\n    }\n\n    .dataframe tbody tr th {\n        vertical-align: top;\n    }\n\n    .dataframe thead th {\n        text-align: right;\n    }\n</style>\n<table border=\"1\" class=\"dataframe\">\n  <thead>\n    <tr style=\"text-align: right;\">\n      <th></th>\n      <th>claim_id</th>\n      <th>invoice_id</th>\n      <th>state</th>\n      <th>risk_level</th>\n      <th>start_date</th>\n    </tr>\n  </thead>\n  <tbody>\n    <tr>\n      <th>0</th>\n      <td>1</td>\n      <td>1</td>\n      <td>PAID</td>\n      <td>NO</td>\n      <td>2020-04-30</td>\n    </tr>\n    <tr>\n      <th>1</th>\n      <td>2</td>\n      <td>2</td>\n      <td>PAID</td>\n      <td>NO</td>\n      <td>2020-05-01</td>\n    </tr>\n    <tr>\n      <th>2</th>\n      <td>3</td>\n      <td>3</td>\n      <td>PAID</td>\n      <td>NO</td>\n      <td>2020-04-23</td>\n    </tr>\n    <tr>\n      <th>3</th>\n      <td>4</td>\n      <td>4</td>\n      <td>PAID</td>\n      <td>NO</td>\n      <td>2020-04-30</td>\n    </tr>\n    <tr>\n      <th>4</th>\n      <td>5</td>\n      <td>5</td>\n      <td>PAID</td>\n      <td>NO</td>\n      <td>2020-05-07</td>\n    </tr>\n    <tr>\n      <th>5</th>\n      <td>6</td>\n      <td>6</td>\n      <td>PAID</td>\n      <td>NO</td>\n      <td>2020-05-07</td>\n    </tr>\n    <tr>\n      <th>6</th>\n      <td>7</td>\n      <td>7</td>\n      <td>PAID</td>\n      <td>NO</td>\n      <td>2020-05-12</td>\n    </tr>\n    <tr>\n      <th>7</th>\n      <td>8</td>\n      <td>8</td>\n      <td>PAID</td>\n      <td>NO</td>\n      <td>2020-05-14</td>\n    </tr>\n    <tr>\n      <th>8</th>\n      <td>9</td>\n      <td>9</td>\n      <td>PAID</td>\n      <td>NO</td>\n      <td>2020-05-14</td>\n    </tr>\n    <tr>\n      <th>9</th>\n      <td>10</td>\n      <td>10</td>\n      <td>PAID</td>\n      <td>NO</td>\n      <td>2020-05-16</td>\n    </tr>\n  </tbody>\n</table>\n</div>"
     },
     "metadata": {},
     "execution_count": 104
    }
   ],
   "source": [
    "### Getting Claims details: \n",
    "\n",
    "df_claims= pd.read_sql(\"SELECT c.id as claim_id, c.invoice_id, c.state, c.risk_level, c.start_date FROM HH_claim c;\", con=conn)\n",
    "df_claims.info()\n",
    "df_claims.head(10)\n"
   ]
  },
  {
   "cell_type": "code",
   "execution_count": 105,
   "id": "3abaa76c",
   "metadata": {},
   "outputs": [
    {
     "output_type": "stream",
     "name": "stdout",
     "text": [
      "<class 'pandas.core.frame.DataFrame'>\nRangeIndex: 518376 entries, 0 to 518375\nData columns (total 5 columns):\n #   Column         Non-Null Count   Dtype  \n---  ------         --------------   -----  \n 0   invoice_id     518376 non-null  int64  \n 1   member_id      518376 non-null  int64  \n 2   invoice_total  518376 non-null  float64\n 3   funded_total   281714 non-null  float64\n 4   funded_date    276521 non-null  object \ndtypes: float64(2), int64(2), object(1)\nmemory usage: 19.8+ MB\n"
     ]
    },
    {
     "output_type": "execute_result",
     "data": {
      "text/plain": [
       "   invoice_id  member_id  invoice_total  funded_total funded_date\n",
       "0           1          2         160.00        160.00  2020-04-30\n",
       "1           2          2         160.00        160.00  2020-05-05\n",
       "2           3          3          80.00         80.00  2020-05-08\n",
       "3           4          3          80.00         80.00  2020-05-08\n",
       "4           5          3          80.00         80.00  2020-05-08\n",
       "5           6          4         214.41        214.41  2020-05-12\n",
       "6           7          2         130.00        130.00  2020-05-13\n",
       "7           8          2         130.00        130.00  2020-05-15\n",
       "8           9          4         428.82        428.82  2020-05-18\n",
       "9          10          4         214.41        214.41  2020-05-18"
      ],
      "text/html": "<div>\n<style scoped>\n    .dataframe tbody tr th:only-of-type {\n        vertical-align: middle;\n    }\n\n    .dataframe tbody tr th {\n        vertical-align: top;\n    }\n\n    .dataframe thead th {\n        text-align: right;\n    }\n</style>\n<table border=\"1\" class=\"dataframe\">\n  <thead>\n    <tr style=\"text-align: right;\">\n      <th></th>\n      <th>invoice_id</th>\n      <th>member_id</th>\n      <th>invoice_total</th>\n      <th>funded_total</th>\n      <th>funded_date</th>\n    </tr>\n  </thead>\n  <tbody>\n    <tr>\n      <th>0</th>\n      <td>1</td>\n      <td>2</td>\n      <td>160.00</td>\n      <td>160.00</td>\n      <td>2020-04-30</td>\n    </tr>\n    <tr>\n      <th>1</th>\n      <td>2</td>\n      <td>2</td>\n      <td>160.00</td>\n      <td>160.00</td>\n      <td>2020-05-05</td>\n    </tr>\n    <tr>\n      <th>2</th>\n      <td>3</td>\n      <td>3</td>\n      <td>80.00</td>\n      <td>80.00</td>\n      <td>2020-05-08</td>\n    </tr>\n    <tr>\n      <th>3</th>\n      <td>4</td>\n      <td>3</td>\n      <td>80.00</td>\n      <td>80.00</td>\n      <td>2020-05-08</td>\n    </tr>\n    <tr>\n      <th>4</th>\n      <td>5</td>\n      <td>3</td>\n      <td>80.00</td>\n      <td>80.00</td>\n      <td>2020-05-08</td>\n    </tr>\n    <tr>\n      <th>5</th>\n      <td>6</td>\n      <td>4</td>\n      <td>214.41</td>\n      <td>214.41</td>\n      <td>2020-05-12</td>\n    </tr>\n    <tr>\n      <th>6</th>\n      <td>7</td>\n      <td>2</td>\n      <td>130.00</td>\n      <td>130.00</td>\n      <td>2020-05-13</td>\n    </tr>\n    <tr>\n      <th>7</th>\n      <td>8</td>\n      <td>2</td>\n      <td>130.00</td>\n      <td>130.00</td>\n      <td>2020-05-15</td>\n    </tr>\n    <tr>\n      <th>8</th>\n      <td>9</td>\n      <td>4</td>\n      <td>428.82</td>\n      <td>428.82</td>\n      <td>2020-05-18</td>\n    </tr>\n    <tr>\n      <th>9</th>\n      <td>10</td>\n      <td>4</td>\n      <td>214.41</td>\n      <td>214.41</td>\n      <td>2020-05-18</td>\n    </tr>\n  </tbody>\n</table>\n</div>"
     },
     "metadata": {},
     "execution_count": 105
    }
   ],
   "source": [
    "###Getting Invoice Details\n",
    "\n",
    "df_invoices= pd.read_sql(\"SELECT i.id as invoice_id, i.member_id, i.invoice_total, i.funded_total, i.funded_date FROM HH_invoice i;\", con=conn)\n",
    "df_invoices.info()\n",
    "df_invoices.head(10)"
   ]
  },
  {
   "cell_type": "code",
   "execution_count": 106,
   "id": "74afc06a",
   "metadata": {},
   "outputs": [
    {
     "output_type": "stream",
     "name": "stdout",
     "text": [
      "<class 'pandas.core.frame.DataFrame'>\nInt64Index: 968874 entries, 0 to 968873\nData columns (total 9 columns):\n #   Column         Non-Null Count   Dtype  \n---  ------         --------------   -----  \n 0   claim_id       968874 non-null  int64  \n 1   invoice_id     968874 non-null  int64  \n 2   state          968874 non-null  object \n 3   risk_level     968874 non-null  object \n 4   start_date     968874 non-null  object \n 5   member_id      968874 non-null  int64  \n 6   invoice_total  968874 non-null  float64\n 7   funded_total   566458 non-null  float64\n 8   funded_date    556790 non-null  object \ndtypes: float64(2), int64(3), object(4)\nmemory usage: 73.9+ MB\n"
     ]
    },
    {
     "output_type": "execute_result",
     "data": {
      "text/plain": [
       "   claim_id  invoice_id state risk_level  start_date  member_id  \\\n",
       "0         1           1  PAID         NO  2020-04-30          2   \n",
       "1         2           2  PAID         NO  2020-05-01          2   \n",
       "2         3           3  PAID         NO  2020-04-23          3   \n",
       "3         4           4  PAID         NO  2020-04-30          3   \n",
       "4         5           5  PAID         NO  2020-05-07          3   \n",
       "\n",
       "   invoice_total  funded_total funded_date  \n",
       "0          160.0         160.0  2020-04-30  \n",
       "1          160.0         160.0  2020-05-05  \n",
       "2           80.0          80.0  2020-05-08  \n",
       "3           80.0          80.0  2020-05-08  \n",
       "4           80.0          80.0  2020-05-08  "
      ],
      "text/html": "<div>\n<style scoped>\n    .dataframe tbody tr th:only-of-type {\n        vertical-align: middle;\n    }\n\n    .dataframe tbody tr th {\n        vertical-align: top;\n    }\n\n    .dataframe thead th {\n        text-align: right;\n    }\n</style>\n<table border=\"1\" class=\"dataframe\">\n  <thead>\n    <tr style=\"text-align: right;\">\n      <th></th>\n      <th>claim_id</th>\n      <th>invoice_id</th>\n      <th>state</th>\n      <th>risk_level</th>\n      <th>start_date</th>\n      <th>member_id</th>\n      <th>invoice_total</th>\n      <th>funded_total</th>\n      <th>funded_date</th>\n    </tr>\n  </thead>\n  <tbody>\n    <tr>\n      <th>0</th>\n      <td>1</td>\n      <td>1</td>\n      <td>PAID</td>\n      <td>NO</td>\n      <td>2020-04-30</td>\n      <td>2</td>\n      <td>160.0</td>\n      <td>160.0</td>\n      <td>2020-04-30</td>\n    </tr>\n    <tr>\n      <th>1</th>\n      <td>2</td>\n      <td>2</td>\n      <td>PAID</td>\n      <td>NO</td>\n      <td>2020-05-01</td>\n      <td>2</td>\n      <td>160.0</td>\n      <td>160.0</td>\n      <td>2020-05-05</td>\n    </tr>\n    <tr>\n      <th>2</th>\n      <td>3</td>\n      <td>3</td>\n      <td>PAID</td>\n      <td>NO</td>\n      <td>2020-04-23</td>\n      <td>3</td>\n      <td>80.0</td>\n      <td>80.0</td>\n      <td>2020-05-08</td>\n    </tr>\n    <tr>\n      <th>3</th>\n      <td>4</td>\n      <td>4</td>\n      <td>PAID</td>\n      <td>NO</td>\n      <td>2020-04-30</td>\n      <td>3</td>\n      <td>80.0</td>\n      <td>80.0</td>\n      <td>2020-05-08</td>\n    </tr>\n    <tr>\n      <th>4</th>\n      <td>5</td>\n      <td>5</td>\n      <td>PAID</td>\n      <td>NO</td>\n      <td>2020-05-07</td>\n      <td>3</td>\n      <td>80.0</td>\n      <td>80.0</td>\n      <td>2020-05-08</td>\n    </tr>\n  </tbody>\n</table>\n</div>"
     },
     "metadata": {},
     "execution_count": 106
    }
   ],
   "source": [
    "### Merging\n",
    "\n",
    "df_invoice_claim = pd.merge(df_claims, df_invoices, on=\"invoice_id\", how=\"left\")\n",
    "\n",
    "df_invoice_claim.info()\n",
    "df_invoice_claim.head()"
   ]
  },
  {
   "cell_type": "code",
   "execution_count": 107,
   "id": "d86028a1",
   "metadata": {},
   "outputs": [
    {
     "output_type": "execute_result",
     "data": {
      "text/plain": [
       "        claim_id  invoice_id                state risk_level  start_date  \\\n",
       "0              1           1                 PAID         NO  2020-04-30   \n",
       "1              2           2                 PAID         NO  2020-05-01   \n",
       "2              3           3                 PAID         NO  2020-04-23   \n",
       "3              4           4                 PAID         NO  2020-04-30   \n",
       "4              5           5                 PAID         NO  2020-05-07   \n",
       "...          ...         ...                  ...        ...         ...   \n",
       "968869   1006095      539315  OPERATOR_AUTHORIZED         NO  2021-04-08   \n",
       "968870   1006096      539315  OPERATOR_AUTHORIZED         NO  2021-04-10   \n",
       "968871   1006097      539315  OPERATOR_AUTHORIZED         NO  2021-04-11   \n",
       "968872   1006098      539316  OPERATOR_AUTHORIZED         NO  2021-04-15   \n",
       "968873   1006099      539316  OPERATOR_AUTHORIZED         NO  2021-04-15   \n",
       "\n",
       "        member_id  invoice_total  funded_total funded_date membership_number  \\\n",
       "0               2         160.00         160.0  2020-04-30         277486509   \n",
       "1               2         160.00         160.0  2020-05-05         277486509   \n",
       "2               3          80.00          80.0  2020-05-08         815939440   \n",
       "3               3          80.00          80.0  2020-05-08         815939440   \n",
       "4               3          80.00          80.0  2020-05-08         815939440   \n",
       "...           ...            ...           ...         ...               ...   \n",
       "968869       3000        2135.70           NaN        None         265655619   \n",
       "968870       3000        2135.70           NaN        None         265655619   \n",
       "968871       3000        2135.70           NaN        None         265655619   \n",
       "968872       3607         396.57           NaN        None         615053396   \n",
       "968873       3607         396.57           NaN        None         615053396   \n",
       "\n",
       "        ...  price_zone_code                            member_key  \\\n",
       "0       ...  ACT_NSW_QLD_VIC  ef0ab4c0-891b-11ea-a119-35e8388a5f49   \n",
       "1       ...  ACT_NSW_QLD_VIC  ef0ab4c0-891b-11ea-a119-35e8388a5f49   \n",
       "2       ...  ACT_NSW_QLD_VIC  6a535640-8b5c-11ea-9eec-315ed4b1385b   \n",
       "3       ...  ACT_NSW_QLD_VIC  6a535640-8b5c-11ea-9eec-315ed4b1385b   \n",
       "4       ...  ACT_NSW_QLD_VIC  6a535640-8b5c-11ea-9eec-315ed4b1385b   \n",
       "...     ...              ...                                   ...   \n",
       "968869  ...  ACT_NSW_QLD_VIC  f1a3f970-dc6e-11ea-bd81-13c3c5a9034c   \n",
       "968870  ...  ACT_NSW_QLD_VIC  f1a3f970-dc6e-11ea-bd81-13c3c5a9034c   \n",
       "968871  ...  ACT_NSW_QLD_VIC  f1a3f970-dc6e-11ea-bd81-13c3c5a9034c   \n",
       "968872  ...  ACT_NSW_QLD_VIC  df8f8520-ddb7-11ea-a31a-7d25e47a5c0a   \n",
       "968873  ...  ACT_NSW_QLD_VIC  df8f8520-ddb7-11ea-a31a-7d25e47a5c0a   \n",
       "\n",
       "       u_ndis_number       u_disabilities u_gender u_date_of_birth        SA1  \\\n",
       "0          277486509                          Male      1958-04-12  3110117.0   \n",
       "1          277486509                          Male      1958-04-12  3110117.0   \n",
       "2          815939440                        Female      1937-10-25  3130913.0   \n",
       "3          815939440                        Female      1937-10-25  3130913.0   \n",
       "4          815939440                        Female      1937-10-25  3130913.0   \n",
       "...              ...                  ...      ...             ...        ...   \n",
       "968869     265655619                         Other      1981-04-07        0.0   \n",
       "968870     265655619                         Other      1981-04-07        0.0   \n",
       "968871     265655619                         Other      1981-04-07        0.0   \n",
       "968872     615053396  Parkinson's disease     Male      1943-08-12  3136525.0   \n",
       "968873     615053396  Parkinson's disease     Male      1943-08-12  3136525.0   \n",
       "\n",
       "            SA2      SA3    SA4  \n",
       "0       31101.0  30404.0  304.0  \n",
       "1       31101.0  30404.0  304.0  \n",
       "2       31309.0  31102.0  311.0  \n",
       "3       31309.0  31102.0  311.0  \n",
       "4       31309.0  31102.0  311.0  \n",
       "...         ...      ...    ...  \n",
       "968869      0.0      0.0    0.0  \n",
       "968870      0.0      0.0    0.0  \n",
       "968871      0.0      0.0    0.0  \n",
       "968872  31365.0  31302.0  313.0  \n",
       "968873  31365.0  31302.0  313.0  \n",
       "\n",
       "[968874 rows x 21 columns]"
      ],
      "text/html": "<div>\n<style scoped>\n    .dataframe tbody tr th:only-of-type {\n        vertical-align: middle;\n    }\n\n    .dataframe tbody tr th {\n        vertical-align: top;\n    }\n\n    .dataframe thead th {\n        text-align: right;\n    }\n</style>\n<table border=\"1\" class=\"dataframe\">\n  <thead>\n    <tr style=\"text-align: right;\">\n      <th></th>\n      <th>claim_id</th>\n      <th>invoice_id</th>\n      <th>state</th>\n      <th>risk_level</th>\n      <th>start_date</th>\n      <th>member_id</th>\n      <th>invoice_total</th>\n      <th>funded_total</th>\n      <th>funded_date</th>\n      <th>membership_number</th>\n      <th>...</th>\n      <th>price_zone_code</th>\n      <th>member_key</th>\n      <th>u_ndis_number</th>\n      <th>u_disabilities</th>\n      <th>u_gender</th>\n      <th>u_date_of_birth</th>\n      <th>SA1</th>\n      <th>SA2</th>\n      <th>SA3</th>\n      <th>SA4</th>\n    </tr>\n  </thead>\n  <tbody>\n    <tr>\n      <th>0</th>\n      <td>1</td>\n      <td>1</td>\n      <td>PAID</td>\n      <td>NO</td>\n      <td>2020-04-30</td>\n      <td>2</td>\n      <td>160.00</td>\n      <td>160.0</td>\n      <td>2020-04-30</td>\n      <td>277486509</td>\n      <td>...</td>\n      <td>ACT_NSW_QLD_VIC</td>\n      <td>ef0ab4c0-891b-11ea-a119-35e8388a5f49</td>\n      <td>277486509</td>\n      <td></td>\n      <td>Male</td>\n      <td>1958-04-12</td>\n      <td>3110117.0</td>\n      <td>31101.0</td>\n      <td>30404.0</td>\n      <td>304.0</td>\n    </tr>\n    <tr>\n      <th>1</th>\n      <td>2</td>\n      <td>2</td>\n      <td>PAID</td>\n      <td>NO</td>\n      <td>2020-05-01</td>\n      <td>2</td>\n      <td>160.00</td>\n      <td>160.0</td>\n      <td>2020-05-05</td>\n      <td>277486509</td>\n      <td>...</td>\n      <td>ACT_NSW_QLD_VIC</td>\n      <td>ef0ab4c0-891b-11ea-a119-35e8388a5f49</td>\n      <td>277486509</td>\n      <td></td>\n      <td>Male</td>\n      <td>1958-04-12</td>\n      <td>3110117.0</td>\n      <td>31101.0</td>\n      <td>30404.0</td>\n      <td>304.0</td>\n    </tr>\n    <tr>\n      <th>2</th>\n      <td>3</td>\n      <td>3</td>\n      <td>PAID</td>\n      <td>NO</td>\n      <td>2020-04-23</td>\n      <td>3</td>\n      <td>80.00</td>\n      <td>80.0</td>\n      <td>2020-05-08</td>\n      <td>815939440</td>\n      <td>...</td>\n      <td>ACT_NSW_QLD_VIC</td>\n      <td>6a535640-8b5c-11ea-9eec-315ed4b1385b</td>\n      <td>815939440</td>\n      <td></td>\n      <td>Female</td>\n      <td>1937-10-25</td>\n      <td>3130913.0</td>\n      <td>31309.0</td>\n      <td>31102.0</td>\n      <td>311.0</td>\n    </tr>\n    <tr>\n      <th>3</th>\n      <td>4</td>\n      <td>4</td>\n      <td>PAID</td>\n      <td>NO</td>\n      <td>2020-04-30</td>\n      <td>3</td>\n      <td>80.00</td>\n      <td>80.0</td>\n      <td>2020-05-08</td>\n      <td>815939440</td>\n      <td>...</td>\n      <td>ACT_NSW_QLD_VIC</td>\n      <td>6a535640-8b5c-11ea-9eec-315ed4b1385b</td>\n      <td>815939440</td>\n      <td></td>\n      <td>Female</td>\n      <td>1937-10-25</td>\n      <td>3130913.0</td>\n      <td>31309.0</td>\n      <td>31102.0</td>\n      <td>311.0</td>\n    </tr>\n    <tr>\n      <th>4</th>\n      <td>5</td>\n      <td>5</td>\n      <td>PAID</td>\n      <td>NO</td>\n      <td>2020-05-07</td>\n      <td>3</td>\n      <td>80.00</td>\n      <td>80.0</td>\n      <td>2020-05-08</td>\n      <td>815939440</td>\n      <td>...</td>\n      <td>ACT_NSW_QLD_VIC</td>\n      <td>6a535640-8b5c-11ea-9eec-315ed4b1385b</td>\n      <td>815939440</td>\n      <td></td>\n      <td>Female</td>\n      <td>1937-10-25</td>\n      <td>3130913.0</td>\n      <td>31309.0</td>\n      <td>31102.0</td>\n      <td>311.0</td>\n    </tr>\n    <tr>\n      <th>...</th>\n      <td>...</td>\n      <td>...</td>\n      <td>...</td>\n      <td>...</td>\n      <td>...</td>\n      <td>...</td>\n      <td>...</td>\n      <td>...</td>\n      <td>...</td>\n      <td>...</td>\n      <td>...</td>\n      <td>...</td>\n      <td>...</td>\n      <td>...</td>\n      <td>...</td>\n      <td>...</td>\n      <td>...</td>\n      <td>...</td>\n      <td>...</td>\n      <td>...</td>\n      <td>...</td>\n    </tr>\n    <tr>\n      <th>968869</th>\n      <td>1006095</td>\n      <td>539315</td>\n      <td>OPERATOR_AUTHORIZED</td>\n      <td>NO</td>\n      <td>2021-04-08</td>\n      <td>3000</td>\n      <td>2135.70</td>\n      <td>NaN</td>\n      <td>None</td>\n      <td>265655619</td>\n      <td>...</td>\n      <td>ACT_NSW_QLD_VIC</td>\n      <td>f1a3f970-dc6e-11ea-bd81-13c3c5a9034c</td>\n      <td>265655619</td>\n      <td></td>\n      <td>Other</td>\n      <td>1981-04-07</td>\n      <td>0.0</td>\n      <td>0.0</td>\n      <td>0.0</td>\n      <td>0.0</td>\n    </tr>\n    <tr>\n      <th>968870</th>\n      <td>1006096</td>\n      <td>539315</td>\n      <td>OPERATOR_AUTHORIZED</td>\n      <td>NO</td>\n      <td>2021-04-10</td>\n      <td>3000</td>\n      <td>2135.70</td>\n      <td>NaN</td>\n      <td>None</td>\n      <td>265655619</td>\n      <td>...</td>\n      <td>ACT_NSW_QLD_VIC</td>\n      <td>f1a3f970-dc6e-11ea-bd81-13c3c5a9034c</td>\n      <td>265655619</td>\n      <td></td>\n      <td>Other</td>\n      <td>1981-04-07</td>\n      <td>0.0</td>\n      <td>0.0</td>\n      <td>0.0</td>\n      <td>0.0</td>\n    </tr>\n    <tr>\n      <th>968871</th>\n      <td>1006097</td>\n      <td>539315</td>\n      <td>OPERATOR_AUTHORIZED</td>\n      <td>NO</td>\n      <td>2021-04-11</td>\n      <td>3000</td>\n      <td>2135.70</td>\n      <td>NaN</td>\n      <td>None</td>\n      <td>265655619</td>\n      <td>...</td>\n      <td>ACT_NSW_QLD_VIC</td>\n      <td>f1a3f970-dc6e-11ea-bd81-13c3c5a9034c</td>\n      <td>265655619</td>\n      <td></td>\n      <td>Other</td>\n      <td>1981-04-07</td>\n      <td>0.0</td>\n      <td>0.0</td>\n      <td>0.0</td>\n      <td>0.0</td>\n    </tr>\n    <tr>\n      <th>968872</th>\n      <td>1006098</td>\n      <td>539316</td>\n      <td>OPERATOR_AUTHORIZED</td>\n      <td>NO</td>\n      <td>2021-04-15</td>\n      <td>3607</td>\n      <td>396.57</td>\n      <td>NaN</td>\n      <td>None</td>\n      <td>615053396</td>\n      <td>...</td>\n      <td>ACT_NSW_QLD_VIC</td>\n      <td>df8f8520-ddb7-11ea-a31a-7d25e47a5c0a</td>\n      <td>615053396</td>\n      <td>Parkinson's disease</td>\n      <td>Male</td>\n      <td>1943-08-12</td>\n      <td>3136525.0</td>\n      <td>31365.0</td>\n      <td>31302.0</td>\n      <td>313.0</td>\n    </tr>\n    <tr>\n      <th>968873</th>\n      <td>1006099</td>\n      <td>539316</td>\n      <td>OPERATOR_AUTHORIZED</td>\n      <td>NO</td>\n      <td>2021-04-15</td>\n      <td>3607</td>\n      <td>396.57</td>\n      <td>NaN</td>\n      <td>None</td>\n      <td>615053396</td>\n      <td>...</td>\n      <td>ACT_NSW_QLD_VIC</td>\n      <td>df8f8520-ddb7-11ea-a31a-7d25e47a5c0a</td>\n      <td>615053396</td>\n      <td>Parkinson's disease</td>\n      <td>Male</td>\n      <td>1943-08-12</td>\n      <td>3136525.0</td>\n      <td>31365.0</td>\n      <td>31302.0</td>\n      <td>313.0</td>\n    </tr>\n  </tbody>\n</table>\n<p>968874 rows × 21 columns</p>\n</div>"
     },
     "metadata": {},
     "execution_count": 107
    }
   ],
   "source": [
    "# Mapping users' disability type:\n",
    "df = pd.merge(df_invoice_claim, df_user, on=\"member_id\", how=\"left\")\n",
    "df"
   ]
  },
  {
   "cell_type": "code",
   "execution_count": 108,
   "id": "f56bc806",
   "metadata": {},
   "outputs": [
    {
     "output_type": "execute_result",
     "data": {
      "text/plain": [
       "     membership_number  invoice_total  funded_total\n",
       "0            100211377        3131.25       3131.25\n",
       "1            100348708      105389.55      48738.66\n",
       "2            100633545       99779.60      95339.64\n",
       "3            100969245      430467.16     386833.71\n",
       "4             10121655        1260.94       1260.94\n",
       "...                ...            ...           ...\n",
       "5723         999135104       13635.22      11058.42\n",
       "5724         999445370        4736.14       4635.56\n",
       "5725         999496234        5210.52       4431.51\n",
       "5726         999694603       17519.26       9040.34\n",
       "5727         999781070      351476.09     328188.72\n",
       "\n",
       "[5728 rows x 3 columns]"
      ],
      "text/html": "<div>\n<style scoped>\n    .dataframe tbody tr th:only-of-type {\n        vertical-align: middle;\n    }\n\n    .dataframe tbody tr th {\n        vertical-align: top;\n    }\n\n    .dataframe thead th {\n        text-align: right;\n    }\n</style>\n<table border=\"1\" class=\"dataframe\">\n  <thead>\n    <tr style=\"text-align: right;\">\n      <th></th>\n      <th>membership_number</th>\n      <th>invoice_total</th>\n      <th>funded_total</th>\n    </tr>\n  </thead>\n  <tbody>\n    <tr>\n      <th>0</th>\n      <td>100211377</td>\n      <td>3131.25</td>\n      <td>3131.25</td>\n    </tr>\n    <tr>\n      <th>1</th>\n      <td>100348708</td>\n      <td>105389.55</td>\n      <td>48738.66</td>\n    </tr>\n    <tr>\n      <th>2</th>\n      <td>100633545</td>\n      <td>99779.60</td>\n      <td>95339.64</td>\n    </tr>\n    <tr>\n      <th>3</th>\n      <td>100969245</td>\n      <td>430467.16</td>\n      <td>386833.71</td>\n    </tr>\n    <tr>\n      <th>4</th>\n      <td>10121655</td>\n      <td>1260.94</td>\n      <td>1260.94</td>\n    </tr>\n    <tr>\n      <th>...</th>\n      <td>...</td>\n      <td>...</td>\n      <td>...</td>\n    </tr>\n    <tr>\n      <th>5723</th>\n      <td>999135104</td>\n      <td>13635.22</td>\n      <td>11058.42</td>\n    </tr>\n    <tr>\n      <th>5724</th>\n      <td>999445370</td>\n      <td>4736.14</td>\n      <td>4635.56</td>\n    </tr>\n    <tr>\n      <th>5725</th>\n      <td>999496234</td>\n      <td>5210.52</td>\n      <td>4431.51</td>\n    </tr>\n    <tr>\n      <th>5726</th>\n      <td>999694603</td>\n      <td>17519.26</td>\n      <td>9040.34</td>\n    </tr>\n    <tr>\n      <th>5727</th>\n      <td>999781070</td>\n      <td>351476.09</td>\n      <td>328188.72</td>\n    </tr>\n  </tbody>\n</table>\n<p>5728 rows × 3 columns</p>\n</div>"
     },
     "metadata": {},
     "execution_count": 108
    }
   ],
   "source": [
    "#Groupby member_id \n",
    "\n",
    "df1 = df.groupby([\"membership_number\"]).agg({'invoice_total': 'sum', 'funded_total': 'sum'}).reset_index()\n",
    "\n",
    "#df_invoice_claim['invoice_total'] = df_invoice_claim.groupby(['member_id'])['invoice_total'].transform('sum')\n",
    "\n",
    "df1\n"
   ]
  },
  {
   "cell_type": "code",
   "execution_count": 109,
   "id": "ba7d4282",
   "metadata": {},
   "outputs": [
    {
     "output_type": "execute_result",
     "data": {
      "text/plain": [
       "     membership_number  invoice_total  funded_total  subtraction\n",
       "0            100211377        3131.25       3131.25         0.00\n",
       "1            100348708      105389.55      48738.66     56650.89\n",
       "2            100633545       99779.60      95339.64      4439.96\n",
       "3            100969245      430467.16     386833.71     43633.45\n",
       "4             10121655        1260.94       1260.94         0.00\n",
       "...                ...            ...           ...          ...\n",
       "5723         999135104       13635.22      11058.42      2576.80\n",
       "5724         999445370        4736.14       4635.56       100.58\n",
       "5725         999496234        5210.52       4431.51       779.01\n",
       "5726         999694603       17519.26       9040.34      8478.92\n",
       "5727         999781070      351476.09     328188.72     23287.37\n",
       "\n",
       "[5728 rows x 4 columns]"
      ],
      "text/html": "<div>\n<style scoped>\n    .dataframe tbody tr th:only-of-type {\n        vertical-align: middle;\n    }\n\n    .dataframe tbody tr th {\n        vertical-align: top;\n    }\n\n    .dataframe thead th {\n        text-align: right;\n    }\n</style>\n<table border=\"1\" class=\"dataframe\">\n  <thead>\n    <tr style=\"text-align: right;\">\n      <th></th>\n      <th>membership_number</th>\n      <th>invoice_total</th>\n      <th>funded_total</th>\n      <th>subtraction</th>\n    </tr>\n  </thead>\n  <tbody>\n    <tr>\n      <th>0</th>\n      <td>100211377</td>\n      <td>3131.25</td>\n      <td>3131.25</td>\n      <td>0.00</td>\n    </tr>\n    <tr>\n      <th>1</th>\n      <td>100348708</td>\n      <td>105389.55</td>\n      <td>48738.66</td>\n      <td>56650.89</td>\n    </tr>\n    <tr>\n      <th>2</th>\n      <td>100633545</td>\n      <td>99779.60</td>\n      <td>95339.64</td>\n      <td>4439.96</td>\n    </tr>\n    <tr>\n      <th>3</th>\n      <td>100969245</td>\n      <td>430467.16</td>\n      <td>386833.71</td>\n      <td>43633.45</td>\n    </tr>\n    <tr>\n      <th>4</th>\n      <td>10121655</td>\n      <td>1260.94</td>\n      <td>1260.94</td>\n      <td>0.00</td>\n    </tr>\n    <tr>\n      <th>...</th>\n      <td>...</td>\n      <td>...</td>\n      <td>...</td>\n      <td>...</td>\n    </tr>\n    <tr>\n      <th>5723</th>\n      <td>999135104</td>\n      <td>13635.22</td>\n      <td>11058.42</td>\n      <td>2576.80</td>\n    </tr>\n    <tr>\n      <th>5724</th>\n      <td>999445370</td>\n      <td>4736.14</td>\n      <td>4635.56</td>\n      <td>100.58</td>\n    </tr>\n    <tr>\n      <th>5725</th>\n      <td>999496234</td>\n      <td>5210.52</td>\n      <td>4431.51</td>\n      <td>779.01</td>\n    </tr>\n    <tr>\n      <th>5726</th>\n      <td>999694603</td>\n      <td>17519.26</td>\n      <td>9040.34</td>\n      <td>8478.92</td>\n    </tr>\n    <tr>\n      <th>5727</th>\n      <td>999781070</td>\n      <td>351476.09</td>\n      <td>328188.72</td>\n      <td>23287.37</td>\n    </tr>\n  </tbody>\n</table>\n<p>5728 rows × 4 columns</p>\n</div>"
     },
     "metadata": {},
     "execution_count": 109
    }
   ],
   "source": [
    "#subtract the invoice_total to fudned_total to see how user get reimbursemente - creat subtraction column\n",
    "\n",
    "df1['subtraction'] = df1['invoice_total'] - df1['funded_total']\n",
    "df1"
   ]
  },
  {
   "cell_type": "code",
   "execution_count": 110,
   "id": "14d7c1c6",
   "metadata": {},
   "outputs": [
    {
     "output_type": "stream",
     "name": "stdout",
     "text": [
      "<class 'pandas.core.frame.DataFrame'>\nInt64Index: 5730 entries, 0 to 5729\nData columns (total 16 columns):\n #   Column             Non-Null Count  Dtype  \n---  ------             --------------  -----  \n 0   membership_number  5730 non-null   object \n 1   invoice_total      5730 non-null   float64\n 2   funded_total       5730 non-null   float64\n 3   subtraction        5730 non-null   float64\n 4   member_id          5730 non-null   float64\n 5   status             5730 non-null   object \n 6   price_zone_code    5730 non-null   object \n 7   member_key         5730 non-null   object \n 8   u_ndis_number      5730 non-null   object \n 9   u_disabilities     5730 non-null   object \n 10  u_gender           5730 non-null   object \n 11  u_date_of_birth    5729 non-null   object \n 12  SA1                5609 non-null   float64\n 13  SA2                5609 non-null   float64\n 14  SA3                5609 non-null   float64\n 15  SA4                5609 non-null   float64\ndtypes: float64(8), object(8)\nmemory usage: 761.0+ KB\n"
     ]
    }
   ],
   "source": [
    "### Merging again\n",
    "df2 = pd.merge(df1, df_user, on=\"membership_number\", how=\"left\")\n",
    "df2.info()\n"
   ]
  },
  {
   "cell_type": "code",
   "execution_count": 111,
   "id": "3b83c661",
   "metadata": {},
   "outputs": [
    {
     "output_type": "execute_result",
     "data": {
      "text/plain": [
       "   membership_number  invoice_total  funded_total  subtraction  member_id  \\\n",
       "0          100211377        3131.25       3131.25         0.00     5793.0   \n",
       "1          100348708      105389.55      48738.66     56650.89     2700.0   \n",
       "2          100633545       99779.60      95339.64      4439.96     5365.0   \n",
       "3          100969245      430467.16     386833.71     43633.45     3267.0   \n",
       "4           10121655        1260.94       1260.94         0.00     5642.0   \n",
       "5          101279515        4810.00       4180.00       630.00     1092.0   \n",
       "6          101391416      107771.99      94603.44     13168.55     1042.0   \n",
       "7          101477884       28537.95      28291.27       246.68     3712.0   \n",
       "8          101503314      103055.72     102695.78       359.94     5497.0   \n",
       "9          101528743    17048064.52    5614195.49  11433869.03     3611.0   \n",
       "10         101676253        1719.85       1719.85         0.00     5800.0   \n",
       "11         101701683       61064.03      43086.19     17977.84     3340.0   \n",
       "12          10172518       46993.99      31832.62     15161.37     1945.0   \n",
       "13         101950915      579249.26     116122.35    463126.91     3570.0   \n",
       "14         101986519         528.48        528.48         0.00     6265.0   \n",
       "15         102011953      215433.65     160957.65     54476.00     3353.0   \n",
       "16         102098420        9466.53       9466.53         0.00     5371.0   \n",
       "17         102261181       52019.55      17483.21     34536.34     3525.0   \n",
       "18         102322219        2723.13       2428.96       294.17     1288.0   \n",
       "19         102408690       21177.45      21177.46        -0.01     5805.0   \n",
       "\n",
       "     status  price_zone_code                            member_key  \\\n",
       "0   managed  ACT_NSW_QLD_VIC  a8fa0b30-56c4-11eb-a532-d3aaaacb68df   \n",
       "1   managed  ACT_NSW_QLD_VIC  b33d6da0-d50d-11ea-8224-836b70d82925   \n",
       "2   managed  ACT_NSW_QLD_VIC  02e01760-2ac0-11eb-96d1-5d2a1e5a1f4e   \n",
       "3   managed  ACT_NSW_QLD_VIC  d3d41ed0-dcef-11ea-a5ac-61abce895864   \n",
       "4   managed  ACT_NSW_QLD_VIC  fa601d30-4336-11eb-914b-837581d0325d   \n",
       "5   managed  ACT_NSW_QLD_VIC  f38d5e50-c7f3-11ea-baa6-ebfe92aca975   \n",
       "6   managed  ACT_NSW_QLD_VIC  f28479d0-c7f3-11ea-baa6-ebfe92aca975   \n",
       "7   managed     NT_SA_TAS_WA  20a70250-e2b7-11ea-8713-199aa8c5c32a   \n",
       "8   managed     NT_SA_TAS_WA  3b4191a0-352f-11eb-9292-8b2fd1c3e301   \n",
       "9   managed  ACT_NSW_QLD_VIC  dfa55710-ddb7-11ea-a31a-7d25e47a5c0a   \n",
       "10  managed  ACT_NSW_QLD_VIC  661f10a0-56ea-11eb-8957-4bcd542e4c77   \n",
       "11  managed     NT_SA_TAS_WA  d5573c60-dcef-11ea-a5ac-61abce895864   \n",
       "12  managed  ACT_NSW_QLD_VIC  60eb3a40-d21b-11ea-b617-61a96cd5c136   \n",
       "13  managed  ACT_NSW_QLD_VIC  decad590-ddb7-11ea-a31a-7d25e47a5c0a   \n",
       "14  managed  ACT_NSW_QLD_VIC  9b54d1b0-7a58-11eb-b326-2f324d69128f   \n",
       "15  managed  ACT_NSW_QLD_VIC  d599eab0-dcef-11ea-a5ac-61abce895864   \n",
       "16  managed  ACT_NSW_QLD_VIC  18cfaf40-2ac5-11eb-9fe3-539c84d00ab4   \n",
       "17  managed  ACT_NSW_QLD_VIC  dde0c3b0-ddb7-11ea-a31a-7d25e47a5c0a   \n",
       "18  managed  ACT_NSW_QLD_VIC  f79e52b0-c7f3-11ea-baa6-ebfe92aca975   \n",
       "19  managed  ACT_NSW_QLD_VIC  ac72e4d0-56f1-11eb-88a7-9744e5a3e4b1   \n",
       "\n",
       "   u_ndis_number           u_disabilities u_gender u_date_of_birth        SA1  \\\n",
       "0      100211377                              Male      1966-02-06        NaN   \n",
       "1      100348708                            Female      1966-02-06        0.0   \n",
       "2      100633545                            Female      1991-02-06  3125124.0   \n",
       "3      100969245                            Female      1967-02-06  3136525.0   \n",
       "4       10121655                              Male      1981-01-04        0.0   \n",
       "5      101279515                            Female      1990-02-06        0.0   \n",
       "6      101391416  Intellectual disability   Female      1967-02-06  3124942.0   \n",
       "7      101477884                 Anxiety      Male      1992-02-06        0.0   \n",
       "8      101503314                            Female      1941-02-06  5104305.0   \n",
       "9      101528743                                        1967-02-06        0.0   \n",
       "10     101676253                      ASD     Male      1992-02-07  3144716.0   \n",
       "11     101701683                            Female      2015-02-07  6103127.0   \n",
       "12      10172518                                        1981-01-04  2146621.0   \n",
       "13     101950915                                        1990-02-07  3117014.0   \n",
       "14     101986519                              Male      1941-02-07        0.0   \n",
       "15     102011953                            Female      1965-02-07  3101623.0   \n",
       "16     102098420                            Female      2015-02-07        0.0   \n",
       "17     102261181      Parkinson's disease               1941-02-07  3141408.0   \n",
       "18     102322219                              Male      1990-02-07  3153415.0   \n",
       "19     102408690                            Female      1941-02-07  3139404.0   \n",
       "\n",
       "        SA2      SA3    SA4  \n",
       "0       NaN      NaN    NaN  \n",
       "1       0.0      0.0    0.0  \n",
       "2   31251.0  30907.0  309.0  \n",
       "3   31365.0  31302.0  313.0  \n",
       "4       0.0      0.0    0.0  \n",
       "5       0.0      0.0    0.0  \n",
       "6   31249.0  30906.0  309.0  \n",
       "7       0.0      0.0    0.0  \n",
       "8   51043.0  50302.0  503.0  \n",
       "9       0.0      0.0    0.0  \n",
       "10  31447.0  31701.0  317.0  \n",
       "11  61031.0  60105.0  601.0  \n",
       "12  21466.0  21305.0  213.0  \n",
       "13  31170.0  30605.0  306.0  \n",
       "14      0.0      0.0    0.0  \n",
       "15  31016.0  30103.0  301.0  \n",
       "16      0.0      0.0    0.0  \n",
       "17  31414.0  31601.0  316.0  \n",
       "18  31534.0  30805.0  308.0  \n",
       "19  31394.0  31403.0  314.0  "
      ],
      "text/html": "<div>\n<style scoped>\n    .dataframe tbody tr th:only-of-type {\n        vertical-align: middle;\n    }\n\n    .dataframe tbody tr th {\n        vertical-align: top;\n    }\n\n    .dataframe thead th {\n        text-align: right;\n    }\n</style>\n<table border=\"1\" class=\"dataframe\">\n  <thead>\n    <tr style=\"text-align: right;\">\n      <th></th>\n      <th>membership_number</th>\n      <th>invoice_total</th>\n      <th>funded_total</th>\n      <th>subtraction</th>\n      <th>member_id</th>\n      <th>status</th>\n      <th>price_zone_code</th>\n      <th>member_key</th>\n      <th>u_ndis_number</th>\n      <th>u_disabilities</th>\n      <th>u_gender</th>\n      <th>u_date_of_birth</th>\n      <th>SA1</th>\n      <th>SA2</th>\n      <th>SA3</th>\n      <th>SA4</th>\n    </tr>\n  </thead>\n  <tbody>\n    <tr>\n      <th>0</th>\n      <td>100211377</td>\n      <td>3131.25</td>\n      <td>3131.25</td>\n      <td>0.00</td>\n      <td>5793.0</td>\n      <td>managed</td>\n      <td>ACT_NSW_QLD_VIC</td>\n      <td>a8fa0b30-56c4-11eb-a532-d3aaaacb68df</td>\n      <td>100211377</td>\n      <td></td>\n      <td>Male</td>\n      <td>1966-02-06</td>\n      <td>NaN</td>\n      <td>NaN</td>\n      <td>NaN</td>\n      <td>NaN</td>\n    </tr>\n    <tr>\n      <th>1</th>\n      <td>100348708</td>\n      <td>105389.55</td>\n      <td>48738.66</td>\n      <td>56650.89</td>\n      <td>2700.0</td>\n      <td>managed</td>\n      <td>ACT_NSW_QLD_VIC</td>\n      <td>b33d6da0-d50d-11ea-8224-836b70d82925</td>\n      <td>100348708</td>\n      <td></td>\n      <td>Female</td>\n      <td>1966-02-06</td>\n      <td>0.0</td>\n      <td>0.0</td>\n      <td>0.0</td>\n      <td>0.0</td>\n    </tr>\n    <tr>\n      <th>2</th>\n      <td>100633545</td>\n      <td>99779.60</td>\n      <td>95339.64</td>\n      <td>4439.96</td>\n      <td>5365.0</td>\n      <td>managed</td>\n      <td>ACT_NSW_QLD_VIC</td>\n      <td>02e01760-2ac0-11eb-96d1-5d2a1e5a1f4e</td>\n      <td>100633545</td>\n      <td></td>\n      <td>Female</td>\n      <td>1991-02-06</td>\n      <td>3125124.0</td>\n      <td>31251.0</td>\n      <td>30907.0</td>\n      <td>309.0</td>\n    </tr>\n    <tr>\n      <th>3</th>\n      <td>100969245</td>\n      <td>430467.16</td>\n      <td>386833.71</td>\n      <td>43633.45</td>\n      <td>3267.0</td>\n      <td>managed</td>\n      <td>ACT_NSW_QLD_VIC</td>\n      <td>d3d41ed0-dcef-11ea-a5ac-61abce895864</td>\n      <td>100969245</td>\n      <td></td>\n      <td>Female</td>\n      <td>1967-02-06</td>\n      <td>3136525.0</td>\n      <td>31365.0</td>\n      <td>31302.0</td>\n      <td>313.0</td>\n    </tr>\n    <tr>\n      <th>4</th>\n      <td>10121655</td>\n      <td>1260.94</td>\n      <td>1260.94</td>\n      <td>0.00</td>\n      <td>5642.0</td>\n      <td>managed</td>\n      <td>ACT_NSW_QLD_VIC</td>\n      <td>fa601d30-4336-11eb-914b-837581d0325d</td>\n      <td>10121655</td>\n      <td></td>\n      <td>Male</td>\n      <td>1981-01-04</td>\n      <td>0.0</td>\n      <td>0.0</td>\n      <td>0.0</td>\n      <td>0.0</td>\n    </tr>\n    <tr>\n      <th>5</th>\n      <td>101279515</td>\n      <td>4810.00</td>\n      <td>4180.00</td>\n      <td>630.00</td>\n      <td>1092.0</td>\n      <td>managed</td>\n      <td>ACT_NSW_QLD_VIC</td>\n      <td>f38d5e50-c7f3-11ea-baa6-ebfe92aca975</td>\n      <td>101279515</td>\n      <td></td>\n      <td>Female</td>\n      <td>1990-02-06</td>\n      <td>0.0</td>\n      <td>0.0</td>\n      <td>0.0</td>\n      <td>0.0</td>\n    </tr>\n    <tr>\n      <th>6</th>\n      <td>101391416</td>\n      <td>107771.99</td>\n      <td>94603.44</td>\n      <td>13168.55</td>\n      <td>1042.0</td>\n      <td>managed</td>\n      <td>ACT_NSW_QLD_VIC</td>\n      <td>f28479d0-c7f3-11ea-baa6-ebfe92aca975</td>\n      <td>101391416</td>\n      <td>Intellectual disability</td>\n      <td>Female</td>\n      <td>1967-02-06</td>\n      <td>3124942.0</td>\n      <td>31249.0</td>\n      <td>30906.0</td>\n      <td>309.0</td>\n    </tr>\n    <tr>\n      <th>7</th>\n      <td>101477884</td>\n      <td>28537.95</td>\n      <td>28291.27</td>\n      <td>246.68</td>\n      <td>3712.0</td>\n      <td>managed</td>\n      <td>NT_SA_TAS_WA</td>\n      <td>20a70250-e2b7-11ea-8713-199aa8c5c32a</td>\n      <td>101477884</td>\n      <td>Anxiety</td>\n      <td>Male</td>\n      <td>1992-02-06</td>\n      <td>0.0</td>\n      <td>0.0</td>\n      <td>0.0</td>\n      <td>0.0</td>\n    </tr>\n    <tr>\n      <th>8</th>\n      <td>101503314</td>\n      <td>103055.72</td>\n      <td>102695.78</td>\n      <td>359.94</td>\n      <td>5497.0</td>\n      <td>managed</td>\n      <td>NT_SA_TAS_WA</td>\n      <td>3b4191a0-352f-11eb-9292-8b2fd1c3e301</td>\n      <td>101503314</td>\n      <td></td>\n      <td>Female</td>\n      <td>1941-02-06</td>\n      <td>5104305.0</td>\n      <td>51043.0</td>\n      <td>50302.0</td>\n      <td>503.0</td>\n    </tr>\n    <tr>\n      <th>9</th>\n      <td>101528743</td>\n      <td>17048064.52</td>\n      <td>5614195.49</td>\n      <td>11433869.03</td>\n      <td>3611.0</td>\n      <td>managed</td>\n      <td>ACT_NSW_QLD_VIC</td>\n      <td>dfa55710-ddb7-11ea-a31a-7d25e47a5c0a</td>\n      <td>101528743</td>\n      <td></td>\n      <td></td>\n      <td>1967-02-06</td>\n      <td>0.0</td>\n      <td>0.0</td>\n      <td>0.0</td>\n      <td>0.0</td>\n    </tr>\n    <tr>\n      <th>10</th>\n      <td>101676253</td>\n      <td>1719.85</td>\n      <td>1719.85</td>\n      <td>0.00</td>\n      <td>5800.0</td>\n      <td>managed</td>\n      <td>ACT_NSW_QLD_VIC</td>\n      <td>661f10a0-56ea-11eb-8957-4bcd542e4c77</td>\n      <td>101676253</td>\n      <td>ASD</td>\n      <td>Male</td>\n      <td>1992-02-07</td>\n      <td>3144716.0</td>\n      <td>31447.0</td>\n      <td>31701.0</td>\n      <td>317.0</td>\n    </tr>\n    <tr>\n      <th>11</th>\n      <td>101701683</td>\n      <td>61064.03</td>\n      <td>43086.19</td>\n      <td>17977.84</td>\n      <td>3340.0</td>\n      <td>managed</td>\n      <td>NT_SA_TAS_WA</td>\n      <td>d5573c60-dcef-11ea-a5ac-61abce895864</td>\n      <td>101701683</td>\n      <td></td>\n      <td>Female</td>\n      <td>2015-02-07</td>\n      <td>6103127.0</td>\n      <td>61031.0</td>\n      <td>60105.0</td>\n      <td>601.0</td>\n    </tr>\n    <tr>\n      <th>12</th>\n      <td>10172518</td>\n      <td>46993.99</td>\n      <td>31832.62</td>\n      <td>15161.37</td>\n      <td>1945.0</td>\n      <td>managed</td>\n      <td>ACT_NSW_QLD_VIC</td>\n      <td>60eb3a40-d21b-11ea-b617-61a96cd5c136</td>\n      <td>10172518</td>\n      <td></td>\n      <td></td>\n      <td>1981-01-04</td>\n      <td>2146621.0</td>\n      <td>21466.0</td>\n      <td>21305.0</td>\n      <td>213.0</td>\n    </tr>\n    <tr>\n      <th>13</th>\n      <td>101950915</td>\n      <td>579249.26</td>\n      <td>116122.35</td>\n      <td>463126.91</td>\n      <td>3570.0</td>\n      <td>managed</td>\n      <td>ACT_NSW_QLD_VIC</td>\n      <td>decad590-ddb7-11ea-a31a-7d25e47a5c0a</td>\n      <td>101950915</td>\n      <td></td>\n      <td></td>\n      <td>1990-02-07</td>\n      <td>3117014.0</td>\n      <td>31170.0</td>\n      <td>30605.0</td>\n      <td>306.0</td>\n    </tr>\n    <tr>\n      <th>14</th>\n      <td>101986519</td>\n      <td>528.48</td>\n      <td>528.48</td>\n      <td>0.00</td>\n      <td>6265.0</td>\n      <td>managed</td>\n      <td>ACT_NSW_QLD_VIC</td>\n      <td>9b54d1b0-7a58-11eb-b326-2f324d69128f</td>\n      <td>101986519</td>\n      <td></td>\n      <td>Male</td>\n      <td>1941-02-07</td>\n      <td>0.0</td>\n      <td>0.0</td>\n      <td>0.0</td>\n      <td>0.0</td>\n    </tr>\n    <tr>\n      <th>15</th>\n      <td>102011953</td>\n      <td>215433.65</td>\n      <td>160957.65</td>\n      <td>54476.00</td>\n      <td>3353.0</td>\n      <td>managed</td>\n      <td>ACT_NSW_QLD_VIC</td>\n      <td>d599eab0-dcef-11ea-a5ac-61abce895864</td>\n      <td>102011953</td>\n      <td></td>\n      <td>Female</td>\n      <td>1965-02-07</td>\n      <td>3101623.0</td>\n      <td>31016.0</td>\n      <td>30103.0</td>\n      <td>301.0</td>\n    </tr>\n    <tr>\n      <th>16</th>\n      <td>102098420</td>\n      <td>9466.53</td>\n      <td>9466.53</td>\n      <td>0.00</td>\n      <td>5371.0</td>\n      <td>managed</td>\n      <td>ACT_NSW_QLD_VIC</td>\n      <td>18cfaf40-2ac5-11eb-9fe3-539c84d00ab4</td>\n      <td>102098420</td>\n      <td></td>\n      <td>Female</td>\n      <td>2015-02-07</td>\n      <td>0.0</td>\n      <td>0.0</td>\n      <td>0.0</td>\n      <td>0.0</td>\n    </tr>\n    <tr>\n      <th>17</th>\n      <td>102261181</td>\n      <td>52019.55</td>\n      <td>17483.21</td>\n      <td>34536.34</td>\n      <td>3525.0</td>\n      <td>managed</td>\n      <td>ACT_NSW_QLD_VIC</td>\n      <td>dde0c3b0-ddb7-11ea-a31a-7d25e47a5c0a</td>\n      <td>102261181</td>\n      <td>Parkinson's disease</td>\n      <td></td>\n      <td>1941-02-07</td>\n      <td>3141408.0</td>\n      <td>31414.0</td>\n      <td>31601.0</td>\n      <td>316.0</td>\n    </tr>\n    <tr>\n      <th>18</th>\n      <td>102322219</td>\n      <td>2723.13</td>\n      <td>2428.96</td>\n      <td>294.17</td>\n      <td>1288.0</td>\n      <td>managed</td>\n      <td>ACT_NSW_QLD_VIC</td>\n      <td>f79e52b0-c7f3-11ea-baa6-ebfe92aca975</td>\n      <td>102322219</td>\n      <td></td>\n      <td>Male</td>\n      <td>1990-02-07</td>\n      <td>3153415.0</td>\n      <td>31534.0</td>\n      <td>30805.0</td>\n      <td>308.0</td>\n    </tr>\n    <tr>\n      <th>19</th>\n      <td>102408690</td>\n      <td>21177.45</td>\n      <td>21177.46</td>\n      <td>-0.01</td>\n      <td>5805.0</td>\n      <td>managed</td>\n      <td>ACT_NSW_QLD_VIC</td>\n      <td>ac72e4d0-56f1-11eb-88a7-9744e5a3e4b1</td>\n      <td>102408690</td>\n      <td></td>\n      <td>Female</td>\n      <td>1941-02-07</td>\n      <td>3139404.0</td>\n      <td>31394.0</td>\n      <td>31403.0</td>\n      <td>314.0</td>\n    </tr>\n  </tbody>\n</table>\n</div>"
     },
     "metadata": {},
     "execution_count": 111
    }
   ],
   "source": [
    "df2.head(20)"
   ]
  },
  {
   "cell_type": "code",
   "execution_count": 112,
   "id": "95390c5f",
   "metadata": {},
   "outputs": [
    {
     "output_type": "stream",
     "name": "stdout",
     "text": [
      "<class 'pandas.core.frame.DataFrame'>\nInt64Index: 5730 entries, 0 to 5729\nData columns (total 8 columns):\n #   Column             Non-Null Count  Dtype  \n---  ------             --------------  -----  \n 0   funded_total       5730 non-null   float64\n 1   subtraction        5730 non-null   float64\n 2   membership_number  5730 non-null   object \n 3   status             5730 non-null   object \n 4   u_gender           5730 non-null   object \n 5   u_disabilities     5730 non-null   object \n 6   invoice_total      5730 non-null   float64\n 7   price_zone_code    5730 non-null   object \ndtypes: float64(3), object(5)\nmemory usage: 402.9+ KB\n"
     ]
    }
   ],
   "source": [
    "#Select interested columns\n",
    "cols_of_interest = {'membership_number', 'invoice_total', 'funded_total', 'subtraction', 'status', 'price_zone_code', \n",
    "                   'u_disabilities', 'u_gender'}\n",
    "df2 = df2[cols_of_interest]\n",
    "df2.info()"
   ]
  },
  {
   "cell_type": "code",
   "execution_count": 113,
   "id": "ec3bd83a",
   "metadata": {},
   "outputs": [
    {
     "output_type": "execute_result",
     "data": {
      "text/plain": [
       "   membership_number  invoice_total  funded_total  subtraction  \\\n",
       "0          100211377        3131.25       3131.25         0.00   \n",
       "1          100348708      105389.55      48738.66     56650.89   \n",
       "2          100633545       99779.60      95339.64      4439.96   \n",
       "3          100969245      430467.16     386833.71     43633.45   \n",
       "4           10121655        1260.94       1260.94         0.00   \n",
       "5          101279515        4810.00       4180.00       630.00   \n",
       "6          101391416      107771.99      94603.44     13168.55   \n",
       "7          101477884       28537.95      28291.27       246.68   \n",
       "8          101503314      103055.72     102695.78       359.94   \n",
       "9          101528743    17048064.52    5614195.49  11433869.03   \n",
       "10         101676253        1719.85       1719.85         0.00   \n",
       "11         101701683       61064.03      43086.19     17977.84   \n",
       "12          10172518       46993.99      31832.62     15161.37   \n",
       "13         101950915      579249.26     116122.35    463126.91   \n",
       "14         101986519         528.48        528.48         0.00   \n",
       "15         102011953      215433.65     160957.65     54476.00   \n",
       "16         102098420        9466.53       9466.53         0.00   \n",
       "17         102261181       52019.55      17483.21     34536.34   \n",
       "18         102322219        2723.13       2428.96       294.17   \n",
       "19         102408690       21177.45      21177.46        -0.01   \n",
       "\n",
       "             u_disabilities u_gender  price_zone_code   status  \n",
       "0                               Male  ACT_NSW_QLD_VIC  managed  \n",
       "1                             Female  ACT_NSW_QLD_VIC  managed  \n",
       "2                             Female  ACT_NSW_QLD_VIC  managed  \n",
       "3                             Female  ACT_NSW_QLD_VIC  managed  \n",
       "4                               Male  ACT_NSW_QLD_VIC  managed  \n",
       "5                             Female  ACT_NSW_QLD_VIC  managed  \n",
       "6   Intellectual disability   Female  ACT_NSW_QLD_VIC  managed  \n",
       "7                  Anxiety      Male     NT_SA_TAS_WA  managed  \n",
       "8                             Female     NT_SA_TAS_WA  managed  \n",
       "9                                     ACT_NSW_QLD_VIC  managed  \n",
       "10                      ASD     Male  ACT_NSW_QLD_VIC  managed  \n",
       "11                            Female     NT_SA_TAS_WA  managed  \n",
       "12                                    ACT_NSW_QLD_VIC  managed  \n",
       "13                                    ACT_NSW_QLD_VIC  managed  \n",
       "14                              Male  ACT_NSW_QLD_VIC  managed  \n",
       "15                            Female  ACT_NSW_QLD_VIC  managed  \n",
       "16                            Female  ACT_NSW_QLD_VIC  managed  \n",
       "17      Parkinson's disease           ACT_NSW_QLD_VIC  managed  \n",
       "18                              Male  ACT_NSW_QLD_VIC  managed  \n",
       "19                            Female  ACT_NSW_QLD_VIC  managed  "
      ],
      "text/html": "<div>\n<style scoped>\n    .dataframe tbody tr th:only-of-type {\n        vertical-align: middle;\n    }\n\n    .dataframe tbody tr th {\n        vertical-align: top;\n    }\n\n    .dataframe thead th {\n        text-align: right;\n    }\n</style>\n<table border=\"1\" class=\"dataframe\">\n  <thead>\n    <tr style=\"text-align: right;\">\n      <th></th>\n      <th>membership_number</th>\n      <th>invoice_total</th>\n      <th>funded_total</th>\n      <th>subtraction</th>\n      <th>u_disabilities</th>\n      <th>u_gender</th>\n      <th>price_zone_code</th>\n      <th>status</th>\n    </tr>\n  </thead>\n  <tbody>\n    <tr>\n      <th>0</th>\n      <td>100211377</td>\n      <td>3131.25</td>\n      <td>3131.25</td>\n      <td>0.00</td>\n      <td></td>\n      <td>Male</td>\n      <td>ACT_NSW_QLD_VIC</td>\n      <td>managed</td>\n    </tr>\n    <tr>\n      <th>1</th>\n      <td>100348708</td>\n      <td>105389.55</td>\n      <td>48738.66</td>\n      <td>56650.89</td>\n      <td></td>\n      <td>Female</td>\n      <td>ACT_NSW_QLD_VIC</td>\n      <td>managed</td>\n    </tr>\n    <tr>\n      <th>2</th>\n      <td>100633545</td>\n      <td>99779.60</td>\n      <td>95339.64</td>\n      <td>4439.96</td>\n      <td></td>\n      <td>Female</td>\n      <td>ACT_NSW_QLD_VIC</td>\n      <td>managed</td>\n    </tr>\n    <tr>\n      <th>3</th>\n      <td>100969245</td>\n      <td>430467.16</td>\n      <td>386833.71</td>\n      <td>43633.45</td>\n      <td></td>\n      <td>Female</td>\n      <td>ACT_NSW_QLD_VIC</td>\n      <td>managed</td>\n    </tr>\n    <tr>\n      <th>4</th>\n      <td>10121655</td>\n      <td>1260.94</td>\n      <td>1260.94</td>\n      <td>0.00</td>\n      <td></td>\n      <td>Male</td>\n      <td>ACT_NSW_QLD_VIC</td>\n      <td>managed</td>\n    </tr>\n    <tr>\n      <th>5</th>\n      <td>101279515</td>\n      <td>4810.00</td>\n      <td>4180.00</td>\n      <td>630.00</td>\n      <td></td>\n      <td>Female</td>\n      <td>ACT_NSW_QLD_VIC</td>\n      <td>managed</td>\n    </tr>\n    <tr>\n      <th>6</th>\n      <td>101391416</td>\n      <td>107771.99</td>\n      <td>94603.44</td>\n      <td>13168.55</td>\n      <td>Intellectual disability</td>\n      <td>Female</td>\n      <td>ACT_NSW_QLD_VIC</td>\n      <td>managed</td>\n    </tr>\n    <tr>\n      <th>7</th>\n      <td>101477884</td>\n      <td>28537.95</td>\n      <td>28291.27</td>\n      <td>246.68</td>\n      <td>Anxiety</td>\n      <td>Male</td>\n      <td>NT_SA_TAS_WA</td>\n      <td>managed</td>\n    </tr>\n    <tr>\n      <th>8</th>\n      <td>101503314</td>\n      <td>103055.72</td>\n      <td>102695.78</td>\n      <td>359.94</td>\n      <td></td>\n      <td>Female</td>\n      <td>NT_SA_TAS_WA</td>\n      <td>managed</td>\n    </tr>\n    <tr>\n      <th>9</th>\n      <td>101528743</td>\n      <td>17048064.52</td>\n      <td>5614195.49</td>\n      <td>11433869.03</td>\n      <td></td>\n      <td></td>\n      <td>ACT_NSW_QLD_VIC</td>\n      <td>managed</td>\n    </tr>\n    <tr>\n      <th>10</th>\n      <td>101676253</td>\n      <td>1719.85</td>\n      <td>1719.85</td>\n      <td>0.00</td>\n      <td>ASD</td>\n      <td>Male</td>\n      <td>ACT_NSW_QLD_VIC</td>\n      <td>managed</td>\n    </tr>\n    <tr>\n      <th>11</th>\n      <td>101701683</td>\n      <td>61064.03</td>\n      <td>43086.19</td>\n      <td>17977.84</td>\n      <td></td>\n      <td>Female</td>\n      <td>NT_SA_TAS_WA</td>\n      <td>managed</td>\n    </tr>\n    <tr>\n      <th>12</th>\n      <td>10172518</td>\n      <td>46993.99</td>\n      <td>31832.62</td>\n      <td>15161.37</td>\n      <td></td>\n      <td></td>\n      <td>ACT_NSW_QLD_VIC</td>\n      <td>managed</td>\n    </tr>\n    <tr>\n      <th>13</th>\n      <td>101950915</td>\n      <td>579249.26</td>\n      <td>116122.35</td>\n      <td>463126.91</td>\n      <td></td>\n      <td></td>\n      <td>ACT_NSW_QLD_VIC</td>\n      <td>managed</td>\n    </tr>\n    <tr>\n      <th>14</th>\n      <td>101986519</td>\n      <td>528.48</td>\n      <td>528.48</td>\n      <td>0.00</td>\n      <td></td>\n      <td>Male</td>\n      <td>ACT_NSW_QLD_VIC</td>\n      <td>managed</td>\n    </tr>\n    <tr>\n      <th>15</th>\n      <td>102011953</td>\n      <td>215433.65</td>\n      <td>160957.65</td>\n      <td>54476.00</td>\n      <td></td>\n      <td>Female</td>\n      <td>ACT_NSW_QLD_VIC</td>\n      <td>managed</td>\n    </tr>\n    <tr>\n      <th>16</th>\n      <td>102098420</td>\n      <td>9466.53</td>\n      <td>9466.53</td>\n      <td>0.00</td>\n      <td></td>\n      <td>Female</td>\n      <td>ACT_NSW_QLD_VIC</td>\n      <td>managed</td>\n    </tr>\n    <tr>\n      <th>17</th>\n      <td>102261181</td>\n      <td>52019.55</td>\n      <td>17483.21</td>\n      <td>34536.34</td>\n      <td>Parkinson's disease</td>\n      <td></td>\n      <td>ACT_NSW_QLD_VIC</td>\n      <td>managed</td>\n    </tr>\n    <tr>\n      <th>18</th>\n      <td>102322219</td>\n      <td>2723.13</td>\n      <td>2428.96</td>\n      <td>294.17</td>\n      <td></td>\n      <td>Male</td>\n      <td>ACT_NSW_QLD_VIC</td>\n      <td>managed</td>\n    </tr>\n    <tr>\n      <th>19</th>\n      <td>102408690</td>\n      <td>21177.45</td>\n      <td>21177.46</td>\n      <td>-0.01</td>\n      <td></td>\n      <td>Female</td>\n      <td>ACT_NSW_QLD_VIC</td>\n      <td>managed</td>\n    </tr>\n  </tbody>\n</table>\n</div>"
     },
     "metadata": {},
     "execution_count": 113
    }
   ],
   "source": [
    "#Re-arrange that mess\n",
    "\n",
    "df2 = df2[['membership_number', 'invoice_total', 'funded_total', 'subtraction',   \n",
    "                   'u_disabilities', 'u_gender','price_zone_code','status']]\n",
    "\n",
    "df2.head(20)"
   ]
  },
  {
   "cell_type": "code",
   "execution_count": 114,
   "id": "3b9f3511",
   "metadata": {},
   "outputs": [
    {
     "output_type": "execute_result",
     "data": {
      "text/plain": [
       "                                                                                                                   4493\n",
       "Intellectual disability                                                                                              93\n",
       "ADHD                                                                                                                 59\n",
       "Down syndrome                                                                                                        40\n",
       "Cerebral palsy                                                                                                       39\n",
       "                                                                                                                   ... \n",
       "Relapsing remitting , Multiple Sclerosis                                                                              1\n",
       "Autism with anxiety                                                                                                   1\n",
       "Anxiety, Neurogenic Bladder & Bowel, ADHD, Epilepsy, Chiari Malformation, Intellectual disability, Spina bifida       1\n",
       "Sciatica                                                                                                              1\n",
       "Ehlers Danlos Syndrome, Paraplegia, Epilepsy                                                                          1\n",
       "Name: u_disabilities, Length: 569, dtype: int64"
      ]
     },
     "metadata": {},
     "execution_count": 114
    }
   ],
   "source": [
    "#Checking u_dis\n",
    "\n",
    "df2['u_disabilities'].value_counts()"
   ]
  },
  {
   "cell_type": "code",
   "execution_count": 115,
   "id": "b3c5da95",
   "metadata": {},
   "outputs": [
    {
     "output_type": "execute_result",
     "data": {
      "text/plain": [
       "others                                                                                                             4493\n",
       "Intellectual disability                                                                                              93\n",
       "ADHD                                                                                                                 59\n",
       "Down syndrome                                                                                                        40\n",
       "Cerebral palsy                                                                                                       39\n",
       "                                                                                                                   ... \n",
       "Anxiety, Suicidal, Inflamed Bersers In Shoulders, Social Seclusion , Paraplegia, Depression                           1\n",
       "Relapsing remitting , Multiple Sclerosis                                                                              1\n",
       "Autism with anxiety                                                                                                   1\n",
       "Anxiety, Neurogenic Bladder & Bowel, ADHD, Epilepsy, Chiari Malformation, Intellectual disability, Spina bifida       1\n",
       "Ehlers Danlos Syndrome, Paraplegia, Epilepsy                                                                          1\n",
       "Name: u_disabilities, Length: 569, dtype: int64"
      ]
     },
     "metadata": {},
     "execution_count": 115
    }
   ],
   "source": [
    "#df2['u_disabilities'].mask(df2['u_disabilities'] == ' ', \"others\", inplace = False)\n",
    "df2['u_disabilities'] = df2['u_disabilities'].replace([''],'others')\n",
    "\n",
    "df2['u_disabilities'].value_counts()"
   ]
  },
  {
   "cell_type": "code",
   "execution_count": 116,
   "id": "3edddd5e",
   "metadata": {},
   "outputs": [
    {
     "output_type": "stream",
     "name": "stdout",
     "text": [
      "<class 'pandas.core.frame.DataFrame'>\nInt64Index: 5730 entries, 0 to 5729\nData columns (total 8 columns):\n #   Column             Non-Null Count  Dtype  \n---  ------             --------------  -----  \n 0   membership_number  5730 non-null   object \n 1   invoice_total      5730 non-null   float64\n 2   funded_total       5730 non-null   float64\n 3   subtraction        5730 non-null   float64\n 4   u_disabilities     5730 non-null   object \n 5   u_gender           5730 non-null   object \n 6   price_zone_code    5730 non-null   object \n 7   status             5730 non-null   object \ndtypes: float64(3), object(5)\nmemory usage: 402.9+ KB\n"
     ]
    }
   ],
   "source": [
    "df2.info()"
   ]
  },
  {
   "cell_type": "code",
   "execution_count": 117,
   "id": "5a3af1d7",
   "metadata": {
    "scrolled": true
   },
   "outputs": [
    {
     "output_type": "execute_result",
     "data": {
      "text/plain": [
       "     membership_number  invoice_total  funded_total  subtraction  \\\n",
       "1            100348708      105389.55      48738.66     56650.89   \n",
       "3            100969245      430467.16     386833.71     43633.45   \n",
       "6            101391416      107771.99      94603.44     13168.55   \n",
       "9            101528743    17048064.52    5614195.49  11433869.03   \n",
       "11           101701683       61064.03      43086.19     17977.84   \n",
       "...                ...            ...           ...          ...   \n",
       "5709          99728172      808981.78     471210.21    337771.57   \n",
       "5718         998565427       20985.75       8374.39     12611.36   \n",
       "5720         998763796       51599.64      32850.29     18749.35   \n",
       "5723         998987595       26453.97      13622.03     12831.94   \n",
       "5729         999781070      351476.09     328188.72     23287.37   \n",
       "\n",
       "               u_disabilities u_gender  price_zone_code   status  \n",
       "1                      others   Female  ACT_NSW_QLD_VIC  managed  \n",
       "3                      others   Female  ACT_NSW_QLD_VIC  managed  \n",
       "6     Intellectual disability   Female  ACT_NSW_QLD_VIC  managed  \n",
       "9                      others           ACT_NSW_QLD_VIC  managed  \n",
       "11                     others   Female     NT_SA_TAS_WA  managed  \n",
       "...                       ...      ...              ...      ...  \n",
       "5709                   others     Male  ACT_NSW_QLD_VIC  managed  \n",
       "5718                   others           ACT_NSW_QLD_VIC  managed  \n",
       "5720                   others           ACT_NSW_QLD_VIC  managed  \n",
       "5723                    ADHD,     Male     NT_SA_TAS_WA  managed  \n",
       "5729                   others   Female  ACT_NSW_QLD_VIC  managed  \n",
       "\n",
       "[2055 rows x 8 columns]"
      ],
      "text/html": "<div>\n<style scoped>\n    .dataframe tbody tr th:only-of-type {\n        vertical-align: middle;\n    }\n\n    .dataframe tbody tr th {\n        vertical-align: top;\n    }\n\n    .dataframe thead th {\n        text-align: right;\n    }\n</style>\n<table border=\"1\" class=\"dataframe\">\n  <thead>\n    <tr style=\"text-align: right;\">\n      <th></th>\n      <th>membership_number</th>\n      <th>invoice_total</th>\n      <th>funded_total</th>\n      <th>subtraction</th>\n      <th>u_disabilities</th>\n      <th>u_gender</th>\n      <th>price_zone_code</th>\n      <th>status</th>\n    </tr>\n  </thead>\n  <tbody>\n    <tr>\n      <th>1</th>\n      <td>100348708</td>\n      <td>105389.55</td>\n      <td>48738.66</td>\n      <td>56650.89</td>\n      <td>others</td>\n      <td>Female</td>\n      <td>ACT_NSW_QLD_VIC</td>\n      <td>managed</td>\n    </tr>\n    <tr>\n      <th>3</th>\n      <td>100969245</td>\n      <td>430467.16</td>\n      <td>386833.71</td>\n      <td>43633.45</td>\n      <td>others</td>\n      <td>Female</td>\n      <td>ACT_NSW_QLD_VIC</td>\n      <td>managed</td>\n    </tr>\n    <tr>\n      <th>6</th>\n      <td>101391416</td>\n      <td>107771.99</td>\n      <td>94603.44</td>\n      <td>13168.55</td>\n      <td>Intellectual disability</td>\n      <td>Female</td>\n      <td>ACT_NSW_QLD_VIC</td>\n      <td>managed</td>\n    </tr>\n    <tr>\n      <th>9</th>\n      <td>101528743</td>\n      <td>17048064.52</td>\n      <td>5614195.49</td>\n      <td>11433869.03</td>\n      <td>others</td>\n      <td></td>\n      <td>ACT_NSW_QLD_VIC</td>\n      <td>managed</td>\n    </tr>\n    <tr>\n      <th>11</th>\n      <td>101701683</td>\n      <td>61064.03</td>\n      <td>43086.19</td>\n      <td>17977.84</td>\n      <td>others</td>\n      <td>Female</td>\n      <td>NT_SA_TAS_WA</td>\n      <td>managed</td>\n    </tr>\n    <tr>\n      <th>...</th>\n      <td>...</td>\n      <td>...</td>\n      <td>...</td>\n      <td>...</td>\n      <td>...</td>\n      <td>...</td>\n      <td>...</td>\n      <td>...</td>\n    </tr>\n    <tr>\n      <th>5709</th>\n      <td>99728172</td>\n      <td>808981.78</td>\n      <td>471210.21</td>\n      <td>337771.57</td>\n      <td>others</td>\n      <td>Male</td>\n      <td>ACT_NSW_QLD_VIC</td>\n      <td>managed</td>\n    </tr>\n    <tr>\n      <th>5718</th>\n      <td>998565427</td>\n      <td>20985.75</td>\n      <td>8374.39</td>\n      <td>12611.36</td>\n      <td>others</td>\n      <td></td>\n      <td>ACT_NSW_QLD_VIC</td>\n      <td>managed</td>\n    </tr>\n    <tr>\n      <th>5720</th>\n      <td>998763796</td>\n      <td>51599.64</td>\n      <td>32850.29</td>\n      <td>18749.35</td>\n      <td>others</td>\n      <td></td>\n      <td>ACT_NSW_QLD_VIC</td>\n      <td>managed</td>\n    </tr>\n    <tr>\n      <th>5723</th>\n      <td>998987595</td>\n      <td>26453.97</td>\n      <td>13622.03</td>\n      <td>12831.94</td>\n      <td>ADHD,</td>\n      <td>Male</td>\n      <td>NT_SA_TAS_WA</td>\n      <td>managed</td>\n    </tr>\n    <tr>\n      <th>5729</th>\n      <td>999781070</td>\n      <td>351476.09</td>\n      <td>328188.72</td>\n      <td>23287.37</td>\n      <td>others</td>\n      <td>Female</td>\n      <td>ACT_NSW_QLD_VIC</td>\n      <td>managed</td>\n    </tr>\n  </tbody>\n</table>\n<p>2055 rows × 8 columns</p>\n</div>"
     },
     "metadata": {},
     "execution_count": 117
    }
   ],
   "source": [
    "sub_0 = df2[df2['subtraction']> 1000]\n",
    "#sub_0\n",
    "\n",
    "sub_1 = df2[df2['subtraction']> 10000]\n",
    "sub_1\n",
    "\n",
    "#Set value for rows matching condition\n",
    "\n",
    "#df2[['subtraction'] > 1000] == 'High'\n",
    "#df2\n"
   ]
  },
  {
   "cell_type": "code",
   "execution_count": 118,
   "metadata": {},
   "outputs": [
    {
     "output_type": "stream",
     "name": "stdout",
     "text": [
      "<class 'pandas.core.frame.DataFrame'>\nInt64Index: 5730 entries, 0 to 5733\nData columns (total 11 columns):\n #   Column             Non-Null Count  Dtype  \n---  ------             --------------  -----  \n 0   membership_number  5730 non-null   object \n 1   invoice_total      5730 non-null   float64\n 2   funded_total       5730 non-null   float64\n 3   subtraction        5730 non-null   float64\n 4   u_disabilities     5730 non-null   object \n 5   u_gender           5730 non-null   object \n 6   SA4                3521 non-null   float64\n 7   SA4_NAME           3521 non-null   object \n 8   GCCSA_NAME         3521 non-null   object \n 9   STATE_NAME         3521 non-null   object \n 10  member_key         5730 non-null   object \ndtypes: float64(4), object(7)\nmemory usage: 537.2+ KB\n"
     ]
    },
    {
     "output_type": "execute_result",
     "data": {
      "text/plain": [
       "   membership_number  invoice_total  funded_total  subtraction u_disabilities  \\\n",
       "0          100211377        3131.25       3131.25         0.00         others   \n",
       "1          100348708      105389.55      48738.66     56650.89         others   \n",
       "2          100633545       99779.60      95339.64      4439.96         others   \n",
       "3          100969245      430467.16     386833.71     43633.45         others   \n",
       "4           10121655        1260.94       1260.94         0.00         others   \n",
       "..               ...            ...           ...          ...            ...   \n",
       "95         113842839       35468.38      18694.88     16773.50         others   \n",
       "96          11388161        2918.66       2918.66         0.00         others   \n",
       "97         114127679       18187.93      18187.95        -0.02         others   \n",
       "98         114463375        4583.05       3661.09       921.96         others   \n",
       "99         114997444       50946.40      40314.48     10631.92         others   \n",
       "\n",
       "   u_gender    SA4              SA4_NAME         GCCSA_NAME  STATE_NAME  \\\n",
       "0      Male    NaN                   NaN                NaN         NaN   \n",
       "1    Female    NaN                   NaN                NaN         NaN   \n",
       "2    Female  309.0            Gold Coast        Rest of Qld  Queensland   \n",
       "3    Female  313.0   Moreton Bay - North   Greater Brisbane  Queensland   \n",
       "4      Male    NaN                   NaN                NaN         NaN   \n",
       "..      ...    ...                   ...                ...         ...   \n",
       "95   Female    NaN                   NaN                NaN         NaN   \n",
       "96   Female  214.0  Mornington Peninsula  Greater Melbourne    Victoria   \n",
       "97   Female  310.0               Ipswich   Greater Brisbane  Queensland   \n",
       "98     Male  313.0   Moreton Bay - North   Greater Brisbane  Queensland   \n",
       "99   Female    NaN                   NaN                NaN         NaN   \n",
       "\n",
       "                              member_key  \n",
       "0   a8fa0b30-56c4-11eb-a532-d3aaaacb68df  \n",
       "1   b33d6da0-d50d-11ea-8224-836b70d82925  \n",
       "2   02e01760-2ac0-11eb-96d1-5d2a1e5a1f4e  \n",
       "3   d3d41ed0-dcef-11ea-a5ac-61abce895864  \n",
       "4   fa601d30-4336-11eb-914b-837581d0325d  \n",
       "..                                   ...  \n",
       "95  3585e7c0-e741-11ea-804b-97facb641bb5  \n",
       "96  bb1a9220-d7b3-11ea-a51d-3f9e5f9119be  \n",
       "97  8457dc40-5948-11eb-90e2-394d2efb95d8  \n",
       "98  fb69cda0-d23b-11ea-a13a-d188ddbdc773  \n",
       "99  f68c4670-c7f3-11ea-baa6-ebfe92aca975  \n",
       "\n",
       "[100 rows x 11 columns]"
      ],
      "text/html": "<div>\n<style scoped>\n    .dataframe tbody tr th:only-of-type {\n        vertical-align: middle;\n    }\n\n    .dataframe tbody tr th {\n        vertical-align: top;\n    }\n\n    .dataframe thead th {\n        text-align: right;\n    }\n</style>\n<table border=\"1\" class=\"dataframe\">\n  <thead>\n    <tr style=\"text-align: right;\">\n      <th></th>\n      <th>membership_number</th>\n      <th>invoice_total</th>\n      <th>funded_total</th>\n      <th>subtraction</th>\n      <th>u_disabilities</th>\n      <th>u_gender</th>\n      <th>SA4</th>\n      <th>SA4_NAME</th>\n      <th>GCCSA_NAME</th>\n      <th>STATE_NAME</th>\n      <th>member_key</th>\n    </tr>\n  </thead>\n  <tbody>\n    <tr>\n      <th>0</th>\n      <td>100211377</td>\n      <td>3131.25</td>\n      <td>3131.25</td>\n      <td>0.00</td>\n      <td>others</td>\n      <td>Male</td>\n      <td>NaN</td>\n      <td>NaN</td>\n      <td>NaN</td>\n      <td>NaN</td>\n      <td>a8fa0b30-56c4-11eb-a532-d3aaaacb68df</td>\n    </tr>\n    <tr>\n      <th>1</th>\n      <td>100348708</td>\n      <td>105389.55</td>\n      <td>48738.66</td>\n      <td>56650.89</td>\n      <td>others</td>\n      <td>Female</td>\n      <td>NaN</td>\n      <td>NaN</td>\n      <td>NaN</td>\n      <td>NaN</td>\n      <td>b33d6da0-d50d-11ea-8224-836b70d82925</td>\n    </tr>\n    <tr>\n      <th>2</th>\n      <td>100633545</td>\n      <td>99779.60</td>\n      <td>95339.64</td>\n      <td>4439.96</td>\n      <td>others</td>\n      <td>Female</td>\n      <td>309.0</td>\n      <td>Gold Coast</td>\n      <td>Rest of Qld</td>\n      <td>Queensland</td>\n      <td>02e01760-2ac0-11eb-96d1-5d2a1e5a1f4e</td>\n    </tr>\n    <tr>\n      <th>3</th>\n      <td>100969245</td>\n      <td>430467.16</td>\n      <td>386833.71</td>\n      <td>43633.45</td>\n      <td>others</td>\n      <td>Female</td>\n      <td>313.0</td>\n      <td>Moreton Bay - North</td>\n      <td>Greater Brisbane</td>\n      <td>Queensland</td>\n      <td>d3d41ed0-dcef-11ea-a5ac-61abce895864</td>\n    </tr>\n    <tr>\n      <th>4</th>\n      <td>10121655</td>\n      <td>1260.94</td>\n      <td>1260.94</td>\n      <td>0.00</td>\n      <td>others</td>\n      <td>Male</td>\n      <td>NaN</td>\n      <td>NaN</td>\n      <td>NaN</td>\n      <td>NaN</td>\n      <td>fa601d30-4336-11eb-914b-837581d0325d</td>\n    </tr>\n    <tr>\n      <th>...</th>\n      <td>...</td>\n      <td>...</td>\n      <td>...</td>\n      <td>...</td>\n      <td>...</td>\n      <td>...</td>\n      <td>...</td>\n      <td>...</td>\n      <td>...</td>\n      <td>...</td>\n      <td>...</td>\n    </tr>\n    <tr>\n      <th>95</th>\n      <td>113842839</td>\n      <td>35468.38</td>\n      <td>18694.88</td>\n      <td>16773.50</td>\n      <td>others</td>\n      <td>Female</td>\n      <td>NaN</td>\n      <td>NaN</td>\n      <td>NaN</td>\n      <td>NaN</td>\n      <td>3585e7c0-e741-11ea-804b-97facb641bb5</td>\n    </tr>\n    <tr>\n      <th>96</th>\n      <td>11388161</td>\n      <td>2918.66</td>\n      <td>2918.66</td>\n      <td>0.00</td>\n      <td>others</td>\n      <td>Female</td>\n      <td>214.0</td>\n      <td>Mornington Peninsula</td>\n      <td>Greater Melbourne</td>\n      <td>Victoria</td>\n      <td>bb1a9220-d7b3-11ea-a51d-3f9e5f9119be</td>\n    </tr>\n    <tr>\n      <th>97</th>\n      <td>114127679</td>\n      <td>18187.93</td>\n      <td>18187.95</td>\n      <td>-0.02</td>\n      <td>others</td>\n      <td>Female</td>\n      <td>310.0</td>\n      <td>Ipswich</td>\n      <td>Greater Brisbane</td>\n      <td>Queensland</td>\n      <td>8457dc40-5948-11eb-90e2-394d2efb95d8</td>\n    </tr>\n    <tr>\n      <th>98</th>\n      <td>114463375</td>\n      <td>4583.05</td>\n      <td>3661.09</td>\n      <td>921.96</td>\n      <td>others</td>\n      <td>Male</td>\n      <td>313.0</td>\n      <td>Moreton Bay - North</td>\n      <td>Greater Brisbane</td>\n      <td>Queensland</td>\n      <td>fb69cda0-d23b-11ea-a13a-d188ddbdc773</td>\n    </tr>\n    <tr>\n      <th>99</th>\n      <td>114997444</td>\n      <td>50946.40</td>\n      <td>40314.48</td>\n      <td>10631.92</td>\n      <td>others</td>\n      <td>Female</td>\n      <td>NaN</td>\n      <td>NaN</td>\n      <td>NaN</td>\n      <td>NaN</td>\n      <td>f68c4670-c7f3-11ea-baa6-ebfe92aca975</td>\n    </tr>\n  </tbody>\n</table>\n<p>100 rows × 11 columns</p>\n</div>"
     },
     "metadata": {},
     "execution_count": 118
    }
   ],
   "source": [
    "# Modifications to D2\n",
    "cleaned_df2 = df2\n",
    "# gender\t\t: Add \"other\" for blank or null values --> Male/Female/Other/Unknown\n",
    "cleaned_df2[\"u_gender\"] = cleaned_df2[\"u_gender\"].replace([\"\"],\"Unknown\")\n",
    "# status\t\t: drop\n",
    "cleaned_df2 = cleaned_df2.drop(columns=[\"status\"])\n",
    "# price_code\t: drop, replace with SA4 and its information\n",
    "cleaned_df2 = cleaned_df2.drop(columns=[\"price_zone_code\"])\n",
    "df_user_min = df_user[[\"membership_number\", \"SA4\"]]\n",
    "# Remove rows with blank SA1 - SA4 values\n",
    "blankIndices = df_user_min[df_user_min[\"SA4\"] == 0.0].index\n",
    "df_user_min = df_user_min.drop(axis=0, labels=blankIndices)\n",
    "# Drop rows with null SA1-4 values \n",
    "df_user_min = df_user_min.dropna()\n",
    "# Drop rows with duplicate membership_number values \n",
    "df_user_min = df_user_min.drop_duplicates()\n",
    "# Obtain geographical locations using SA4\n",
    "df_sa4 = pd.read_csv(\"./TableDump/SA4_2016.csv\")\n",
    "# Extract relevant columns\n",
    "df_sa4 = df_sa4[[\"SA4_CODE_2016\", \"SA4_NAME_2016\", \"GCCSA_NAME_2016\", \"STATE_NAME_2016\"]]\n",
    "# Rename columns to match df2\n",
    "name_mapping = {\n",
    "    \"SA4_CODE_2016\": \"SA4\",\n",
    "    \"SA4_NAME_2016\": \"SA4_NAME\",\n",
    "    \"GCCSA_NAME_2016\": \"GCCSA_NAME\",\n",
    "    \"STATE_NAME_2016\": \"STATE_NAME\"\n",
    "}\n",
    "df_sa4 = df_sa4.rename(columns=name_mapping)\n",
    "# Merge SA4 information with the user DF\n",
    "df_user_min = pd.merge(df_user_min, df_sa4, on=\"SA4\", how=\"left\")\n",
    "# Merge the final user info with DF2\n",
    "cleaned_df2 = pd.merge(cleaned_df2, df_user_min, on=\"membership_number\", how=\"left\")\n",
    "# Add Member_key to deal with invoice calculations\n",
    "cleaned_df2 = pd.merge(cleaned_df2, df_user[[\"membership_number\", \"member_key\"]], on=\"membership_number\", how=\"left\")\n",
    "# Drop duplicated member keys\n",
    "cleaned_df2 = cleaned_df2.drop_duplicates()\n",
    "# Display Summary information for cleaned_df2\n",
    "cleaned_df2.info()\n",
    "cleaned_df2.head(100)"
   ]
  },
  {
   "cell_type": "code",
   "execution_count": 119,
   "metadata": {},
   "outputs": [
    {
     "output_type": "stream",
     "name": "stdout",
     "text": [
      "<class 'pandas.core.frame.DataFrame'>\nRangeIndex: 46587 entries, 0 to 46586\nData columns (total 8 columns):\n #   Column                    Non-Null Count  Dtype         \n---  ------                    --------------  -----         \n 0   plan_key                  46587 non-null  object        \n 1   member_key                46587 non-null  object        \n 2   status                    46587 non-null  object        \n 3   start_date                46587 non-null  datetime64[ns]\n 4   end_date                  46587 non-null  datetime64[ns]\n 5   item_category_level2_key  45825 non-null  object        \n 6   allocation                46587 non-null  float64       \n 7   remaining                 46587 non-null  float64       \ndtypes: datetime64[ns](2), float64(2), object(4)\nmemory usage: 2.8+ MB\n"
     ]
    },
    {
     "output_type": "execute_result",
     "data": {
      "text/plain": [
       "                                plan_key  \\\n",
       "0   dd735ad0-05eb-42ce-91ba-36e1e032a67a   \n",
       "1   dd735ad0-05eb-42ce-91ba-36e1e032a67a   \n",
       "2   dd735ad0-05eb-42ce-91ba-36e1e032a67a   \n",
       "3   dd735ad0-05eb-42ce-91ba-36e1e032a67a   \n",
       "4   dd735ad0-05eb-42ce-91ba-36e1e032a67a   \n",
       "..                                   ...   \n",
       "95  7e7decf0-bc32-11ea-bb26-9bde36a91794   \n",
       "96  7e7decf0-bc32-11ea-bb26-9bde36a91794   \n",
       "97  7e7decf0-bc32-11ea-bb26-9bde36a91794   \n",
       "98  da0f67bc-7ec9-4a55-b331-169e175bcb3c   \n",
       "99  da0f67bc-7ec9-4a55-b331-169e175bcb3c   \n",
       "\n",
       "                              member_key     status start_date   end_date  \\\n",
       "0   472c17f0-9409-11ea-ba24-1f1ea52ce5bc  COMPLETED 2019-09-11 2020-08-17   \n",
       "1   472c17f0-9409-11ea-ba24-1f1ea52ce5bc  COMPLETED 2019-09-11 2020-08-17   \n",
       "2   472c17f0-9409-11ea-ba24-1f1ea52ce5bc  COMPLETED 2019-09-11 2020-08-17   \n",
       "3   472c17f0-9409-11ea-ba24-1f1ea52ce5bc  COMPLETED 2019-09-11 2020-08-17   \n",
       "4   472c17f0-9409-11ea-ba24-1f1ea52ce5bc  COMPLETED 2019-09-11 2020-08-17   \n",
       "..                                   ...        ...        ...        ...   \n",
       "95  7d1a6550-bc32-11ea-840d-791c3ea82cc6  COMPLETED 2020-01-25 2021-01-26   \n",
       "96  7d1a6550-bc32-11ea-840d-791c3ea82cc6  COMPLETED 2020-01-25 2021-01-26   \n",
       "97  7d1a6550-bc32-11ea-840d-791c3ea82cc6  COMPLETED 2020-01-25 2021-01-26   \n",
       "98  75f76ea0-bc35-11ea-a004-cd564a146b2a  COMPLETED 2020-06-24 2020-07-28   \n",
       "99  75f76ea0-bc35-11ea-a004-cd564a146b2a  COMPLETED 2020-06-24 2020-07-28   \n",
       "\n",
       "                item_category_level2_key  allocation  remaining  \n",
       "0   7d0af57b-f597-11e9-bfb4-022d4762bb3c     6972.41    6972.41  \n",
       "1   7d0af71b-f597-11e9-bfb4-022d4762bb3c        0.05       0.05  \n",
       "2   7d0af5b1-f597-11e9-bfb4-022d4762bb3c        0.05       0.05  \n",
       "3   7d0af52b-f597-11e9-bfb4-022d4762bb3c        0.05       0.05  \n",
       "4   7d0af53b-f597-11e9-bfb4-022d4762bb3c        0.05       0.05  \n",
       "..                                   ...         ...        ...  \n",
       "95  7d0af5b1-f597-11e9-bfb4-022d4762bb3c     2000.00      29.05  \n",
       "96  7d0af53b-f597-11e9-bfb4-022d4762bb3c      200.00       1.97  \n",
       "97  7d0af57b-f597-11e9-bfb4-022d4762bb3c    20105.52   10808.94  \n",
       "98  7d0af57b-f597-11e9-bfb4-022d4762bb3c     2133.90    2133.90  \n",
       "99  7d0af6af-f597-11e9-bfb4-022d4762bb3c     4812.90    4812.90  \n",
       "\n",
       "[100 rows x 8 columns]"
      ],
      "text/html": "<div>\n<style scoped>\n    .dataframe tbody tr th:only-of-type {\n        vertical-align: middle;\n    }\n\n    .dataframe tbody tr th {\n        vertical-align: top;\n    }\n\n    .dataframe thead th {\n        text-align: right;\n    }\n</style>\n<table border=\"1\" class=\"dataframe\">\n  <thead>\n    <tr style=\"text-align: right;\">\n      <th></th>\n      <th>plan_key</th>\n      <th>member_key</th>\n      <th>status</th>\n      <th>start_date</th>\n      <th>end_date</th>\n      <th>item_category_level2_key</th>\n      <th>allocation</th>\n      <th>remaining</th>\n    </tr>\n  </thead>\n  <tbody>\n    <tr>\n      <th>0</th>\n      <td>dd735ad0-05eb-42ce-91ba-36e1e032a67a</td>\n      <td>472c17f0-9409-11ea-ba24-1f1ea52ce5bc</td>\n      <td>COMPLETED</td>\n      <td>2019-09-11</td>\n      <td>2020-08-17</td>\n      <td>7d0af57b-f597-11e9-bfb4-022d4762bb3c</td>\n      <td>6972.41</td>\n      <td>6972.41</td>\n    </tr>\n    <tr>\n      <th>1</th>\n      <td>dd735ad0-05eb-42ce-91ba-36e1e032a67a</td>\n      <td>472c17f0-9409-11ea-ba24-1f1ea52ce5bc</td>\n      <td>COMPLETED</td>\n      <td>2019-09-11</td>\n      <td>2020-08-17</td>\n      <td>7d0af71b-f597-11e9-bfb4-022d4762bb3c</td>\n      <td>0.05</td>\n      <td>0.05</td>\n    </tr>\n    <tr>\n      <th>2</th>\n      <td>dd735ad0-05eb-42ce-91ba-36e1e032a67a</td>\n      <td>472c17f0-9409-11ea-ba24-1f1ea52ce5bc</td>\n      <td>COMPLETED</td>\n      <td>2019-09-11</td>\n      <td>2020-08-17</td>\n      <td>7d0af5b1-f597-11e9-bfb4-022d4762bb3c</td>\n      <td>0.05</td>\n      <td>0.05</td>\n    </tr>\n    <tr>\n      <th>3</th>\n      <td>dd735ad0-05eb-42ce-91ba-36e1e032a67a</td>\n      <td>472c17f0-9409-11ea-ba24-1f1ea52ce5bc</td>\n      <td>COMPLETED</td>\n      <td>2019-09-11</td>\n      <td>2020-08-17</td>\n      <td>7d0af52b-f597-11e9-bfb4-022d4762bb3c</td>\n      <td>0.05</td>\n      <td>0.05</td>\n    </tr>\n    <tr>\n      <th>4</th>\n      <td>dd735ad0-05eb-42ce-91ba-36e1e032a67a</td>\n      <td>472c17f0-9409-11ea-ba24-1f1ea52ce5bc</td>\n      <td>COMPLETED</td>\n      <td>2019-09-11</td>\n      <td>2020-08-17</td>\n      <td>7d0af53b-f597-11e9-bfb4-022d4762bb3c</td>\n      <td>0.05</td>\n      <td>0.05</td>\n    </tr>\n    <tr>\n      <th>...</th>\n      <td>...</td>\n      <td>...</td>\n      <td>...</td>\n      <td>...</td>\n      <td>...</td>\n      <td>...</td>\n      <td>...</td>\n      <td>...</td>\n    </tr>\n    <tr>\n      <th>95</th>\n      <td>7e7decf0-bc32-11ea-bb26-9bde36a91794</td>\n      <td>7d1a6550-bc32-11ea-840d-791c3ea82cc6</td>\n      <td>COMPLETED</td>\n      <td>2020-01-25</td>\n      <td>2021-01-26</td>\n      <td>7d0af5b1-f597-11e9-bfb4-022d4762bb3c</td>\n      <td>2000.00</td>\n      <td>29.05</td>\n    </tr>\n    <tr>\n      <th>96</th>\n      <td>7e7decf0-bc32-11ea-bb26-9bde36a91794</td>\n      <td>7d1a6550-bc32-11ea-840d-791c3ea82cc6</td>\n      <td>COMPLETED</td>\n      <td>2020-01-25</td>\n      <td>2021-01-26</td>\n      <td>7d0af53b-f597-11e9-bfb4-022d4762bb3c</td>\n      <td>200.00</td>\n      <td>1.97</td>\n    </tr>\n    <tr>\n      <th>97</th>\n      <td>7e7decf0-bc32-11ea-bb26-9bde36a91794</td>\n      <td>7d1a6550-bc32-11ea-840d-791c3ea82cc6</td>\n      <td>COMPLETED</td>\n      <td>2020-01-25</td>\n      <td>2021-01-26</td>\n      <td>7d0af57b-f597-11e9-bfb4-022d4762bb3c</td>\n      <td>20105.52</td>\n      <td>10808.94</td>\n    </tr>\n    <tr>\n      <th>98</th>\n      <td>da0f67bc-7ec9-4a55-b331-169e175bcb3c</td>\n      <td>75f76ea0-bc35-11ea-a004-cd564a146b2a</td>\n      <td>COMPLETED</td>\n      <td>2020-06-24</td>\n      <td>2020-07-28</td>\n      <td>7d0af57b-f597-11e9-bfb4-022d4762bb3c</td>\n      <td>2133.90</td>\n      <td>2133.90</td>\n    </tr>\n    <tr>\n      <th>99</th>\n      <td>da0f67bc-7ec9-4a55-b331-169e175bcb3c</td>\n      <td>75f76ea0-bc35-11ea-a004-cd564a146b2a</td>\n      <td>COMPLETED</td>\n      <td>2020-06-24</td>\n      <td>2020-07-28</td>\n      <td>7d0af6af-f597-11e9-bfb4-022d4762bb3c</td>\n      <td>4812.90</td>\n      <td>4812.90</td>\n    </tr>\n  </tbody>\n</table>\n<p>100 rows × 8 columns</p>\n</div>"
     },
     "metadata": {},
     "execution_count": 119
    }
   ],
   "source": [
    "# days_funded: funded_date - start_date from , to get the duration of reimbursement\n",
    "df_plan = pd.read_sql(\"select p.plan_key, p.member_key, p.status, p.start_date, p.end_date, pb.item_category_level2_key, pb.allocation, pb.remaining from HH_plan p join HH_plan_budget pb on p.plan_key = pb.plan_key where p.status = 'COMPLETED'\", con=conn)\n",
    "# Convert start and end_date to datetime\n",
    "df_plan[\"start_date\"] = pd.to_datetime(df_plan[\"start_date\"], format=\"%Y-%m-%d\")\n",
    "df_plan[\"end_date\"] = pd.to_datetime(df_plan[\"end_date\"], format=\"%Y-%m-%d\")\n",
    "# Summary info for df_plan\n",
    "df_plan.info()\n",
    "df_plan.head(100)"
   ]
  },
  {
   "cell_type": "code",
   "execution_count": 120,
   "metadata": {},
   "outputs": [
    {
     "output_type": "stream",
     "name": "stdout",
     "text": [
      "<class 'pandas.core.frame.DataFrame'>\nRangeIndex: 3781 entries, 0 to 3780\nData columns (total 6 columns):\n #   Column      Non-Null Count  Dtype         \n---  ------      --------------  -----         \n 0   member_key  3781 non-null   object        \n 1   start_date  3781 non-null   datetime64[ns]\n 2   end_date    3781 non-null   datetime64[ns]\n 3   plan_key    3781 non-null   object        \n 4   allocation  3781 non-null   float64       \n 5   remaining   3781 non-null   float64       \ndtypes: datetime64[ns](2), float64(2), object(2)\nmemory usage: 177.4+ KB\n"
     ]
    },
    {
     "output_type": "execute_result",
     "data": {
      "text/plain": [
       "                              member_key start_date   end_date  \\\n",
       "0   00117a50-cbc6-11ea-805a-75fc51d39a77 2020-04-06 2021-04-11   \n",
       "1   007c1090-d6ca-11ea-bb8a-a73bf14c75f9 2020-08-14 2020-08-17   \n",
       "2   009cfe40-c630-11ea-90f7-3faa82d32fb9 2019-10-15 2020-09-23   \n",
       "3   0250ad20-cc90-11ea-8ccf-0d690c771492 2020-07-20 2020-11-26   \n",
       "4   02553f70-d861-11ea-b574-9762bc5dde4a 2020-07-27 2020-09-24   \n",
       "..                                   ...        ...        ...   \n",
       "95  0533b850-e588-11ea-b453-3de7750d4ba6 2019-08-20 2020-03-09   \n",
       "96  0538e870-e588-11ea-b453-3de7750d4ba6 2019-12-24 2020-04-20   \n",
       "97  053e1890-e588-11ea-b453-3de7750d4ba6 2020-06-15 2021-01-12   \n",
       "98  054348b0-e588-11ea-b453-3de7750d4ba6 2020-08-28 2021-01-10   \n",
       "99  054e1e20-e588-11ea-b453-3de7750d4ba6 2019-07-16 2020-07-07   \n",
       "\n",
       "                                plan_key  allocation  remaining  \n",
       "0   8aa26238-d922-4963-bcaf-427d24a610bc    64524.00   48019.14  \n",
       "1   8910b6c2-643b-421e-9da6-8f2fea8f3e9a    13165.40   13165.40  \n",
       "2   2b2ed78b-f926-438a-baf9-01144eabbc5e    96278.43   88172.54  \n",
       "3   10cb6fe5-acd4-4367-a683-5b31dda02c84   253879.36  167869.14  \n",
       "4   524b880c-dbf9-46fa-955f-e1e4e89acdab   112366.90  110312.30  \n",
       "..                                   ...         ...        ...  \n",
       "95  08c3e3f0-e588-11ea-be19-95ba49e7f45d    13558.82   13558.82  \n",
       "96  09c8a9c0-e588-11ea-be19-95ba49e7f45d    30751.38   25415.72  \n",
       "97  078e7130-e588-11ea-be19-95ba49e7f45d    47136.72   43185.58  \n",
       "98  848e46bf-f1a1-4bbf-91b8-f7f65473a724   886368.63  235018.89  \n",
       "99  0903d320-e588-11ea-be19-95ba49e7f45d     9113.25    8479.26  \n",
       "\n",
       "[100 rows x 6 columns]"
      ],
      "text/html": "<div>\n<style scoped>\n    .dataframe tbody tr th:only-of-type {\n        vertical-align: middle;\n    }\n\n    .dataframe tbody tr th {\n        vertical-align: top;\n    }\n\n    .dataframe thead th {\n        text-align: right;\n    }\n</style>\n<table border=\"1\" class=\"dataframe\">\n  <thead>\n    <tr style=\"text-align: right;\">\n      <th></th>\n      <th>member_key</th>\n      <th>start_date</th>\n      <th>end_date</th>\n      <th>plan_key</th>\n      <th>allocation</th>\n      <th>remaining</th>\n    </tr>\n  </thead>\n  <tbody>\n    <tr>\n      <th>0</th>\n      <td>00117a50-cbc6-11ea-805a-75fc51d39a77</td>\n      <td>2020-04-06</td>\n      <td>2021-04-11</td>\n      <td>8aa26238-d922-4963-bcaf-427d24a610bc</td>\n      <td>64524.00</td>\n      <td>48019.14</td>\n    </tr>\n    <tr>\n      <th>1</th>\n      <td>007c1090-d6ca-11ea-bb8a-a73bf14c75f9</td>\n      <td>2020-08-14</td>\n      <td>2020-08-17</td>\n      <td>8910b6c2-643b-421e-9da6-8f2fea8f3e9a</td>\n      <td>13165.40</td>\n      <td>13165.40</td>\n    </tr>\n    <tr>\n      <th>2</th>\n      <td>009cfe40-c630-11ea-90f7-3faa82d32fb9</td>\n      <td>2019-10-15</td>\n      <td>2020-09-23</td>\n      <td>2b2ed78b-f926-438a-baf9-01144eabbc5e</td>\n      <td>96278.43</td>\n      <td>88172.54</td>\n    </tr>\n    <tr>\n      <th>3</th>\n      <td>0250ad20-cc90-11ea-8ccf-0d690c771492</td>\n      <td>2020-07-20</td>\n      <td>2020-11-26</td>\n      <td>10cb6fe5-acd4-4367-a683-5b31dda02c84</td>\n      <td>253879.36</td>\n      <td>167869.14</td>\n    </tr>\n    <tr>\n      <th>4</th>\n      <td>02553f70-d861-11ea-b574-9762bc5dde4a</td>\n      <td>2020-07-27</td>\n      <td>2020-09-24</td>\n      <td>524b880c-dbf9-46fa-955f-e1e4e89acdab</td>\n      <td>112366.90</td>\n      <td>110312.30</td>\n    </tr>\n    <tr>\n      <th>...</th>\n      <td>...</td>\n      <td>...</td>\n      <td>...</td>\n      <td>...</td>\n      <td>...</td>\n      <td>...</td>\n    </tr>\n    <tr>\n      <th>95</th>\n      <td>0533b850-e588-11ea-b453-3de7750d4ba6</td>\n      <td>2019-08-20</td>\n      <td>2020-03-09</td>\n      <td>08c3e3f0-e588-11ea-be19-95ba49e7f45d</td>\n      <td>13558.82</td>\n      <td>13558.82</td>\n    </tr>\n    <tr>\n      <th>96</th>\n      <td>0538e870-e588-11ea-b453-3de7750d4ba6</td>\n      <td>2019-12-24</td>\n      <td>2020-04-20</td>\n      <td>09c8a9c0-e588-11ea-be19-95ba49e7f45d</td>\n      <td>30751.38</td>\n      <td>25415.72</td>\n    </tr>\n    <tr>\n      <th>97</th>\n      <td>053e1890-e588-11ea-b453-3de7750d4ba6</td>\n      <td>2020-06-15</td>\n      <td>2021-01-12</td>\n      <td>078e7130-e588-11ea-be19-95ba49e7f45d</td>\n      <td>47136.72</td>\n      <td>43185.58</td>\n    </tr>\n    <tr>\n      <th>98</th>\n      <td>054348b0-e588-11ea-b453-3de7750d4ba6</td>\n      <td>2020-08-28</td>\n      <td>2021-01-10</td>\n      <td>848e46bf-f1a1-4bbf-91b8-f7f65473a724</td>\n      <td>886368.63</td>\n      <td>235018.89</td>\n    </tr>\n    <tr>\n      <th>99</th>\n      <td>054e1e20-e588-11ea-b453-3de7750d4ba6</td>\n      <td>2019-07-16</td>\n      <td>2020-07-07</td>\n      <td>0903d320-e588-11ea-be19-95ba49e7f45d</td>\n      <td>9113.25</td>\n      <td>8479.26</td>\n    </tr>\n  </tbody>\n</table>\n<p>100 rows × 6 columns</p>\n</div>"
     },
     "metadata": {},
     "execution_count": 120
    }
   ],
   "source": [
    "df_plan2 = df_plan\n",
    "# Convert start and end_date to datetime\n",
    "df_plan2[\"start_date\"] = pd.to_datetime(df_plan2[\"start_date\"], format=\"%Y-%m-%d\")\n",
    "df_plan2[\"end_date\"] = pd.to_datetime(df_plan2[\"end_date\"], format=\"%Y-%m-%d\")\n",
    "# Sum up all based on plan_key\n",
    "df_grouped_plan2 = df_plan2.groupby([\"plan_key\"]).agg({\"allocation\": \"sum\", \"remaining\": \"sum\", \"member_key\": \"first\", \"start_date\": \"first\", \"end_date\": \"first\"}).reset_index()\n",
    "# Sort grouped df by start and end dates in descending order\n",
    "df_grouped_plan2 = df_grouped_plan2.sort_values([\"start_date\", \"end_date\"], ascending=[False, False])\n",
    "# Eliminate duplicate member keys by dropping all rows but the most recent ones\n",
    "df_grouped_plan2 = df_grouped_plan2.groupby([\"member_key\"]).agg({\"start_date\": \"first\", \"end_date\": \"first\", \"plan_key\": \"first\", \"allocation\": \"first\", \"remaining\": \"first\"}).reset_index()\n",
    "# Summary information for df_plan2\n",
    "df_grouped_plan2.info()\n",
    "df_grouped_plan2.head(100)"
   ]
  },
  {
   "cell_type": "code",
   "execution_count": 153,
   "metadata": {},
   "outputs": [
    {
     "output_type": "stream",
     "name": "stdout",
     "text": [
      "<class 'pandas.core.frame.DataFrame'>\nInt64Index: 3390 entries, 1 to 5728\nData columns (total 18 columns):\n #   Column             Non-Null Count  Dtype         \n---  ------             --------------  -----         \n 0   membership_number  3390 non-null   object        \n 1   subtraction        3390 non-null   float64       \n 2   u_disabilities     3390 non-null   object        \n 3   u_gender           3390 non-null   object        \n 4   SA4                1910 non-null   float64       \n 5   SA4_NAME           1910 non-null   object        \n 6   GCCSA_NAME         1910 non-null   object        \n 7   STATE_NAME         1910 non-null   object        \n 8   member_key         3390 non-null   object        \n 9   start_date         3390 non-null   datetime64[ns]\n 10  end_date           3390 non-null   datetime64[ns]\n 11  plan_key           3390 non-null   object        \n 12  allocation         3390 non-null   float64       \n 13  remaining          3390 non-null   float64       \n 14  spending_ratio     3390 non-null   float64       \n 15  under_spent        3390 non-null   bool          \n 16  over_spent         3390 non-null   bool          \n 17  par_spent          3390 non-null   bool          \ndtypes: bool(3), datetime64[ns](2), float64(5), object(8)\nmemory usage: 433.7+ KB\n"
     ]
    },
    {
     "output_type": "execute_result",
     "data": {
      "text/plain": [
       "    membership_number  subtraction           u_disabilities u_gender    SA4  \\\n",
       "1           100348708     56650.89                   others   Female    NaN   \n",
       "3           100969245     43633.45                   others   Female  313.0   \n",
       "5           101279515       630.00                   others   Female    NaN   \n",
       "6           101391416     13168.55  Intellectual disability   Female  309.0   \n",
       "9           101528743  11433869.03                   others  Unknown    NaN   \n",
       "..                ...          ...                      ...      ...    ...   \n",
       "156          12344398     19192.28            Down syndrome   Female  217.0   \n",
       "157         123476419    142631.00                   others   Female    NaN   \n",
       "160         123786685     42643.81                   others   Female  310.0   \n",
       "162         123985054       455.00                   others     Male  305.0   \n",
       "163         124096955         0.00                   others     Male  319.0   \n",
       "\n",
       "                       SA4_NAME        GCCSA_NAME  STATE_NAME  \\\n",
       "1                           NaN               NaN         NaN   \n",
       "3           Moreton Bay - North  Greater Brisbane  Queensland   \n",
       "5                           NaN               NaN         NaN   \n",
       "6                    Gold Coast       Rest of Qld  Queensland   \n",
       "9                           NaN               NaN         NaN   \n",
       "..                          ...               ...         ...   \n",
       "156  Warrnambool and South West      Rest of Vic.    Victoria   \n",
       "157                         NaN               NaN         NaN   \n",
       "160                     Ipswich  Greater Brisbane  Queensland   \n",
       "162         Brisbane Inner City  Greater Brisbane  Queensland   \n",
       "163                    Wide Bay       Rest of Qld  Queensland   \n",
       "\n",
       "                               member_key start_date   end_date  \\\n",
       "1    b33d6da0-d50d-11ea-8224-836b70d82925 2020-01-14 2021-01-20   \n",
       "3    d3d41ed0-dcef-11ea-a5ac-61abce895864 2019-03-12 2020-05-24   \n",
       "5    f38d5e50-c7f3-11ea-baa6-ebfe92aca975 2020-02-13 2021-02-09   \n",
       "6    f28479d0-c7f3-11ea-baa6-ebfe92aca975 2019-11-29 2020-11-15   \n",
       "9    dfa55710-ddb7-11ea-a31a-7d25e47a5c0a 2021-03-12 2021-03-15   \n",
       "..                                    ...        ...        ...   \n",
       "156  c2eb5e70-d6d3-11ea-9cd1-f194648955a5 2020-03-21 2021-03-24   \n",
       "157  de887560-ddb7-11ea-a31a-7d25e47a5c0a 2019-11-13 2020-12-16   \n",
       "160  f31213d0-c7f3-11ea-baa6-ebfe92aca975 2020-01-24 2021-03-14   \n",
       "162  dc4f9cb0-c179-11ea-8a11-397bdc21f5a9 2020-04-08 2021-04-08   \n",
       "163  dbbbc120-c179-11ea-8a11-397bdc21f5a9 2019-10-28 2020-09-09   \n",
       "\n",
       "                                 plan_key  allocation  remaining  \\\n",
       "1    be26b3c0-d50d-11ea-a941-f79507f5b8c8   124999.40   51830.29   \n",
       "3    dcc78860-dcef-11ea-973a-cfc6cbcf0bd6    57601.24   56214.83   \n",
       "5    ffa846a0-c7f3-11ea-b247-07c902e1140e    14054.04    9438.47   \n",
       "6    00b1ee70-c7f4-11ea-b247-07c902e1140e   220504.96   64026.02   \n",
       "9    1cf38ad9-1cb1-4025-a0aa-e3e7736d4f68   224608.59  224608.59   \n",
       "..                                    ...         ...        ...   \n",
       "156  c7d092c0-d6d3-11ea-b1ee-87504086bf09   393071.73  278667.39   \n",
       "157  e7c87850-ddb7-11ea-8b25-0fa931eaa230   416043.34  230512.00   \n",
       "160  01f36f20-c7f4-11ea-b247-07c902e1140e   645045.88  413846.93   \n",
       "162  e1eb01a0-c179-11ea-8daf-e7e742291ebd     1085.68     175.68   \n",
       "163  e262f0c0-c179-11ea-8daf-e7e742291ebd    16473.00   16473.00   \n",
       "\n",
       "     spending_ratio  under_spent  over_spent  par_spent  \n",
       "1          0.414644         True       False      False  \n",
       "3          0.975931        False       False      False  \n",
       "5          0.671584         True       False      False  \n",
       "6          0.290361         True       False      False  \n",
       "9          1.000000        False       False       True  \n",
       "..              ...          ...         ...        ...  \n",
       "156        0.708948         True       False      False  \n",
       "157        0.554058         True       False      False  \n",
       "160        0.641578         True       False      False  \n",
       "162        0.161816         True       False      False  \n",
       "163        1.000000        False       False       True  \n",
       "\n",
       "[100 rows x 18 columns]"
      ],
      "text/html": "<div>\n<style scoped>\n    .dataframe tbody tr th:only-of-type {\n        vertical-align: middle;\n    }\n\n    .dataframe tbody tr th {\n        vertical-align: top;\n    }\n\n    .dataframe thead th {\n        text-align: right;\n    }\n</style>\n<table border=\"1\" class=\"dataframe\">\n  <thead>\n    <tr style=\"text-align: right;\">\n      <th></th>\n      <th>membership_number</th>\n      <th>subtraction</th>\n      <th>u_disabilities</th>\n      <th>u_gender</th>\n      <th>SA4</th>\n      <th>SA4_NAME</th>\n      <th>GCCSA_NAME</th>\n      <th>STATE_NAME</th>\n      <th>member_key</th>\n      <th>start_date</th>\n      <th>end_date</th>\n      <th>plan_key</th>\n      <th>allocation</th>\n      <th>remaining</th>\n      <th>spending_ratio</th>\n      <th>under_spent</th>\n      <th>over_spent</th>\n      <th>par_spent</th>\n    </tr>\n  </thead>\n  <tbody>\n    <tr>\n      <th>1</th>\n      <td>100348708</td>\n      <td>56650.89</td>\n      <td>others</td>\n      <td>Female</td>\n      <td>NaN</td>\n      <td>NaN</td>\n      <td>NaN</td>\n      <td>NaN</td>\n      <td>b33d6da0-d50d-11ea-8224-836b70d82925</td>\n      <td>2020-01-14</td>\n      <td>2021-01-20</td>\n      <td>be26b3c0-d50d-11ea-a941-f79507f5b8c8</td>\n      <td>124999.40</td>\n      <td>51830.29</td>\n      <td>0.414644</td>\n      <td>True</td>\n      <td>False</td>\n      <td>False</td>\n    </tr>\n    <tr>\n      <th>3</th>\n      <td>100969245</td>\n      <td>43633.45</td>\n      <td>others</td>\n      <td>Female</td>\n      <td>313.0</td>\n      <td>Moreton Bay - North</td>\n      <td>Greater Brisbane</td>\n      <td>Queensland</td>\n      <td>d3d41ed0-dcef-11ea-a5ac-61abce895864</td>\n      <td>2019-03-12</td>\n      <td>2020-05-24</td>\n      <td>dcc78860-dcef-11ea-973a-cfc6cbcf0bd6</td>\n      <td>57601.24</td>\n      <td>56214.83</td>\n      <td>0.975931</td>\n      <td>False</td>\n      <td>False</td>\n      <td>False</td>\n    </tr>\n    <tr>\n      <th>5</th>\n      <td>101279515</td>\n      <td>630.00</td>\n      <td>others</td>\n      <td>Female</td>\n      <td>NaN</td>\n      <td>NaN</td>\n      <td>NaN</td>\n      <td>NaN</td>\n      <td>f38d5e50-c7f3-11ea-baa6-ebfe92aca975</td>\n      <td>2020-02-13</td>\n      <td>2021-02-09</td>\n      <td>ffa846a0-c7f3-11ea-b247-07c902e1140e</td>\n      <td>14054.04</td>\n      <td>9438.47</td>\n      <td>0.671584</td>\n      <td>True</td>\n      <td>False</td>\n      <td>False</td>\n    </tr>\n    <tr>\n      <th>6</th>\n      <td>101391416</td>\n      <td>13168.55</td>\n      <td>Intellectual disability</td>\n      <td>Female</td>\n      <td>309.0</td>\n      <td>Gold Coast</td>\n      <td>Rest of Qld</td>\n      <td>Queensland</td>\n      <td>f28479d0-c7f3-11ea-baa6-ebfe92aca975</td>\n      <td>2019-11-29</td>\n      <td>2020-11-15</td>\n      <td>00b1ee70-c7f4-11ea-b247-07c902e1140e</td>\n      <td>220504.96</td>\n      <td>64026.02</td>\n      <td>0.290361</td>\n      <td>True</td>\n      <td>False</td>\n      <td>False</td>\n    </tr>\n    <tr>\n      <th>9</th>\n      <td>101528743</td>\n      <td>11433869.03</td>\n      <td>others</td>\n      <td>Unknown</td>\n      <td>NaN</td>\n      <td>NaN</td>\n      <td>NaN</td>\n      <td>NaN</td>\n      <td>dfa55710-ddb7-11ea-a31a-7d25e47a5c0a</td>\n      <td>2021-03-12</td>\n      <td>2021-03-15</td>\n      <td>1cf38ad9-1cb1-4025-a0aa-e3e7736d4f68</td>\n      <td>224608.59</td>\n      <td>224608.59</td>\n      <td>1.000000</td>\n      <td>False</td>\n      <td>False</td>\n      <td>True</td>\n    </tr>\n    <tr>\n      <th>...</th>\n      <td>...</td>\n      <td>...</td>\n      <td>...</td>\n      <td>...</td>\n      <td>...</td>\n      <td>...</td>\n      <td>...</td>\n      <td>...</td>\n      <td>...</td>\n      <td>...</td>\n      <td>...</td>\n      <td>...</td>\n      <td>...</td>\n      <td>...</td>\n      <td>...</td>\n      <td>...</td>\n      <td>...</td>\n      <td>...</td>\n    </tr>\n    <tr>\n      <th>156</th>\n      <td>12344398</td>\n      <td>19192.28</td>\n      <td>Down syndrome</td>\n      <td>Female</td>\n      <td>217.0</td>\n      <td>Warrnambool and South West</td>\n      <td>Rest of Vic.</td>\n      <td>Victoria</td>\n      <td>c2eb5e70-d6d3-11ea-9cd1-f194648955a5</td>\n      <td>2020-03-21</td>\n      <td>2021-03-24</td>\n      <td>c7d092c0-d6d3-11ea-b1ee-87504086bf09</td>\n      <td>393071.73</td>\n      <td>278667.39</td>\n      <td>0.708948</td>\n      <td>True</td>\n      <td>False</td>\n      <td>False</td>\n    </tr>\n    <tr>\n      <th>157</th>\n      <td>123476419</td>\n      <td>142631.00</td>\n      <td>others</td>\n      <td>Female</td>\n      <td>NaN</td>\n      <td>NaN</td>\n      <td>NaN</td>\n      <td>NaN</td>\n      <td>de887560-ddb7-11ea-a31a-7d25e47a5c0a</td>\n      <td>2019-11-13</td>\n      <td>2020-12-16</td>\n      <td>e7c87850-ddb7-11ea-8b25-0fa931eaa230</td>\n      <td>416043.34</td>\n      <td>230512.00</td>\n      <td>0.554058</td>\n      <td>True</td>\n      <td>False</td>\n      <td>False</td>\n    </tr>\n    <tr>\n      <th>160</th>\n      <td>123786685</td>\n      <td>42643.81</td>\n      <td>others</td>\n      <td>Female</td>\n      <td>310.0</td>\n      <td>Ipswich</td>\n      <td>Greater Brisbane</td>\n      <td>Queensland</td>\n      <td>f31213d0-c7f3-11ea-baa6-ebfe92aca975</td>\n      <td>2020-01-24</td>\n      <td>2021-03-14</td>\n      <td>01f36f20-c7f4-11ea-b247-07c902e1140e</td>\n      <td>645045.88</td>\n      <td>413846.93</td>\n      <td>0.641578</td>\n      <td>True</td>\n      <td>False</td>\n      <td>False</td>\n    </tr>\n    <tr>\n      <th>162</th>\n      <td>123985054</td>\n      <td>455.00</td>\n      <td>others</td>\n      <td>Male</td>\n      <td>305.0</td>\n      <td>Brisbane Inner City</td>\n      <td>Greater Brisbane</td>\n      <td>Queensland</td>\n      <td>dc4f9cb0-c179-11ea-8a11-397bdc21f5a9</td>\n      <td>2020-04-08</td>\n      <td>2021-04-08</td>\n      <td>e1eb01a0-c179-11ea-8daf-e7e742291ebd</td>\n      <td>1085.68</td>\n      <td>175.68</td>\n      <td>0.161816</td>\n      <td>True</td>\n      <td>False</td>\n      <td>False</td>\n    </tr>\n    <tr>\n      <th>163</th>\n      <td>124096955</td>\n      <td>0.00</td>\n      <td>others</td>\n      <td>Male</td>\n      <td>319.0</td>\n      <td>Wide Bay</td>\n      <td>Rest of Qld</td>\n      <td>Queensland</td>\n      <td>dbbbc120-c179-11ea-8a11-397bdc21f5a9</td>\n      <td>2019-10-28</td>\n      <td>2020-09-09</td>\n      <td>e262f0c0-c179-11ea-8daf-e7e742291ebd</td>\n      <td>16473.00</td>\n      <td>16473.00</td>\n      <td>1.000000</td>\n      <td>False</td>\n      <td>False</td>\n      <td>True</td>\n    </tr>\n  </tbody>\n</table>\n<p>100 rows × 18 columns</p>\n</div>"
     },
     "metadata": {},
     "execution_count": 153
    }
   ],
   "source": [
    "# Merge plan information with cleaned_df2\n",
    "temp_df2 = pd.merge(cleaned_df2, df_grouped_plan2, on=\"member_key\", how=\"left\")\n",
    "# Drop members without completed plans\n",
    "temp_df2 = temp_df2.dropna(subset=[\"plan_key\"])\n",
    "# Recalculate the \"subtraction\" column\n",
    "# TODO: Find the plan progress rate: 100% for completion\n",
    "# Get current date. check if diff between current day and start > end and start\n",
    "# currentDate = pd.datetime.now().date()\n",
    "# if yes, 100% completion\n",
    "# if no, in progress. \n",
    "# ratio: (current_date - start_date) / (end_date - start_date)\n",
    "# temp_df2[\"plan_duration_elapsed\"] = temp_df2[\"start_date\"] / temp_df2[\"allocation\"]\n",
    "# TODO: compare progress to allocated and spent. if the ratios are comparable, then alright. if skewed, problematic\n",
    "# ratio: (spent) / (allocated)\n",
    "temp_df2[\"spending_ratio\"] = temp_df2[\"remaining\"] / temp_df2[\"allocation\"]\n",
    "# If different ratios, under/overspend. \n",
    "# TODO: CHECK AND MODIFY VALUES HERE\n",
    "under_spend_thres = 0.75\n",
    "par_spend_thres = 1.0\n",
    "temp_df2[\"under_spent\"] = temp_df2[\"spending_ratio\"] <= under_spend_thres\n",
    "temp_df2[\"over_spent\"] = temp_df2[\"spending_ratio\"] > par_spend_thres\n",
    "temp_df2[\"par_spent\"] = temp_df2[\"spending_ratio\"] == par_spend_thres\n",
    "# Drop outdated columns\n",
    "temp_df2 = temp_df2.drop(columns=[\"invoice_total\", \"funded_total\"])\n",
    "# Display Summary information for cleaned_df2\n",
    "temp_df2.info()\n",
    "temp_df2.head(100)\n"
   ]
  },
  {
   "cell_type": "code",
   "execution_count": 154,
   "metadata": {},
   "outputs": [
    {
     "output_type": "stream",
     "name": "stdout",
     "text": [
      "<class 'pandas.core.frame.DataFrame'>\nIndex: 3404 entries, 100348708 to 999694603\nData columns (total 19 columns):\n #   Column          Non-Null Count  Dtype         \n---  ------          --------------  -----         \n 0   subtraction     3404 non-null   float64       \n 1   u_disabilities  3404 non-null   object        \n 2   member_key      3404 non-null   object        \n 3   start_date      3404 non-null   datetime64[ns]\n 4   end_date        3404 non-null   datetime64[ns]\n 5   plan_key        3404 non-null   object        \n 6   allocation      3404 non-null   float64       \n 7   remaining       3404 non-null   float64       \n 8   spending_ratio  3404 non-null   float64       \n 9   under_spent     3404 non-null   bool          \n 10  over_spent      3404 non-null   bool          \n 11  par_spent       3404 non-null   bool          \n 12  gender_Female   3404 non-null   bool          \n 13  gender_Male     3404 non-null   bool          \n 14  gender_Other    3404 non-null   bool          \n 15  gender_Unknown  3404 non-null   bool          \n 16  GCCSA_Rural     3404 non-null   bool          \n 17  GCCSA_Unknown   3404 non-null   bool          \n 18  GCCSA_Urban     3404 non-null   bool          \ndtypes: bool(10), datetime64[ns](2), float64(4), object(3)\nmemory usage: 299.2+ KB\n"
     ]
    },
    {
     "output_type": "execute_result",
     "data": {
      "text/plain": [
       "                   subtraction           u_disabilities  \\\n",
       "membership_number                                         \n",
       "100348708             56650.89                   others   \n",
       "100969245             43633.45                   others   \n",
       "101279515               630.00                   others   \n",
       "101391416             13168.55  Intellectual disability   \n",
       "101528743          11433869.03                   others   \n",
       "...                        ...                      ...   \n",
       "12344398              19192.28            Down syndrome   \n",
       "123476419            142631.00                   others   \n",
       "123786685             42643.81                   others   \n",
       "123985054               455.00                   others   \n",
       "124096955                 0.00                   others   \n",
       "\n",
       "                                             member_key start_date   end_date  \\\n",
       "membership_number                                                               \n",
       "100348708          b33d6da0-d50d-11ea-8224-836b70d82925 2020-01-14 2021-01-20   \n",
       "100969245          d3d41ed0-dcef-11ea-a5ac-61abce895864 2019-03-12 2020-05-24   \n",
       "101279515          f38d5e50-c7f3-11ea-baa6-ebfe92aca975 2020-02-13 2021-02-09   \n",
       "101391416          f28479d0-c7f3-11ea-baa6-ebfe92aca975 2019-11-29 2020-11-15   \n",
       "101528743          dfa55710-ddb7-11ea-a31a-7d25e47a5c0a 2021-03-12 2021-03-15   \n",
       "...                                                 ...        ...        ...   \n",
       "12344398           c2eb5e70-d6d3-11ea-9cd1-f194648955a5 2020-03-21 2021-03-24   \n",
       "123476419          de887560-ddb7-11ea-a31a-7d25e47a5c0a 2019-11-13 2020-12-16   \n",
       "123786685          f31213d0-c7f3-11ea-baa6-ebfe92aca975 2020-01-24 2021-03-14   \n",
       "123985054          dc4f9cb0-c179-11ea-8a11-397bdc21f5a9 2020-04-08 2021-04-08   \n",
       "124096955          dbbbc120-c179-11ea-8a11-397bdc21f5a9 2019-10-28 2020-09-09   \n",
       "\n",
       "                                               plan_key  allocation  \\\n",
       "membership_number                                                     \n",
       "100348708          be26b3c0-d50d-11ea-a941-f79507f5b8c8   124999.40   \n",
       "100969245          dcc78860-dcef-11ea-973a-cfc6cbcf0bd6    57601.24   \n",
       "101279515          ffa846a0-c7f3-11ea-b247-07c902e1140e    14054.04   \n",
       "101391416          00b1ee70-c7f4-11ea-b247-07c902e1140e   220504.96   \n",
       "101528743          1cf38ad9-1cb1-4025-a0aa-e3e7736d4f68   224608.59   \n",
       "...                                                 ...         ...   \n",
       "12344398           c7d092c0-d6d3-11ea-b1ee-87504086bf09   393071.73   \n",
       "123476419          e7c87850-ddb7-11ea-8b25-0fa931eaa230   416043.34   \n",
       "123786685          01f36f20-c7f4-11ea-b247-07c902e1140e   645045.88   \n",
       "123985054          e1eb01a0-c179-11ea-8daf-e7e742291ebd     1085.68   \n",
       "124096955          e262f0c0-c179-11ea-8daf-e7e742291ebd    16473.00   \n",
       "\n",
       "                   remaining  spending_ratio  under_spent  over_spent  \\\n",
       "membership_number                                                       \n",
       "100348708           51830.29        0.414644         True       False   \n",
       "100969245           56214.83        0.975931        False       False   \n",
       "101279515            9438.47        0.671584         True       False   \n",
       "101391416           64026.02        0.290361         True       False   \n",
       "101528743          224608.59        1.000000        False       False   \n",
       "...                      ...             ...          ...         ...   \n",
       "12344398           278667.39        0.708948         True       False   \n",
       "123476419          230512.00        0.554058         True       False   \n",
       "123786685          413846.93        0.641578         True       False   \n",
       "123985054             175.68        0.161816         True       False   \n",
       "124096955           16473.00        1.000000        False       False   \n",
       "\n",
       "                   par_spent  gender_Female  gender_Male  gender_Other  \\\n",
       "membership_number                                                        \n",
       "100348708              False           True        False         False   \n",
       "100969245              False           True        False         False   \n",
       "101279515              False           True        False         False   \n",
       "101391416              False           True        False         False   \n",
       "101528743               True          False        False         False   \n",
       "...                      ...            ...          ...           ...   \n",
       "12344398               False           True        False         False   \n",
       "123476419              False           True        False         False   \n",
       "123786685              False           True        False         False   \n",
       "123985054              False          False         True         False   \n",
       "124096955               True          False         True         False   \n",
       "\n",
       "                   gender_Unknown  GCCSA_Rural  GCCSA_Unknown  GCCSA_Urban  \n",
       "membership_number                                                           \n",
       "100348708                   False        False           True        False  \n",
       "100969245                   False        False          False         True  \n",
       "101279515                   False        False           True        False  \n",
       "101391416                   False         True          False        False  \n",
       "101528743                    True        False           True        False  \n",
       "...                           ...          ...            ...          ...  \n",
       "12344398                    False         True          False        False  \n",
       "123476419                   False        False           True        False  \n",
       "123786685                   False        False          False         True  \n",
       "123985054                   False        False          False         True  \n",
       "124096955                   False         True          False        False  \n",
       "\n",
       "[100 rows x 19 columns]"
      ],
      "text/html": "<div>\n<style scoped>\n    .dataframe tbody tr th:only-of-type {\n        vertical-align: middle;\n    }\n\n    .dataframe tbody tr th {\n        vertical-align: top;\n    }\n\n    .dataframe thead th {\n        text-align: right;\n    }\n</style>\n<table border=\"1\" class=\"dataframe\">\n  <thead>\n    <tr style=\"text-align: right;\">\n      <th></th>\n      <th>subtraction</th>\n      <th>u_disabilities</th>\n      <th>member_key</th>\n      <th>start_date</th>\n      <th>end_date</th>\n      <th>plan_key</th>\n      <th>allocation</th>\n      <th>remaining</th>\n      <th>spending_ratio</th>\n      <th>under_spent</th>\n      <th>over_spent</th>\n      <th>par_spent</th>\n      <th>gender_Female</th>\n      <th>gender_Male</th>\n      <th>gender_Other</th>\n      <th>gender_Unknown</th>\n      <th>GCCSA_Rural</th>\n      <th>GCCSA_Unknown</th>\n      <th>GCCSA_Urban</th>\n    </tr>\n    <tr>\n      <th>membership_number</th>\n      <th></th>\n      <th></th>\n      <th></th>\n      <th></th>\n      <th></th>\n      <th></th>\n      <th></th>\n      <th></th>\n      <th></th>\n      <th></th>\n      <th></th>\n      <th></th>\n      <th></th>\n      <th></th>\n      <th></th>\n      <th></th>\n      <th></th>\n      <th></th>\n      <th></th>\n    </tr>\n  </thead>\n  <tbody>\n    <tr>\n      <th>100348708</th>\n      <td>56650.89</td>\n      <td>others</td>\n      <td>b33d6da0-d50d-11ea-8224-836b70d82925</td>\n      <td>2020-01-14</td>\n      <td>2021-01-20</td>\n      <td>be26b3c0-d50d-11ea-a941-f79507f5b8c8</td>\n      <td>124999.40</td>\n      <td>51830.29</td>\n      <td>0.414644</td>\n      <td>True</td>\n      <td>False</td>\n      <td>False</td>\n      <td>True</td>\n      <td>False</td>\n      <td>False</td>\n      <td>False</td>\n      <td>False</td>\n      <td>True</td>\n      <td>False</td>\n    </tr>\n    <tr>\n      <th>100969245</th>\n      <td>43633.45</td>\n      <td>others</td>\n      <td>d3d41ed0-dcef-11ea-a5ac-61abce895864</td>\n      <td>2019-03-12</td>\n      <td>2020-05-24</td>\n      <td>dcc78860-dcef-11ea-973a-cfc6cbcf0bd6</td>\n      <td>57601.24</td>\n      <td>56214.83</td>\n      <td>0.975931</td>\n      <td>False</td>\n      <td>False</td>\n      <td>False</td>\n      <td>True</td>\n      <td>False</td>\n      <td>False</td>\n      <td>False</td>\n      <td>False</td>\n      <td>False</td>\n      <td>True</td>\n    </tr>\n    <tr>\n      <th>101279515</th>\n      <td>630.00</td>\n      <td>others</td>\n      <td>f38d5e50-c7f3-11ea-baa6-ebfe92aca975</td>\n      <td>2020-02-13</td>\n      <td>2021-02-09</td>\n      <td>ffa846a0-c7f3-11ea-b247-07c902e1140e</td>\n      <td>14054.04</td>\n      <td>9438.47</td>\n      <td>0.671584</td>\n      <td>True</td>\n      <td>False</td>\n      <td>False</td>\n      <td>True</td>\n      <td>False</td>\n      <td>False</td>\n      <td>False</td>\n      <td>False</td>\n      <td>True</td>\n      <td>False</td>\n    </tr>\n    <tr>\n      <th>101391416</th>\n      <td>13168.55</td>\n      <td>Intellectual disability</td>\n      <td>f28479d0-c7f3-11ea-baa6-ebfe92aca975</td>\n      <td>2019-11-29</td>\n      <td>2020-11-15</td>\n      <td>00b1ee70-c7f4-11ea-b247-07c902e1140e</td>\n      <td>220504.96</td>\n      <td>64026.02</td>\n      <td>0.290361</td>\n      <td>True</td>\n      <td>False</td>\n      <td>False</td>\n      <td>True</td>\n      <td>False</td>\n      <td>False</td>\n      <td>False</td>\n      <td>True</td>\n      <td>False</td>\n      <td>False</td>\n    </tr>\n    <tr>\n      <th>101528743</th>\n      <td>11433869.03</td>\n      <td>others</td>\n      <td>dfa55710-ddb7-11ea-a31a-7d25e47a5c0a</td>\n      <td>2021-03-12</td>\n      <td>2021-03-15</td>\n      <td>1cf38ad9-1cb1-4025-a0aa-e3e7736d4f68</td>\n      <td>224608.59</td>\n      <td>224608.59</td>\n      <td>1.000000</td>\n      <td>False</td>\n      <td>False</td>\n      <td>True</td>\n      <td>False</td>\n      <td>False</td>\n      <td>False</td>\n      <td>True</td>\n      <td>False</td>\n      <td>True</td>\n      <td>False</td>\n    </tr>\n    <tr>\n      <th>...</th>\n      <td>...</td>\n      <td>...</td>\n      <td>...</td>\n      <td>...</td>\n      <td>...</td>\n      <td>...</td>\n      <td>...</td>\n      <td>...</td>\n      <td>...</td>\n      <td>...</td>\n      <td>...</td>\n      <td>...</td>\n      <td>...</td>\n      <td>...</td>\n      <td>...</td>\n      <td>...</td>\n      <td>...</td>\n      <td>...</td>\n      <td>...</td>\n    </tr>\n    <tr>\n      <th>12344398</th>\n      <td>19192.28</td>\n      <td>Down syndrome</td>\n      <td>c2eb5e70-d6d3-11ea-9cd1-f194648955a5</td>\n      <td>2020-03-21</td>\n      <td>2021-03-24</td>\n      <td>c7d092c0-d6d3-11ea-b1ee-87504086bf09</td>\n      <td>393071.73</td>\n      <td>278667.39</td>\n      <td>0.708948</td>\n      <td>True</td>\n      <td>False</td>\n      <td>False</td>\n      <td>True</td>\n      <td>False</td>\n      <td>False</td>\n      <td>False</td>\n      <td>True</td>\n      <td>False</td>\n      <td>False</td>\n    </tr>\n    <tr>\n      <th>123476419</th>\n      <td>142631.00</td>\n      <td>others</td>\n      <td>de887560-ddb7-11ea-a31a-7d25e47a5c0a</td>\n      <td>2019-11-13</td>\n      <td>2020-12-16</td>\n      <td>e7c87850-ddb7-11ea-8b25-0fa931eaa230</td>\n      <td>416043.34</td>\n      <td>230512.00</td>\n      <td>0.554058</td>\n      <td>True</td>\n      <td>False</td>\n      <td>False</td>\n      <td>True</td>\n      <td>False</td>\n      <td>False</td>\n      <td>False</td>\n      <td>False</td>\n      <td>True</td>\n      <td>False</td>\n    </tr>\n    <tr>\n      <th>123786685</th>\n      <td>42643.81</td>\n      <td>others</td>\n      <td>f31213d0-c7f3-11ea-baa6-ebfe92aca975</td>\n      <td>2020-01-24</td>\n      <td>2021-03-14</td>\n      <td>01f36f20-c7f4-11ea-b247-07c902e1140e</td>\n      <td>645045.88</td>\n      <td>413846.93</td>\n      <td>0.641578</td>\n      <td>True</td>\n      <td>False</td>\n      <td>False</td>\n      <td>True</td>\n      <td>False</td>\n      <td>False</td>\n      <td>False</td>\n      <td>False</td>\n      <td>False</td>\n      <td>True</td>\n    </tr>\n    <tr>\n      <th>123985054</th>\n      <td>455.00</td>\n      <td>others</td>\n      <td>dc4f9cb0-c179-11ea-8a11-397bdc21f5a9</td>\n      <td>2020-04-08</td>\n      <td>2021-04-08</td>\n      <td>e1eb01a0-c179-11ea-8daf-e7e742291ebd</td>\n      <td>1085.68</td>\n      <td>175.68</td>\n      <td>0.161816</td>\n      <td>True</td>\n      <td>False</td>\n      <td>False</td>\n      <td>False</td>\n      <td>True</td>\n      <td>False</td>\n      <td>False</td>\n      <td>False</td>\n      <td>False</td>\n      <td>True</td>\n    </tr>\n    <tr>\n      <th>124096955</th>\n      <td>0.00</td>\n      <td>others</td>\n      <td>dbbbc120-c179-11ea-8a11-397bdc21f5a9</td>\n      <td>2019-10-28</td>\n      <td>2020-09-09</td>\n      <td>e262f0c0-c179-11ea-8daf-e7e742291ebd</td>\n      <td>16473.00</td>\n      <td>16473.00</td>\n      <td>1.000000</td>\n      <td>False</td>\n      <td>False</td>\n      <td>True</td>\n      <td>False</td>\n      <td>True</td>\n      <td>False</td>\n      <td>False</td>\n      <td>True</td>\n      <td>False</td>\n      <td>False</td>\n    </tr>\n  </tbody>\n</table>\n<p>100 rows × 19 columns</p>\n</div>"
     },
     "metadata": {},
     "execution_count": 154
    }
   ],
   "source": [
    "# One-Hot Encoding of cleaned_df2\n",
    "one_hot_df2 = temp_df2.set_index(\"membership_number\")\n",
    "# One-hot encoding of Gender\n",
    "one_hot_gender = pd.get_dummies(one_hot_df2[\"u_gender\"], prefix=\"gender\")\n",
    "# Merge with the cleaned DF2\n",
    "one_hot_df2 = pd.merge(one_hot_df2, one_hot_gender, on=\"membership_number\", how=\"left\")\n",
    "# One-hot encoding of GCCSA\n",
    "# Compile list of Greater regions\n",
    "greaterRegions = one_hot_df2[one_hot_df2[\"GCCSA_NAME\"].str.contains(\"Greater\", na=False)][\"GCCSA_NAME\"].value_counts().index.to_list()\n",
    "# Compile list of \"Rest of...\" regions\n",
    "restOfRegions = one_hot_df2[one_hot_df2[\"GCCSA_NAME\"].str.contains(\"Rest of\", na=False)][\"GCCSA_NAME\"].value_counts().index.to_list()\n",
    "# Compile list of \"Capital\" regions\n",
    "capitalRegions = one_hot_df2[one_hot_df2[\"GCCSA_NAME\"].str.contains(\"Capital\", na=False)][\"GCCSA_NAME\"].value_counts().index.to_list()\n",
    "# Replace \"Greater\" values with Urban\n",
    "for region in greaterRegions:\n",
    "    one_hot_df2 = one_hot_df2.replace([region], \"Urban\")\n",
    "# Replace \"Rest of...\" values with Rural\n",
    "for region in restOfRegions:\n",
    "    one_hot_df2 = one_hot_df2.replace([region], \"Rural\")\n",
    "# Replace \"Capital\" regions with Urban\n",
    "for region in capitalRegions:\n",
    "    one_hot_df2 = one_hot_df2.replace([region], \"Urban\")\n",
    "# Replace NaN values with \"Unknown\"\n",
    "one_hot_df2[\"GCCSA_NAME\"] = one_hot_df2[\"GCCSA_NAME\"].replace(np.nan, \"Unknown\")\n",
    "# Perform One-hot Encoding on GCCSA_NAME\n",
    "one_hot_region = pd.get_dummies(one_hot_df2[\"GCCSA_NAME\"], prefix=\"GCCSA\")\n",
    "one_hot_df2 = pd.merge(one_hot_df2, one_hot_region, on=\"membership_number\", how=\"left\")\n",
    "# Convert any UINT8 columns to Bool\n",
    "column_names = one_hot_df2.select_dtypes(include=[np.uint8]).columns\n",
    "one_hot_df2[column_names] = one_hot_df2[column_names].astype(bool)\n",
    "# Drop unnecessary columns\n",
    "one_hot_df2 = one_hot_df2.drop(columns=[\"SA4\", \"SA4_NAME\", \"GCCSA_NAME\", \"STATE_NAME\", \"u_gender\"])\n",
    "# Display Summary information for one_hot_df2\n",
    "one_hot_df2.info()\n",
    "one_hot_df2.head(100)"
   ]
  },
  {
   "source": [
    "## Neural Network on DF2\n",
    "\n"
   ],
   "cell_type": "markdown",
   "metadata": {}
  },
  {
   "cell_type": "code",
   "execution_count": 159,
   "metadata": {},
   "outputs": [
    {
     "output_type": "stream",
     "name": "stdout",
     "text": [
      "<class 'pandas.core.frame.DataFrame'>\n",
      "Index: 3404 entries, 100348708 to 999694603\n",
      "Data columns (total 13 columns):\n",
      " #   Column          Non-Null Count  Dtype  \n",
      "---  ------          --------------  -----  \n",
      " 0   allocation      3404 non-null   float64\n",
      " 1   remaining       3404 non-null   float64\n",
      " 2   spending_ratio  3404 non-null   float64\n",
      " 3   under_spent     3404 non-null   bool   \n",
      " 4   over_spent      3404 non-null   bool   \n",
      " 5   par_spent       3404 non-null   bool   \n",
      " 6   gender_Female   3404 non-null   bool   \n",
      " 7   gender_Male     3404 non-null   bool   \n",
      " 8   gender_Other    3404 non-null   bool   \n",
      " 9   gender_Unknown  3404 non-null   bool   \n",
      " 10  GCCSA_Rural     3404 non-null   bool   \n",
      " 11  GCCSA_Unknown   3404 non-null   bool   \n",
      " 12  GCCSA_Urban     3404 non-null   bool   \n",
      "dtypes: bool(10), float64(3)\n",
      "memory usage: 268.7+ KB\n",
      "Classification Report: \n",
      "               precision    recall  f1-score   support\n",
      "\n",
      "       False       0.99      1.00      0.99       485\n",
      "        True       1.00      0.99      0.99       537\n",
      "\n",
      "    accuracy                           0.99      1022\n",
      "   macro avg       0.99      0.99      0.99      1022\n",
      "weighted avg       0.99      0.99      0.99      1022\n",
      "\n",
      "Train Accuracy:  0.9962216624685138\n",
      "Test Accuracy:  0.9921722113502935\n",
      "Default Model Characteristics:  MLPClassifier(random_state=10)\n",
      "C:\\Users\\ihand\\AppData\\Local\\Programs\\Python\\Python39\\lib\\site-packages\\sklearn\\neural_network\\_multilayer_perceptron.py:614: ConvergenceWarning: Stochastic Optimizer: Maximum iterations (200) reached and the optimization hasn't converged yet.\n",
      "  warnings.warn(\n"
     ]
    }
   ],
   "source": [
    "final_df2 = one_hot_df2\n",
    "# Drop columns with unique values. FOR NOW, no DISABILITIES\n",
    "final_df2 = final_df2.drop(columns=[\"plan_key\", \"member_key\", \"subtraction\", \"u_disabilities\", \"start_date\", \"end_date\"])\n",
    "# Summary information for final_df2\n",
    "final_df2.info()\n",
    "final_df2.head(100)\n",
    "# Specify the target column for analysis\n",
    "target_column = \"under_spent\"\n",
    "# Create the input df\n",
    "input_df2 = final_df2.drop([target_column], axis=1)\n",
    "# Create a target df\n",
    "target_df2 = final_df2[target_column]\n",
    "# Set random state\n",
    "random_state = 10\n",
    "# Set test size\n",
    "test_size = 0.3\n",
    "# Nump-ify input_df2\n",
    "input_df2_mat = input_df2.to_numpy()\n",
    "# Split training and test data\n",
    "input_df2_train, input_df2_test, target_df2_train, target_df2_test = train_test_split(input_df2_mat, target_df2, test_size=test_size, stratify=target_df2, random_state=random_state)\n",
    "# Get standard scaler\n",
    "scaler = StandardScaler()\n",
    "# Transform training and test data\n",
    "input_df2_train = scaler.fit_transform(input_df2_train, target_df2_train)\n",
    "input_df2_test = scaler.transform(input_df2_test)\n",
    "# Generate a prediction\n",
    "model_1 = MLPClassifier(random_state=random_state)\n",
    "model_1.fit(input_df2_train, target_df2_train)\n",
    "target_prediction = model_1.predict(input_df2_test)\n",
    "# Summary Information\n",
    "print(\"Classification Report: \\n\", classification_report(target_df2_test, target_prediction))\n",
    "print(\"Train Accuracy: \", model_1.score(input_df2_train, target_df2_train))\n",
    "print(\"Test Accuracy: \", model_1.score(input_df2_test, target_df2_test))\n",
    "print(\"Default Model Characteristics: \", model_1)\n",
    "\n"
   ]
  },
  {
   "cell_type": "code",
   "execution_count": 161,
   "metadata": {},
   "outputs": [
    {
     "output_type": "stream",
     "name": "stdout",
     "text": [
      "Classification Report: \n",
      "               precision    recall  f1-score   support\n",
      "\n",
      "       False       0.99      1.00      0.99       485\n",
      "        True       1.00      0.99      0.99       537\n",
      "\n",
      "    accuracy                           0.99      1022\n",
      "   macro avg       0.99      0.99      0.99      1022\n",
      "weighted avg       0.99      0.99      0.99      1022\n",
      "\n",
      "Train Accuracy:  0.9966414777497901\n",
      "Test Accuracy:  0.9921722113502935\n",
      "Tuned Model Characteristics:  GridSearchCV(cv=10, estimator=MLPClassifier(random_state=10), n_jobs=-1,\n",
      "             param_grid={'alpha': [0.01, 0.001, 0.0001, 1e-05],\n",
      "                         'hidden_layer_sizes': [(2,), (3,), (4,), (5,), (6,),\n",
      "                                                (7,)]})\n",
      "Best Parameters: \n",
      " {'alpha': 0.01, 'hidden_layer_sizes': (3,)}\n",
      "C:\\Users\\ihand\\AppData\\Local\\Programs\\Python\\Python39\\lib\\site-packages\\sklearn\\neural_network\\_multilayer_perceptron.py:614: ConvergenceWarning: Stochastic Optimizer: Maximum iterations (200) reached and the optimization hasn't converged yet.\n",
      "  warnings.warn(\n"
     ]
    }
   ],
   "source": [
    "# Improved Model - Neural Network tuned with GridSearchCV\n",
    "hiddenLayerSizes = [(2,), (3, ), (4, ), (5, ), (6, ), (7, )]\n",
    "\n",
    "alpha = [0.01, 0.001, 0.0001, 0.00001]\n",
    "\n",
    "params = {'hidden_layer_sizes': hiddenLayerSizes, 'alpha': alpha}\n",
    "\n",
    "model_2 = GridSearchCV(param_grid=params, estimator=MLPClassifier(random_state=random_state), cv=10, n_jobs=-1)\n",
    "\n",
    "model_2.fit(input_df2_train, target_df2_train)\n",
    "\n",
    "target_prediction = model_2.predict(input_df2_test)\n",
    "# Summary Information\n",
    "print(\"Classification Report: \\n\", classification_report(target_df2_test, target_prediction))\n",
    "print(\"Train Accuracy: \", model_2.score(input_df2_train, target_df2_train))\n",
    "print(\"Test Accuracy: \", model_2.score(input_df2_test, target_df2_test))\n",
    "print(\"Tuned Model Characteristics: \", model_2)\n",
    "print(\"Best Parameters: \\n\", model_2.best_params_)"
   ]
  },
  {
   "cell_type": "code",
   "execution_count": 50,
   "id": "2b687a27",
   "metadata": {},
   "outputs": [
    {
     "output_type": "execute_result",
     "data": {
      "text/plain": [
       "'\\n### All Claim details (took 2 minutes to execute)\\n\\ndf_all_claims = pd.read_sql(\"select c.id as claim_id, invoice_id as invoiceId, c.item_category_level3_id from HH_claim c\", con=conn)\\n\\n#print(df_all_claims.info())\\n#print(df_all_claims)\\n### All item_categories details. Took few seconds for execution.\\n\\n##  \\ndf_all_ndis_service_cat = pd.read_sql(\"select item_category_level3_id, ndis.registration_group from hedgehog_ndis_service_item_ref ndis\", con=conn)\\n#print(df_all_ndis_service_cat.info())\\n#print(df_all_ndis_service_cat)\\n\\n##Combine df_all_claims and df_all_ndis_service_cat\\ndf_claimsWithProvider_details = pd.merge(df_all_claims, df_all_ndis_service_cat, on=\"item_category_level3_id\", how= \\'inner\\')\\ndf_claimsWithProvider_details= df_claimsWithProvider_details.drop(columns=[\\'item_category_level3_id\\'])\\n#df_claimsWithProvider_details = pd.read_sql(\"select c.id, c.invoice_id as invoiceId, n.registration_group from HH_claim c left join hedgehog_ndis_service_item_ref n on c.item_category_level3_id = n.item_category_level3_id;\", con=conn)\\n#print(df_claimsWithProvider_details.info())\\n#print(df_claimsWithProvider_details)\\n\\n### Provider Services details (Provider account linked to invoice and HH_provider) took 1 minute to execute\\n##  \\ndf_providersWithInvoice_details = pd.read_sql(\"select i.id as invoiceId, i.provider_account_id, (select p.abn from HH_provider p where pa.provider_id= p.id) as provider_abn from HH_invoice i left join HH_provider_account pa on i.provider_account_id = pa.id;\", con=conn)\\n#print(df_providersWithInvoice_details.info())\\n#print(df_providersWithInvoice_details)\\n\\n##Combine df_claim_providers_details and df_providersWithInvoice_details\\ndf_claims_provider_details= pd.merge(df_claimsWithProvider_details, df_providersWithInvoice_details, on=\"invoiceId\", how=\"left\")\\n\\n##################################################\\n\\n#Final claim and Provider df\\nprint(df_claims_provider_details.info())\\nprint(df_claims_provider_details)\\n\\n'"
      ]
     },
     "metadata": {},
     "execution_count": 50
    }
   ],
   "source": [
    "'''\n",
    "### All Claim details (took 2 minutes to execute)\n",
    "\n",
    "df_all_claims = pd.read_sql(\"select c.id as claim_id, invoice_id as invoiceId, c.item_category_level3_id from HH_claim c\", con=conn)\n",
    "\n",
    "#print(df_all_claims.info())\n",
    "#print(df_all_claims)\n",
    "### All item_categories details. Took few seconds for execution.\n",
    "\n",
    "##  \n",
    "df_all_ndis_service_cat = pd.read_sql(\"select item_category_level3_id, ndis.registration_group from hedgehog_ndis_service_item_ref ndis\", con=conn)\n",
    "#print(df_all_ndis_service_cat.info())\n",
    "#print(df_all_ndis_service_cat)\n",
    "\n",
    "##Combine df_all_claims and df_all_ndis_service_cat\n",
    "df_claimsWithProvider_details = pd.merge(df_all_claims, df_all_ndis_service_cat, on=\"item_category_level3_id\", how= 'inner')\n",
    "df_claimsWithProvider_details= df_claimsWithProvider_details.drop(columns=['item_category_level3_id'])\n",
    "#df_claimsWithProvider_details = pd.read_sql(\"select c.id, c.invoice_id as invoiceId, n.registration_group from HH_claim c left join hedgehog_ndis_service_item_ref n on c.item_category_level3_id = n.item_category_level3_id;\", con=conn)\n",
    "#print(df_claimsWithProvider_details.info())\n",
    "#print(df_claimsWithProvider_details)\n",
    "\n",
    "### Provider Services details (Provider account linked to invoice and HH_provider) took 1 minute to execute\n",
    "##  \n",
    "df_providersWithInvoice_details = pd.read_sql(\"select i.id as invoiceId, i.provider_account_id, (select p.abn from HH_provider p where pa.provider_id= p.id) as provider_abn from HH_invoice i left join HH_provider_account pa on i.provider_account_id = pa.id;\", con=conn)\n",
    "#print(df_providersWithInvoice_details.info())\n",
    "#print(df_providersWithInvoice_details)\n",
    "\n",
    "##Combine df_claim_providers_details and df_providersWithInvoice_details\n",
    "df_claims_provider_details= pd.merge(df_claimsWithProvider_details, df_providersWithInvoice_details, on=\"invoiceId\", how=\"left\")\n",
    "\n",
    "##################################################\n",
    "\n",
    "#Final claim and Provider df\n",
    "print(df_claims_provider_details.info())\n",
    "print(df_claims_provider_details)\n",
    "\n",
    "'''"
   ]
  }
 ],
 "metadata": {
  "kernelspec": {
   "name": "python394jvsc74a57bd004599353301972a4177495fb87ba9328f666fdd8bb33e7641e5bb86b309132ff",
   "display_name": "Python 3.9.4 64-bit"
  },
  "language_info": {
   "codemirror_mode": {
    "name": "ipython",
    "version": 3
   },
   "file_extension": ".py",
   "mimetype": "text/x-python",
   "name": "python",
   "nbconvert_exporter": "python",
   "pygments_lexer": "ipython3",
   "version": "3.9.4"
  },
  "metadata": {
   "interpreter": {
    "hash": "04599353301972a4177495fb87ba9328f666fdd8bb33e7641e5bb86b309132ff"
   }
  }
 },
 "nbformat": 4,
 "nbformat_minor": 5
}