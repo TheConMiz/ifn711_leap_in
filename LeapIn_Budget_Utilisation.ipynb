{
 "cells": [
  {
   "cell_type": "code",
   "execution_count": 31,
   "metadata": {},
   "outputs": [
    {
     "output_type": "stream",
     "name": "stdout",
     "text": [
      "Requirement already satisfied: pymysql in c:\\users\\ihand\\appdata\\local\\programs\\python\\python39\\lib\\site-packages (1.0.2)\n",
      "Requirement already satisfied: apyori in c:\\users\\ihand\\appdata\\local\\programs\\python\\python39\\lib\\site-packages (1.1.2)\n",
      "Requirement already satisfied: pandas in c:\\users\\ihand\\appdata\\local\\programs\\python\\python39\\lib\\site-packages (1.2.4)\n",
      "Requirement already satisfied: python-dateutil>=2.7.3 in c:\\users\\ihand\\appdata\\local\\programs\\python\\python39\\lib\\site-packages (from pandas) (2.8.1)\n",
      "Requirement already satisfied: numpy>=1.16.5 in c:\\users\\ihand\\appdata\\local\\programs\\python\\python39\\lib\\site-packages (from pandas) (1.20.2)\n",
      "Requirement already satisfied: pytz>=2017.3 in c:\\users\\ihand\\appdata\\local\\programs\\python\\python39\\lib\\site-packages (from pandas) (2021.1)\n",
      "Requirement already satisfied: six>=1.5 in c:\\users\\ihand\\appdata\\local\\programs\\python\\python39\\lib\\site-packages (from python-dateutil>=2.7.3->pandas) (1.15.0)\n",
      "Requirement already satisfied: matplotlib in c:\\users\\ihand\\appdata\\local\\programs\\python\\python39\\lib\\site-packages (3.4.1)\n",
      "Requirement already satisfied: pyparsing>=2.2.1 in c:\\users\\ihand\\appdata\\local\\programs\\python\\python39\\lib\\site-packages (from matplotlib) (2.4.7)\n",
      "Requirement already satisfied: pillow>=6.2.0 in c:\\users\\ihand\\appdata\\local\\programs\\python\\python39\\lib\\site-packages (from matplotlib) (8.2.0)\n",
      "Requirement already satisfied: kiwisolver>=1.0.1 in c:\\users\\ihand\\appdata\\local\\programs\\python\\python39\\lib\\site-packages (from matplotlib) (1.3.1)\n",
      "Requirement already satisfied: cycler>=0.10 in c:\\users\\ihand\\appdata\\local\\programs\\python\\python39\\lib\\site-packages (from matplotlib) (0.10.0)\n",
      "Requirement already satisfied: numpy>=1.16 in c:\\users\\ihand\\appdata\\local\\programs\\python\\python39\\lib\\site-packages (from matplotlib) (1.20.2)\n",
      "Requirement already satisfied: python-dateutil>=2.7 in c:\\users\\ihand\\appdata\\local\\programs\\python\\python39\\lib\\site-packages (from matplotlib) (2.8.1)\n",
      "Requirement already satisfied: six in c:\\users\\ihand\\appdata\\local\\programs\\python\\python39\\lib\\site-packages (from cycler>=0.10->matplotlib) (1.15.0)\n",
      "Requirement already satisfied: seaborn in c:\\users\\ihand\\appdata\\local\\programs\\python\\python39\\lib\\site-packages (0.11.1)\n",
      "Requirement already satisfied: numpy>=1.15 in c:\\users\\ihand\\appdata\\local\\programs\\python\\python39\\lib\\site-packages (from seaborn) (1.20.2)\n",
      "Requirement already satisfied: matplotlib>=2.2 in c:\\users\\ihand\\appdata\\local\\programs\\python\\python39\\lib\\site-packages (from seaborn) (3.4.1)\n",
      "Requirement already satisfied: pandas>=0.23 in c:\\users\\ihand\\appdata\\local\\programs\\python\\python39\\lib\\site-packages (from seaborn) (1.2.4)\n",
      "Requirement already satisfied: scipy>=1.0 in c:\\users\\ihand\\appdata\\local\\programs\\python\\python39\\lib\\site-packages (from seaborn) (1.6.3)\n",
      "Requirement already satisfied: cycler>=0.10 in c:\\users\\ihand\\appdata\\local\\programs\\python\\python39\\lib\\site-packages (from matplotlib>=2.2->seaborn) (0.10.0)\n",
      "Requirement already satisfied: python-dateutil>=2.7 in c:\\users\\ihand\\appdata\\local\\programs\\python\\python39\\lib\\site-packages (from matplotlib>=2.2->seaborn) (2.8.1)\n",
      "Requirement already satisfied: pyparsing>=2.2.1 in c:\\users\\ihand\\appdata\\local\\programs\\python\\python39\\lib\\site-packages (from matplotlib>=2.2->seaborn) (2.4.7)\n",
      "Requirement already satisfied: pillow>=6.2.0 in c:\\users\\ihand\\appdata\\local\\programs\\python\\python39\\lib\\site-packages (from matplotlib>=2.2->seaborn) (8.2.0)\n",
      "Requirement already satisfied: kiwisolver>=1.0.1 in c:\\users\\ihand\\appdata\\local\\programs\\python\\python39\\lib\\site-packages (from matplotlib>=2.2->seaborn) (1.3.1)\n",
      "Requirement already satisfied: six in c:\\users\\ihand\\appdata\\local\\programs\\python\\python39\\lib\\site-packages (from cycler>=0.10->matplotlib>=2.2->seaborn) (1.15.0)\n",
      "Requirement already satisfied: pytz>=2017.3 in c:\\users\\ihand\\appdata\\local\\programs\\python\\python39\\lib\\site-packages (from pandas>=0.23->seaborn) (2021.1)\n",
      "Requirement already satisfied: python-dotenv in c:\\users\\ihand\\appdata\\local\\programs\\python\\python39\\lib\\site-packages (0.17.1)\n"
     ]
    }
   ],
   "source": [
    "!pip install pymysql\n",
    "!pip install apyori\n",
    "!pip install pandas\n",
    "!pip install matplotlib\n",
    "!pip install seaborn\n",
    "!pip install python-dotenv"
   ]
  },
  {
   "cell_type": "code",
   "execution_count": 1,
   "id": "d0c8f9b8",
   "metadata": {},
   "outputs": [
    {
     "output_type": "stream",
     "name": "stdout",
     "text": [
      "<pymysql.connections.Connection object at 0x0000016B47F8BEE0>\n"
     ]
    }
   ],
   "source": [
    "# Imported Libraries\n",
    "import pandas as pd\n",
    "import pymysql\n",
    "\n",
    "# Data visualisation tools for later.\n",
    "import numpy as np\n",
    "import matplotlib.pyplot as plt\n",
    "import seaborn as sns\n",
    "from apyori import apriori\n",
    "\n",
    "# Load the .env file for database credentials\n",
    "from dotenv import load_dotenv\n",
    "\n",
    "load_dotenv()\n",
    "\n",
    "####### Connection to Client Database #######\n",
    "conn = pymysql.connect(host=os.getenv(\"host\"), user=os.getenv(\"user\"), port=int(os.getenv(\"port\")), password=os.getenv(\"password\"), db=os.getenv(\"dbname\"))\n",
    "\n",
    "print(conn)"
   ]
  },
  {
   "cell_type": "markdown",
   "id": "ea4f7e9b",
   "metadata": {},
   "source": [
    "### Getting Customer-users detail - make dataframe"
   ]
  },
  {
   "cell_type": "code",
   "execution_count": 8,
   "id": "6f2b1ff8",
   "metadata": {},
   "outputs": [
    {
     "output_type": "stream",
     "name": "stdout",
     "text": [
      "<class 'pandas.core.frame.DataFrame'>\nRangeIndex: 6241 entries, 0 to 6240\nData columns (total 12 columns):\n #   Column             Non-Null Count  Dtype  \n---  ------             --------------  -----  \n 0   member_id          6115 non-null   float64\n 1   membership_number  6115 non-null   object \n 2   status             6115 non-null   object \n 3   price_zone_code    6115 non-null   object \n 4   u_ndis_number      6241 non-null   object \n 5   u_disabilities     6241 non-null   object \n 6   u_gender           6241 non-null   object \n 7   u_date_of_birth    6239 non-null   object \n 8   SA1                6021 non-null   float64\n 9   SA2                6021 non-null   float64\n 10  SA3                6021 non-null   float64\n 11  SA4                6021 non-null   float64\ndtypes: float64(5), object(7)\nmemory usage: 585.2+ KB\n"
     ]
    }
   ],
   "source": [
    "####Checking queries\n",
    "\n",
    "###Customer Personal details\n",
    "##  add the desired rows in the query from the three tables\n",
    "#df_snow_cus = pd.read_sql(\"select m.id as member_id, m.membership_number, m.status, m.price_zone_code, s.u_ndis_number, s.u_disabilities, s.u_gender, s.u_date_of_birth, r.SA1, r.SA2, r.SA3,r.SA4  from SNOW_csm_consumer_user s left join  HH_member m  on s.u_ndis_number = m.membership_number left join libe_leapinprod_memberregion r on r.MemberId =  s.u_leapin_id where s.u_stage = 'li_managed' and s.u_ndis_number is not null;\", con=conn)\n",
    "#print(df_snow_cus.info())\n",
    "#print(df_snow_cus)\n",
    "df_customer_details = pd.read_sql(\"select m.id as member_id, m.membership_number, m.status, m.price_zone_code, s.u_ndis_number, s.u_disabilities, s.u_gender, s.u_date_of_birth, r.SA1, r.SA2, r.SA3,r.SA4  from SNOW_csm_consumer_user s left join  HH_member m  on s.u_ndis_number = m.membership_number left join libe_leapinprod_memberregion r on r.MemberId =  s.u_leapin_id where s.u_stage = 'li_managed' and s.u_ndis_number is not null and s.u_ndis_number != ''\", con=conn)\n",
    "\n",
    "df_customer_details.info()\n",
    "\n",
    "# df_customer_details[\"u_disabilities\"].value_counts()\n"
   ]
  },
  {
   "cell_type": "markdown",
   "id": "a8648376",
   "metadata": {},
   "source": [
    "### Getting Services Providers detail - make dataframe"
   ]
  },
  {
   "cell_type": "code",
   "execution_count": 23,
   "id": "8c82cd9e",
   "metadata": {},
   "outputs": [],
   "source": [
    "####Checking queries\n",
    "### Service Providers Details:\n",
    "\n",
    "#! Problem - too few ABNs to meaningfully join with SNOW_customer_account\n",
    "\n",
    "#df_providers_details = pd.read_sql(\"select p.id, pa.provider_account_key, p.is_inactive, p.abn, ca.city, ca.country from HH_provider_account pa join HH_provider p on p.id = pa.provider_id join SNOW_customer_account ca on ca.u_abn = p.abn;\", con=conn)\n",
    "\n",
    "#print(df_providers_details.info())\n",
    "\n",
    "#df_providers_details.head(50)"
   ]
  },
  {
   "cell_type": "markdown",
   "id": "9847099b",
   "metadata": {},
   "source": [
    "### Getting Claims and Invoice details - make dataframe"
   ]
  },
  {
   "cell_type": "code",
   "execution_count": 19,
   "id": "c0813e8a",
   "metadata": {
    "scrolled": true
   },
   "outputs": [],
   "source": [
    "### Checking Queries:\n",
    "### Getting Claims-Providers details:\n",
    "\n",
    "##df_invoice_claim_details = pd.read_sql(\"SELECT c.id as claim_id, c.invoice_id, c.state, c.risk_score, c.risk_level, c.risk_warnings, c.unit_price, c.start_date, c.end_date, c.invoiced_units, c.invoiced_unit_price, c.claimed_units, c.claimed_unit_price, c.claimed_date, c.funded_amount, c.funded_date, c.submitted_date, c.approved_date, c.received_date, c.processed_status, c.reconcile_status, c.ndis_cancelled_date, c.cancel_offset_z4_no, i.state, i.is_pre_approved, i.is_resolved, i.is_risk_identified, i.risk_score, i.invoice_total, i.funded_total, i.funded_date, i.claimed_date, i.reviewed_date, i.invoice_date, i.approved_date, i.submitted_date, i.received_date, m.membership_number, m.status, m.risk_factor, m.price_zone_code FROM HH_claim c left join HH_invoice i on c.invoice_id = i.id left join HH_member m on i.member_id = m.id ;\", con=conn)\n",
    "\n",
    "##df_invoice_claim_details.info()\n",
    "##df_invoice_claim_details"
   ]
  },
  {
   "cell_type": "code",
   "execution_count": 6,
   "id": "4402d660",
   "metadata": {},
   "outputs": [
    {
     "output_type": "stream",
     "name": "stdout",
     "text": [
      "<class 'pandas.core.frame.DataFrame'>\nInt64Index: 968874 entries, 0 to 968873\nData columns (total 9 columns):\n #   Column         Non-Null Count   Dtype  \n---  ------         --------------   -----  \n 0   claim_id       968874 non-null  int64  \n 1   invoice_id     968874 non-null  int64  \n 2   state          968874 non-null  object \n 3   risk_level     968874 non-null  object \n 4   start_date     968874 non-null  object \n 5   member_id      968874 non-null  int64  \n 6   invoice_total  968874 non-null  float64\n 7   funded_total   566458 non-null  float64\n 8   funded_date    556790 non-null  object \ndtypes: float64(2), int64(3), object(4)\nmemory usage: 73.9+ MB\n"
     ]
    },
    {
     "output_type": "execute_result",
     "data": {
      "text/plain": [
       "   claim_id  invoice_id state risk_level  start_date  member_id  \\\n",
       "0         1           1  PAID         NO  2020-04-30          2   \n",
       "1         2           2  PAID         NO  2020-05-01          2   \n",
       "2         3           3  PAID         NO  2020-04-23          3   \n",
       "3         4           4  PAID         NO  2020-04-30          3   \n",
       "4         5           5  PAID         NO  2020-05-07          3   \n",
       "5         6           6  PAID         NO  2020-05-07          4   \n",
       "6         7           7  PAID         NO  2020-05-12          2   \n",
       "7         8           8  PAID         NO  2020-05-14          2   \n",
       "8         9           9  PAID         NO  2020-05-14          4   \n",
       "9        10          10  PAID         NO  2020-05-16          4   \n",
       "\n",
       "   invoice_total  funded_total funded_date  \n",
       "0         160.00        160.00  2020-04-30  \n",
       "1         160.00        160.00  2020-05-05  \n",
       "2          80.00         80.00  2020-05-08  \n",
       "3          80.00         80.00  2020-05-08  \n",
       "4          80.00         80.00  2020-05-08  \n",
       "5         214.41        214.41  2020-05-12  \n",
       "6         130.00        130.00  2020-05-13  \n",
       "7         130.00        130.00  2020-05-15  \n",
       "8         428.82        428.82  2020-05-18  \n",
       "9         214.41        214.41  2020-05-18  "
      ],
      "text/html": "<div>\n<style scoped>\n    .dataframe tbody tr th:only-of-type {\n        vertical-align: middle;\n    }\n\n    .dataframe tbody tr th {\n        vertical-align: top;\n    }\n\n    .dataframe thead th {\n        text-align: right;\n    }\n</style>\n<table border=\"1\" class=\"dataframe\">\n  <thead>\n    <tr style=\"text-align: right;\">\n      <th></th>\n      <th>claim_id</th>\n      <th>invoice_id</th>\n      <th>state</th>\n      <th>risk_level</th>\n      <th>start_date</th>\n      <th>member_id</th>\n      <th>invoice_total</th>\n      <th>funded_total</th>\n      <th>funded_date</th>\n    </tr>\n  </thead>\n  <tbody>\n    <tr>\n      <th>0</th>\n      <td>1</td>\n      <td>1</td>\n      <td>PAID</td>\n      <td>NO</td>\n      <td>2020-04-30</td>\n      <td>2</td>\n      <td>160.00</td>\n      <td>160.00</td>\n      <td>2020-04-30</td>\n    </tr>\n    <tr>\n      <th>1</th>\n      <td>2</td>\n      <td>2</td>\n      <td>PAID</td>\n      <td>NO</td>\n      <td>2020-05-01</td>\n      <td>2</td>\n      <td>160.00</td>\n      <td>160.00</td>\n      <td>2020-05-05</td>\n    </tr>\n    <tr>\n      <th>2</th>\n      <td>3</td>\n      <td>3</td>\n      <td>PAID</td>\n      <td>NO</td>\n      <td>2020-04-23</td>\n      <td>3</td>\n      <td>80.00</td>\n      <td>80.00</td>\n      <td>2020-05-08</td>\n    </tr>\n    <tr>\n      <th>3</th>\n      <td>4</td>\n      <td>4</td>\n      <td>PAID</td>\n      <td>NO</td>\n      <td>2020-04-30</td>\n      <td>3</td>\n      <td>80.00</td>\n      <td>80.00</td>\n      <td>2020-05-08</td>\n    </tr>\n    <tr>\n      <th>4</th>\n      <td>5</td>\n      <td>5</td>\n      <td>PAID</td>\n      <td>NO</td>\n      <td>2020-05-07</td>\n      <td>3</td>\n      <td>80.00</td>\n      <td>80.00</td>\n      <td>2020-05-08</td>\n    </tr>\n    <tr>\n      <th>5</th>\n      <td>6</td>\n      <td>6</td>\n      <td>PAID</td>\n      <td>NO</td>\n      <td>2020-05-07</td>\n      <td>4</td>\n      <td>214.41</td>\n      <td>214.41</td>\n      <td>2020-05-12</td>\n    </tr>\n    <tr>\n      <th>6</th>\n      <td>7</td>\n      <td>7</td>\n      <td>PAID</td>\n      <td>NO</td>\n      <td>2020-05-12</td>\n      <td>2</td>\n      <td>130.00</td>\n      <td>130.00</td>\n      <td>2020-05-13</td>\n    </tr>\n    <tr>\n      <th>7</th>\n      <td>8</td>\n      <td>8</td>\n      <td>PAID</td>\n      <td>NO</td>\n      <td>2020-05-14</td>\n      <td>2</td>\n      <td>130.00</td>\n      <td>130.00</td>\n      <td>2020-05-15</td>\n    </tr>\n    <tr>\n      <th>8</th>\n      <td>9</td>\n      <td>9</td>\n      <td>PAID</td>\n      <td>NO</td>\n      <td>2020-05-14</td>\n      <td>4</td>\n      <td>428.82</td>\n      <td>428.82</td>\n      <td>2020-05-18</td>\n    </tr>\n    <tr>\n      <th>9</th>\n      <td>10</td>\n      <td>10</td>\n      <td>PAID</td>\n      <td>NO</td>\n      <td>2020-05-16</td>\n      <td>4</td>\n      <td>214.41</td>\n      <td>214.41</td>\n      <td>2020-05-18</td>\n    </tr>\n  </tbody>\n</table>\n</div>"
     },
     "metadata": {},
     "execution_count": 6
    }
   ],
   "source": [
    "\n",
    "### Getting Claims details: \n",
    "\n",
    "df_claims= pd.read_sql(\"SELECT c.id as claim_id, c.invoice_id, c.state, c.risk_level, c.start_date FROM HH_claim c;\", con=conn)\n",
    "# df_claims.info()\n",
    "#df_claims\n",
    "\n",
    "###Getting Invoice Details\n",
    "\n",
    "df_invoices= pd.read_sql(\"SELECT i.id as invoice_id, i.member_id, i.invoice_total, i.funded_total, i.funded_date FROM HH_invoice i;\", con=conn)\n",
    "# df_invoices.info()\n",
    "#df_invoices\n",
    "\n",
    "###Getting Member Details\n",
    "#df_mem= pd.read_sql(\"SELECT m.id as member_id, m.membership_number, m.status, m.price_zone_code FROM HH_member m;\", con=conn)\n",
    "#df_mem.info()\n",
    "#df_mem\n",
    "\n",
    "### Merging\n",
    "df_claimsWithInvoices = pd.merge(df_claims, df_invoices, on=\"invoice_id\", how=\"left\")\n",
    "#df_invoice_claim_details = pd.merge(df_claimsWithInvoices, df_mem, on=\"member_id\", how=\"left\")\n",
    "\n",
    "#df_claimsWithInvoices.info()\n",
    "df_invoice_claim_details= df_claimsWithInvoices\n",
    "\n",
    "df_invoice_claim_details.info()\n",
    "\n",
    "df_invoice_claim_details.head(10)\n",
    "\n"
   ]
  },
  {
   "cell_type": "markdown",
   "id": "a7d7fefb",
   "metadata": {},
   "source": [
    "### Checking Claims_id and Providers link - making dataframe"
   ]
  },
  {
   "cell_type": "code",
   "execution_count": 56,
   "id": "2b687a27",
   "metadata": {},
   "outputs": [
    {
     "output_type": "stream",
     "name": "stdout",
     "text": [
      "<class 'pandas.core.frame.DataFrame'>\nInt64Index: 969779 entries, 0 to 969778\nData columns (total 5 columns):\n #   Column               Non-Null Count   Dtype \n---  ------               --------------   ----- \n 0   claim_id             969779 non-null  int64 \n 1   invoiceId            969779 non-null  int64 \n 2   registration_group   969779 non-null  object\n 3   provider_account_id  969779 non-null  int64 \n 4   provider_abn         940538 non-null  object\ndtypes: int64(3), object(2)\nmemory usage: 44.4+ MB\nNone\n        claim_id  invoiceId                               registration_group  \\\n0              1          1                             Therapeutic Supports   \n1              2          2                             Therapeutic Supports   \n2              3          3                             Therapeutic Supports   \n3              4          4                             Therapeutic Supports   \n4              5          5                             Therapeutic Supports   \n...          ...        ...                                              ...   \n969774    967635     520409                 Specialised Supported Employment   \n969775    980261     526511  Assistive Products For Personal Care And Safety   \n969776   1000228     536789  Assistive Products For Personal Care And Safety   \n969777   1003943     538305                Group And Centre Based Activities   \n969778   1005045     538715  Assistive Products For Personal Care And Safety   \n\n        provider_account_id provider_abn  \n0                       157  13448919450  \n1                       157  13448919450  \n2                      1877    454964437  \n3                      1877    454964437  \n4                      1877    454964437  \n...                     ...          ...  \n969774                  860  27009942269  \n969775                16806         None  \n969776                 2806  62630886887  \n969777                11611  21170525763  \n969778                12827         None  \n\n[969779 rows x 5 columns]\n"
     ]
    }
   ],
   "source": [
    "### All Claim details (took 2 minutes to execute)\n",
    "##  \n",
    "df_all_claims = pd.read_sql(\"select c.id as claim_id, invoice_id as invoiceId, c.item_category_level3_id from HH_claim c\", con=conn)\n",
    "\n",
    "#print(df_all_claims.info())\n",
    "#print(df_all_claims)\n",
    "### All item_categories details. Took few seconds for execution.\n",
    "\n",
    "##  \n",
    "df_all_ndis_service_cat = pd.read_sql(\"select item_category_level3_id, ndis.registration_group from hedgehog_ndis_service_item_ref ndis\", con=conn)\n",
    "#print(df_all_ndis_service_cat.info())\n",
    "#print(df_all_ndis_service_cat)\n",
    "\n",
    "##Combine df_all_claims and df_all_ndis_service_cat\n",
    "df_claimsWithProvider_details = pd.merge(df_all_claims, df_all_ndis_service_cat, on=\"item_category_level3_id\", how= 'inner')\n",
    "df_claimsWithProvider_details= df_claimsWithProvider_details.drop(columns=['item_category_level3_id'])\n",
    "#df_claimsWithProvider_details = pd.read_sql(\"select c.id, c.invoice_id as invoiceId, n.registration_group from HH_claim c left join hedgehog_ndis_service_item_ref n on c.item_category_level3_id = n.item_category_level3_id;\", con=conn)\n",
    "#print(df_claimsWithProvider_details.info())\n",
    "#print(df_claimsWithProvider_details)\n",
    "\n",
    "### Provider Services details (Provider account linked to invoice and HH_provider) took 1 minute to execute\n",
    "##  \n",
    "df_providersWithInvoice_details = pd.read_sql(\"select i.id as invoiceId, i.provider_account_id, (select p.abn from HH_provider p where pa.provider_id= p.id) as provider_abn from HH_invoice i left join HH_provider_account pa on i.provider_account_id = pa.id;\", con=conn)\n",
    "#print(df_providersWithInvoice_details.info())\n",
    "#print(df_providersWithInvoice_details)\n",
    "\n",
    "##Combine df_claim_providers_details and df_providersWithInvoice_details\n",
    "df_claims_provider_details= pd.merge(df_claimsWithProvider_details, df_providersWithInvoice_details, on=\"invoiceId\", how=\"left\")\n",
    "\n",
    "##################################################\n",
    "\n",
    "#Final claim and Provider df\n",
    "print(df_claims_provider_details.info())\n",
    "print(df_claims_provider_details)"
   ]
  },
  {
   "cell_type": "markdown",
   "id": "cb592577",
   "metadata": {},
   "source": [
    "## Merging the dataframes"
   ]
  },
  {
   "cell_type": "code",
   "execution_count": 61,
   "id": "ebac7a2e",
   "metadata": {},
   "outputs": [
    {
     "output_type": "stream",
     "name": "stdout",
     "text": [
      "<class 'pandas.core.frame.DataFrame'>\nInt64Index: 969735 entries, 0 to 969734\nData columns (total 23 columns):\n #   Column               Non-Null Count   Dtype  \n---  ------               --------------   -----  \n 0   claim_id             903860 non-null  float64\n 1   invoice_id           903860 non-null  float64\n 2   state                903860 non-null  object \n 3   risk_level           903860 non-null  object \n 4   start_date           903860 non-null  object \n 5   member_id            903860 non-null  float64\n 6   invoice_total        903860 non-null  float64\n 7   funded_total         540423 non-null  float64\n 8   funded_date          531471 non-null  object \n 9   membership_number    903860 non-null  object \n 10  status               903860 non-null  object \n 11  price_zone_code      903860 non-null  object \n 12  u_ndis_number        903860 non-null  object \n 13  u_disabilities       903860 non-null  object \n 14  u_gender             903860 non-null  object \n 15  u_date_of_birth      903807 non-null  object \n 16  SA1                  885884 non-null  float64\n 17  SA2                  885884 non-null  float64\n 18  SA3                  885884 non-null  float64\n 19  SA4                  885884 non-null  float64\n 20  registration_group   903860 non-null  object \n 21  provider_account_id  903860 non-null  float64\n 22  provider_abn         876793 non-null  object \ndtypes: float64(10), object(13)\nmemory usage: 177.6+ MB\n"
     ]
    },
    {
     "output_type": "execute_result",
     "data": {
      "text/plain": [
       "     claim_id  invoice_id state risk_level  start_date  member_id  \\\n",
       "0         1.0         1.0  PAID         NO  2020-04-30        2.0   \n",
       "1         2.0         2.0  PAID         NO  2020-05-01        2.0   \n",
       "2         3.0         3.0  PAID         NO  2020-04-23        3.0   \n",
       "3         4.0         4.0  PAID         NO  2020-04-30        3.0   \n",
       "4         5.0         5.0  PAID         NO  2020-05-07        3.0   \n",
       "..        ...         ...   ...        ...         ...        ...   \n",
       "995     996.0       560.0  PAID         NO  2019-09-02       21.0   \n",
       "996     997.0       802.0  PAID         NO  2019-05-01       21.0   \n",
       "997     998.0       564.0  PAID         NO  2019-05-30       21.0   \n",
       "998     999.0       500.0  PAID         NO  2019-09-20       21.0   \n",
       "999    1000.0       628.0  PAID         NO  2019-09-04       21.0   \n",
       "\n",
       "     invoice_total  funded_total funded_date membership_number  ...  \\\n",
       "0            160.0         160.0  2020-04-30         277486509  ...   \n",
       "1            160.0         160.0  2020-05-05         277486509  ...   \n",
       "2             80.0          80.0  2020-05-08         815939440  ...   \n",
       "3             80.0          80.0  2020-05-08         815939440  ...   \n",
       "4             80.0          80.0  2020-05-08         815939440  ...   \n",
       "..             ...           ...         ...               ...  ...   \n",
       "995          190.0           NaN        None         661532612  ...   \n",
       "996          175.0           NaN        None         661532612  ...   \n",
       "997           63.0           NaN        None         661532612  ...   \n",
       "998          304.0           NaN        None         661532612  ...   \n",
       "999         1613.6           NaN        None         661532612  ...   \n",
       "\n",
       "    u_disabilities u_gender u_date_of_birth        SA1      SA2      SA3  \\\n",
       "0                      Male      1958-04-12  3110117.0  31101.0  30404.0   \n",
       "1                      Male      1958-04-12  3110117.0  31101.0  30404.0   \n",
       "2                    Female      1937-10-25  3130913.0  31309.0  31102.0   \n",
       "3                    Female      1937-10-25  3130913.0  31309.0  31102.0   \n",
       "4                    Female      1937-10-25  3130913.0  31309.0  31102.0   \n",
       "..             ...      ...             ...        ...      ...      ...   \n",
       "995                  Female      1996-08-28  1111516.0  11115.0  10602.0   \n",
       "996                  Female      1996-08-28  1111516.0  11115.0  10602.0   \n",
       "997                  Female      1996-08-28  1111516.0  11115.0  10602.0   \n",
       "998                  Female      1996-08-28  1111516.0  11115.0  10602.0   \n",
       "999                  Female      1996-08-28  1111516.0  11115.0  10602.0   \n",
       "\n",
       "       SA4    registration_group  provider_account_id  provider_abn  \n",
       "0    304.0  Therapeutic Supports                157.0   13448919450  \n",
       "1    304.0  Therapeutic Supports                157.0   13448919450  \n",
       "2    311.0  Therapeutic Supports               1877.0     454964437  \n",
       "3    311.0  Therapeutic Supports               1877.0     454964437  \n",
       "4    311.0  Therapeutic Supports               1877.0     454964437  \n",
       "..     ...                   ...                  ...           ...  \n",
       "995  106.0  Therapeutic Supports               1606.0   40627330376  \n",
       "996  106.0  Therapeutic Supports                986.0   29230435046  \n",
       "997  106.0  Therapeutic Supports               1144.0   32600120787  \n",
       "998  106.0  Therapeutic Supports               4069.0   86432469778  \n",
       "999  106.0     Behaviour Support                801.0   25612470416  \n",
       "\n",
       "[1000 rows x 23 columns]"
      ],
      "text/html": "<div>\n<style scoped>\n    .dataframe tbody tr th:only-of-type {\n        vertical-align: middle;\n    }\n\n    .dataframe tbody tr th {\n        vertical-align: top;\n    }\n\n    .dataframe thead th {\n        text-align: right;\n    }\n</style>\n<table border=\"1\" class=\"dataframe\">\n  <thead>\n    <tr style=\"text-align: right;\">\n      <th></th>\n      <th>claim_id</th>\n      <th>invoice_id</th>\n      <th>state</th>\n      <th>risk_level</th>\n      <th>start_date</th>\n      <th>member_id</th>\n      <th>invoice_total</th>\n      <th>funded_total</th>\n      <th>funded_date</th>\n      <th>membership_number</th>\n      <th>...</th>\n      <th>u_disabilities</th>\n      <th>u_gender</th>\n      <th>u_date_of_birth</th>\n      <th>SA1</th>\n      <th>SA2</th>\n      <th>SA3</th>\n      <th>SA4</th>\n      <th>registration_group</th>\n      <th>provider_account_id</th>\n      <th>provider_abn</th>\n    </tr>\n  </thead>\n  <tbody>\n    <tr>\n      <th>0</th>\n      <td>1.0</td>\n      <td>1.0</td>\n      <td>PAID</td>\n      <td>NO</td>\n      <td>2020-04-30</td>\n      <td>2.0</td>\n      <td>160.0</td>\n      <td>160.0</td>\n      <td>2020-04-30</td>\n      <td>277486509</td>\n      <td>...</td>\n      <td></td>\n      <td>Male</td>\n      <td>1958-04-12</td>\n      <td>3110117.0</td>\n      <td>31101.0</td>\n      <td>30404.0</td>\n      <td>304.0</td>\n      <td>Therapeutic Supports</td>\n      <td>157.0</td>\n      <td>13448919450</td>\n    </tr>\n    <tr>\n      <th>1</th>\n      <td>2.0</td>\n      <td>2.0</td>\n      <td>PAID</td>\n      <td>NO</td>\n      <td>2020-05-01</td>\n      <td>2.0</td>\n      <td>160.0</td>\n      <td>160.0</td>\n      <td>2020-05-05</td>\n      <td>277486509</td>\n      <td>...</td>\n      <td></td>\n      <td>Male</td>\n      <td>1958-04-12</td>\n      <td>3110117.0</td>\n      <td>31101.0</td>\n      <td>30404.0</td>\n      <td>304.0</td>\n      <td>Therapeutic Supports</td>\n      <td>157.0</td>\n      <td>13448919450</td>\n    </tr>\n    <tr>\n      <th>2</th>\n      <td>3.0</td>\n      <td>3.0</td>\n      <td>PAID</td>\n      <td>NO</td>\n      <td>2020-04-23</td>\n      <td>3.0</td>\n      <td>80.0</td>\n      <td>80.0</td>\n      <td>2020-05-08</td>\n      <td>815939440</td>\n      <td>...</td>\n      <td></td>\n      <td>Female</td>\n      <td>1937-10-25</td>\n      <td>3130913.0</td>\n      <td>31309.0</td>\n      <td>31102.0</td>\n      <td>311.0</td>\n      <td>Therapeutic Supports</td>\n      <td>1877.0</td>\n      <td>454964437</td>\n    </tr>\n    <tr>\n      <th>3</th>\n      <td>4.0</td>\n      <td>4.0</td>\n      <td>PAID</td>\n      <td>NO</td>\n      <td>2020-04-30</td>\n      <td>3.0</td>\n      <td>80.0</td>\n      <td>80.0</td>\n      <td>2020-05-08</td>\n      <td>815939440</td>\n      <td>...</td>\n      <td></td>\n      <td>Female</td>\n      <td>1937-10-25</td>\n      <td>3130913.0</td>\n      <td>31309.0</td>\n      <td>31102.0</td>\n      <td>311.0</td>\n      <td>Therapeutic Supports</td>\n      <td>1877.0</td>\n      <td>454964437</td>\n    </tr>\n    <tr>\n      <th>4</th>\n      <td>5.0</td>\n      <td>5.0</td>\n      <td>PAID</td>\n      <td>NO</td>\n      <td>2020-05-07</td>\n      <td>3.0</td>\n      <td>80.0</td>\n      <td>80.0</td>\n      <td>2020-05-08</td>\n      <td>815939440</td>\n      <td>...</td>\n      <td></td>\n      <td>Female</td>\n      <td>1937-10-25</td>\n      <td>3130913.0</td>\n      <td>31309.0</td>\n      <td>31102.0</td>\n      <td>311.0</td>\n      <td>Therapeutic Supports</td>\n      <td>1877.0</td>\n      <td>454964437</td>\n    </tr>\n    <tr>\n      <th>...</th>\n      <td>...</td>\n      <td>...</td>\n      <td>...</td>\n      <td>...</td>\n      <td>...</td>\n      <td>...</td>\n      <td>...</td>\n      <td>...</td>\n      <td>...</td>\n      <td>...</td>\n      <td>...</td>\n      <td>...</td>\n      <td>...</td>\n      <td>...</td>\n      <td>...</td>\n      <td>...</td>\n      <td>...</td>\n      <td>...</td>\n      <td>...</td>\n      <td>...</td>\n      <td>...</td>\n    </tr>\n    <tr>\n      <th>995</th>\n      <td>996.0</td>\n      <td>560.0</td>\n      <td>PAID</td>\n      <td>NO</td>\n      <td>2019-09-02</td>\n      <td>21.0</td>\n      <td>190.0</td>\n      <td>NaN</td>\n      <td>None</td>\n      <td>661532612</td>\n      <td>...</td>\n      <td></td>\n      <td>Female</td>\n      <td>1996-08-28</td>\n      <td>1111516.0</td>\n      <td>11115.0</td>\n      <td>10602.0</td>\n      <td>106.0</td>\n      <td>Therapeutic Supports</td>\n      <td>1606.0</td>\n      <td>40627330376</td>\n    </tr>\n    <tr>\n      <th>996</th>\n      <td>997.0</td>\n      <td>802.0</td>\n      <td>PAID</td>\n      <td>NO</td>\n      <td>2019-05-01</td>\n      <td>21.0</td>\n      <td>175.0</td>\n      <td>NaN</td>\n      <td>None</td>\n      <td>661532612</td>\n      <td>...</td>\n      <td></td>\n      <td>Female</td>\n      <td>1996-08-28</td>\n      <td>1111516.0</td>\n      <td>11115.0</td>\n      <td>10602.0</td>\n      <td>106.0</td>\n      <td>Therapeutic Supports</td>\n      <td>986.0</td>\n      <td>29230435046</td>\n    </tr>\n    <tr>\n      <th>997</th>\n      <td>998.0</td>\n      <td>564.0</td>\n      <td>PAID</td>\n      <td>NO</td>\n      <td>2019-05-30</td>\n      <td>21.0</td>\n      <td>63.0</td>\n      <td>NaN</td>\n      <td>None</td>\n      <td>661532612</td>\n      <td>...</td>\n      <td></td>\n      <td>Female</td>\n      <td>1996-08-28</td>\n      <td>1111516.0</td>\n      <td>11115.0</td>\n      <td>10602.0</td>\n      <td>106.0</td>\n      <td>Therapeutic Supports</td>\n      <td>1144.0</td>\n      <td>32600120787</td>\n    </tr>\n    <tr>\n      <th>998</th>\n      <td>999.0</td>\n      <td>500.0</td>\n      <td>PAID</td>\n      <td>NO</td>\n      <td>2019-09-20</td>\n      <td>21.0</td>\n      <td>304.0</td>\n      <td>NaN</td>\n      <td>None</td>\n      <td>661532612</td>\n      <td>...</td>\n      <td></td>\n      <td>Female</td>\n      <td>1996-08-28</td>\n      <td>1111516.0</td>\n      <td>11115.0</td>\n      <td>10602.0</td>\n      <td>106.0</td>\n      <td>Therapeutic Supports</td>\n      <td>4069.0</td>\n      <td>86432469778</td>\n    </tr>\n    <tr>\n      <th>999</th>\n      <td>1000.0</td>\n      <td>628.0</td>\n      <td>PAID</td>\n      <td>NO</td>\n      <td>2019-09-04</td>\n      <td>21.0</td>\n      <td>1613.6</td>\n      <td>NaN</td>\n      <td>None</td>\n      <td>661532612</td>\n      <td>...</td>\n      <td></td>\n      <td>Female</td>\n      <td>1996-08-28</td>\n      <td>1111516.0</td>\n      <td>11115.0</td>\n      <td>10602.0</td>\n      <td>106.0</td>\n      <td>Behaviour Support</td>\n      <td>801.0</td>\n      <td>25612470416</td>\n    </tr>\n  </tbody>\n</table>\n<p>1000 rows × 23 columns</p>\n</div>"
     },
     "metadata": {},
     "execution_count": 61
    }
   ],
   "source": [
    "#Merging invoice, claim and member\n",
    "df_invoice_claim_cus = pd.merge(df_invoice_claim_details, df_customer_details, on=\"member_id\", how=\"left\")\n",
    "\n",
    "#The membership_number is 902999 because we have considered the members only with 'li_managed' stage. \n",
    "#The records for members having the member id and not having the membership number needs to be dropped.\n",
    "filter1 = df_invoice_claim_cus [\"membership_number\"].notnull()\n",
    "df_invoice_claim_cus.where(filter1, inplace = True)\n",
    "# df_invoice_claim_cus.info()\n",
    "# df_invoice_claim_cus\n",
    "\n",
    "#Merging with service providers\n",
    "df_final = pd.merge(df_invoice_claim_cus, df_claims_provider_details, on=\"claim_id\", how=\"left\")\n",
    "df_final= df_final.drop(columns=['invoiceId'])\n",
    "df_final.info()\n",
    "\n",
    "df_final.head(1000)\n",
    "\n",
    "\n",
    "\n",
    "# df_final[\"u_disabilities\"].value_counts()\n",
    "#There are some claims which do not have a provider specific information\n",
    "\n"
   ]
  },
  {
   "cell_type": "code",
   "execution_count": 79,
   "metadata": {},
   "outputs": [
    {
     "output_type": "execute_result",
     "data": {
      "text/plain": [
       "           claim_id  invoice_id state risk_level  start_date  invoice_total  \\\n",
       "member_id                                                                     \n",
       "2                 1           1  PAID         NO  2020-04-30         160.00   \n",
       "2                 2           2  PAID         NO  2020-05-01         160.00   \n",
       "2                 7           7  PAID         NO  2020-05-12         130.00   \n",
       "2                 8           8  PAID         NO  2020-05-14         130.00   \n",
       "2                12          12  PAID         NO  2020-05-14         320.00   \n",
       "...             ...         ...   ...        ...         ...            ...   \n",
       "4            910550      492186  PAID         NO  2021-01-20         214.41   \n",
       "4            910554      492190  PAID         NO  2021-01-30         214.41   \n",
       "4            914011      494072  PAID         NO  2021-03-13         387.98   \n",
       "4            919095      496324  PAID         NO  2021-03-13         214.41   \n",
       "4            958650      516418  PAID         NO  2021-03-27         214.41   \n",
       "\n",
       "           funded_total funded_date membership_number   status  \\\n",
       "member_id                                                        \n",
       "2                160.00  2020-04-30         277486509  managed   \n",
       "2                160.00  2020-05-05         277486509  managed   \n",
       "2                130.00  2020-05-13         277486509  managed   \n",
       "2                130.00  2020-05-15         277486509  managed   \n",
       "2                320.00  2020-05-21         277486509  managed   \n",
       "...                 ...         ...               ...      ...   \n",
       "4                214.41  2021-03-15         305008838  managed   \n",
       "4                214.41  2021-03-15         305008838  managed   \n",
       "4                387.98  2021-03-16         305008838  managed   \n",
       "4                214.41  2021-03-17         305008838  managed   \n",
       "4                214.41  2021-03-31         305008838  managed   \n",
       "\n",
       "           price_zone_code u_ndis_number u_disabilities u_gender  \\\n",
       "member_id                                                          \n",
       "2          ACT_NSW_QLD_VIC     277486509                    Male   \n",
       "2          ACT_NSW_QLD_VIC     277486509                    Male   \n",
       "2          ACT_NSW_QLD_VIC     277486509                    Male   \n",
       "2          ACT_NSW_QLD_VIC     277486509                    Male   \n",
       "2          ACT_NSW_QLD_VIC     277486509                    Male   \n",
       "...                    ...           ...            ...      ...   \n",
       "4          ACT_NSW_QLD_VIC     305008838                    Male   \n",
       "4          ACT_NSW_QLD_VIC     305008838                    Male   \n",
       "4          ACT_NSW_QLD_VIC     305008838                    Male   \n",
       "4          ACT_NSW_QLD_VIC     305008838                    Male   \n",
       "4          ACT_NSW_QLD_VIC     305008838                    Male   \n",
       "\n",
       "          u_date_of_birth        SA1      SA2      SA3    SA4  \n",
       "member_id                                                      \n",
       "2              1958-04-12  3110117.0  31101.0  30404.0  304.0  \n",
       "2              1958-04-12  3110117.0  31101.0  30404.0  304.0  \n",
       "2              1958-04-12  3110117.0  31101.0  30404.0  304.0  \n",
       "2              1958-04-12  3110117.0  31101.0  30404.0  304.0  \n",
       "2              1958-04-12  3110117.0  31101.0  30404.0  304.0  \n",
       "...                   ...        ...      ...      ...    ...  \n",
       "4              1987-04-22  3129618.0  31296.0  31004.0  310.0  \n",
       "4              1987-04-22  3129618.0  31296.0  31004.0  310.0  \n",
       "4              1987-04-22  3129618.0  31296.0  31004.0  310.0  \n",
       "4              1987-04-22  3129618.0  31296.0  31004.0  310.0  \n",
       "4              1987-04-22  3129618.0  31296.0  31004.0  310.0  \n",
       "\n",
       "[100 rows x 19 columns]"
      ],
      "text/html": "<div>\n<style scoped>\n    .dataframe tbody tr th:only-of-type {\n        vertical-align: middle;\n    }\n\n    .dataframe tbody tr th {\n        vertical-align: top;\n    }\n\n    .dataframe thead th {\n        text-align: right;\n    }\n</style>\n<table border=\"1\" class=\"dataframe\">\n  <thead>\n    <tr style=\"text-align: right;\">\n      <th></th>\n      <th>claim_id</th>\n      <th>invoice_id</th>\n      <th>state</th>\n      <th>risk_level</th>\n      <th>start_date</th>\n      <th>invoice_total</th>\n      <th>funded_total</th>\n      <th>funded_date</th>\n      <th>membership_number</th>\n      <th>status</th>\n      <th>price_zone_code</th>\n      <th>u_ndis_number</th>\n      <th>u_disabilities</th>\n      <th>u_gender</th>\n      <th>u_date_of_birth</th>\n      <th>SA1</th>\n      <th>SA2</th>\n      <th>SA3</th>\n      <th>SA4</th>\n    </tr>\n    <tr>\n      <th>member_id</th>\n      <th></th>\n      <th></th>\n      <th></th>\n      <th></th>\n      <th></th>\n      <th></th>\n      <th></th>\n      <th></th>\n      <th></th>\n      <th></th>\n      <th></th>\n      <th></th>\n      <th></th>\n      <th></th>\n      <th></th>\n      <th></th>\n      <th></th>\n      <th></th>\n      <th></th>\n    </tr>\n  </thead>\n  <tbody>\n    <tr>\n      <th>2</th>\n      <td>1</td>\n      <td>1</td>\n      <td>PAID</td>\n      <td>NO</td>\n      <td>2020-04-30</td>\n      <td>160.00</td>\n      <td>160.00</td>\n      <td>2020-04-30</td>\n      <td>277486509</td>\n      <td>managed</td>\n      <td>ACT_NSW_QLD_VIC</td>\n      <td>277486509</td>\n      <td></td>\n      <td>Male</td>\n      <td>1958-04-12</td>\n      <td>3110117.0</td>\n      <td>31101.0</td>\n      <td>30404.0</td>\n      <td>304.0</td>\n    </tr>\n    <tr>\n      <th>2</th>\n      <td>2</td>\n      <td>2</td>\n      <td>PAID</td>\n      <td>NO</td>\n      <td>2020-05-01</td>\n      <td>160.00</td>\n      <td>160.00</td>\n      <td>2020-05-05</td>\n      <td>277486509</td>\n      <td>managed</td>\n      <td>ACT_NSW_QLD_VIC</td>\n      <td>277486509</td>\n      <td></td>\n      <td>Male</td>\n      <td>1958-04-12</td>\n      <td>3110117.0</td>\n      <td>31101.0</td>\n      <td>30404.0</td>\n      <td>304.0</td>\n    </tr>\n    <tr>\n      <th>2</th>\n      <td>7</td>\n      <td>7</td>\n      <td>PAID</td>\n      <td>NO</td>\n      <td>2020-05-12</td>\n      <td>130.00</td>\n      <td>130.00</td>\n      <td>2020-05-13</td>\n      <td>277486509</td>\n      <td>managed</td>\n      <td>ACT_NSW_QLD_VIC</td>\n      <td>277486509</td>\n      <td></td>\n      <td>Male</td>\n      <td>1958-04-12</td>\n      <td>3110117.0</td>\n      <td>31101.0</td>\n      <td>30404.0</td>\n      <td>304.0</td>\n    </tr>\n    <tr>\n      <th>2</th>\n      <td>8</td>\n      <td>8</td>\n      <td>PAID</td>\n      <td>NO</td>\n      <td>2020-05-14</td>\n      <td>130.00</td>\n      <td>130.00</td>\n      <td>2020-05-15</td>\n      <td>277486509</td>\n      <td>managed</td>\n      <td>ACT_NSW_QLD_VIC</td>\n      <td>277486509</td>\n      <td></td>\n      <td>Male</td>\n      <td>1958-04-12</td>\n      <td>3110117.0</td>\n      <td>31101.0</td>\n      <td>30404.0</td>\n      <td>304.0</td>\n    </tr>\n    <tr>\n      <th>2</th>\n      <td>12</td>\n      <td>12</td>\n      <td>PAID</td>\n      <td>NO</td>\n      <td>2020-05-14</td>\n      <td>320.00</td>\n      <td>320.00</td>\n      <td>2020-05-21</td>\n      <td>277486509</td>\n      <td>managed</td>\n      <td>ACT_NSW_QLD_VIC</td>\n      <td>277486509</td>\n      <td></td>\n      <td>Male</td>\n      <td>1958-04-12</td>\n      <td>3110117.0</td>\n      <td>31101.0</td>\n      <td>30404.0</td>\n      <td>304.0</td>\n    </tr>\n    <tr>\n      <th>...</th>\n      <td>...</td>\n      <td>...</td>\n      <td>...</td>\n      <td>...</td>\n      <td>...</td>\n      <td>...</td>\n      <td>...</td>\n      <td>...</td>\n      <td>...</td>\n      <td>...</td>\n      <td>...</td>\n      <td>...</td>\n      <td>...</td>\n      <td>...</td>\n      <td>...</td>\n      <td>...</td>\n      <td>...</td>\n      <td>...</td>\n      <td>...</td>\n    </tr>\n    <tr>\n      <th>4</th>\n      <td>910550</td>\n      <td>492186</td>\n      <td>PAID</td>\n      <td>NO</td>\n      <td>2021-01-20</td>\n      <td>214.41</td>\n      <td>214.41</td>\n      <td>2021-03-15</td>\n      <td>305008838</td>\n      <td>managed</td>\n      <td>ACT_NSW_QLD_VIC</td>\n      <td>305008838</td>\n      <td></td>\n      <td>Male</td>\n      <td>1987-04-22</td>\n      <td>3129618.0</td>\n      <td>31296.0</td>\n      <td>31004.0</td>\n      <td>310.0</td>\n    </tr>\n    <tr>\n      <th>4</th>\n      <td>910554</td>\n      <td>492190</td>\n      <td>PAID</td>\n      <td>NO</td>\n      <td>2021-01-30</td>\n      <td>214.41</td>\n      <td>214.41</td>\n      <td>2021-03-15</td>\n      <td>305008838</td>\n      <td>managed</td>\n      <td>ACT_NSW_QLD_VIC</td>\n      <td>305008838</td>\n      <td></td>\n      <td>Male</td>\n      <td>1987-04-22</td>\n      <td>3129618.0</td>\n      <td>31296.0</td>\n      <td>31004.0</td>\n      <td>310.0</td>\n    </tr>\n    <tr>\n      <th>4</th>\n      <td>914011</td>\n      <td>494072</td>\n      <td>PAID</td>\n      <td>NO</td>\n      <td>2021-03-13</td>\n      <td>387.98</td>\n      <td>387.98</td>\n      <td>2021-03-16</td>\n      <td>305008838</td>\n      <td>managed</td>\n      <td>ACT_NSW_QLD_VIC</td>\n      <td>305008838</td>\n      <td></td>\n      <td>Male</td>\n      <td>1987-04-22</td>\n      <td>3129618.0</td>\n      <td>31296.0</td>\n      <td>31004.0</td>\n      <td>310.0</td>\n    </tr>\n    <tr>\n      <th>4</th>\n      <td>919095</td>\n      <td>496324</td>\n      <td>PAID</td>\n      <td>NO</td>\n      <td>2021-03-13</td>\n      <td>214.41</td>\n      <td>214.41</td>\n      <td>2021-03-17</td>\n      <td>305008838</td>\n      <td>managed</td>\n      <td>ACT_NSW_QLD_VIC</td>\n      <td>305008838</td>\n      <td></td>\n      <td>Male</td>\n      <td>1987-04-22</td>\n      <td>3129618.0</td>\n      <td>31296.0</td>\n      <td>31004.0</td>\n      <td>310.0</td>\n    </tr>\n    <tr>\n      <th>4</th>\n      <td>958650</td>\n      <td>516418</td>\n      <td>PAID</td>\n      <td>NO</td>\n      <td>2021-03-27</td>\n      <td>214.41</td>\n      <td>214.41</td>\n      <td>2021-03-31</td>\n      <td>305008838</td>\n      <td>managed</td>\n      <td>ACT_NSW_QLD_VIC</td>\n      <td>305008838</td>\n      <td></td>\n      <td>Male</td>\n      <td>1987-04-22</td>\n      <td>3129618.0</td>\n      <td>31296.0</td>\n      <td>31004.0</td>\n      <td>310.0</td>\n    </tr>\n  </tbody>\n</table>\n<p>100 rows × 19 columns</p>\n</div>"
     },
     "metadata": {},
     "execution_count": 79
    }
   ],
   "source": [
    "\n",
    "# Merge invoice and claim as normal\n",
    "df_invoice_claim = pd.merge(df_claims, df_invoices, on=\"invoice_id\", how=\"left\")\n",
    "\n",
    "df_invoice_claim.head(1000)\n",
    "\n",
    "# Set member_id as the index of the df\n",
    "df_invoice_claim = df_invoice_claim.set_index([\"member_id\"])\n",
    "\n",
    "# Join customer details on member_id\n",
    "df_invoice_claim_member = df_invoice_claim.join(df_customer_details.set_index([\"member_id\"]))\n",
    "\n",
    "df_invoice_claim_member.head(100)\n",
    "\n",
    "\n"
   ]
  },
  {
   "cell_type": "code",
   "execution_count": null,
   "metadata": {},
   "outputs": [],
   "source": []
  }
 ],
 "metadata": {
  "kernelspec": {
   "name": "python394jvsc74a57bd004599353301972a4177495fb87ba9328f666fdd8bb33e7641e5bb86b309132ff",
   "display_name": "Python 3.9.4 64-bit"
  },
  "language_info": {
   "codemirror_mode": {
    "name": "ipython",
    "version": 3
   },
   "file_extension": ".py",
   "mimetype": "text/x-python",
   "name": "python",
   "nbconvert_exporter": "python",
   "pygments_lexer": "ipython3",
   "version": "3.9.4"
  },
  "metadata": {
   "interpreter": {
    "hash": "04599353301972a4177495fb87ba9328f666fdd8bb33e7641e5bb86b309132ff"
   }
  }
 },
 "nbformat": 4,
 "nbformat_minor": 5
}